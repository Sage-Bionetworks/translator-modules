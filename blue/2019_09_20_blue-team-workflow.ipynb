{
 "cells": [
  {
   "cell_type": "markdown",
   "metadata": {},
   "source": [
    "This notebook demonstrates the Blue Team's solution to **workflows 1 and 2**, which takes a **disease** as input and return relevant **genes and pathways**. Note, some of the boilerplate code (API calls for instance) is wrapped in `biggim.py`, which contains API calls written by John Earls and Theo Knijnenburg. You can learn more about BigGIM in in their <a href=\"https://github.com/NCATS-Tangerine/cq-notebooks/tree/master/BigGIM\">github</a>. \n",
    "\n",
    "Notebook written by: Samson Fong, John Earls, Theo Knijnenburg, and Aaron Gary. \n",
    "\n",
    "# Workflow\n",
    "\n",
    "<img src=\"images/workflow.png\">\n",
    "\n",
    "Here, we will utitlize BioThings from the orange team to help identity a small relevant disease gene set and tissue. From there, we will query BigGIM for the similarity data between genes and finally utilize DDOT to construct hierarchical pathways from this data. \n",
    "\n",
    "In the implementations below, the tissue is currently hardcoded. This will be revised in another version of the workflow."
   ]
  },
  {
   "cell_type": "code",
   "execution_count": 14,
   "metadata": {},
   "outputs": [
    {
     "name": "stdout",
     "output_type": "stream",
     "text": [
      "The autoreload extension is already loaded. To reload it, use:\n",
      "  %reload_ext autoreload\n"
     ]
    }
   ],
   "source": [
    "%load_ext autoreload \n",
    "%autoreload 2\n",
    "\n",
    "import json\n",
    "import requests\n",
    "import pandas as pd\n",
    "from biggim import doid_to_genes, call_biggim\n",
    "\n",
    "ucsd_hostname = 'ec2-52-37-226-115.us-west-2.compute.amazonaws.com'"
   ]
  },
  {
   "cell_type": "code",
   "execution_count": 15,
   "metadata": {},
   "outputs": [
    {
     "data": {
      "text/plain": [
       "'ec2-52-37-226-115.us-west-2.compute.amazonaws.com'"
      ]
     },
     "execution_count": 15,
     "metadata": {},
     "output_type": "execute_result"
    }
   ],
   "source": [
    "ucsd_hostname"
   ]
  },
  {
   "cell_type": "markdown",
   "metadata": {},
   "source": [
    "## Implementation"
   ]
  },
  {
   "cell_type": "code",
   "execution_count": 2,
   "metadata": {
    "scrolled": true
   },
   "outputs": [
    {
     "name": "stderr",
     "output_type": "stream",
     "text": [
      "INFO:root:Geting HP ids from DOID\n"
     ]
    },
    {
     "name": "stdout",
     "output_type": "stream",
     "text": [
      "http://biothings.io/explorer/api/v2/directinput2output?input_prefix=doid&output_prefix=hp&input_value=678&format=translator\n"
     ]
    },
    {
     "name": "stderr",
     "output_type": "stream",
     "text": [
      "INFO:root:Geting OMIM from HP ids\n"
     ]
    },
    {
     "name": "stdout",
     "output_type": "stream",
     "text": [
      "Returned 26 phenotypes\n",
      "http://biothings.io/explorer/api/v2/directinput2output?input_prefix=hp&output_prefix=omim.disease&input_value=0002067&format=translator\n",
      "http://biothings.io/explorer/api/v2/directinput2output?input_prefix=hp&output_prefix=omim.disease&input_value=0002354&format=translator\n",
      "http://biothings.io/explorer/api/v2/directinput2output?input_prefix=hp&output_prefix=omim.disease&input_value=0000511&format=translator\n",
      "http://biothings.io/explorer/api/v2/directinput2output?input_prefix=hp&output_prefix=omim.disease&input_value=0000716&format=translator\n",
      "http://biothings.io/explorer/api/v2/directinput2output?input_prefix=hp&output_prefix=omim.disease&input_value=0000623&format=translator\n",
      "http://biothings.io/explorer/api/v2/directinput2output?input_prefix=hp&output_prefix=omim.disease&input_value=0000514&format=translator\n",
      "http://biothings.io/explorer/api/v2/directinput2output?input_prefix=hp&output_prefix=omim.disease&input_value=0002381&format=translator\n"
     ]
    },
    {
     "name": "stderr",
     "output_type": "stream",
     "text": [
      "INFO:root:Geting genes from OMIM\n"
     ]
    },
    {
     "name": "stdout",
     "output_type": "stream",
     "text": [
      "Returned 26 mendelian diseases\n",
      "http://biothings.io/explorer/api/v2/directinput2output?input_prefix=omim.disease&output_prefix=ncbigene&input_value=168100&format=translator\n"
     ]
    },
    {
     "name": "stderr",
     "output_type": "stream",
     "text": [
      "WARNING:root:{'status': 400, 'error message': \"Endpoints could be located connecting omim.disease to ncbigene. The endpoints are ['http://mydisease.info/v1/querydiseasetogene']. However, no output could be found using the endpoint!\"}\n"
     ]
    },
    {
     "name": "stdout",
     "output_type": "stream",
     "text": [
      "http://biothings.io/explorer/api/v2/directinput2output?input_prefix=omim.disease&output_prefix=ncbigene&input_value=610297&format=translator\n",
      "http://biothings.io/explorer/api/v2/directinput2output?input_prefix=omim.disease&output_prefix=ncbigene&input_value=606324&format=translator\n",
      "http://biothings.io/explorer/api/v2/directinput2output?input_prefix=omim.disease&output_prefix=ncbigene&input_value=183050&format=translator\n"
     ]
    },
    {
     "name": "stderr",
     "output_type": "stream",
     "text": [
      "WARNING:root:{'status': 400, 'error message': \"Endpoints could be located connecting omim.disease to ncbigene. The endpoints are ['http://mydisease.info/v1/querydiseasetogene']. However, no output could be found using the endpoint!\"}\n"
     ]
    },
    {
     "name": "stdout",
     "output_type": "stream",
     "text": [
      "http://biothings.io/explorer/api/v2/directinput2output?input_prefix=omim.disease&output_prefix=ncbigene&input_value=607688&format=translator\n"
     ]
    },
    {
     "name": "stderr",
     "output_type": "stream",
     "text": [
      "WARNING:root:{'status': 400, 'error message': \"Endpoints could be located connecting omim.disease to ncbigene. The endpoints are ['http://mydisease.info/v1/querydiseasetogene']. However, no output could be found using the endpoint!\"}\n"
     ]
    },
    {
     "name": "stdout",
     "output_type": "stream",
     "text": [
      "http://biothings.io/explorer/api/v2/directinput2output?input_prefix=omim.disease&output_prefix=ncbigene&input_value=616361&format=translator\n"
     ]
    },
    {
     "name": "stderr",
     "output_type": "stream",
     "text": [
      "WARNING:root:{'status': 400, 'error message': \"Endpoints could be located connecting omim.disease to ncbigene. The endpoints are ['http://mydisease.info/v1/querydiseasetogene']. However, no output could be found using the endpoint!\"}\n"
     ]
    },
    {
     "name": "stdout",
     "output_type": "stream",
     "text": [
      "http://biothings.io/explorer/api/v2/directinput2output?input_prefix=omim.disease&output_prefix=ncbigene&input_value=614251&format=translator\n",
      "http://biothings.io/explorer/api/v2/directinput2output?input_prefix=omim.disease&output_prefix=ncbigene&input_value=609161&format=translator\n",
      "http://biothings.io/explorer/api/v2/directinput2output?input_prefix=omim.disease&output_prefix=ncbigene&input_value=300911&format=translator\n",
      "http://biothings.io/explorer/api/v2/directinput2output?input_prefix=omim.disease&output_prefix=ncbigene&input_value=616413&format=translator\n",
      "http://biothings.io/explorer/api/v2/directinput2output?input_prefix=omim.disease&output_prefix=ncbigene&input_value=277730&format=translator\n",
      "http://biothings.io/explorer/api/v2/directinput2output?input_prefix=omim.disease&output_prefix=ncbigene&input_value=608907&format=translator\n",
      "http://biothings.io/explorer/api/v2/directinput2output?input_prefix=omim.disease&output_prefix=ncbigene&input_value=255900&format=translator\n"
     ]
    },
    {
     "name": "stderr",
     "output_type": "stream",
     "text": [
      "WARNING:root:{'status': 400, 'error message': \"Endpoints could be located connecting omim.disease to ncbigene. The endpoints are ['http://mydisease.info/v1/querydiseasetogene']. However, no output could be found using the endpoint!\"}\n"
     ]
    },
    {
     "name": "stdout",
     "output_type": "stream",
     "text": [
      "http://biothings.io/explorer/api/v2/directinput2output?input_prefix=omim.disease&output_prefix=ncbigene&input_value=609636&format=translator\n",
      "http://biothings.io/explorer/api/v2/directinput2output?input_prefix=omim.disease&output_prefix=ncbigene&input_value=607625&format=translator\n",
      "http://biothings.io/explorer/api/v2/directinput2output?input_prefix=omim.disease&output_prefix=ncbigene&input_value=617308&format=translator\n"
     ]
    },
    {
     "name": "stderr",
     "output_type": "stream",
     "text": [
      "WARNING:root:{'status': 400, 'error message': \"Endpoints could be located connecting omim.disease to ncbigene. The endpoints are ['http://mydisease.info/v1/querydiseasetogene']. However, no output could be found using the endpoint!\"}\n"
     ]
    },
    {
     "name": "stdout",
     "output_type": "stream",
     "text": [
      "http://biothings.io/explorer/api/v2/directinput2output?input_prefix=omim.disease&output_prefix=ncbigene&input_value=616053&format=translator\n"
     ]
    },
    {
     "name": "stderr",
     "output_type": "stream",
     "text": [
      "WARNING:root:{'status': 400, 'error message': \"Endpoints could be located connecting omim.disease to ncbigene. The endpoints are ['http://mydisease.info/v1/querydiseasetogene']. However, no output could be found using the endpoint!\"}\n"
     ]
    },
    {
     "name": "stdout",
     "output_type": "stream",
     "text": [
      "http://biothings.io/explorer/api/v2/directinput2output?input_prefix=omim.disease&output_prefix=ncbigene&input_value=257220&format=translator\n",
      "http://biothings.io/explorer/api/v2/directinput2output?input_prefix=omim.disease&output_prefix=ncbigene&input_value=606693&format=translator\n",
      "http://biothings.io/explorer/api/v2/directinput2output?input_prefix=omim.disease&output_prefix=ncbigene&input_value=168605&format=translator\n",
      "http://biothings.io/explorer/api/v2/directinput2output?input_prefix=omim.disease&output_prefix=ncbigene&input_value=617145&format=translator\n"
     ]
    },
    {
     "name": "stderr",
     "output_type": "stream",
     "text": [
      "WARNING:root:{'status': 400, 'error message': \"Endpoints could be located connecting omim.disease to ncbigene. The endpoints are ['http://mydisease.info/v1/querydiseasetogene']. However, no output could be found using the endpoint!\"}\n"
     ]
    },
    {
     "name": "stdout",
     "output_type": "stream",
     "text": [
      "http://biothings.io/explorer/api/v2/directinput2output?input_prefix=omim.disease&output_prefix=ncbigene&input_value=615005&format=translator\n",
      "http://biothings.io/explorer/api/v2/directinput2output?input_prefix=omim.disease&output_prefix=ncbigene&input_value=616882&format=translator\n"
     ]
    },
    {
     "name": "stderr",
     "output_type": "stream",
     "text": [
      "WARNING:root:{'status': 400, 'error message': \"Endpoints could be located connecting omim.disease to ncbigene. The endpoints are ['http://mydisease.info/v1/querydiseasetogene']. However, no output could be found using the endpoint!\"}\n"
     ]
    },
    {
     "name": "stdout",
     "output_type": "stream",
     "text": [
      "http://biothings.io/explorer/api/v2/directinput2output?input_prefix=omim.disease&output_prefix=ncbigene&input_value=602079&format=translator\n",
      "http://biothings.io/explorer/api/v2/directinput2output?input_prefix=omim.disease&output_prefix=ncbigene&input_value=604348&format=translator\n",
      "http://biothings.io/explorer/api/v2/directinput2output?input_prefix=omim.disease&output_prefix=ncbigene&input_value=615007&format=translator\n",
      "http://biothings.io/explorer/api/v2/directinput2output?input_prefix=omim.disease&output_prefix=ncbigene&input_value=125480&format=translator\n",
      "http://biothings.io/explorer/api/v2/directinput2output?input_prefix=omim.disease&output_prefix=ncbigene&input_value=603204&format=translator\n",
      "http://biothings.io/explorer/api/v2/directinput2output?input_prefix=omim.disease&output_prefix=ncbigene&input_value=608907&format=translator\n",
      "http://biothings.io/explorer/api/v2/directinput2output?input_prefix=omim.disease&output_prefix=ncbigene&input_value=604928&format=translator\n",
      "http://biothings.io/explorer/api/v2/directinput2output?input_prefix=omim.disease&output_prefix=ncbigene&input_value=616398&format=translator\n",
      "http://biothings.io/explorer/api/v2/directinput2output?input_prefix=omim.disease&output_prefix=ncbigene&input_value=164400&format=translator\n",
      "http://biothings.io/explorer/api/v2/directinput2output?input_prefix=omim.disease&output_prefix=ncbigene&input_value=164500&format=translator\n",
      "http://biothings.io/explorer/api/v2/directinput2output?input_prefix=omim.disease&output_prefix=ncbigene&input_value=231005&format=translator\n",
      "http://biothings.io/explorer/api/v2/directinput2output?input_prefix=omim.disease&output_prefix=ncbigene&input_value=183090&format=translator\n",
      "http://biothings.io/explorer/api/v2/directinput2output?input_prefix=omim.disease&output_prefix=ncbigene&input_value=109150&format=translator\n",
      "http://biothings.io/explorer/api/v2/directinput2output?input_prefix=omim.disease&output_prefix=ncbigene&input_value=610245&format=translator\n",
      "http://biothings.io/explorer/api/v2/directinput2output?input_prefix=omim.disease&output_prefix=ncbigene&input_value=614153&format=translator\n",
      "http://biothings.io/explorer/api/v2/directinput2output?input_prefix=omim.disease&output_prefix=ncbigene&input_value=614867&format=translator\n",
      "http://biothings.io/explorer/api/v2/directinput2output?input_prefix=omim.disease&output_prefix=ncbigene&input_value=610246&format=translator\n",
      "http://biothings.io/explorer/api/v2/directinput2output?input_prefix=omim.disease&output_prefix=ncbigene&input_value=271322&format=translator\n",
      "http://biothings.io/explorer/api/v2/directinput2output?input_prefix=omim.disease&output_prefix=ncbigene&input_value=260300&format=translator\n",
      "http://biothings.io/explorer/api/v2/directinput2output?input_prefix=omim.disease&output_prefix=ncbigene&input_value=183090&format=translator\n",
      "http://biothings.io/explorer/api/v2/directinput2output?input_prefix=omim.disease&output_prefix=ncbigene&input_value=615217&format=translator\n",
      "http://biothings.io/explorer/api/v2/directinput2output?input_prefix=omim.disease&output_prefix=ncbigene&input_value=615957&format=translator\n",
      "http://biothings.io/explorer/api/v2/directinput2output?input_prefix=omim.disease&output_prefix=ncbigene&input_value=245570&format=translator\n",
      "http://biothings.io/explorer/api/v2/directinput2output?input_prefix=omim.disease&output_prefix=ncbigene&input_value=123400&format=translator\n",
      "http://biothings.io/explorer/api/v2/directinput2output?input_prefix=omim.disease&output_prefix=ncbigene&input_value=303350&format=translator\n",
      "http://biothings.io/explorer/api/v2/directinput2output?input_prefix=omim.disease&output_prefix=ncbigene&input_value=607485&format=translator\n",
      "http://biothings.io/explorer/api/v2/directinput2output?input_prefix=omim.disease&output_prefix=ncbigene&input_value=602481&format=translator\n",
      "http://biothings.io/explorer/api/v2/directinput2output?input_prefix=omim.disease&output_prefix=ncbigene&input_value=309545&format=translator\n",
      "http://biothings.io/explorer/api/v2/directinput2output?input_prefix=omim.disease&output_prefix=ncbigene&input_value=136300&format=translator\n"
     ]
    },
    {
     "name": "stderr",
     "output_type": "stream",
     "text": [
      "WARNING:root:{'status': 400, 'error message': \"Endpoints could be located connecting omim.disease to ncbigene. The endpoints are ['http://mydisease.info/v1/querydiseasetogene']. However, no output could be found using the endpoint!\"}\n"
     ]
    },
    {
     "name": "stdout",
     "output_type": "stream",
     "text": [
      "Returned 52 genes\n"
     ]
    }
   ],
   "source": [
    "# Getting seed genes\n",
    "genes = doid_to_genes([\"678\"])"
   ]
  },
  {
   "cell_type": "markdown",
   "metadata": {},
   "source": [
    "### Calling BigGIM"
   ]
  },
  {
   "cell_type": "code",
   "execution_count": 3,
   "metadata": {
    "scrolled": true
   },
   "outputs": [
    {
     "name": "stdout",
     "output_type": "stream",
     "text": [
      "Sent: GET http://biggim.ncats.io/api/biggim/query?restriction_gt=GTEx_Brain_Correlation%2C0.5&table=BigGIM_70_v1&columns=GTEx_Brain_Correlation&ids1=27429%2C11315%2C1981%2C8622%2C10159%2C9213%2C7086%2C217%2C125%2C1743%2C450086%2C780912%2C10577%2C3988%2C4864%2C23400%2C1639%2C57582%2C2328%2C8863%2C1453%2C8864%2C5159%2C4095%2C6531%2C7494%2C50971%2C450086%2C493856%2C79734%2C6310%2C6314%2C2629%2C6311%2C4287%2C5173%2C10528%2C5828%2C10939%2C6311%2C6622%2C25793%2C6311%2C23533%2C60481%2C2903%2C27286%2C780851%2C22926%2C3822%2C216%2C7280%2C319101%2C3119%2C151507%2C5621%2C692157%2C8360%2C79644%2C79974%2C3897%2C2896%2C477%2C8246&limit=100000\n",
      "{\n",
      "  \"status\": \"submitted\",\n",
      "  \"request_id\": \"a08690b0-29e9-4572-ac19-8a57cf4938cd\"\n",
      "}\n",
      "Sent: GET http://biggim.ncats.io/api/biggim/status/a08690b0-29e9-4572-ac19-8a57cf4938cd?None\n",
      "{\n",
      "  \"status\": \"running\",\n",
      "  \"message\": \"Query job is running.\",\n",
      "  \"request_id\": \"a08690b0-29e9-4572-ac19-8a57cf4938cd\"\n",
      "}\n",
      "Checking again\n",
      "Sent: GET http://biggim.ncats.io/api/biggim/status/a08690b0-29e9-4572-ac19-8a57cf4938cd?None\n",
      "{\n",
      "  \"status\": \"running\",\n",
      "  \"message\": \"Query job is running.\",\n",
      "  \"request_id\": \"a08690b0-29e9-4572-ac19-8a57cf4938cd\"\n",
      "}\n",
      "Checking again\n",
      "Sent: GET http://biggim.ncats.io/api/biggim/status/a08690b0-29e9-4572-ac19-8a57cf4938cd?None\n",
      "{\n",
      "  \"status\": \"running\",\n",
      "  \"message\": \"Extraction job is running.\",\n",
      "  \"request_id\": \"a08690b0-29e9-4572-ac19-8a57cf4938cd\"\n",
      "}\n",
      "Checking again\n",
      "Sent: GET http://biggim.ncats.io/api/biggim/status/a08690b0-29e9-4572-ac19-8a57cf4938cd?None\n",
      "{\n",
      "  \"status\": \"complete\",\n",
      "  \"rows\": 99689,\n",
      "  \"processed_data\": \"1.52 GB\",\n",
      "  \"request_id\": \"a08690b0-29e9-4572-ac19-8a57cf4938cd\",\n",
      "  \"request_uri\": [\n",
      "    \"https://storage.googleapis.com/ncats_bigquery_results/a08690b0-29e9-4572-ac19-8a57cf4938cd000000000000.csv\"\n",
      "  ],\n",
      "  \"size\": \"3.16 MB\"\n",
      "}\n"
     ]
    }
   ],
   "source": [
    "expanded_genes = call_biggim(\n",
    "    genes, \n",
    "    [\"GTEx_Brain_Correlation\"], \n",
    "    100000, \n",
    "    query_id2=False, \n",
    "    return_genes=True, \n",
    "    limit_genes=250,\n",
    ")"
   ]
  },
  {
   "cell_type": "code",
   "execution_count": 5,
   "metadata": {
    "scrolled": true
   },
   "outputs": [
    {
     "name": "stdout",
     "output_type": "stream",
     "text": [
      "Sent: GET http://biggim.ncats.io/api/biggim/query?restriction_gt=GTEx_Brain_Correlation%2C0.5&table=BigGIM_70_v1&columns=GTEx_Brain_Correlation&ids1=104%2C119%2C161%2C400%2C478%2C491%2C492%2C719%2C773%2C774%2C899%2C951%2C1016%2C1114%2C1213%2C1452%2C1453%2C1609%2C1639%2C1653%2C1794%2C1951%2C2026%2C2583%2C2664%2C2686%2C2821%2C2822%2C2903%2C2975%2C3098%2C3361%2C3508%2C3631%2C3675%2C3746%2C3748%2C3897%2C3988%2C4141%2C4293%2C4542%2C4943%2C4976%2C5048%2C5110%2C5291%2C5310%2C5463%2C5526%2C5686%2C5707%2C5709%2C5862%2C5870%2C6014%2C6314%2C6326%2C6598%2C6709%2C6749%2C6812%2C6860%2C6916%2C7277%2C7280%2C7305%2C7385%2C7464%2C7786%2C7805%2C7905%2C8028%2C8120%2C8455%2C8497%2C8506%2C8509%2C8533%2C8567%2C8729%2C8803%2C8893%2C8943%2C8992%2C9070%2C9143%2C9145%2C9229%2C9677%2C9737%2C9746%2C9762%2C9764%2C9777%2C9806%2C9807%2C9810%2C9820%2C9826%2C9853%2C9862%2C9867%2C9900%2C9912%2C10159%2C10296%2C10367%2C10369%2C10423%2C10489%2C10500%2C10523%2C10528%2C10577%2C10579%2C10594%2C10681%2C10745%2C10858%2C10868%2C10893%2C10921%2C10939%2C10989%2C11006%2C11091%2C11128%2C11137%2C11188%2C11342%2C22889%2C22907%2C22926%2C22950%2C23028%2C23035%2C23049%2C23057%2C23162%2C23276%2C23277%2C23326%2C23332%2C23368%2C23400%2C23533%2C23543%2C23623%2C23640%2C23761%2C25799%2C25989%2C25999%2C26024%2C26470%2C27165%2C50628%2C51155%2C51366%2C51412%2C51466%2C51761%2C53917%2C54940%2C54946%2C54997%2C55173%2C55207%2C55275%2C55661%2C55665%2C55715%2C56061%2C56850%2C57156%2C57463%2C57465%2C57468%2C57476%2C57578%2C57582%2C57662%2C57704%2C57731%2C57805%2C57863%2C58513%2C63891%2C63893%2C64137%2C64755%2C64837%2C64840%2C65012%2C65268%2C79089%2C79137%2C79608%2C79680%2C79734%2C79791%2C79947%2C80003%2C80762%2C81577%2C81928%2C84451%2C84461%2C84501%2C84530%2C84861%2C84866%2C84892%2C84895%2C85455%2C90990%2C91683%2C92558%2C93611%2C94005%2C112476%2C112755%2C114821%2C115950%2C118813%2C126298%2C134510%2C146713%2C155061%2C170394%2C196403%2C205147%2C219738%2C221545%2C254531%2C283373%2C283455%2C283871%2C283985%2C284339%2C285175%2C285195%2C343702%2C374383%2C375484%2C388591%2C414918%2C548596%2C643837&limit=1000000000&ids2=104%2C119%2C161%2C400%2C478%2C491%2C492%2C719%2C773%2C774%2C899%2C951%2C1016%2C1114%2C1213%2C1452%2C1453%2C1609%2C1639%2C1653%2C1794%2C1951%2C2026%2C2583%2C2664%2C2686%2C2821%2C2822%2C2903%2C2975%2C3098%2C3361%2C3508%2C3631%2C3675%2C3746%2C3748%2C3897%2C3988%2C4141%2C4293%2C4542%2C4943%2C4976%2C5048%2C5110%2C5291%2C5310%2C5463%2C5526%2C5686%2C5707%2C5709%2C5862%2C5870%2C6014%2C6314%2C6326%2C6598%2C6709%2C6749%2C6812%2C6860%2C6916%2C7277%2C7280%2C7305%2C7385%2C7464%2C7786%2C7805%2C7905%2C8028%2C8120%2C8455%2C8497%2C8506%2C8509%2C8533%2C8567%2C8729%2C8803%2C8893%2C8943%2C8992%2C9070%2C9143%2C9145%2C9229%2C9677%2C9737%2C9746%2C9762%2C9764%2C9777%2C9806%2C9807%2C9810%2C9820%2C9826%2C9853%2C9862%2C9867%2C9900%2C9912%2C10159%2C10296%2C10367%2C10369%2C10423%2C10489%2C10500%2C10523%2C10528%2C10577%2C10579%2C10594%2C10681%2C10745%2C10858%2C10868%2C10893%2C10921%2C10939%2C10989%2C11006%2C11091%2C11128%2C11137%2C11188%2C11342%2C22889%2C22907%2C22926%2C22950%2C23028%2C23035%2C23049%2C23057%2C23162%2C23276%2C23277%2C23326%2C23332%2C23368%2C23400%2C23533%2C23543%2C23623%2C23640%2C23761%2C25799%2C25989%2C25999%2C26024%2C26470%2C27165%2C50628%2C51155%2C51366%2C51412%2C51466%2C51761%2C53917%2C54940%2C54946%2C54997%2C55173%2C55207%2C55275%2C55661%2C55665%2C55715%2C56061%2C56850%2C57156%2C57463%2C57465%2C57468%2C57476%2C57578%2C57582%2C57662%2C57704%2C57731%2C57805%2C57863%2C58513%2C63891%2C63893%2C64137%2C64755%2C64837%2C64840%2C65012%2C65268%2C79089%2C79137%2C79608%2C79680%2C79734%2C79791%2C79947%2C80003%2C80762%2C81577%2C81928%2C84451%2C84461%2C84501%2C84530%2C84861%2C84866%2C84892%2C84895%2C85455%2C90990%2C91683%2C92558%2C93611%2C94005%2C112476%2C112755%2C114821%2C115950%2C118813%2C126298%2C134510%2C146713%2C155061%2C170394%2C196403%2C205147%2C219738%2C221545%2C254531%2C283373%2C283455%2C283871%2C283985%2C284339%2C285175%2C285195%2C343702%2C374383%2C375484%2C388591%2C414918%2C548596%2C643837\n",
      "{\n",
      "  \"status\": \"submitted\",\n",
      "  \"request_id\": \"5442ae2b-4945-4471-8975-d3227dcf933d\"\n",
      "}\n",
      "Sent: GET http://biggim.ncats.io/api/biggim/status/5442ae2b-4945-4471-8975-d3227dcf933d?None\n",
      "{\n",
      "  \"status\": \"running\",\n",
      "  \"message\": \"Query job is running.\",\n",
      "  \"request_id\": \"5442ae2b-4945-4471-8975-d3227dcf933d\"\n",
      "}\n",
      "Checking again\n",
      "Sent: GET http://biggim.ncats.io/api/biggim/status/5442ae2b-4945-4471-8975-d3227dcf933d?None\n",
      "{\n",
      "  \"status\": \"running\",\n",
      "  \"message\": \"Query job is running.\",\n",
      "  \"request_id\": \"5442ae2b-4945-4471-8975-d3227dcf933d\"\n",
      "}\n",
      "Checking again\n",
      "Sent: GET http://biggim.ncats.io/api/biggim/status/5442ae2b-4945-4471-8975-d3227dcf933d?None\n",
      "{\n",
      "  \"status\": \"running\",\n",
      "  \"message\": \"Extraction job is running.\",\n",
      "  \"request_id\": \"5442ae2b-4945-4471-8975-d3227dcf933d\"\n",
      "}\n",
      "Checking again\n",
      "Sent: GET http://biggim.ncats.io/api/biggim/status/5442ae2b-4945-4471-8975-d3227dcf933d?None\n",
      "{\n",
      "  \"status\": \"complete\",\n",
      "  \"rows\": 22927,\n",
      "  \"processed_data\": \"1.52 GB\",\n",
      "  \"request_id\": \"5442ae2b-4945-4471-8975-d3227dcf933d\",\n",
      "  \"request_uri\": [\n",
      "    \"https://storage.googleapis.com/ncats_bigquery_results/5442ae2b-4945-4471-8975-d3227dcf933d000000000000.csv\"\n",
      "  ],\n",
      "  \"size\": \"750.54 KB\"\n",
      "}\n"
     ]
    }
   ],
   "source": [
    "network = call_biggim(\n",
    "    expanded_genes, \n",
    "    [\"GTEx_Brain_Correlation\"], \n",
    "    1000000000, \n",
    "    query_id2=True, \n",
    "    return_genes=False, \n",
    ")"
   ]
  },
  {
   "cell_type": "markdown",
   "metadata": {},
   "source": [
    "### Calling DDOT"
   ]
  },
  {
   "cell_type": "code",
   "execution_count": 16,
   "metadata": {
    "scrolled": true
   },
   "outputs": [
    {
     "name": "stdout",
     "output_type": "stream",
     "text": [
      "http://ec2-52-37-226-115.us-west-2.compute.amazonaws.com:8383/api/ontology?alpha=0.007&beta=0.5\n",
      "http://dev.ndexbio.org/#/network/8c39b8c7-c7f8-11e8-98d5-0660b7976219 \n",
      "\n"
     ]
    }
   ],
   "source": [
    "network.iloc[:, 1:].to_csv('tmp.csv', sep='\\t', header=None, index=None)\n",
    "\n",
    "files = {'file': open('tmp.csv', 'rb')}\n",
    "\n",
    "ddot_host = f'http://{ucsd_hostname}:8383'\n",
    "ddot_route = '/api/ontology'\n",
    "ddot_query = '?alpha=0.007&beta=0.5'\n",
    "url = '{}{}{}'.format(ddot_host, ddot_route, ddot_query)\n",
    "\n",
    "print(url)\n",
    "\n",
    "ndex_url = 'http://test.ndexbio.org/#/network/'\n",
    "r = requests.post(url, files=files)\n",
    "if r is not None and r.text is not None:\n",
    "    uuid = r.text\n",
    "    print('{}{}'.format(ndex_url, uuid))"
   ]
  },
  {
   "cell_type": "markdown",
   "metadata": {},
   "source": [
    "The hierarchy itself is stored on NDEx and visible on <a href=\"http://hiview.ucsd.edu\">HiView</a>. To view on HiView, you need the NDEx url (the NDEx sever the hierarchy is hosted on) and the unique identifier (UUID). "
   ]
  },
  {
   "cell_type": "markdown",
   "metadata": {},
   "source": [
    "# Alternative Gene Expansion Method\n",
    "\n",
    "For the expansion of genesets, we can also use random walk to achieve the same goal. There are several ways to pull a network for the random walk. One way is to query BigGIM as follows. \"column\" represents the column of the BigGIM table to use. "
   ]
  },
  {
   "cell_type": "code",
   "execution_count": null,
   "metadata": {},
   "outputs": [],
   "source": [
    "nbgwas_host = f'http://{ucsd_hostname}:5000'\n",
    "nbgwas_route = '/nbgwas'\n",
    "\n",
    "url = '{}{}'.format(nbgwas_host, nbgwas_route)\n",
    "\n",
    "payload = {'seeds': ','.join(genes), 'alpha': '0.2', 'column':'GTEx_Brain_Correlation'}\n",
    "\n",
    "r = requests.post(url, data=payload)\n",
    "if r is not None and r.json() is not None:\n",
    "    print(json.dumps(r.json(), indent=4))"
   ]
  },
  {
   "cell_type": "markdown",
   "metadata": {},
   "source": [
    "Alternatively, you can upload your own network instead of querying BigGIM. Be aware that you would need to ensure the gene names are in the same name space (using `mygene` for instance). "
   ]
  },
  {
   "cell_type": "code",
   "execution_count": null,
   "metadata": {
    "scrolled": false
   },
   "outputs": [],
   "source": [
    "# Convert from Entrez to gene symbol\n",
    "import mygene\n",
    "\n",
    "mg = mygene.MyGeneInfo()\n",
    "query = mg.querymany(','.join(genes), scopes=['entrezgene'], as_dataframe=True)\n",
    "genes_symbol = ','.join(query['symbol'].values.tolist())"
   ]
  },
  {
   "cell_type": "code",
   "execution_count": null,
   "metadata": {
    "scrolled": false
   },
   "outputs": [],
   "source": [
    "files = {'network': open('data/3col_interactions260.csv', 'rb')}\n",
    "\n",
    "nbgwas_host = f'http://{ucsd_hostname}:5000'\n",
    "nbgwas_route = '/nbgwas'\n",
    "\n",
    "url = '{}{}'.format(nbgwas_host, nbgwas_route)\n",
    "\n",
    "payload = {'seeds': genes, 'alpha': '0.8'}\n",
    "\n",
    "r = requests.post(url, files=files, data=payload)\n",
    "if r is not None and r.json() is not None:\n",
    "    print(json.dumps(r.json(), indent=4))"
   ]
  },
  {
   "cell_type": "markdown",
   "metadata": {},
   "source": [
    "Finally, you can also pull from NDEx where there are many networks available for the public. "
   ]
  },
  {
   "cell_type": "code",
   "execution_count": null,
   "metadata": {
    "scrolled": false
   },
   "outputs": [],
   "source": [
    "nbgwas_host = f'http://{ucsd_hostname}:5000'\n",
    "nbgwas_route = '/nbgwas'\n",
    "\n",
    "url = '{}{}'.format(nbgwas_host, nbgwas_route)\n",
    "\n",
    "payload = {'seeds': ','.join(genes), 'alpha': '0.2', 'ndex':'f93f402c-86d4-11e7-a10d-0ac135e8bacf'}\n",
    "\n",
    "r = requests.post(url, data=payload)\n",
    "if r is not None and r.json() is not None:\n",
    "    print(json.dumps(r.json(), indent=4))"
   ]
  },
  {
   "cell_type": "markdown",
   "metadata": {},
   "source": [
    "The following will show the result of the random walk, and the genes can then be ranked by the random walk score. "
   ]
  },
  {
   "cell_type": "code",
   "execution_count": null,
   "metadata": {},
   "outputs": [],
   "source": [
    "pd.DataFrame.from_dict(r.json(), orient='index').sort_values(by=0, ascending=False)"
   ]
  }
 ],
 "metadata": {
  "kernelspec": {
   "display_name": "Python 3",
   "language": "python",
   "name": "python3"
  },
  "language_info": {
   "codemirror_mode": {
    "name": "ipython",
    "version": 3
   },
   "file_extension": ".py",
   "mimetype": "text/x-python",
   "name": "python",
   "nbconvert_exporter": "python",
   "pygments_lexer": "ipython3",
   "version": "3.6.5"
  }
 },
 "nbformat": 4,
 "nbformat_minor": 2
}
