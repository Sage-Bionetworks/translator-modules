{
 "cells": [
  {
   "cell_type": "markdown",
   "metadata": {},
   "source": [
    "# Workflow 7 - Module 2 (Ordered Pathway)\n",
    "This notebook will focus on module 2 of workflow 7.  The objective is to take unordered lists of genes and metabolites and structure them into a pathway.  The first prototype use case for this workflow will focus on Codeine."
   ]
  },
  {
   "cell_type": "markdown",
   "metadata": {},
   "source": [
    "## Step 1. Query SMPDB API\n",
    "For this one we're going to use the fully automated workflow.  "
   ]
  },
  {
   "cell_type": "code",
   "execution_count": 1,
   "metadata": {},
   "outputs": [],
   "source": [
    "from pprint import pprint\n",
    "from __future__ import print_function\n",
    "from tkbeacon import build, KnowledgeSource\n",
    "from tkbeacon.rest import ApiException\n",
    "\n",
    "def get_concepts(query):\n",
    "    b = build(KnowledgeSource.SMPDB)\n",
    "    terms = [i.lower() for i in query]\n",
    "    concepts = b.get_concepts(keywords=terms)\n",
    "    return [i for i in concepts if i.name.lower() in terms]\n",
    "\n",
    "def all_neighbors(query):\n",
    "    b = build(KnowledgeSource.SMPDB)\n",
    "    concepts = get_concepts(query)\n",
    "    query_ids = [i.id for i in concepts]\n",
    "    related_concepts = b.get_statements(s=query_ids)\n",
    "    related_names = [i.object.name for i in related_concepts]\n",
    "    return concepts + get_concepts(query=related_names)\n",
    "\n",
    "def all_associations(stuff):\n",
    "    output = {}\n",
    "    b = build(KnowledgeSource.SMPDB)\n",
    "    ids = [i.id for i in stuff]\n",
    "    for i in b.get_predicates():\n",
    "        predicate = i.relation\n",
    "        output[predicate] = b.get_statements(s=ids, relation=predicate, t=ids)\n",
    "    return output"
   ]
  },
  {
   "cell_type": "markdown",
   "metadata": {},
   "source": [
    "### Module Input\n",
    "First we query SMPDB for unorganized lists of chemicals and genes in a pathway."
   ]
  },
  {
   "cell_type": "code",
   "execution_count": 2,
   "metadata": {},
   "outputs": [],
   "source": [
    "drug = ['Codeine']\n",
    "related = all_neighbors(drug)\n",
    "genes = [i for i in related if 'protein' in i.categories]\n",
    "chems = [i for i in related if 'chemical substance' in i.categories or 'metabolite' in i.categories]"
   ]
  },
  {
   "cell_type": "code",
   "execution_count": 3,
   "metadata": {},
   "outputs": [
    {
     "name": "stdout",
     "output_type": "stream",
     "text": [
      "[{'categories': ['protein'],\n",
      " 'description': None,\n",
      " 'id': 'UNIPROT:P08684',\n",
      " 'name': 'Cytochrome P450 3A4'},\n",
      " {'categories': ['protein'],\n",
      " 'description': None,\n",
      " 'id': 'UNIPROT:P16662',\n",
      " 'name': 'UDP-glucuronosyltransferase 2B7'},\n",
      " {'categories': ['protein'],\n",
      " 'description': None,\n",
      " 'id': 'UNIPROT:P10635',\n",
      " 'name': 'Cytochrome P450 2D6'}]\n"
     ]
    }
   ],
   "source": [
    "pprint(genes)"
   ]
  },
  {
   "cell_type": "code",
   "execution_count": 4,
   "metadata": {},
   "outputs": [
    {
     "name": "stdout",
     "output_type": "stream",
     "text": [
      "[{'categories': ['metabolite'],\n",
      " 'description': None,\n",
      " 'id': 'CHEBI:16714',\n",
      " 'name': 'Codeine'},\n",
      " {'categories': ['metabolite'],\n",
      " 'description': None,\n",
      " 'id': 'CHEBI:16842',\n",
      " 'name': 'Formaldehyde'},\n",
      " {'categories': ['metabolite'],\n",
      " 'description': None,\n",
      " 'id': 'CHEBI:17200',\n",
      " 'name': 'Uridine diphosphate glucuronic acid'},\n",
      " {'categories': ['metabolite'],\n",
      " 'description': None,\n",
      " 'id': 'CHEBI:17659',\n",
      " 'name': \"Uridine 5'-diphosphate\"},\n",
      " {'categories': ['metabolite'],\n",
      " 'description': None,\n",
      " 'id': 'CHEBI:17303',\n",
      " 'name': 'Morphine'},\n",
      " {'categories': ['metabolite'],\n",
      " 'description': None,\n",
      " 'id': 'KEGG:C16577',\n",
      " 'name': 'Codeine-6-glucuronide'},\n",
      " {'categories': ['metabolite'],\n",
      " 'description': None,\n",
      " 'id': 'KEGG:C16576',\n",
      " 'name': 'Norcodeine'},\n",
      " {'categories': ['chemical substance'],\n",
      " 'description': None,\n",
      " 'id': 'HMDB:HMDB0060464',\n",
      " 'name': 'Codeine-6-glucuronide'},\n",
      " {'categories': ['chemical substance'],\n",
      " 'description': None,\n",
      " 'id': 'HMDB:HMDB0060657',\n",
      " 'name': 'Norcodeine'}]\n"
     ]
    }
   ],
   "source": [
    "pprint(chems)"
   ]
  },
  {
   "cell_type": "markdown",
   "metadata": {},
   "source": [
    "### Module Output\n",
    "Then we query SMPDB for the rest of the pathway associations. "
   ]
  },
  {
   "cell_type": "code",
   "execution_count": 5,
   "metadata": {},
   "outputs": [],
   "source": [
    "associations = all_associations(related)\n",
    "substrate_product_associations = associations['used_to_produce']\n",
    "substrate_gene_associations = associations['consumption_controlled_by']\n",
    "gene_product_associations = associations['controls_production_of']"
   ]
  },
  {
   "cell_type": "code",
   "execution_count": null,
   "metadata": {
    "scrolled": true
   },
   "outputs": [],
   "source": [
    "# pprint(substrate_product_associations)"
   ]
  },
  {
   "cell_type": "code",
   "execution_count": null,
   "metadata": {
    "scrolled": true
   },
   "outputs": [],
   "source": [
    "# pprint(substrate_gene_assoications)"
   ]
  },
  {
   "cell_type": "code",
   "execution_count": null,
   "metadata": {
    "scrolled": true
   },
   "outputs": [],
   "source": [
    "# pprint(gene_product_associations)"
   ]
  },
  {
   "cell_type": "markdown",
   "metadata": {},
   "source": [
    "## GNBR Queries\n",
    "Neither of the GNBR APIs currently has endpoints that provide the functionality we need.  So for now we will use custom queries via the bolt interface with the intention of promoting them to live API if they work."
   ]
  },
  {
   "cell_type": "code",
   "execution_count": 6,
   "metadata": {},
   "outputs": [],
   "source": [
    "import math\n",
    "import gnbr_beacon\n",
    "from neo4j import GraphDatabase\n",
    "\n",
    "gnbr_concepts = gnbr_beacon.ConceptsApi()\n",
    "gnbr_statements = gnbr_beacon.StatementsApi()\n",
    "\n",
    "driver = GraphDatabase.driver(\"bolt://localhost:7687\", auth=('',''))\n",
    "\n",
    "def pk_motif(tx, source, target):\n",
    "    query = \"\"\"\n",
    "    MATCH p=(:Chemical {uri: $source})-[s:STATEMENT]->(:Gene)<-[t:STATEMENT]-(:Chemical {uri: $target})\n",
    "    RETURN nodes(p) as n, relationships(p) as r\n",
    "    \"\"\"\n",
    "    result = []\n",
    "    for record in tx.run(query, source=source, target=target):\n",
    "        result.append(record)\n",
    "    return result\n",
    "\n",
    "def geometric_mean(path):\n",
    "    total = []\n",
    "    p = path['r']\n",
    "    for edge in p:\n",
    "        weight = max(edge.values())\n",
    "        total.append(math.log(weight))\n",
    "        geo_mean = math.exp(sum(total)/len(total))\n",
    "    return geo_mean"
   ]
  },
  {
   "cell_type": "markdown",
   "metadata": {},
   "source": [
    "### Harmonize Concepts\n",
    "First we need to map concepts from SMPDB into GNBR.  We might imagine doing the reverse mapping, but for now we are keeping it as simple as possible.  We map concepts using simple keyword lookup."
   ]
  },
  {
   "cell_type": "code",
   "execution_count": 7,
   "metadata": {},
   "outputs": [],
   "source": [
    "import requests\n",
    "import pandas as pd\n",
    "\n",
    "robokop_server = 'robokop.renci.org'\n",
    "\n",
    "def synonymize(nodetype,identifier):\n",
    "    url=f'http://{robokop_server}:6010/api/synonymize/{identifier}/{nodetype}/'\n",
    "    response = requests.post(url)\n",
    "    print( f'Return Status: {response.status_code}' )\n",
    "    if response.status_code == 200:\n",
    "        return response.json()\n",
    "    return []\n",
    "\n",
    "\n",
    "def map_to_gnbr(nodetype, identifier):\n",
    "    response = synonymize(nodetype,identifier)\n",
    "    namespaces = {\n",
    "        'chemical_substance': ['CHEBI', 'MESH'],\n",
    "        'disease' : ['MESH'],\n",
    "        'gene' : ['NCBIGENE'],\n",
    "    }\n",
    "    namespace = namespaces[nodetype]\n",
    "    return [i[0] for i in response['synonyms'] if i[0].split(':')[0] in namespace]\n",
    "\n",
    "def smpdb_to_gnbr(concepts):\n",
    "    results = []\n",
    "    for concept in concepts:\n",
    "        identifier = concept.id\n",
    "        nodetype = concept.categories[0]\n",
    "        \n",
    "        if nodetype == 'protein':\n",
    "            identifier = identifier.replace('UNIPROT:', 'UniProtKB:')\n",
    "            nodetype = 'gene'\n",
    "        elif nodetype == 'metabolite' or nodetype == 'chemical substance':\n",
    "            nodetype = 'chemical_substance'\n",
    "            \n",
    "        mapped = map_to_gnbr(nodetype, identifier)\n",
    "        results.extend(mapped)\n",
    "        \n",
    "    return results"
   ]
  },
  {
   "cell_type": "code",
   "execution_count": 8,
   "metadata": {},
   "outputs": [
    {
     "name": "stdout",
     "output_type": "stream",
     "text": [
      "Return Status: 200\n",
      "Return Status: 200\n",
      "Return Status: 200\n",
      "Return Status: 200\n",
      "Return Status: 200\n",
      "Return Status: 200\n",
      "Return Status: 200\n",
      "Return Status: 200\n",
      "Return Status: 200\n"
     ]
    }
   ],
   "source": [
    "chem_ids = smpdb_to_gnbr(chems)"
   ]
  },
  {
   "cell_type": "code",
   "execution_count": 9,
   "metadata": {
    "scrolled": true
   },
   "outputs": [
    {
     "name": "stdout",
     "output_type": "stream",
     "text": [
      "['formalin',\n",
      " 'CH2O',\n",
      " 'UDP glucuronate',\n",
      " 'UDPGA',\n",
      " 'UDP',\n",
      " 'morphine',\n",
      " 'morphin',\n",
      " 'norcodeine']\n"
     ]
    }
   ],
   "source": [
    "# mapped_chems = gnbr_concepts.get_concepts(keywords=[i.lower() for i in metabolites])\n",
    "# pprint(mapped_chems)\n",
    "details = [gnbr_concepts.get_concept_details(i) for i in chem_ids]\n",
    "pprint([i.name for i in details if i.name])"
   ]
  },
  {
   "cell_type": "code",
   "execution_count": 10,
   "metadata": {},
   "outputs": [],
   "source": [
    "chem_ids = chem_ids + ['MESH:D003061']"
   ]
  },
  {
   "cell_type": "code",
   "execution_count": 11,
   "metadata": {},
   "outputs": [
    {
     "name": "stdout",
     "output_type": "stream",
     "text": [
      "Return Status: 200\n",
      "Return Status: 200\n",
      "Return Status: 200\n"
     ]
    }
   ],
   "source": [
    "# mapped_genes = gnbr_concepts.get_concepts(keywords=[i for i in genes])\n",
    "# pprint(mapped_genes)\n",
    "gene_ids = smpdb_to_gnbr(genes)"
   ]
  },
  {
   "cell_type": "code",
   "execution_count": 12,
   "metadata": {},
   "outputs": [
    {
     "name": "stdout",
     "output_type": "stream",
     "text": [
      "['CYP3A4', 'UGT2B7', 'CYP2D6']\n"
     ]
    }
   ],
   "source": [
    "details = [gnbr_concepts.get_concept_details(i) for i in gene_ids]\n",
    "pprint([i.name for i in details if i.name])"
   ]
  },
  {
   "cell_type": "code",
   "execution_count": 13,
   "metadata": {},
   "outputs": [],
   "source": [
    "import itertools\n",
    "# chem_ids = [i.id for i in mapped_chems]\n",
    "# gene_ids = [i.id for i in mapped_genes]\n",
    "all_motifs = []\n",
    "with driver.session() as neo4j:\n",
    "    for source, target in itertools.combinations(chem_ids, 2):\n",
    "        motifs = neo4j.read_transaction(pk_motif, source=source, target=target)\n",
    "        all_motifs.extend(motifs)"
   ]
  },
  {
   "cell_type": "code",
   "execution_count": 14,
   "metadata": {},
   "outputs": [
    {
     "name": "stdout",
     "output_type": "stream",
     "text": [
      "['UDPGA', 'UGT2B7', 'UDP']\n",
      "['UDPGA', 'UGT2B7', 'morphine']\n",
      "['UDP', 'UGT2B7', 'morphine']\n",
      "['UDPGA', 'UGT2B7', 'codeine']\n",
      "['UDP', 'UGT2B7', 'codeine']\n",
      "['morphine', 'UGT2B7', 'codeine']\n",
      "['norcodeine', 'CYP3A4', 'codeine']\n",
      "['morphine', 'CYP2D6', 'codeine']\n",
      "['morphine', 'CYP3A4', 'codeine']\n",
      "['morphine', 'CYP3A4', 'norcodeine']\n"
     ]
    }
   ],
   "source": [
    "all_motifs = sorted(all_motifs, key=geometric_mean, reverse=True)\n",
    "for motif in all_motifs:\n",
    "    nodes = motif['n']\n",
    "    node_ids = [n['uri'] for n in nodes]\n",
    "    if 'MESH:D005557' in node_ids:\n",
    "        continue\n",
    "    if node_ids[1] not in gene_ids:\n",
    "        continue\n",
    "    pprint([i['name'] for i in nodes])"
   ]
  },
  {
   "cell_type": "markdown",
   "metadata": {},
   "source": [
    "We can see a problem with the mapping here - we end up pulling in synonyms (orthologs).  Species tags are not currently supported on the GNBR API, though they are in the underlying neo4j.  Future versions of the API will species info for genes."
   ]
  },
  {
   "cell_type": "markdown",
   "metadata": {},
   "source": [
    "### Metrics\n",
    "The metrics we will compute for this module are Jaccard similarity and Average Precision.  Jaccard similarity doesn't explicitly take the ordering of the answers into account, but it is affected by the number of returned answers.\n",
    "\n",
    "Average precision explicitly considers rankings and is less sensitive to the total number of results returned. Thus it is generally preferred for search algorithms that return long lists of results, where the top results should be the most relevant."
   ]
  },
  {
   "cell_type": "code",
   "execution_count": null,
   "metadata": {},
   "outputs": [],
   "source": [
    "def jaccard_index(query_results, ground_truths):\n",
    "    numerator = len(set(query_results) & set(ground_truths))\n",
    "    demoninator = len(set(query_results + ground_truths))\n",
    "    jc = 1.0*numerator/demoninator\n",
    "    return jc\n",
    "\n",
    "def avg_prec(query_results, ground_truths):\n",
    "    hits, precision = 0, 0\n",
    "    for n, result in enumerate(query_results):\n",
    "        if result in ground_truths:\n",
    "            hits += 1\n",
    "            precision += hits/(n+1)\n",
    "    avg_precision = precision/len(ground_truths)\n",
    "    return avg_precision"
   ]
  },
  {
   "cell_type": "markdown",
   "metadata": {},
   "source": [
    "### Further Investigation"
   ]
  },
  {
   "cell_type": "markdown",
   "metadata": {},
   "source": [
    "#### Right Answers"
   ]
  },
  {
   "cell_type": "markdown",
   "metadata": {},
   "source": [
    "#### Wrong Answers"
   ]
  },
  {
   "cell_type": "markdown",
   "metadata": {},
   "source": [
    "## Conclusion"
   ]
  },
  {
   "cell_type": "code",
   "execution_count": null,
   "metadata": {},
   "outputs": [],
   "source": [
    "from neo4j import GraphDatabase\n",
    "\n",
    "driver = GraphDatabase.driver(\"bolt://localhost:7687\", auth=('',''))\n",
    "\n",
    "def pk_gene(tx, source):\n",
    "    query = \"\"\"\n",
    "    MATCH p=(:Chemical {uri: $source})-[:STATEMENT]->(:Gene)\n",
    "    RETURN nodes(p) as n, relationships(p) as r\n",
    "    \"\"\"\n",
    "    result = []\n",
    "    for record in tx.run(query, source=source):\n",
    "        result.extend(record['r'])\n",
    "    return result\n",
    "\n",
    "\n",
    "\n",
    "def pk_score(relationship):\n",
    "    score = max( [relationship[i] for i in ['O','X','Z']] )\n",
    "    return score\n",
    "\n",
    "def max_score(relationship):\n",
    "    score = max(relationship.values())\n",
    "    return score"
   ]
  },
  {
   "cell_type": "code",
   "execution_count": null,
   "metadata": {},
   "outputs": [],
   "source": []
  }
 ],
 "metadata": {
  "kernelspec": {
   "display_name": "Python 3",
   "language": "python",
   "name": "python3"
  },
  "language_info": {
   "codemirror_mode": {
    "name": "ipython",
    "version": 3
   },
   "file_extension": ".py",
   "mimetype": "text/x-python",
   "name": "python",
   "nbconvert_exporter": "python",
   "pygments_lexer": "ipython3",
   "version": "3.6.5"
  }
 },
 "nbformat": 4,
 "nbformat_minor": 2
}
