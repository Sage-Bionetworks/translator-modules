{
 "cells": [
  {
   "cell_type": "markdown",
   "metadata": {},
   "source": [
    "# GNBR Worflow Answer Lookup\n",
    "This workbook shows how to use GNBR to lookup answers output by reasoners.  There are two basic functions being shown in this workbook that may be of use to SMEs evaulating the quality of answers returned by resoners.  \n",
    "\n",
    "1. Synonym retrival. Curies are not human readable and symbols or names of genes, diseeases, and chemicals can also be difficult to interpret because SMEs might not recognize a particular synonym. \n",
    "2. Sentence annotation.  One way of defining a concept is by its attributes.  Another way, which can be equally or more informative is by its relationships to other concepts.  With sentence annotation we are find all related concepts, and then return sentences descibing those relationships."
   ]
  },
  {
   "cell_type": "markdown",
   "metadata": {},
   "source": [
    "## Provenance of Data/Exmples\n",
    "The genes used here are from the output of the Gamma and Orange Team reasoners for the Fanoconi Workflow (#2); and can be found [in this linked spreadsheet](https://docs.google.com/spreadsheets/d/19xKibjf2wOuomlWlxnT94uwcQ-AhmzkWgclfCmYVeVA/edit#gid=1952644138). FAAP24 and EEPD1 were chosen as examples because they were consensus outputs with known (FAAP24) and unknown (EPPD1) associations with Fanconi genes. We encourage people to try out the other genes on the list.  Note the ASTE1 and INIP have been tested and are not in the current version of GNBR."
   ]
  },
  {
   "cell_type": "markdown",
   "metadata": {},
   "source": [
    "#### Package Imports\n",
    "Here we are importing the GNBR client library as well as some helper functions.  Intallation instructions and documentation for the GNBR client library can be found in the [GitHub repository](https://github.com/NCATS-Infrared/gnbr-client-python)."
   ]
  },
  {
   "cell_type": "code",
   "execution_count": 1,
   "metadata": {},
   "outputs": [],
   "source": [
    "from __future__ import print_function\n",
    "import time\n",
    "import swagger_client\n",
    "from swagger_client.rest import ApiException\n",
    "from pprint import pprint"
   ]
  },
  {
   "cell_type": "markdown",
   "metadata": {},
   "source": [
    "### EEPD1\n",
    "EEPD1 was consensus output of the resoners and to the best of our knowledge has no currently recognized to be association with any of the Fanconi genes.\n",
    "##### Concept Lookup"
   ]
  },
  {
   "cell_type": "code",
   "execution_count": 2,
   "metadata": {},
   "outputs": [
    {
     "name": "stdout",
     "output_type": "stream",
     "text": [
      "[{'categories': ['Entity', 'Gene'],\n",
      " 'description': None,\n",
      " 'details': [{'tag': 'mentions', 'value': '1'}],\n",
      " 'exact_matches': None,\n",
      " 'id': 'ncbigene:80820',\n",
      " 'name': 'EEPD1',\n",
      " 'symbol': None,\n",
      " 'synonyms': ['EEPD1'],\n",
      " 'uri': 'ncbigene:80820'}]\n"
     ]
    }
   ],
   "source": [
    "gnbr_concepts = swagger_client.ConceptsApi()\n",
    "keywords = ['EEPD1']\n",
    "concepts = gnbr_concepts.get_concepts(keywords=keywords)\n",
    "concept_details = [gnbr_concepts.get_concept_details(concept.id) for concept in concepts]\n",
    "pprint(concept_details)"
   ]
  },
  {
   "cell_type": "markdown",
   "metadata": {},
   "source": [
    "##### Statement Lookup "
   ]
  },
  {
   "cell_type": "code",
   "execution_count": 3,
   "metadata": {},
   "outputs": [
    {
     "name": "stdout",
     "output_type": "stream",
     "text": [
      "***********************\n",
      "ATR observed together with EEPD1\n",
      "***********************\n",
      "EEPD1 is also required for proper ATR and CHK1 phosphorylation , and formation of gamma-H2AX , RAD51 and phospho-RPA32 foci . pmid:26684013\n",
      "\n",
      "\n",
      "***********************\n",
      "EEPD1 binds ATR\n",
      "***********************\n",
      "EEPD1 is also required for proper ATR and CHK1 phosphorylation , and formation of gamma-H2AX , RAD51 and phospho-RPA32 foci . pmid:26684013\n",
      "\n",
      "\n"
     ]
    }
   ],
   "source": [
    "gnbr_statements = swagger_client.StatementsApi()\n",
    "s = [concept.id for concept in concepts]\n",
    "statements = gnbr_statements.get_statements(s=s)\n",
    "for statement in statements:\n",
    "    print('***********************')\n",
    "    print(statement.subject.name, statement.predicate.relation, statement.object.name)\n",
    "    print('***********************')\n",
    "    statement_id = statement.id\n",
    "    details = gnbr_statements.get_statement_details(statement_id)\n",
    "    for sentence in details.evidence[:3]:\n",
    "        print(sentence.name, sentence.uri)\n",
    "    print('\\n')"
   ]
  },
  {
   "cell_type": "markdown",
   "metadata": {},
   "source": [
    "### FAAP24\n",
    "FAAP24 was also a consensus output of the reasoners and is known to be associated with one or more of the Fanconi genes.  Thus it is a \"ground truth\" answer.\n",
    "#### Concept Lookup"
   ]
  },
  {
   "cell_type": "code",
   "execution_count": 4,
   "metadata": {},
   "outputs": [
    {
     "name": "stdout",
     "output_type": "stream",
     "text": [
      "[{'categories': ['Entity', 'Gene'],\n",
      " 'description': None,\n",
      " 'details': [{'tag': 'mentions', 'value': '4'}],\n",
      " 'exact_matches': None,\n",
      " 'id': 'ncbigene:91442',\n",
      " 'name': 'FAAP24',\n",
      " 'symbol': None,\n",
      " 'synonyms': ['FAAP24'],\n",
      " 'uri': 'ncbigene:91442'}]\n"
     ]
    }
   ],
   "source": [
    "gnbr_concepts = swagger_client.ConceptsApi()\n",
    "keywords = ['FAAP24']\n",
    "concepts = gnbr_concepts.get_concepts(keywords=keywords)\n",
    "concept_details = [gnbr_concepts.get_concept_details(concept.id) for concept in concepts]\n",
    "pprint(concept_details)"
   ]
  },
  {
   "cell_type": "markdown",
   "metadata": {},
   "source": [
    "#### Statement Lookup"
   ]
  },
  {
   "cell_type": "code",
   "execution_count": 5,
   "metadata": {},
   "outputs": [
    {
     "name": "stdout",
     "output_type": "stream",
     "text": [
      "***********************\n",
      "FAAP24 regulates FANCM\n",
      "***********************\n",
      "FAAP24 , a new XPF endonuclease family member identified by in a recent issue of Molecular Cell , heterodimerizes with FANCM , binds unwound DNA , and reveals how the Fanconi_anemia core complex concentrates DNA repair proteins at stalled replication forks . pmid:17317622\n",
      "Here , we describe the identification of FAAP24 , a protein that targets FANCM to structures that mimic intermediates formed during the replication/repair of damaged DNA . pmid:17289582\n",
      "Moreover , depletion of the FANCM binding partner , FAAP24 , disrupted the chromatin association of FANCM and destabilized FANCM , leading to defective recruitment of the FA core complex to chromatin . pmid:18174376\n",
      "\n",
      "\n",
      "***********************\n",
      "FANCM regulates FAAP24\n",
      "***********************\n",
      "FAAP24 , a new XPF endonuclease family member identified by in a recent issue of Molecular Cell , heterodimerizes with FANCM , binds unwound DNA , and reveals how the Fanconi_anemia core complex concentrates DNA repair proteins at stalled replication forks . pmid:17317622\n",
      "Here , we describe the identification of FAAP24 , a protein that targets FANCM to structures that mimic intermediates formed during the replication/repair of damaged DNA . pmid:17289582\n",
      "Moreover , depletion of the FANCM binding partner , FAAP24 , disrupted the chromatin association of FANCM and destabilized FANCM , leading to defective recruitment of the FA core complex to chromatin . pmid:18174376\n",
      "\n",
      "\n",
      "***********************\n",
      "FAAP24 improper regulation associated with XPF-deficient\n",
      "***********************\n",
      "FAAP24 , a new XPF endonuclease family member identified by in a recent issue of Molecular Cell , heterodimerizes with FANCM , binds unwound DNA , and reveals how the Fanconi_anemia core complex concentrates DNA repair proteins at stalled replication forks . pmid:17317622\n",
      "FAAP24 shares homology with the XPF family of flap/fork endonucleases , associates with the C-terminal region of FANCM , and is a component of the FA core complex . pmid:17289582\n",
      "\n",
      "\n"
     ]
    }
   ],
   "source": [
    "gnbr_statements = swagger_client.StatementsApi()\n",
    "s = [concept.id for concept in concepts]\n",
    "statements = gnbr_statements.get_statements(s=s)\n",
    "for statement in statements:\n",
    "    print('***********************')\n",
    "    print(statement.subject.name, statement.predicate.relation, statement.object.name)\n",
    "    print('***********************')\n",
    "    statement_id = statement.id\n",
    "    details = gnbr_statements.get_statement_details(statement_id)\n",
    "    for sentence in details.evidence[:3]:\n",
    "        print(sentence.name, sentence.uri)\n",
    "    print('\\n')"
   ]
  },
  {
   "cell_type": "markdown",
   "metadata": {},
   "source": [
    "## Conclusion\n",
    "This has been a very basic demo of how the GNBR API can be used to investigate the plausibility of answers return ed by the reasoner.  The primary contributions are (a) looking up synonyms, and (b) placing genes in the context of their relationships to other entities.  There are a few warts and some upgrades are already in process.  Planned upgrades include:\n",
    "1. Putting everything into a single function or cell to make it easy for SMEs to run code\n",
    "2. Adding \"most informative sentence(s)\" to concept details.\n",
    "3. Deduplication of gene-gene associations.\n",
    "4. Optimize name lookup to run faster."
   ]
  },
  {
   "cell_type": "code",
   "execution_count": null,
   "metadata": {},
   "outputs": [],
   "source": []
  }
 ],
 "metadata": {
  "kernelspec": {
   "display_name": "Python 3",
   "language": "python",
   "name": "python3"
  },
  "language_info": {
   "codemirror_mode": {
    "name": "ipython",
    "version": 3
   },
   "file_extension": ".py",
   "mimetype": "text/x-python",
   "name": "python",
   "nbconvert_exporter": "python",
   "pygments_lexer": "ipython3",
   "version": "3.6.5"
  }
 },
 "nbformat": 4,
 "nbformat_minor": 2
}
