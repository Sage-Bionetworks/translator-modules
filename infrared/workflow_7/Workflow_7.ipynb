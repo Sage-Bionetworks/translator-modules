{
 "cells": [
  {
   "cell_type": "markdown",
   "metadata": {},
   "source": [
    "# Notebook for Workflow 7\n",
    "This notebook will focus on completion of modules 1,2 and 3 of workflow 7 (pharmacogenomics).  The first prototype use case for this workflow will focus on Codeine metabolism."
   ]
  },
  {
   "cell_type": "markdown",
   "metadata": {},
   "source": [
    "## Module 0: SMPDB Mapping\n",
    "The first order of business is to query the SMPDB API for a list of chemicals and genes that can serve as both ground truth for module 1 and as inputs to modules 2 and 3.  Another non-trivial task is mapping concepts from the SMPDB ID space into GNBR.  Chemicals in SMPDB are generally referenced by CHEBI, KEGG, or HMDB identifiers, while most of GNBR uses MESH.  Our first try at this non-trivial task will attempt to map concepts by name."
   ]
  },
  {
   "cell_type": "markdown",
   "metadata": {},
   "source": [
    "### Query SMPDB API\n",
    "First we query statements endpoint of SMPDB with the ID for the codeine metabolism pathway.  This returns a list of genes and chemicals in the pathway, which we then sort out."
   ]
  },
  {
   "cell_type": "code",
   "execution_count": 1,
   "metadata": {},
   "outputs": [],
   "source": [
    "import requests\n",
    "\n",
    "codeine_metabolism_url = 'https://kba.ncats.io/beacon/smpdb/statements?s=SMP:0000621'\n",
    "response = requests.get(codeine_metabolism_url)\n",
    "\n",
    "genes, chemicals = [], []\n",
    "for relation in response.json():\n",
    "        if 'protein' in relation['subject']['categories']:\n",
    "            genes.append(relation['subject']['name'])\n",
    "        elif 'metabolite' in relation['subject']['categories']:\n",
    "            chemicals.append(relation['subject']['name'])\n",
    "        else:\n",
    "            print(relation['subject']['name'])"
   ]
  },
  {
   "cell_type": "code",
   "execution_count": 2,
   "metadata": {},
   "outputs": [
    {
     "data": {
      "text/plain": [
       "['Mu-type opioid receptor',\n",
       " 'UDP-glucuronosyltransferase 2B7',\n",
       " 'Cytochrome P450 3A4',\n",
       " 'Cytochrome P450 2D6']"
      ]
     },
     "execution_count": 2,
     "metadata": {},
     "output_type": "execute_result"
    }
   ],
   "source": [
    "genes"
   ]
  },
  {
   "cell_type": "code",
   "execution_count": 3,
   "metadata": {},
   "outputs": [
    {
     "data": {
      "text/plain": [
       "['Codeine',\n",
       " 'Morphine',\n",
       " 'Uridine diphosphate glucuronic acid',\n",
       " 'Codeine-6-glucuronide',\n",
       " \"Uridine 5'-diphosphate\",\n",
       " 'Oxygen',\n",
       " 'NADH',\n",
       " 'Norcodeine',\n",
       " 'Water',\n",
       " 'Formaldehyde',\n",
       " 'NAD',\n",
       " 'Heme']"
      ]
     },
     "execution_count": 3,
     "metadata": {},
     "output_type": "execute_result"
    }
   ],
   "source": [
    "chemicals"
   ]
  },
  {
   "cell_type": "markdown",
   "metadata": {},
   "source": [
    "### Map Chemicals and Genes into GNBR\n",
    "Now we use the concepts endpoint on the GNBR API to lookup the names and retreive the internal IDs of the genes and chemicals returned by SMPDB."
   ]
  },
  {
   "cell_type": "code",
   "execution_count": 4,
   "metadata": {},
   "outputs": [],
   "source": [
    "from __future__ import print_function\n",
    "import time\n",
    "import swagger_client\n",
    "from swagger_client.rest import ApiException\n",
    "from pprint import pprint\n",
    "\n",
    "gnbr_concepts = swagger_client.ConceptsApi()"
   ]
  },
  {
   "cell_type": "markdown",
   "metadata": {},
   "source": [
    "#### Genes\n",
    "We don't do any normalization or filtering for genes.  Technically, mOR isn't a metabolism gene, but it's not such a big deal at this stage of prototyping."
   ]
  },
  {
   "cell_type": "code",
   "execution_count": 5,
   "metadata": {},
   "outputs": [
    {
     "name": "stdout",
     "output_type": "stream",
     "text": [
      "[{'categories': ['Entity', 'Gene'],\n",
      " 'description': None,\n",
      " 'id': 'ncbigene:7364',\n",
      " 'name': 'UGT2B7'},\n",
      " {'categories': ['Entity', 'Gene'],\n",
      " 'description': None,\n",
      " 'id': 'ncbigene:1576',\n",
      " 'name': 'CYP3A4'},\n",
      " {'categories': ['Entity', 'Gene'],\n",
      " 'description': None,\n",
      " 'id': 'ncbigene:1565',\n",
      " 'name': 'CYP2D6'},\n",
      " {'categories': ['Entity', 'Gene'],\n",
      " 'description': None,\n",
      " 'id': 'ncbigene:107987479',\n",
      " 'name': 'cytochrome_P450_2D6'}]\n"
     ]
    }
   ],
   "source": [
    "# genes = [i.lower() for i in genes]\n",
    "genes_in_gnbr = gnbr_concepts.get_concepts(keywords=genes)\n",
    "pprint(genes_in_gnbr)"
   ]
  },
  {
   "cell_type": "markdown",
   "metadata": {},
   "source": [
    "#### Chemicals\n",
    "We do filter out \"uninteresting\" chemicals, some of which are sure to return hits.  These are generally ubiquitous endogenous agents that will add tons of noise.  Basically, the biochemical equivalent of stop words."
   ]
  },
  {
   "cell_type": "code",
   "execution_count": 6,
   "metadata": {},
   "outputs": [
    {
     "name": "stdout",
     "output_type": "stream",
     "text": [
      "[{'categories': ['Chemical', 'Entity'],\n",
      " 'description': None,\n",
      " 'id': 'MESH:D003061',\n",
      " 'name': 'codeine'},\n",
      " {'categories': ['Chemical', 'Entity'],\n",
      " 'description': None,\n",
      " 'id': 'MESH:D009020',\n",
      " 'name': 'morphine'},\n",
      " {'categories': ['Chemical', 'Entity'],\n",
      " 'description': None,\n",
      " 'id': 'MESH:D014535',\n",
      " 'name': 'UDPGA'},\n",
      " {'categories': ['Chemical', 'Entity'],\n",
      " 'description': None,\n",
      " 'id': 'MESH:C010414',\n",
      " 'name': 'norcodeine'}]\n"
     ]
    }
   ],
   "source": [
    "blacklist = ['Oxygen','Water','Formaldehyde','NAD','NADH','Heme']\n",
    "chemicals = [i.lower() for i in chemicals if i not in blacklist]\n",
    "chems_in_gnbr = gnbr_concepts.get_concepts(keywords=chemicals)\n",
    "pprint(chems_in_gnbr)"
   ]
  },
  {
   "cell_type": "markdown",
   "metadata": {},
   "source": [
    "Because text search is exact and case sensitive there is a question of whether we should normalize strings.  Here we do it for chemicals, but not for genes.  The decision was made on the basis of what returned the best looking results.  However, we do not expect this to be our final approach.  A notable mapping failure is the mu-opiod receptor, which is present in GNBR."
   ]
  },
  {
   "cell_type": "markdown",
   "metadata": {},
   "source": [
    "## Module 1\n",
    "Module 1 asks the question, \"what chemicals and genes are in metabolic pathways (or mechanism of action pathways) with some query chemical X.  The first pass at this module will attempt to use GNBR, though it is likely not well suited for this problem because it does not contain pathway objects or chemical-chemical predicates."
   ]
  },
  {
   "cell_type": "markdown",
   "metadata": {},
   "source": [
    "#### Concept Lookup\n",
    "First we lookup codeine in GNBR.  Hitting the details enpoint is probably unecessary, but we do it anyway just because."
   ]
  },
  {
   "cell_type": "code",
   "execution_count": 72,
   "metadata": {},
   "outputs": [
    {
     "name": "stdout",
     "output_type": "stream",
     "text": [
      "[{'categories': ['Chemical', 'Entity'],\n",
      " 'description': None,\n",
      " 'id': 'MESH:D003061',\n",
      " 'name': 'codeine'}]\n"
     ]
    }
   ],
   "source": [
    "gnbr_concepts = swagger_client.ConceptsApi()\n",
    "keywords = ['Codeine']\n",
    "concepts = gnbr_concepts.get_concepts(keywords=keywords)\n",
    "pprint(concepts)"
   ]
  },
  {
   "cell_type": "markdown",
   "metadata": {},
   "source": [
    "#### Statements Lookup\n",
    "Now we lookup genes related to codeine (any relation).  Here we probably don't need to hit the statement details endpoint, but we do anyway.  The relations being returned by the GNBR endpoint are still a little wonky, but can possibly be fixed by normalization. Also, some means of filtering by confidence would be helpful."
   ]
  },
  {
   "cell_type": "code",
   "execution_count": 53,
   "metadata": {},
   "outputs": [],
   "source": [
    "gnbr_statements = swagger_client.StatementsApi()\n",
    "s = [concept.id for concept in concepts]\n",
    "categories=['Gene']\n",
    "statements = gnbr_statements.get_statements(s=s, t_categories=categories)"
   ]
  },
  {
   "cell_type": "code",
   "execution_count": 54,
   "metadata": {},
   "outputs": [
    {
     "data": {
      "text/plain": [
       "0.6666666666666666"
      ]
     },
     "execution_count": 54,
     "metadata": {},
     "output_type": "execute_result"
    }
   ],
   "source": [
    "def avg_prec(query_results, ground_truths):\n",
    "    hits, precision = 0, 0\n",
    "    for n, result in enumerate(query_results):\n",
    "        if result in ground_truths:\n",
    "            hits += 1\n",
    "            precision += hits/(n+1)\n",
    "    avg_precision = precision/len(ground_truths)\n",
    "    return avg_precision\n",
    "\n",
    "avg_prec([i.object.id for i in statements], [i.id for i in genes_in_gnbr[:-1]])"
   ]
  },
  {
   "cell_type": "markdown",
   "metadata": {},
   "source": [
    "At First glance, these results don't look bad.  Generally the top results from the statements endpoint agree with the genes in the codeine metbolism pathway from SMPDB.  We do get some noise toward the end of the results.  Next order of business here is to come up with a suitable ranking metric.  Jaccard is ok, but doesn't give any credit for ranking correct answers highly.  Maybe Mean Average Precision (AP)?"
   ]
  },
  {
   "cell_type": "markdown",
   "metadata": {},
   "source": [
    "## Module 3\n",
    "TODO"
   ]
  },
  {
   "cell_type": "code",
   "execution_count": 68,
   "metadata": {},
   "outputs": [
    {
     "name": "stdout",
     "output_type": "stream",
     "text": [
      "[{'id': '37908008',\n",
      " 'object': {'categories': ['Entity', 'Gene'],\n",
      "            'id': 'ncbigene:7364',\n",
      "            'name': 'UGT2B7'},\n",
      " 'predicate': {'edge_label': 'interacts with',\n",
      "               'negated': None,\n",
      "               'relation': 'binds'},\n",
      " 'subject': {'categories': ['Chemical', 'Entity'],\n",
      "             'id': 'MESH:D014535',\n",
      "             'name': 'UDPGA'}},\n",
      " {'id': '37475500',\n",
      " 'object': {'categories': ['Entity', 'Gene'],\n",
      "            'id': 'ncbigene:7364',\n",
      "            'name': 'UGT2B7'},\n",
      " 'predicate': {'edge_label': 'interacts with',\n",
      "               'negated': None,\n",
      "               'relation': 'binds'},\n",
      " 'subject': {'categories': ['Chemical', 'Entity'],\n",
      "             'id': 'MESH:D009020',\n",
      "             'name': 'morphine'}},\n",
      " {'id': '37473470',\n",
      " 'object': {'categories': ['Entity', 'Gene'],\n",
      "            'id': 'ncbigene:1565',\n",
      "            'name': 'CYP2D6'},\n",
      " 'predicate': {'edge_label': 'affects abundance of',\n",
      "               'negated': None,\n",
      "               'relation': 'affects expression or production of'},\n",
      " 'subject': {'categories': ['Chemical', 'Entity'],\n",
      "             'id': 'MESH:D009020',\n",
      "             'name': 'morphine'}},\n",
      " {'id': '37476030',\n",
      " 'object': {'categories': ['Entity', 'Gene'],\n",
      "            'id': 'ncbigene:1565',\n",
      "            'name': 'CYP2D6'},\n",
      " 'predicate': {'edge_label': 'affects abundance of',\n",
      "               'negated': None,\n",
      "               'relation': 'affects expression or production of'},\n",
      " 'subject': {'categories': ['Chemical', 'Entity'],\n",
      "             'id': 'MESH:D003061',\n",
      "             'name': 'codeine'}},\n",
      " {'id': '37476031',\n",
      " 'object': {'categories': ['Entity', 'Gene'],\n",
      "            'id': 'ncbigene:1576',\n",
      "            'name': 'CYP3A4'},\n",
      " 'predicate': {'edge_label': 'disrupts',\n",
      "               'negated': None,\n",
      "               'relation': 'inhibits'},\n",
      " 'subject': {'categories': ['Chemical', 'Entity'],\n",
      "             'id': 'MESH:D003061',\n",
      "             'name': 'codeine'}},\n",
      " {'id': '37588365',\n",
      " 'object': {'categories': ['Entity', 'Gene'],\n",
      "            'id': 'ncbigene:1576',\n",
      "            'name': 'CYP3A4'},\n",
      " 'predicate': {'edge_label': 'affects molecular modification of',\n",
      "               'negated': None,\n",
      "               'relation': 'metabolized by'},\n",
      " 'subject': {'categories': ['Chemical', 'Entity'],\n",
      "             'id': 'MESH:C010414',\n",
      "             'name': 'norcodeine'}},\n",
      " {'id': '37473472',\n",
      " 'object': {'categories': ['Entity', 'Gene'],\n",
      "            'id': 'ncbigene:1576',\n",
      "            'name': 'CYP3A4'},\n",
      " 'predicate': {'edge_label': 'affects abundance of',\n",
      "               'negated': None,\n",
      "               'relation': 'affects expression or production of'},\n",
      " 'subject': {'categories': ['Chemical', 'Entity'],\n",
      "             'id': 'MESH:D009020',\n",
      "             'name': 'morphine'}},\n",
      " {'id': '37476033',\n",
      " 'object': {'categories': ['Entity', 'Gene'],\n",
      "            'id': 'ncbigene:7364',\n",
      "            'name': 'UGT2B7'},\n",
      " 'predicate': {'edge_label': 'affects abundance of',\n",
      "               'negated': None,\n",
      "               'relation': 'desreases expression or production of'},\n",
      " 'subject': {'categories': ['Chemical', 'Entity'],\n",
      "             'id': 'MESH:D003061',\n",
      "             'name': 'codeine'}}]\n"
     ]
    }
   ],
   "source": [
    "s = [i.id for i in chems_in_gnbr]\n",
    "statements = gnbr_statements.get_statements(s=s, t_categories=['Gene'])\n",
    "relations = [i for i in statements if i.object.id in gene_ids]\n",
    "pprint(relations)"
   ]
  },
  {
   "cell_type": "code",
   "execution_count": 74,
   "metadata": {},
   "outputs": [
    {
     "data": {
      "text/plain": [
       "8"
      ]
     },
     "execution_count": 74,
     "metadata": {},
     "output_type": "execute_result"
    }
   ],
   "source": [
    "len(relations)"
   ]
  },
  {
   "cell_type": "code",
   "execution_count": null,
   "metadata": {},
   "outputs": [],
   "source": []
  }
 ],
 "metadata": {
  "kernelspec": {
   "display_name": "Python 3",
   "language": "python",
   "name": "python3"
  },
  "language_info": {
   "codemirror_mode": {
    "name": "ipython",
    "version": 3
   },
   "file_extension": ".py",
   "mimetype": "text/x-python",
   "name": "python",
   "nbconvert_exporter": "python",
   "pygments_lexer": "ipython3",
   "version": "3.6.5"
  }
 },
 "nbformat": 4,
 "nbformat_minor": 2
}
