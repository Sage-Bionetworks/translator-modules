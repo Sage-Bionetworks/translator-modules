{
 "cells": [
  {
   "cell_type": "markdown",
   "metadata": {},
   "source": [
    "# GNBR Query Notebook\n",
    "\n",
    "This notebook has code stubs showing how to query GNBR REST API using the client library.  It is meant to serve as general repository of starter code stubs that can be copied and then modified for various applications.  This library will be updated as changes are made to the RESY API and client."
   ]
  },
  {
   "cell_type": "markdown",
   "metadata": {},
   "source": [
    "## Client installation\n",
    "The GNBR python library can be installed using the python package manager (pypi).  I recommend installing in a virtual environemnt as the clent library will be subject to frequent modification. This way you won't get any wierd package dependency conflicts. If you already have a virtual environment set up, you can skip the following section."
   ]
  },
  {
   "cell_type": "markdown",
   "metadata": {},
   "source": [
    "##### Set Up Virtual Environment\n",
    "To set up a virtual environment make sure that you have virtualenv installed in whatever version of python you are using (Python 3+ recommended).  Note that this example assumes you are using bash unix, and uses the user's home directory as root. \n",
    "\n",
    "Open a terminal window and enter the following commands to create a directory for your virtual environments.\n",
    "\n",
    "```sh\n",
    "cd ~\n",
    "mkdir virtual-environments\n",
    "```\n",
    "\n",
    "Enter the following command to create a virtual environment.\n",
    "\n",
    "```sh\n",
    "virtualenv gnbr-client\n",
    "```\n",
    "\n",
    "Activate the virtual environment and upgrade the pip package manager\n",
    "\n",
    "```sh\n",
    "cd gnbr-client\n",
    "source bin/activate\n",
    "pip install --upgrade pip\n",
    "```"
   ]
  },
  {
   "cell_type": "markdown",
   "metadata": {},
   "source": [
    "##### Install the Client Libaray\n",
    "Use the pip package manager to install the gnbr-client package.\n",
    "\n",
    "```sh\n",
    "pip install git+https://github.com/NCATS-Infrared/gnbr-client-python.git\n",
    "```\n",
    "\n",
    "More detailed instructions for installation and testing along with usage documentmentation can be found in the gnbr-client [github repository](https://github.com/NCATS-Infrared/gnbr-client-python)."
   ]
  },
  {
   "cell_type": "markdown",
   "metadata": {},
   "source": [
    "## Testing Endpoints"
   ]
  },
  {
   "cell_type": "markdown",
   "metadata": {},
   "source": [
    "##### Lookup Concept by Name"
   ]
  },
  {
   "cell_type": "code",
   "execution_count": 12,
   "metadata": {},
   "outputs": [
    {
     "name": "stdout",
     "output_type": "stream",
     "text": [
      "[{'categories': ['Entity', 'Chemical'],\n",
      " 'description': None,\n",
      " 'id': 'MESH:D003061',\n",
      " 'name': 'codeine'}]\n"
     ]
    }
   ],
   "source": [
    "from __future__ import print_function\n",
    "import time\n",
    "import swagger_client\n",
    "from swagger_client.rest import ApiException\n",
    "from pprint import pprint\n",
    "\n",
    "# create an instance of the API class\n",
    "api_instance = swagger_client.ConceptsApi()\n",
    "keywords = ['Codeine'] # list[str] | (Optional) array of keywords or substrings against which to match concept names and synonyms (optional)\n",
    "\n",
    "try:\n",
    "    api_response = api_instance.get_concepts(keywords=keywords)\n",
    "    pprint(api_response)\n",
    "except ApiException as e:\n",
    "    print(\"Exception when calling ConceptsApi->get_concepts: %s\\n\" % e)"
   ]
  },
  {
   "cell_type": "markdown",
   "metadata": {},
   "source": [
    "##### Lookup Concept by ID"
   ]
  },
  {
   "cell_type": "code",
   "execution_count": 6,
   "metadata": {},
   "outputs": [
    {
     "name": "stdout",
     "output_type": "stream",
     "text": [
      "{'categories': ['Chemical', 'Entity'],\n",
      " 'description': None,\n",
      " 'details': None,\n",
      " 'exact_matches': None,\n",
      " 'id': 'MESH:D003061',\n",
      " 'name': 'codeine',\n",
      " 'symbol': None,\n",
      " 'synonyms': ['codeine',\n",
      "              'Codeine',\n",
      "              'codeine phosphate',\n",
      "              'N-methylmorphine',\n",
      "              'Codeine phosphate',\n",
      "              'N-methyl morphine',\n",
      "              'codeine/dextropropoxyphen'],\n",
      " 'uri': 'MESH:D003061'}\n"
     ]
    }
   ],
   "source": [
    "from __future__ import print_function\n",
    "import time\n",
    "import swagger_client\n",
    "from swagger_client.rest import ApiException\n",
    "from pprint import pprint\n",
    "# create an instance of the API class\n",
    "api_instance = swagger_client.ConceptsApi()\n",
    "concept_id = 'MESH:D003061' # str | (url-encoded) CURIE identifier of concept of interest\n",
    "\n",
    "try:\n",
    "    api_response = api_instance.get_concept_details(concept_id)\n",
    "    pprint(api_response)\n",
    "except ApiException as e:\n",
    "    print(\"Exception when calling ConceptsApi->get_concept_details: %s\\n\" % e)"
   ]
  },
  {
   "cell_type": "markdown",
   "metadata": {},
   "source": [
    "##### Get Statements"
   ]
  },
  {
   "cell_type": "code",
   "execution_count": 16,
   "metadata": {},
   "outputs": [
    {
     "name": "stdout",
     "output_type": "stream",
     "text": [
      "{'id': '37580296',\n",
      " 'object': {'categories': ['Entity', 'Gene'],\n",
      "            'id': 'ncbigene:81668',\n",
      "            'name': 'growth_hormone'},\n",
      " 'predicate': {'edge_label': 'affects expression of',\n",
      "               'negated': None,\n",
      "               'relation': 'affects expression'},\n",
      " 'subject': {'categories': ['Entity', 'Chemical'],\n",
      "             'id': 'MESH:D003061',\n",
      "             'name': 'codeine'}}\n"
     ]
    }
   ],
   "source": [
    "from __future__ import print_function\n",
    "import time\n",
    "import swagger_client\n",
    "from swagger_client.rest import ApiException\n",
    "from pprint import pprint\n",
    "# create an instance of the API class\n",
    "api_instance = swagger_client.StatementsApi()\n",
    "s = ['MESH:D003061'] # str | (url-encoded) CURIE identifier of concept of interest\n",
    "\n",
    "try:\n",
    "    api_response = api_instance.get_statements(s=s)\n",
    "    pprint(api_response[0])\n",
    "except ApiException as e:\n",
    "    print(\"Exception when calling ConceptsApi->get_concept_details: %s\\n\" % e)"
   ]
  },
  {
   "cell_type": "markdown",
   "metadata": {},
   "source": [
    "##### Get Supporting Evidence"
   ]
  },
  {
   "cell_type": "code",
   "execution_count": 13,
   "metadata": {},
   "outputs": [
    {
     "name": "stdout",
     "output_type": "stream",
     "text": [
      "{'annotation': None,\n",
      " 'evidence': [{'date': None,\n",
      "               'evidence_type': 'http://purl.obolibrary.org/obo/ECO_0000204',\n",
      "               'id': '3035598',\n",
      "               'name': 'N-methylmorphine caused increases in the release of '\n",
      "                       'growth_hormone and prolactin , but serum levels of '\n",
      "                       'corticosterone , luteinizing hormone and thyroid '\n",
      "                       'stimulating hormone were unaffected .',\n",
      "               'uri': None}],\n",
      " 'id': '37580296',\n",
      " 'is_defined_by': None,\n",
      " 'provided_by': None,\n",
      " 'qualifiers': None}\n"
     ]
    }
   ],
   "source": [
    "from __future__ import print_function\n",
    "import time\n",
    "import swagger_client\n",
    "from swagger_client.rest import ApiException\n",
    "from pprint import pprint\n",
    "\n",
    "# create an instance of the API class\n",
    "api_instance = swagger_client.StatementsApi()\n",
    "statement_id = '37580296' # str | (url-encoded) CURIE identifier of the concept-relationship statement (\\\"assertion\\\", \\\"claim\\\") for which associated evidence is sought \n",
    "\n",
    "try:\n",
    "    api_response = api_instance.get_statement_details(statement_id)\n",
    "    pprint(api_response)\n",
    "except ApiException as e:\n",
    "    print(\"Exception when calling StatementsApi->get_statement_details: %s\\n\" % e)"
   ]
  },
  {
   "cell_type": "code",
   "execution_count": null,
   "metadata": {},
   "outputs": [],
   "source": []
  }
 ],
 "metadata": {
  "kernelspec": {
   "display_name": "Python 3",
   "language": "python",
   "name": "python3"
  },
  "language_info": {
   "codemirror_mode": {
    "name": "ipython",
    "version": 3
   },
   "file_extension": ".py",
   "mimetype": "text/x-python",
   "name": "python",
   "nbconvert_exporter": "python",
   "pygments_lexer": "ipython3",
   "version": "3.6.5"
  }
 },
 "nbformat": 4,
 "nbformat_minor": 2
}
