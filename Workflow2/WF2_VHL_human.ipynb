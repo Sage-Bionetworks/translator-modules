{
 "cells": [
  {
   "cell_type": "markdown",
   "metadata": {},
   "source": [
    "# Install Python Dependencies (including the NCATS MVP Module Library)"
   ]
  },
  {
   "cell_type": "code",
   "execution_count": 7,
   "metadata": {},
   "outputs": [
    {
     "name": "stdout",
     "output_type": "stream",
     "text": [
      "python is /anaconda3/bin/python\n"
     ]
    }
   ],
   "source": [
    "# You need to figure out where your Python site-packages are... After getting the answer to the following Jupyter 'type' directive\n",
    "# change the path component 'bin' to 'lib' path, then append the suffix \"/site-packages\" Then use thge resultng path to \n",
    "# find the location at which you can complete 'Step 1' in the following cell.\n",
    "!type python"
   ]
  },
  {
   "cell_type": "code",
   "execution_count": 8,
   "metadata": {},
   "outputs": [
    {
     "name": "stdout",
     "output_type": "stream",
     "text": [
      "Requirement already satisfied: ontobio in /anaconda3/lib/python3.7/site-packages (from -r requirements.txt (line 1)) (1.7.2)\n",
      "Requirement already satisfied: mygene==3.0.0 in /anaconda3/lib/python3.7/site-packages (from -r requirements.txt (line 2)) (3.0.0)\n",
      "Requirement already satisfied: numpy==1.16.1 in /anaconda3/lib/python3.7/site-packages (from -r requirements.txt (line 7)) (1.16.1)\n",
      "Requirement already satisfied: pandas==0.23.4 in /anaconda3/lib/python3.7/site-packages (from -r requirements.txt (line 8)) (0.23.4)\n",
      "Requirement already satisfied: typing>=0.0 in /anaconda3/lib/python3.7/site-packages (from -r requirements.txt (line 10)) (3.6.6)\n",
      "Requirement already satisfied: graphviz in /anaconda3/lib/python3.7/site-packages (from -r requirements.txt (line 11)) (0.10.1)\n",
      "Requirement already satisfied: sparqlwrapper in /anaconda3/lib/python3.7/site-packages (from ontobio->-r requirements.txt (line 1)) (1.8.2)\n",
      "Requirement already satisfied: cachier in /anaconda3/lib/python3.7/site-packages (from ontobio->-r requirements.txt (line 1)) (1.2.5)\n",
      "Requirement already satisfied: requests in /anaconda3/lib/python3.7/site-packages (from ontobio->-r requirements.txt (line 1)) (2.21.0)\n",
      "Requirement already satisfied: jsobject in /anaconda3/lib/python3.7/site-packages (from ontobio->-r requirements.txt (line 1)) (0.10.2)\n",
      "Requirement already satisfied: scipy in /anaconda3/lib/python3.7/site-packages (from ontobio->-r requirements.txt (line 1)) (1.2.1)\n",
      "Requirement already satisfied: prefixcommons in /anaconda3/lib/python3.7/site-packages (from ontobio->-r requirements.txt (line 1)) (0.1.7)\n",
      "Requirement already satisfied: click in /anaconda3/lib/python3.7/site-packages (from ontobio->-r requirements.txt (line 1)) (7.0)\n",
      "Requirement already satisfied: yamldown in /anaconda3/lib/python3.7/site-packages (from ontobio->-r requirements.txt (line 1)) (0.1.6)\n",
      "Requirement already satisfied: marshmallow==3.0.0b3 in /anaconda3/lib/python3.7/site-packages (from ontobio->-r requirements.txt (line 1)) (3.0.0b3)\n",
      "Requirement already satisfied: pyyaml>=4.2b1 in /anaconda3/lib/python3.7/site-packages (from ontobio->-r requirements.txt (line 1)) (4.2b4)\n",
      "Requirement already satisfied: pysolr in /anaconda3/lib/python3.7/site-packages (from ontobio->-r requirements.txt (line 1)) (3.8.1)\n",
      "Requirement already satisfied: networkx==2.2 in /anaconda3/lib/python3.7/site-packages (from ontobio->-r requirements.txt (line 1)) (2.2)\n",
      "Requirement already satisfied: python-dateutil>=2.5.0 in /anaconda3/lib/python3.7/site-packages (from pandas==0.23.4->-r requirements.txt (line 8)) (2.8.0)\n",
      "Requirement already satisfied: pytz>=2011k in /anaconda3/lib/python3.7/site-packages (from pandas==0.23.4->-r requirements.txt (line 8)) (2018.9)\n",
      "Requirement already satisfied: rdflib>=4.0 in /anaconda3/lib/python3.7/site-packages (from sparqlwrapper->ontobio->-r requirements.txt (line 1)) (4.2.2)\n",
      "Requirement already satisfied: watchdog in /anaconda3/lib/python3.7/site-packages (from cachier->ontobio->-r requirements.txt (line 1)) (0.9.0)\n",
      "Requirement already satisfied: portalocker in /anaconda3/lib/python3.7/site-packages (from cachier->ontobio->-r requirements.txt (line 1)) (1.4.0)\n",
      "Requirement already satisfied: urllib3<1.25,>=1.21.1 in /anaconda3/lib/python3.7/site-packages (from requests->ontobio->-r requirements.txt (line 1)) (1.24.1)\n",
      "Requirement already satisfied: chardet<3.1.0,>=3.0.2 in /anaconda3/lib/python3.7/site-packages (from requests->ontobio->-r requirements.txt (line 1)) (3.0.4)\n",
      "Requirement already satisfied: certifi>=2017.4.17 in /anaconda3/lib/python3.7/site-packages (from requests->ontobio->-r requirements.txt (line 1)) (2018.11.29)\n",
      "Requirement already satisfied: idna<2.9,>=2.5 in /anaconda3/lib/python3.7/site-packages (from requests->ontobio->-r requirements.txt (line 1)) (2.8)\n",
      "Requirement already satisfied: decorator>=4.3.0 in /anaconda3/lib/python3.7/site-packages (from networkx==2.2->ontobio->-r requirements.txt (line 1)) (4.3.2)\n",
      "Requirement already satisfied: six>=1.5 in /anaconda3/lib/python3.7/site-packages (from python-dateutil>=2.5.0->pandas==0.23.4->-r requirements.txt (line 8)) (1.12.0)\n",
      "Requirement already satisfied: isodate in /anaconda3/lib/python3.7/site-packages (from rdflib>=4.0->sparqlwrapper->ontobio->-r requirements.txt (line 1)) (0.6.0)\n",
      "Requirement already satisfied: pyparsing in /anaconda3/lib/python3.7/site-packages (from rdflib>=4.0->sparqlwrapper->ontobio->-r requirements.txt (line 1)) (2.3.1)\n",
      "Requirement already satisfied: argh>=0.24.1 in /anaconda3/lib/python3.7/site-packages (from watchdog->cachier->ontobio->-r requirements.txt (line 1)) (0.26.2)\n",
      "Requirement already satisfied: pathtools>=0.1.1 in /anaconda3/lib/python3.7/site-packages (from watchdog->cachier->ontobio->-r requirements.txt (line 1)) (0.1.2)\n"
     ]
    }
   ],
   "source": [
    "'''\n",
    "Assuming that we've checked out the NCATS mvp-module-library \n",
    "alongside our ncats-translator-workflows project, this should work\n",
    "'''\n",
    "import sys\n",
    "sys.path.append(\"../mvp-module-library\")\n",
    "#\n",
    "# Hack to get around problematic updating of distutils installed PyYAML and a slightly older pandas requiring a compatible numpy\n",
    "#\n",
    "# Step 1 - MANUALLY remove the PyYAML and numpy module directories from the your site-packages noted above, then...\n",
    "#\n",
    "# Step 2 - Install your system (required new PyYAML updated version should be installed alongside?)#\n",
    "!{sys.executable} -m pip install -r requirements.txt"
   ]
  },
  {
   "cell_type": "code",
   "execution_count": 9,
   "metadata": {
    "collapsed": true
   },
   "outputs": [],
   "source": [
    "from BioLink.biolink_client import BioLinkWrapper\n",
    "import pandas as pd"
   ]
  },
  {
   "cell_type": "markdown",
   "metadata": {},
   "source": [
    "# Workflow II Rare Disease Candidates"
   ]
  },
  {
   "cell_type": "code",
   "execution_count": 10,
   "metadata": {},
   "outputs": [
    {
     "name": "stdout",
     "output_type": "stream",
     "text": [
      "Mod O DiseaseGeneLookup metadata:\n",
      "{'data_type': 'disease',\n",
      " 'input_type': {'complexity': 'single', 'id_type': ['MONDO', 'DO', 'OMIM']},\n",
      " 'limit': None,\n",
      " 'output_type': {'complexity': 'set', 'id_type': 'HGNC'},\n",
      " 'predicate': 'blm:gene associated with condition',\n",
      " 'source': 'Monarch Biolink',\n",
      " 'taxon': 'human'}\n"
     ]
    }
   ],
   "source": [
    "from Modules.Mod0_lookups import LookUp\n",
    "\n",
    "# workflow input is a disease identifier\n",
    "lu = LookUp()"
   ]
  },
  {
   "cell_type": "code",
   "execution_count": 11,
   "metadata": {},
   "outputs": [
    {
     "name": "stdout",
     "output_type": "stream",
     "text": [
      "{'description': 'Von Hippel-Lindau disease (VHL) is a familial cancer '\n",
      "                'predisposition syndrome associated with a variety of '\n",
      "                'malignant and benign neoplasms, most frequently retinal, '\n",
      "                'cerebellar, and spinal hemangioblastoma, renal cell carcinoma '\n",
      "                '(RCC), and pheochromocytoma.',\n",
      " 'id': 'MONDO:0008667',\n",
      " 'label': 'von Hippel-Lindau disease'}\n"
     ]
    }
   ],
   "source": [
    "input_disease = 'MONDO:0008667' # Von Hippel Lindau (VHL)\n",
    "input_object = {\n",
    "    'input': input_disease,\n",
    "    'parameters': {\n",
    "        'taxon': 'human',\n",
    "        'threshold': None,\n",
    "    },\n",
    "}\n",
    "\n",
    "lu.load_input_object(input_object=input_object)\n",
    "input_object = lu.input_object"
   ]
  },
  {
   "cell_type": "code",
   "execution_count": 12,
   "metadata": {},
   "outputs": [
    {
     "data": {
      "text/html": [
       "<div>\n",
       "<style scoped>\n",
       "    .dataframe tbody tr th:only-of-type {\n",
       "        vertical-align: middle;\n",
       "    }\n",
       "\n",
       "    .dataframe tbody tr th {\n",
       "        vertical-align: top;\n",
       "    }\n",
       "\n",
       "    .dataframe thead th {\n",
       "        text-align: right;\n",
       "    }\n",
       "</style>\n",
       "<table border=\"1\" class=\"dataframe\">\n",
       "  <thead>\n",
       "    <tr style=\"text-align: right;\">\n",
       "      <th></th>\n",
       "      <th>input_id</th>\n",
       "      <th>input_symbol</th>\n",
       "      <th>hit_id</th>\n",
       "      <th>hit_symbol</th>\n",
       "      <th>relation</th>\n",
       "      <th>sources</th>\n",
       "      <th>modules</th>\n",
       "    </tr>\n",
       "  </thead>\n",
       "  <tbody>\n",
       "    <tr>\n",
       "      <th>0</th>\n",
       "      <td>MONDO:0008667</td>\n",
       "      <td>von Hippel-Lindau disease</td>\n",
       "      <td>HGNC:12687</td>\n",
       "      <td>VHL</td>\n",
       "      <td>pathogenic_for_condition</td>\n",
       "      <td>ctd, omim, orphane, clinvar</td>\n",
       "      <td>Mod0</td>\n",
       "    </tr>\n",
       "    <tr>\n",
       "      <th>1</th>\n",
       "      <td>MONDO:0008667</td>\n",
       "      <td>von Hippel-Lindau disease</td>\n",
       "      <td>HGNC:1582</td>\n",
       "      <td>CCND1</td>\n",
       "      <td>contributes to</td>\n",
       "      <td>omim, ctd</td>\n",
       "      <td>Mod0</td>\n",
       "    </tr>\n",
       "    <tr>\n",
       "      <th>2</th>\n",
       "      <td>MONDO:0008667</td>\n",
       "      <td>von Hippel-Lindau disease</td>\n",
       "      <td>HGNC:23057</td>\n",
       "      <td>BRK1</td>\n",
       "      <td>pathogenic_for_condition</td>\n",
       "      <td>clinvar</td>\n",
       "      <td>Mod0</td>\n",
       "    </tr>\n",
       "  </tbody>\n",
       "</table>\n",
       "</div>"
      ],
      "text/plain": [
       "        input_id               input_symbol      hit_id hit_symbol  \\\n",
       "0  MONDO:0008667  von Hippel-Lindau disease  HGNC:12687        VHL   \n",
       "1  MONDO:0008667  von Hippel-Lindau disease   HGNC:1582      CCND1   \n",
       "2  MONDO:0008667  von Hippel-Lindau disease  HGNC:23057       BRK1   \n",
       "\n",
       "                   relation                      sources modules  \n",
       "0  pathogenic_for_condition  ctd, omim, orphane, clinvar    Mod0  \n",
       "1            contributes to                    omim, ctd    Mod0  \n",
       "2  pathogenic_for_condition                      clinvar    Mod0  "
      ]
     },
     "execution_count": 12,
     "metadata": {},
     "output_type": "execute_result"
    }
   ],
   "source": [
    "# get genes associated with the disease from Biolink\n",
    "disease_associated_genes = lu.disease_geneset_lookup()\n",
    "# create list of gene curies for downstream module input\n",
    "input_curie_set = disease_associated_genes[['hit_id', 'hit_symbol']].to_dict(orient='records')\n",
    "# show the disease associated genes\n",
    "disease_associated_genes['modules'] = 'Mod0'\n",
    "disease_associated_genes"
   ]
  },
  {
   "cell_type": "markdown",
   "metadata": {},
   "source": [
    "# Mod1A Functional Similarity\n",
    "## Find similar genes based on GO functional annotations using OntoBio Jaccard similarity"
   ]
  },
  {
   "cell_type": "code",
   "execution_count": 14,
   "metadata": {
    "collapsed": true
   },
   "outputs": [],
   "source": [
    "from Modules.Mod1A_functional_sim import FunctionalSimilarity"
   ]
  },
  {
   "cell_type": "markdown",
   "metadata": {},
   "source": [
    "## Mod1A_human"
   ]
  },
  {
   "cell_type": "code",
   "execution_count": 15,
   "metadata": {},
   "outputs": [
    {
     "name": "stdout",
     "output_type": "stream",
     "text": [
      "Mod1A Functional Similarity metadata:\n",
      "{'input_type': {'complexity': 'set', 'data_type': 'gene', 'id_type': 'HGNC'},\n",
      " 'output_type': {'complexity': 'set', 'data_type': 'gene', 'id_type': 'HGNC'},\n",
      " 'predicate': ['blm:macromolecular machine to biological process association',\n",
      "               'macromolecular machine to molecular activity association'],\n",
      " 'source': 'Monarch Biolink'}\n"
     ]
    }
   ],
   "source": [
    "# Module specification\n",
    "mod1a_input_object_human = {\n",
    "    'input': input_curie_set,\n",
    "    'parameters': {\n",
    "        'taxon': 'human',\n",
    "        'threshold': 0.75,  # jaccard index threshold\n",
    "    },\n",
    "}\n",
    "    \n",
    "func_sim_human = FunctionalSimilarity()"
   ]
  },
  {
   "cell_type": "code",
   "execution_count": 16,
   "metadata": {
    "collapsed": true
   },
   "outputs": [],
   "source": [
    "func_sim_human.load_input_object(mod1a_input_object_human)\n",
    "func_sim_human.load_gene_set() "
   ]
  },
  {
   "cell_type": "code",
   "execution_count": 17,
   "metadata": {
    "collapsed": true
   },
   "outputs": [],
   "source": [
    "func_sim_human.load_associations()"
   ]
  },
  {
   "cell_type": "code",
   "execution_count": 18,
   "metadata": {
    "collapsed": true
   },
   "outputs": [],
   "source": [
    "mod1a_results = func_sim_human.compute_similarity()"
   ]
  },
  {
   "cell_type": "code",
   "execution_count": 24,
   "metadata": {},
   "outputs": [
    {
     "data": {
      "text/html": [
       "<div>\n",
       "<style scoped>\n",
       "    .dataframe tbody tr th:only-of-type {\n",
       "        vertical-align: middle;\n",
       "    }\n",
       "\n",
       "    .dataframe tbody tr th {\n",
       "        vertical-align: top;\n",
       "    }\n",
       "\n",
       "    .dataframe thead th {\n",
       "        text-align: right;\n",
       "    }\n",
       "</style>\n",
       "<table border=\"1\" class=\"dataframe\">\n",
       "  <thead>\n",
       "    <tr style=\"text-align: right;\">\n",
       "      <th></th>\n",
       "      <th>hit_id</th>\n",
       "      <th>hit_symbol</th>\n",
       "      <th>input_id</th>\n",
       "      <th>input_symbol</th>\n",
       "      <th>score</th>\n",
       "      <th>module</th>\n",
       "    </tr>\n",
       "  </thead>\n",
       "  <tbody>\n",
       "    <tr>\n",
       "      <th>3</th>\n",
       "      <td>HGNC:7666</td>\n",
       "      <td>NCKAP1</td>\n",
       "      <td>HGNC:23057</td>\n",
       "      <td>BRK1</td>\n",
       "      <td>0.835714</td>\n",
       "      <td>Mod1A</td>\n",
       "    </tr>\n",
       "  </tbody>\n",
       "</table>\n",
       "</div>"
      ],
      "text/plain": [
       "      hit_id hit_symbol    input_id input_symbol     score module\n",
       "3  HGNC:7666     NCKAP1  HGNC:23057         BRK1  0.835714  Mod1A"
      ]
     },
     "execution_count": 24,
     "metadata": {},
     "output_type": "execute_result"
    }
   ],
   "source": [
    "Mod1A_results_human = pd.DataFrame(mod1a_results)\n",
    "Mod1A_results_human = Mod1A_results_human[~Mod1A_results_human['hit_id'].isin(disease_associated_genes['hit_id'].tolist())].sort_values('score', ascending=False)\n",
    "Mod1A_results_human['module'] = 'Mod1A'\n",
    "Mod1A_results_human"
   ]
  },
  {
   "cell_type": "markdown",
   "metadata": {},
   "source": [
    "# MOD1B Phenotype Similarity\n",
    "## Find similar genes based on OwlSim calculated Phenotype Similarity"
   ]
  },
  {
   "cell_type": "markdown",
   "metadata": {},
   "source": [
    "## Mod1B Human"
   ]
  },
  {
   "cell_type": "code",
   "execution_count": 25,
   "metadata": {
    "collapsed": true
   },
   "outputs": [],
   "source": [
    "from Modules.Mod1B1_phenotype_similarity import PhenotypeSimilarity"
   ]
  },
  {
   "cell_type": "code",
   "execution_count": 26,
   "metadata": {},
   "outputs": [
    {
     "name": "stdout",
     "output_type": "stream",
     "text": [
      "Mod1B Phenotype Similarity metadata:\n",
      "{'input_type': {'complexity': 'set', 'data_type': 'gene', 'id_type': 'HGNC'},\n",
      " 'output_type': {'complexity': 'set', 'data_type': 'gene', 'id_type': 'HGNC'},\n",
      " 'predicate': ['blm:has phenotype'],\n",
      " 'source': 'Monarch Biolink'}\n"
     ]
    }
   ],
   "source": [
    "# Module specification\n",
    "mod1b_input_object_human = {\n",
    "    'input': input_curie_set,\n",
    "     'parameters': {\n",
    "        'taxon': 'human',\n",
    "        'threshold': .50,\n",
    "    },\n",
    "}\n",
    "\n",
    "\n",
    "pheno_sim_human = PhenotypeSimilarity()"
   ]
  },
  {
   "cell_type": "code",
   "execution_count": 27,
   "metadata": {
    "collapsed": true
   },
   "outputs": [],
   "source": [
    "pheno_sim_human.load_input_object(mod1b_input_object_human)\n",
    "pheno_sim_human.load_gene_set()"
   ]
  },
  {
   "cell_type": "code",
   "execution_count": 28,
   "metadata": {
    "collapsed": true
   },
   "outputs": [],
   "source": [
    "pheno_sim_human.load_associations()"
   ]
  },
  {
   "cell_type": "code",
   "execution_count": 29,
   "metadata": {
    "collapsed": true
   },
   "outputs": [],
   "source": [
    "mod1b_results = pheno_sim_human.compute_similarity()"
   ]
  },
  {
   "cell_type": "code",
   "execution_count": 30,
   "metadata": {},
   "outputs": [
    {
     "data": {
      "text/html": [
       "<div>\n",
       "<style scoped>\n",
       "    .dataframe tbody tr th:only-of-type {\n",
       "        vertical-align: middle;\n",
       "    }\n",
       "\n",
       "    .dataframe tbody tr th {\n",
       "        vertical-align: top;\n",
       "    }\n",
       "\n",
       "    .dataframe thead th {\n",
       "        text-align: right;\n",
       "    }\n",
       "</style>\n",
       "<table border=\"1\" class=\"dataframe\">\n",
       "  <thead>\n",
       "    <tr style=\"text-align: right;\">\n",
       "      <th></th>\n",
       "      <th>hit_id</th>\n",
       "      <th>hit_symbol</th>\n",
       "      <th>input_id</th>\n",
       "      <th>input_symbol</th>\n",
       "      <th>score</th>\n",
       "      <th>module</th>\n",
       "    </tr>\n",
       "  </thead>\n",
       "  <tbody>\n",
       "    <tr>\n",
       "      <th>7</th>\n",
       "      <td>HGNC:5477</td>\n",
       "      <td>IGH</td>\n",
       "      <td>HGNC:1582</td>\n",
       "      <td>CCND1</td>\n",
       "      <td>1.000000</td>\n",
       "      <td>Mod1B</td>\n",
       "    </tr>\n",
       "    <tr>\n",
       "      <th>5</th>\n",
       "      <td>HGNC:6913</td>\n",
       "      <td>MAX</td>\n",
       "      <td>HGNC:12687</td>\n",
       "      <td>VHL</td>\n",
       "      <td>0.647482</td>\n",
       "      <td>Mod1B</td>\n",
       "    </tr>\n",
       "    <tr>\n",
       "      <th>0</th>\n",
       "      <td>HGNC:26034</td>\n",
       "      <td>SDHAF2</td>\n",
       "      <td>HGNC:12687</td>\n",
       "      <td>VHL</td>\n",
       "      <td>0.629371</td>\n",
       "      <td>Mod1B</td>\n",
       "    </tr>\n",
       "    <tr>\n",
       "      <th>4</th>\n",
       "      <td>HGNC:6971</td>\n",
       "      <td>MDH2</td>\n",
       "      <td>HGNC:12687</td>\n",
       "      <td>VHL</td>\n",
       "      <td>0.572727</td>\n",
       "      <td>Mod1B</td>\n",
       "    </tr>\n",
       "    <tr>\n",
       "      <th>1</th>\n",
       "      <td>HGNC:16636</td>\n",
       "      <td>KIF1B</td>\n",
       "      <td>HGNC:12687</td>\n",
       "      <td>VHL</td>\n",
       "      <td>0.559557</td>\n",
       "      <td>Mod1B</td>\n",
       "    </tr>\n",
       "  </tbody>\n",
       "</table>\n",
       "</div>"
      ],
      "text/plain": [
       "       hit_id hit_symbol    input_id input_symbol     score module\n",
       "7   HGNC:5477        IGH   HGNC:1582        CCND1  1.000000  Mod1B\n",
       "5   HGNC:6913        MAX  HGNC:12687          VHL  0.647482  Mod1B\n",
       "0  HGNC:26034     SDHAF2  HGNC:12687          VHL  0.629371  Mod1B\n",
       "4   HGNC:6971       MDH2  HGNC:12687          VHL  0.572727  Mod1B\n",
       "1  HGNC:16636      KIF1B  HGNC:12687          VHL  0.559557  Mod1B"
      ]
     },
     "execution_count": 30,
     "metadata": {},
     "output_type": "execute_result"
    }
   ],
   "source": [
    "# compute phenotype similarity\n",
    "Mod1B_results = pd.DataFrame(mod1b_results)\n",
    "Mod1B_results = Mod1B_results[~Mod1B_results['hit_id'].isin(disease_associated_genes['hit_id'].tolist())].sort_values('score', ascending=False)\n",
    "Mod1B_results['module'] = 'Mod1B'\n",
    "Mod1B_results"
   ]
  },
  {
   "cell_type": "markdown",
   "metadata": {},
   "source": [
    "# Mod1E Protein Interaction"
   ]
  },
  {
   "cell_type": "markdown",
   "metadata": {},
   "source": [
    "## Mod1E Human"
   ]
  },
  {
   "cell_type": "code",
   "execution_count": 31,
   "metadata": {
    "collapsed": true
   },
   "outputs": [],
   "source": [
    "from Modules.Mod1E_interactions import GeneInteractions"
   ]
  },
  {
   "cell_type": "code",
   "execution_count": 32,
   "metadata": {},
   "outputs": [
    {
     "name": "stdout",
     "output_type": "stream",
     "text": [
      "Mod1E Interaction Network metadata:\n",
      "{'input_type': {'complexity': 'set', 'data_type': 'gene', 'id_type': 'HGNC'},\n",
      " 'output_type': {'complexity': 'set', 'data_type': 'gene', 'id_type': 'HGNC'},\n",
      " 'predicate': ['blm:interacts with'],\n",
      " 'source': 'Monarch Biolink'}\n"
     ]
    }
   ],
   "source": [
    "# Module specification\n",
    "mod1E_input_object_human = {\n",
    "    'input': input_curie_set,\n",
    "     'parameters': {\n",
    "        'taxon': 'human',\n",
    "        'threshold': None,\n",
    "    },\n",
    "}\n",
    "\n",
    "\n",
    "interactions_human = GeneInteractions()"
   ]
  },
  {
   "cell_type": "code",
   "execution_count": 33,
   "metadata": {
    "collapsed": true
   },
   "outputs": [],
   "source": [
    "interactions_human.load_input_object(mod1E_input_object_human)\n",
    "interactions_human.load_gene_set()"
   ]
  },
  {
   "cell_type": "code",
   "execution_count": 34,
   "metadata": {
    "collapsed": true
   },
   "outputs": [],
   "source": [
    "mod1e_results = interactions_human.get_interactions()"
   ]
  },
  {
   "cell_type": "code",
   "execution_count": 35,
   "metadata": {
    "collapsed": true
   },
   "outputs": [],
   "source": [
    "Mod1E_results_human = pd.DataFrame(mod1e_results)"
   ]
  },
  {
   "cell_type": "code",
   "execution_count": 36,
   "metadata": {
    "collapsed": true
   },
   "outputs": [],
   "source": [
    "counts = Mod1E_results_human['hit_symbol'].value_counts().rename_axis('unique_values').to_frame('counts').reset_index()\n",
    "high_counts = counts[counts['counts'] > 12]['unique_values'].tolist()"
   ]
  },
  {
   "cell_type": "code",
   "execution_count": 37,
   "metadata": {
    "collapsed": true
   },
   "outputs": [],
   "source": [
    "Mod1E_results_final = pd.DataFrame(Mod1E_results_human[Mod1E_results_human['hit_symbol'].isin(high_counts)])"
   ]
  },
  {
   "cell_type": "code",
   "execution_count": 38,
   "metadata": {
    "collapsed": true
   },
   "outputs": [],
   "source": [
    "Mod1E_results_final['module'] = 'Mod1E'"
   ]
  },
  {
   "cell_type": "code",
   "execution_count": 39,
   "metadata": {},
   "outputs": [
    {
     "data": {
      "text/html": [
       "<div>\n",
       "<style scoped>\n",
       "    .dataframe tbody tr th:only-of-type {\n",
       "        vertical-align: middle;\n",
       "    }\n",
       "\n",
       "    .dataframe tbody tr th {\n",
       "        vertical-align: top;\n",
       "    }\n",
       "\n",
       "    .dataframe thead th {\n",
       "        text-align: right;\n",
       "    }\n",
       "</style>\n",
       "<table border=\"1\" class=\"dataframe\">\n",
       "  <thead>\n",
       "    <tr style=\"text-align: right;\">\n",
       "      <th></th>\n",
       "      <th>hit_id</th>\n",
       "      <th>hit_symbol</th>\n",
       "      <th>input_id</th>\n",
       "      <th>input_symbol</th>\n",
       "      <th>score</th>\n",
       "      <th>module</th>\n",
       "    </tr>\n",
       "  </thead>\n",
       "  <tbody>\n",
       "  </tbody>\n",
       "</table>\n",
       "</div>"
      ],
      "text/plain": [
       "Empty DataFrame\n",
       "Columns: [hit_id, hit_symbol, input_id, input_symbol, score, module]\n",
       "Index: []"
      ]
     },
     "execution_count": 39,
     "metadata": {},
     "output_type": "execute_result"
    }
   ],
   "source": [
    "Mod1E_results_final.head()"
   ]
  },
  {
   "cell_type": "code",
   "execution_count": 40,
   "metadata": {
    "collapsed": true
   },
   "outputs": [],
   "source": [
    "all_results = pd.concat([Mod1A_results_human, Mod1B_results])"
   ]
  },
  {
   "cell_type": "code",
   "execution_count": 41,
   "metadata": {
    "collapsed": true
   },
   "outputs": [],
   "source": [
    "from Modules.StandardOutput import StandardOutput"
   ]
  },
  {
   "cell_type": "code",
   "execution_count": 42,
   "metadata": {
    "collapsed": true
   },
   "outputs": [],
   "source": [
    "so = StandardOutput(results=all_results.to_dict(orient='records'), input_object=input_object)"
   ]
  },
  {
   "cell_type": "code",
   "execution_count": 43,
   "metadata": {
    "collapsed": true
   },
   "outputs": [],
   "source": [
    "std_api_response_json = so.output_object"
   ]
  },
  {
   "cell_type": "code",
   "execution_count": 44,
   "metadata": {},
   "outputs": [
    {
     "data": {
      "text/plain": [
       "{'context': 'https://raw.githubusercontent.com/biolink/biolink-model/master/context.jsonld',\n",
       " 'datetime': '2019-02-19 08:16:22.141878',\n",
       " 'id': '',\n",
       " 'message': '6 results found',\n",
       " 'n_results': 6,\n",
       " 'original_question_text': 'What genes are functionally similar to genes associated with MONDO:0008667',\n",
       " 'query_type_id': 'query_id',\n",
       " 'reasoner_id': 'Orange',\n",
       " 'response_code': 'OK',\n",
       " 'restated_question_text': 'What genes are functionally similar to genes associated with MONDO:0008667',\n",
       " 'result_list': [{'confidence': 0.8357142857142857,\n",
       "   'essence': 'gene, functional similarity',\n",
       "   'id': 'Mod1A',\n",
       "   'reasoner_id': 'orange',\n",
       "   'result_graph': {'edge_list': [{'is_defined_by': 'orange',\n",
       "      'provided_by': 'BioLink',\n",
       "      'source_id': 'HGNC:23057',\n",
       "      'target_id': 'HGNC:7666',\n",
       "      'type': 'functially_similar_to'}],\n",
       "    'node_list': [{'description': 'gene',\n",
       "      'id': 'HGNC:7666',\n",
       "      'name': 'NCKAP1',\n",
       "      'type': 'gene',\n",
       "      'uri': ''},\n",
       "     {'description': 'gene',\n",
       "      'id': 'HGNC:23057',\n",
       "      'name': 'BRK1',\n",
       "      'type': 'gene',\n",
       "      'uri': ''}]},\n",
       "   'result_type': 'gene',\n",
       "   'row_data': ['hit_id,hit_symbol,input_id,input_symbol,score,module'],\n",
       "   'text': ''},\n",
       "  {'confidence': 1.0,\n",
       "   'essence': 'gene, phenotypic similarity',\n",
       "   'id': 'Mod1B',\n",
       "   'reasoner_id': 'orange',\n",
       "   'result_graph': {'edge_list': [{'is_defined_by': 'orange',\n",
       "      'provided_by': 'BioLink',\n",
       "      'source_id': 'HGNC:1582',\n",
       "      'target_id': 'HGNC:5477',\n",
       "      'type': 'phenotypically_similar_to'}],\n",
       "    'node_list': [{'description': 'gene',\n",
       "      'id': 'HGNC:5477',\n",
       "      'name': 'IGH',\n",
       "      'type': 'gene',\n",
       "      'uri': ''},\n",
       "     {'description': 'gene',\n",
       "      'id': 'HGNC:1582',\n",
       "      'name': 'CCND1',\n",
       "      'type': 'gene',\n",
       "      'uri': ''}]},\n",
       "   'result_type': 'gene',\n",
       "   'row_data': ['hit_id,hit_symbol,input_id,input_symbol,score,module'],\n",
       "   'text': ''},\n",
       "  {'confidence': 0.6474820143884892,\n",
       "   'essence': 'gene, phenotypic similarity',\n",
       "   'id': 'Mod1B',\n",
       "   'reasoner_id': 'orange',\n",
       "   'result_graph': {'edge_list': [{'is_defined_by': 'orange',\n",
       "      'provided_by': 'BioLink',\n",
       "      'source_id': 'HGNC:12687',\n",
       "      'target_id': 'HGNC:6913',\n",
       "      'type': 'phenotypically_similar_to'}],\n",
       "    'node_list': [{'description': 'gene',\n",
       "      'id': 'HGNC:6913',\n",
       "      'name': 'MAX',\n",
       "      'type': 'gene',\n",
       "      'uri': ''},\n",
       "     {'description': 'gene',\n",
       "      'id': 'HGNC:12687',\n",
       "      'name': 'VHL',\n",
       "      'type': 'gene',\n",
       "      'uri': ''}]},\n",
       "   'result_type': 'gene',\n",
       "   'row_data': ['hit_id,hit_symbol,input_id,input_symbol,score,module'],\n",
       "   'text': ''},\n",
       "  {'confidence': 0.6293706293706294,\n",
       "   'essence': 'gene, phenotypic similarity',\n",
       "   'id': 'Mod1B',\n",
       "   'reasoner_id': 'orange',\n",
       "   'result_graph': {'edge_list': [{'is_defined_by': 'orange',\n",
       "      'provided_by': 'BioLink',\n",
       "      'source_id': 'HGNC:12687',\n",
       "      'target_id': 'HGNC:26034',\n",
       "      'type': 'phenotypically_similar_to'}],\n",
       "    'node_list': [{'description': 'gene',\n",
       "      'id': 'HGNC:26034',\n",
       "      'name': 'SDHAF2',\n",
       "      'type': 'gene',\n",
       "      'uri': ''},\n",
       "     {'description': 'gene',\n",
       "      'id': 'HGNC:12687',\n",
       "      'name': 'VHL',\n",
       "      'type': 'gene',\n",
       "      'uri': ''}]},\n",
       "   'result_type': 'gene',\n",
       "   'row_data': ['hit_id,hit_symbol,input_id,input_symbol,score,module'],\n",
       "   'text': ''},\n",
       "  {'confidence': 0.5727272727272728,\n",
       "   'essence': 'gene, phenotypic similarity',\n",
       "   'id': 'Mod1B',\n",
       "   'reasoner_id': 'orange',\n",
       "   'result_graph': {'edge_list': [{'is_defined_by': 'orange',\n",
       "      'provided_by': 'BioLink',\n",
       "      'source_id': 'HGNC:12687',\n",
       "      'target_id': 'HGNC:6971',\n",
       "      'type': 'phenotypically_similar_to'}],\n",
       "    'node_list': [{'description': 'gene',\n",
       "      'id': 'HGNC:6971',\n",
       "      'name': 'MDH2',\n",
       "      'type': 'gene',\n",
       "      'uri': ''},\n",
       "     {'description': 'gene',\n",
       "      'id': 'HGNC:12687',\n",
       "      'name': 'VHL',\n",
       "      'type': 'gene',\n",
       "      'uri': ''}]},\n",
       "   'result_type': 'gene',\n",
       "   'row_data': ['hit_id,hit_symbol,input_id,input_symbol,score,module'],\n",
       "   'text': ''},\n",
       "  {'confidence': 0.5595567867036011,\n",
       "   'essence': 'gene, phenotypic similarity',\n",
       "   'id': 'Mod1B',\n",
       "   'reasoner_id': 'orange',\n",
       "   'result_graph': {'edge_list': [{'is_defined_by': 'orange',\n",
       "      'provided_by': 'BioLink',\n",
       "      'source_id': 'HGNC:12687',\n",
       "      'target_id': 'HGNC:16636',\n",
       "      'type': 'phenotypically_similar_to'}],\n",
       "    'node_list': [{'description': 'gene',\n",
       "      'id': 'HGNC:16636',\n",
       "      'name': 'KIF1B',\n",
       "      'type': 'gene',\n",
       "      'uri': ''},\n",
       "     {'description': 'gene',\n",
       "      'id': 'HGNC:12687',\n",
       "      'name': 'VHL',\n",
       "      'type': 'gene',\n",
       "      'uri': ''}]},\n",
       "   'result_type': 'gene',\n",
       "   'row_data': ['hit_id,hit_symbol,input_id,input_symbol,score,module'],\n",
       "   'text': ''}],\n",
       " 'schema_version': '0.8.0',\n",
       " 'table_column_names': ['input_id',\n",
       "  'input_symbol',\n",
       "  'result_id',\n",
       "  'result_symbol',\n",
       "  'score'],\n",
       " 'terms': {'disease': 'gene_id'},\n",
       " 'tool_version': 'orange',\n",
       " 'type': 'medical_translator_query_response'}"
      ]
     },
     "execution_count": 44,
     "metadata": {},
     "output_type": "execute_result"
    }
   ],
   "source": [
    "std_api_response_json"
   ]
  },
  {
   "cell_type": "code",
   "execution_count": 46,
   "metadata": {},
   "outputs": [
    {
     "name": "stdout",
     "output_type": "stream",
     "text": [
      "Please visit the following website: https://rtx.ncats.io/?r=1308\n"
     ]
    }
   ],
   "source": [
    "import requests\n",
    "\n",
    "# get the URL for these results displayed in the RTX UI\n",
    "RTX_UI_REQUEST_URL = \"https://rtx.ncats.io/api/rtx/v1/response/process\"\n",
    "to_post = {\"options\": [\"Store\", \"ReturnResponseId\"], \"responses\": [std_api_response_json]}\n",
    "ui_url = requests.post(RTX_UI_REQUEST_URL, json=to_post)\n",
    "print(\"Please visit the following website: https://rtx.ncats.io/?r=%s\" % ui_url.json()['response_id'])"
   ]
  },
  {
   "cell_type": "code",
   "execution_count": 47,
   "metadata": {},
   "outputs": [
    {
     "name": "stdout",
     "output_type": "stream",
     "text": [
      "Please visit the following link to retrieve JSON results: https://rtx.ncats.io/api/rtx/v1/response/1308\n"
     ]
    }
   ],
   "source": [
    "# Retrieving Details\n",
    "\n",
    "print(\"Please visit the following link to retrieve JSON results: https://rtx.ncats.io/api/rtx/v1/response/%s\" % ui_url.json()['response_id'])"
   ]
  },
  {
   "cell_type": "code",
   "execution_count": null,
   "metadata": {
    "collapsed": true
   },
   "outputs": [],
   "source": []
  }
 ],
 "metadata": {
  "kernelspec": {
   "display_name": "Python 3",
   "language": "python",
   "name": "python3"
  },
  "language_info": {
   "codemirror_mode": {
    "name": "ipython",
    "version": 3
   },
   "file_extension": ".py",
   "mimetype": "text/x-python",
   "name": "python",
   "nbconvert_exporter": "python",
   "pygments_lexer": "ipython3",
   "version": "3.6.3"
  }
 },
 "nbformat": 4,
 "nbformat_minor": 2
}
