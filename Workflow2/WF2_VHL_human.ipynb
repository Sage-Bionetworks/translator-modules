{
 "cells": [
  {
   "cell_type": "markdown",
   "metadata": {},
   "source": [
    "# Steps which may best happen before you run the workflow locally\n",
    "* be running python3.6+  (say, in a virtual enviroment)\n",
    "* you will need to have  `pip install jupyter` into the venv.\n",
    "* have cloned this repo using `--recursive`\n",
    "\n",
    "This workflow invokes \"owltools\" (https://github.com/owlcollab/owltools/wiki/Install-OWLTools)\n",
    "which is a 37M Java language tool. This needs has to be installed into a location visible to the Notebook (like ```${HOME}/bin```).  The 0.3.0 release application binary can be used (it is a bash wrapper around a Java JAR but your download tool (e.g. Mac OSX) may inadvertently give it the cryptic file extension '.dms' (No... it is **NOT** an Amiga DMS archive!)  Just rename the file (if necessary) to ```owltools```,  make it executable and move it into a suitable location like ```/anaconda3/bin``` or ```/usr/bin```.\n",
    "\n",
    "Alternately,\n",
    "\n",
    "```curl http://build.berkeleybop.org/userContent/owltools/owltools > ~/bin/owltools && chmod +x /usr/bin/owltools```\n",
    "\n",
    "should do the job."
   ]
  },
  {
   "cell_type": "markdown",
   "metadata": {},
   "source": [
    "# Install Python Dependencies (including the NCATS MVP Module Library)"
   ]
  },
  {
   "cell_type": "code",
   "execution_count": 1,
   "metadata": {},
   "outputs": [
    {
     "name": "stdout",
     "output_type": "stream",
     "text": [
      "Requirement already satisfied: ontobio in /anaconda3/lib/python3.7/site-packages (from -r requirements.txt (line 1)) (1.7.2)\n",
      "Requirement already satisfied: mygene==3.0.0 in /anaconda3/lib/python3.7/site-packages (from -r requirements.txt (line 2)) (3.0.0)\n",
      "Requirement already satisfied: numpy==1.16.1 in /anaconda3/lib/python3.7/site-packages (from -r requirements.txt (line 7)) (1.16.1)\n",
      "Requirement already satisfied: pandas==0.23.4 in /anaconda3/lib/python3.7/site-packages (from -r requirements.txt (line 8)) (0.23.4)\n",
      "Requirement already satisfied: typing>=0.0 in /anaconda3/lib/python3.7/site-packages (from -r requirements.txt (line 10)) (3.6.6)\n",
      "Requirement already satisfied: graphviz in /anaconda3/lib/python3.7/site-packages (from -r requirements.txt (line 11)) (0.10.1)\n",
      "Requirement already satisfied: cachier in /anaconda3/lib/python3.7/site-packages (from ontobio->-r requirements.txt (line 1)) (1.2.5)\n",
      "Requirement already satisfied: marshmallow==3.0.0b3 in /anaconda3/lib/python3.7/site-packages (from ontobio->-r requirements.txt (line 1)) (3.0.0b3)\n",
      "Requirement already satisfied: pysolr in /anaconda3/lib/python3.7/site-packages (from ontobio->-r requirements.txt (line 1)) (3.8.1)\n",
      "Requirement already satisfied: networkx==2.2 in /anaconda3/lib/python3.7/site-packages (from ontobio->-r requirements.txt (line 1)) (2.2)\n",
      "Requirement already satisfied: scipy in /anaconda3/lib/python3.7/site-packages (from ontobio->-r requirements.txt (line 1)) (1.2.1)\n",
      "Requirement already satisfied: sparqlwrapper in /anaconda3/lib/python3.7/site-packages (from ontobio->-r requirements.txt (line 1)) (1.8.2)\n",
      "Requirement already satisfied: jsobject in /anaconda3/lib/python3.7/site-packages (from ontobio->-r requirements.txt (line 1)) (0.10.2)\n",
      "Requirement already satisfied: yamldown in /anaconda3/lib/python3.7/site-packages (from ontobio->-r requirements.txt (line 1)) (0.1.6)\n",
      "Requirement already satisfied: requests in /anaconda3/lib/python3.7/site-packages (from ontobio->-r requirements.txt (line 1)) (2.21.0)\n",
      "Requirement already satisfied: prefixcommons in /anaconda3/lib/python3.7/site-packages (from ontobio->-r requirements.txt (line 1)) (0.1.7)\n",
      "Requirement already satisfied: click in /anaconda3/lib/python3.7/site-packages (from ontobio->-r requirements.txt (line 1)) (7.0)\n",
      "Requirement already satisfied: pyyaml>=4.2b1 in /anaconda3/lib/python3.7/site-packages (from ontobio->-r requirements.txt (line 1)) (4.2b4)\n",
      "Requirement already satisfied: python-dateutil>=2.5.0 in /anaconda3/lib/python3.7/site-packages (from pandas==0.23.4->-r requirements.txt (line 8)) (2.8.0)\n",
      "Requirement already satisfied: pytz>=2011k in /anaconda3/lib/python3.7/site-packages (from pandas==0.23.4->-r requirements.txt (line 8)) (2018.9)\n",
      "Requirement already satisfied: portalocker in /anaconda3/lib/python3.7/site-packages (from cachier->ontobio->-r requirements.txt (line 1)) (1.4.0)\n",
      "Requirement already satisfied: watchdog in /anaconda3/lib/python3.7/site-packages (from cachier->ontobio->-r requirements.txt (line 1)) (0.9.0)\n",
      "Requirement already satisfied: decorator>=4.3.0 in /anaconda3/lib/python3.7/site-packages (from networkx==2.2->ontobio->-r requirements.txt (line 1)) (4.3.2)\n",
      "Requirement already satisfied: rdflib>=4.0 in /anaconda3/lib/python3.7/site-packages (from sparqlwrapper->ontobio->-r requirements.txt (line 1)) (4.2.2)\n",
      "Requirement already satisfied: idna<2.9,>=2.5 in /anaconda3/lib/python3.7/site-packages (from requests->ontobio->-r requirements.txt (line 1)) (2.8)\n",
      "Requirement already satisfied: certifi>=2017.4.17 in /anaconda3/lib/python3.7/site-packages (from requests->ontobio->-r requirements.txt (line 1)) (2018.11.29)\n",
      "Requirement already satisfied: chardet<3.1.0,>=3.0.2 in /anaconda3/lib/python3.7/site-packages (from requests->ontobio->-r requirements.txt (line 1)) (3.0.4)\n",
      "Requirement already satisfied: urllib3<1.25,>=1.21.1 in /anaconda3/lib/python3.7/site-packages (from requests->ontobio->-r requirements.txt (line 1)) (1.24.1)\n",
      "Requirement already satisfied: six>=1.5 in /anaconda3/lib/python3.7/site-packages (from python-dateutil>=2.5.0->pandas==0.23.4->-r requirements.txt (line 8)) (1.12.0)\n",
      "Requirement already satisfied: pathtools>=0.1.1 in /anaconda3/lib/python3.7/site-packages (from watchdog->cachier->ontobio->-r requirements.txt (line 1)) (0.1.2)\n",
      "Requirement already satisfied: argh>=0.24.1 in /anaconda3/lib/python3.7/site-packages (from watchdog->cachier->ontobio->-r requirements.txt (line 1)) (0.26.2)\n",
      "Requirement already satisfied: isodate in /anaconda3/lib/python3.7/site-packages (from rdflib>=4.0->sparqlwrapper->ontobio->-r requirements.txt (line 1)) (0.6.0)\n",
      "Requirement already satisfied: pyparsing in /anaconda3/lib/python3.7/site-packages (from rdflib>=4.0->sparqlwrapper->ontobio->-r requirements.txt (line 1)) (2.3.1)\n"
     ]
    }
   ],
   "source": [
    "import sys\n",
    "import shutil\n",
    "\n",
    "pyptha = sys.executable.split('/')\n",
    "pyptha[-2]= 'lib'\n",
    "pypth='/'.join(pyptha) + '*/site-packages'\n",
    "\n",
    "# Hack to get around problematic updating of distutils installed PyYAML and a slightly older pandas requiring a compatible numpy\n",
    "shutil.rmtree(pypth + '/PyYAML*', ignore_errors=True)\n",
    "shutil.rmtree(pypth + '/numpy*', ignore_errors=True)\n",
    "\n",
    "sys.path.append(\"../mvp-module-library\")\n",
    "# Install pip requirements\n",
    "!{sys.executable} -m pip install -r requirements.txt"
   ]
  },
  {
   "cell_type": "code",
   "execution_count": 2,
   "metadata": {
    "collapsed": true
   },
   "outputs": [],
   "source": [
    "from BioLink.biolink_client import BioLinkWrapper\n",
    "import pandas as pd"
   ]
  },
  {
   "cell_type": "code",
   "execution_count": 3,
   "metadata": {},
   "outputs": [],
   "source": [
    "def output_file(tag,title,ext):\n",
    "    filename = title.replace(\" \",\"_\")\n",
    "    output = open(\"./Tidbit/\"+tag+\"/\"+filename+\".\"+ext,\"w+\")\n",
    "    output.info = { 'tag' : tag, 'title' : title }\n",
    "    return output\n",
    "\n",
    "def dump_html(output,body):\n",
    "    output.write(\"<html>\\n\")\n",
    "    output.write(\"<head></head>\\n\")\n",
    "    output.write(\"<body>\\n\")\n",
    "    output.write(\"<h1>\"+output.info['title']+\" for \"+output.info['tag']+\"</h1>\")\n",
    "    output.write(body.to_html())\n",
    "    output.write(\"</body>\")\n",
    "    output.write(\"</html>\")"
   ]
  },
  {
   "cell_type": "code",
   "execution_count": 4,
   "metadata": {},
   "outputs": [],
   "source": [
    "from Modules.Mod0_lookups import LookUp\n",
    "\n",
    "\n",
    "def diseaseLookUp(input_disease_symbol, input_disease_mondo):\n",
    "    \n",
    "    # workflow input is a disease identifier\n",
    "    lu = LookUp()\n",
    "    \n",
    "    input_object = {\n",
    "        'input': input_disease_mondo,\n",
    "        'parameters': {\n",
    "            'taxon': 'human',\n",
    "            'threshold': None,\n",
    "        },\n",
    "    }\n",
    "\n",
    "    lu.load_input_object(input_object=input_object)\n",
    "    \n",
    "    # input_object = lu.input_object # not sure why this extra assignment is necessary\n",
    "    # get genes associated with disease from Biolink\n",
    "    disease_associated_genes = lu.disease_geneset_lookup()\n",
    "    \n",
    "    # create list of gene curies for downstream module input\n",
    "    input_curie_set = disease_associated_genes[['hit_id', 'hit_symbol']].to_dict(orient='records')\n",
    "    \n",
    "    # show the disease associated genes\n",
    "    disease_associated_genes['modules'] = 'Mod0'\n",
    "    \n",
    "    # save the seed gene definition and gene list to a \n",
    "    # file under the \"Tidbit/<symbol>\" subdirectory\n",
    "    \n",
    "    output = output_file(input_disease_symbol,\"Definition\",\"json\")\n",
    "    lu.echo_input_object(output)\n",
    "    output.close()\n",
    "    \n",
    "    output = output_file(input_disease_symbol,\"Disease Associated Genes\",\"html\")\n",
    "    dump_html(output,disease_associated_genes)\n",
    "    output.close()\n",
    "    \n",
    "    # genes to investigate\n",
    "    return lu.input_object, disease_associated_genes, input_curie_set\n"
   ]
  },
  {
   "cell_type": "code",
   "execution_count": 5,
   "metadata": {},
   "outputs": [
    {
     "data": {
      "text/html": [
       "<div>\n",
       "<style scoped>\n",
       "    .dataframe tbody tr th:only-of-type {\n",
       "        vertical-align: middle;\n",
       "    }\n",
       "\n",
       "    .dataframe tbody tr th {\n",
       "        vertical-align: top;\n",
       "    }\n",
       "\n",
       "    .dataframe thead th {\n",
       "        text-align: right;\n",
       "    }\n",
       "</style>\n",
       "<table border=\"1\" class=\"dataframe\">\n",
       "  <thead>\n",
       "    <tr style=\"text-align: right;\">\n",
       "      <th></th>\n",
       "      <th>input_id</th>\n",
       "      <th>input_symbol</th>\n",
       "      <th>hit_id</th>\n",
       "      <th>hit_symbol</th>\n",
       "      <th>relation</th>\n",
       "      <th>sources</th>\n",
       "      <th>modules</th>\n",
       "    </tr>\n",
       "  </thead>\n",
       "  <tbody>\n",
       "    <tr>\n",
       "      <th>0</th>\n",
       "      <td>MONDO:0008667</td>\n",
       "      <td>von Hippel-Lindau disease</td>\n",
       "      <td>HGNC:12687</td>\n",
       "      <td>VHL</td>\n",
       "      <td>pathogenic_for_condition</td>\n",
       "      <td>ctd, omim, orphane, clinvar</td>\n",
       "      <td>Mod0</td>\n",
       "    </tr>\n",
       "    <tr>\n",
       "      <th>1</th>\n",
       "      <td>MONDO:0008667</td>\n",
       "      <td>von Hippel-Lindau disease</td>\n",
       "      <td>HGNC:1582</td>\n",
       "      <td>CCND1</td>\n",
       "      <td>contributes to</td>\n",
       "      <td>omim, ctd</td>\n",
       "      <td>Mod0</td>\n",
       "    </tr>\n",
       "    <tr>\n",
       "      <th>2</th>\n",
       "      <td>MONDO:0008667</td>\n",
       "      <td>von Hippel-Lindau disease</td>\n",
       "      <td>HGNC:23057</td>\n",
       "      <td>BRK1</td>\n",
       "      <td>pathogenic_for_condition</td>\n",
       "      <td>clinvar</td>\n",
       "      <td>Mod0</td>\n",
       "    </tr>\n",
       "  </tbody>\n",
       "</table>\n",
       "</div>"
      ],
      "text/plain": [
       "        input_id               input_symbol      hit_id hit_symbol  \\\n",
       "0  MONDO:0008667  von Hippel-Lindau disease  HGNC:12687        VHL   \n",
       "1  MONDO:0008667  von Hippel-Lindau disease   HGNC:1582      CCND1   \n",
       "2  MONDO:0008667  von Hippel-Lindau disease  HGNC:23057       BRK1   \n",
       "\n",
       "                   relation                      sources modules  \n",
       "0  pathogenic_for_condition  ctd, omim, orphane, clinvar    Mod0  \n",
       "1            contributes to                    omim, ctd    Mod0  \n",
       "2  pathogenic_for_condition                      clinvar    Mod0  "
      ]
     },
     "execution_count": 5,
     "metadata": {},
     "output_type": "execute_result"
    }
   ],
   "source": [
    "input_disease_symbol = \"VHL\"\n",
    "input_disease_mondo = 'MONDO:0008667'\n",
    "\n",
    "input_object, disease_associated_genes, input_curie_set = diseaseLookUp(input_disease_symbol, input_disease_mondo)\n",
    "\n",
    "#  Echo to console\n",
    "disease_associated_genes"
   ]
  },
  {
   "cell_type": "code",
   "execution_count": 6,
   "metadata": {},
   "outputs": [],
   "source": [
    "def load_genes(model,data,threshold):\n",
    "    \n",
    "    # Module specification\n",
    "    inputParameters = {\n",
    "        'input': data,\n",
    "        'parameters': {\n",
    "            'taxon': 'human',\n",
    "            'threshold': threshold,\n",
    "        },\n",
    "    }\n",
    "    \n",
    "    # Load the computation parameters\n",
    "    model.load_input_object(inputParameters)\n",
    "    model.load_gene_set()\n",
    "    \n",
    "def similarity( model, data, threshold, input_disease_symbol, module, title ):\n",
    "\n",
    "    # Initialize\n",
    "    load_genes(model,data,threshold)\n",
    "    model.load_associations()\n",
    "    \n",
    "    # Perform the comparison\n",
    "    results = model.compute_similarity()\n",
    "    \n",
    "    # Process the results\n",
    "    results_table = pd.DataFrame(results)\n",
    "    results_table = results_table[~results_table['hit_id'].isin(disease_associated_genes['hit_id'].tolist())].sort_values('score', ascending=False)\n",
    "    results_table['module'] = module\n",
    "    \n",
    "    # save the gene list to a file under the \"Tidbit\" subdirectory\n",
    "    output = output_file(input_disease_symbol,title,\"html\")\n",
    "    dump_html(results_table)\n",
    "    \n",
    "    return results_table"
   ]
  },
  {
   "cell_type": "markdown",
   "metadata": {},
   "source": [
    "# Mod1A Functional Similarity\n",
    "## Find similar genes based on GO functional annotations using OntoBio Jaccard similarity"
   ]
  },
  {
   "cell_type": "code",
   "execution_count": 7,
   "metadata": {
    "collapsed": true
   },
   "outputs": [
    {
     "ename": "TypeError",
     "evalue": "dump_html() missing 1 required positional argument: 'body'",
     "output_type": "error",
     "traceback": [
      "\u001b[0;31m---------------------------------------------------------------------------\u001b[0m",
      "\u001b[0;31mTypeError\u001b[0m                                 Traceback (most recent call last)",
      "\u001b[0;32m<ipython-input-7-7d6929d078d9>\u001b[0m in \u001b[0;36m<module>\u001b[0;34m\u001b[0m\n\u001b[1;32m      4\u001b[0m \u001b[0;34m\u001b[0m\u001b[0m\n\u001b[1;32m      5\u001b[0m \u001b[0;31m# Using Jaccard index threshold\u001b[0m\u001b[0;34m\u001b[0m\u001b[0;34m\u001b[0m\u001b[0;34m\u001b[0m\u001b[0m\n\u001b[0;32m----> 6\u001b[0;31m \u001b[0mMod1A_results\u001b[0m \u001b[0;34m=\u001b[0m \u001b[0msimilarity\u001b[0m\u001b[0;34m(\u001b[0m \u001b[0mfunc_sim_human\u001b[0m\u001b[0;34m,\u001b[0m \u001b[0minput_curie_set\u001b[0m\u001b[0;34m,\u001b[0m \u001b[0;36m0.75\u001b[0m\u001b[0;34m,\u001b[0m \u001b[0minput_disease_symbol\u001b[0m\u001b[0;34m,\u001b[0m \u001b[0;34m'Mod1A'\u001b[0m\u001b[0;34m,\u001b[0m \u001b[0;34m\"Functionally Similar Genes\"\u001b[0m \u001b[0;34m)\u001b[0m\u001b[0;34m\u001b[0m\u001b[0;34m\u001b[0m\u001b[0m\n\u001b[0m\u001b[1;32m      7\u001b[0m \u001b[0;34m\u001b[0m\u001b[0m\n\u001b[1;32m      8\u001b[0m \u001b[0mMod1A_results\u001b[0m\u001b[0;34m\u001b[0m\u001b[0;34m\u001b[0m\u001b[0m\n",
      "\u001b[0;32m<ipython-input-6-8da427085aaa>\u001b[0m in \u001b[0;36msimilarity\u001b[0;34m(model, data, threshold, input_disease_symbol, module, title)\u001b[0m\n\u001b[1;32m     30\u001b[0m     \u001b[0;31m# save the gene list to a file under the \"Tidbit\" subdirectory\u001b[0m\u001b[0;34m\u001b[0m\u001b[0;34m\u001b[0m\u001b[0;34m\u001b[0m\u001b[0m\n\u001b[1;32m     31\u001b[0m     \u001b[0moutput\u001b[0m \u001b[0;34m=\u001b[0m \u001b[0moutput_file\u001b[0m\u001b[0;34m(\u001b[0m\u001b[0minput_disease_symbol\u001b[0m\u001b[0;34m,\u001b[0m\u001b[0mtitle\u001b[0m\u001b[0;34m,\u001b[0m\u001b[0;34m\"html\"\u001b[0m\u001b[0;34m)\u001b[0m\u001b[0;34m\u001b[0m\u001b[0;34m\u001b[0m\u001b[0m\n\u001b[0;32m---> 32\u001b[0;31m     \u001b[0mdump_html\u001b[0m\u001b[0;34m(\u001b[0m\u001b[0mresults_table\u001b[0m\u001b[0;34m)\u001b[0m\u001b[0;34m\u001b[0m\u001b[0;34m\u001b[0m\u001b[0m\n\u001b[0m\u001b[1;32m     33\u001b[0m \u001b[0;34m\u001b[0m\u001b[0m\n\u001b[1;32m     34\u001b[0m     \u001b[0;32mreturn\u001b[0m \u001b[0mresults_table\u001b[0m\u001b[0;34m\u001b[0m\u001b[0;34m\u001b[0m\u001b[0m\n",
      "\u001b[0;31mTypeError\u001b[0m: dump_html() missing 1 required positional argument: 'body'"
     ]
    }
   ],
   "source": [
    "from Modules.Mod1A_functional_sim import FunctionalSimilarity\n",
    "\n",
    "func_sim_human = FunctionalSimilarity()\n",
    "\n",
    "# Using Jaccard index threshold\n",
    "Mod1A_results = similarity( func_sim_human, input_curie_set, 0.75, input_disease_symbol, 'Mod1A', \"Functionally Similar Genes\" )\n",
    "\n",
    "Mod1A_results"
   ]
  },
  {
   "cell_type": "markdown",
   "metadata": {},
   "source": [
    "# MOD1B Phenotype Similarity\n",
    "## Find similar genes based on OwlSim calculated Phenotype Similarity"
   ]
  },
  {
   "cell_type": "markdown",
   "metadata": {},
   "source": [
    "## Mod1B Human"
   ]
  },
  {
   "cell_type": "code",
   "execution_count": 8,
   "metadata": {
    "collapsed": true
   },
   "outputs": [
    {
     "ename": "TypeError",
     "evalue": "__init__() got an unexpected keyword argument 'verbose'",
     "output_type": "error",
     "traceback": [
      "\u001b[0;31m---------------------------------------------------------------------------\u001b[0m",
      "\u001b[0;31mTypeError\u001b[0m                                 Traceback (most recent call last)",
      "\u001b[0;32m<ipython-input-8-2053c4eb8f45>\u001b[0m in \u001b[0;36m<module>\u001b[0;34m\u001b[0m\n\u001b[1;32m      1\u001b[0m \u001b[0;32mfrom\u001b[0m \u001b[0mModules\u001b[0m\u001b[0;34m.\u001b[0m\u001b[0mMod1B1_phenotype_similarity\u001b[0m \u001b[0;32mimport\u001b[0m \u001b[0mPhenotypeSimilarity\u001b[0m\u001b[0;34m\u001b[0m\u001b[0;34m\u001b[0m\u001b[0m\n\u001b[1;32m      2\u001b[0m \u001b[0;34m\u001b[0m\u001b[0m\n\u001b[0;32m----> 3\u001b[0;31m \u001b[0mpheno_sim_human\u001b[0m \u001b[0;34m=\u001b[0m \u001b[0mPhenotypeSimilarity\u001b[0m\u001b[0;34m(\u001b[0m\u001b[0mverbose\u001b[0m\u001b[0;34m=\u001b[0m\u001b[0;32mFalse\u001b[0m\u001b[0;34m)\u001b[0m\u001b[0;34m\u001b[0m\u001b[0;34m\u001b[0m\u001b[0m\n\u001b[0m\u001b[1;32m      4\u001b[0m \u001b[0;34m\u001b[0m\u001b[0m\n\u001b[1;32m      5\u001b[0m \u001b[0;31m# Using OwlSim calculation threshold\u001b[0m\u001b[0;34m\u001b[0m\u001b[0;34m\u001b[0m\u001b[0;34m\u001b[0m\u001b[0m\n",
      "\u001b[0;31mTypeError\u001b[0m: __init__() got an unexpected keyword argument 'verbose'"
     ]
    }
   ],
   "source": [
    "from Modules.Mod1B1_phenotype_similarity import PhenotypeSimilarity\n",
    "\n",
    "pheno_sim_human = PhenotypeSimilarity()\n",
    "\n",
    "# Using OwlSim calculation threshold\n",
    "Mod1B_results = similarity( pheno_sim_human, input_curie_set, 0.50, input_disease_symbol, 'Mod1B', \"Phenotypically Similar Genes\" )\n",
    "\n",
    "Mod1B_results"
   ]
  },
  {
   "cell_type": "markdown",
   "metadata": {},
   "source": [
    "# Mod1E Protein Interaction"
   ]
  },
  {
   "cell_type": "code",
   "execution_count": null,
   "metadata": {},
   "outputs": [],
   "source": [
    "def gene_interactions( model, data, input_disease_symbol, module, title ):\n",
    "    \n",
    "    # Initialize\n",
    "    load_genes(model,data,None)\n",
    "        \n",
    "    results = model.get_interactions()\n",
    "    \n",
    "    results_table = pd.DataFrame(results)\n",
    "    \n",
    "    counts = results_table['hit_symbol'].value_counts().rename_axis('unique_values').to_frame('counts').reset_index()\n",
    "    high_counts = counts[counts['counts'] > 12]['unique_values'].tolist()\n",
    "    \n",
    "    final_results_table = pd.DataFrame(result_tables[result_tables['hit_symbol'].isin(high_counts)])\n",
    "    \n",
    "    final_results_table['module'] = module\n",
    "    \n",
    "    # save the gene list to a file under the \"Tidbit\" subdirectory\n",
    "    dump(final_results_table.head(),input_disease_symbol,title)\n",
    "    \n",
    "    # Echo to console\n",
    "\n",
    "    final_results_table.head()  "
   ]
  },
  {
   "cell_type": "markdown",
   "metadata": {},
   "source": [
    "## Mod1E Human"
   ]
  },
  {
   "cell_type": "code",
   "execution_count": null,
   "metadata": {
    "collapsed": true
   },
   "outputs": [],
   "source": [
    "from Modules.Mod1E_interactions import GeneInteractions\n",
    "\n",
    "interactions_human = GeneInteractions()\n",
    "\n",
    "gene_interactions( interactions_human, input_curie_set, input_disease_symbol, 'Mod1E', \"Gene Interactions\" )"
   ]
  },
  {
   "cell_type": "markdown",
   "metadata": {},
   "source": [
    "# Publish Aggregate Results"
   ]
  },
  {
   "cell_type": "code",
   "execution_count": null,
   "metadata": {
    "collapsed": true
   },
   "outputs": [],
   "source": [
    "from Modules.StandardOutput import StandardOutput\n",
    "\n",
    "def aggegrate_results(resultsA,resultsB):\n",
    "    \n",
    "    # aggregate results\n",
    "    all_results = pd.concat([resultsA,resultsB])\n",
    "    \n",
    "    so = StandardOutput(results=all_results.to_dict(orient='records'), input_object=input_object)\n",
    "    std_api_response_json = so.output_object\n",
    "    std_api_response_json\n",
    "    \n",
    "    return std_api_response_json\n",
    "\n",
    "std_api_response_json = aggegrate_results(Mod1A_results_human, Mod1B_results)"
   ]
  },
  {
   "cell_type": "code",
   "execution_count": null,
   "metadata": {},
   "outputs": [],
   "source": [
    "import requests\n",
    "\n",
    "def publish_to_rtx(std_api_response_json):\n",
    "    \n",
    "    # get the URL for these results displayed in the RTX UI\n",
    "    RTX_UI_REQUEST_URL = \"https://rtx.ncats.io/api/rtx/v1/response/process\"\n",
    "    to_post = {\"options\": [\"Store\", \"ReturnResponseId\"], \"responses\": [std_api_response_json]}\n",
    "    ui_url = requests.post(RTX_UI_REQUEST_URL, json=to_post)\n",
    "    print(\"Please visit the following website: https://rtx.ncats.io/?r=%s\" % ui_url.json()['response_id'])\n",
    "    \n",
    "    # Retrieving Details\n",
    "\n",
    "    print(\"Please visit the following link to retrieve JSON results: https://rtx.ncats.io/api/rtx/v1/response/%s\" % ui_url.json()['response_id'])\n",
    "\n",
    "publish_to_rtx(std_api_response_json)"
   ]
  },
  {
   "cell_type": "code",
   "execution_count": null,
   "metadata": {},
   "outputs": [],
   "source": [
    "# Read a table of diseases and process\n",
    "with open(\"diseases.tsv\",\"r\") as diseases:\n",
    "    for entry in diseases.readlines():\n",
    "        field = entry.split(\"\\t\")\n",
    "        continue if field[1] == \"Disease\"\n",
    "        \n",
    "        input_disease_symbol = field[1]\n",
    "        input_disease_mondo  = field[3]\n",
    "        \n",
    "        # process\n",
    "        "
   ]
  }
 ],
 "metadata": {
  "kernelspec": {
   "display_name": "Python 3",
   "language": "python",
   "name": "python3"
  },
  "language_info": {
   "codemirror_mode": {
    "name": "ipython",
    "version": 3
   },
   "file_extension": ".py",
   "mimetype": "text/x-python",
   "name": "python",
   "nbconvert_exporter": "python",
   "pygments_lexer": "ipython3",
   "version": "3.7.1"
  }
 },
 "nbformat": 4,
 "nbformat_minor": 2
}
