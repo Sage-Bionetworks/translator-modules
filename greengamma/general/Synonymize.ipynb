{
 "cells": [
  {
   "cell_type": "markdown",
   "metadata": {
    "deletable": true,
    "editable": true
   },
   "source": [
    "# Using ROBOKOP's synonymizer service"
   ]
  },
  {
   "cell_type": "markdown",
   "metadata": {
    "deletable": true,
    "editable": true
   },
   "source": [
    "Entities in translator are references using URIs. Usually, these are Compact URIs (Curies).   The tricky and annoying thing is that there are many different Curies all pointing at the same real entity.  A disease may have a curie for a DOID or a MONDO identifier, or a UMLS, and so on.  The synonymizer service takes in a curie and returns the list of other identifiers for that entity."
   ]
  },
  {
   "cell_type": "code",
   "execution_count": 1,
   "metadata": {
    "collapsed": true,
    "deletable": true,
    "editable": true
   },
   "outputs": [],
   "source": [
    "robokop_server = 'robokop.renci.org'"
   ]
  },
  {
   "cell_type": "code",
   "execution_count": 2,
   "metadata": {
    "collapsed": true,
    "deletable": true,
    "editable": true
   },
   "outputs": [],
   "source": [
    "import requests\n",
    "import json\n",
    "import pandas as pd"
   ]
  },
  {
   "cell_type": "markdown",
   "metadata": {
    "deletable": true,
    "editable": true
   },
   "source": [
    "The following python function shows how to call the ROBOKOP synonymizer service.  It takes an identifier, and a biolink model type name."
   ]
  },
  {
   "cell_type": "code",
   "execution_count": 3,
   "metadata": {
    "collapsed": true,
    "deletable": true,
    "editable": true
   },
   "outputs": [],
   "source": [
    "def synonymize(nodetype,identifier):\n",
    "    url=f'http://{robokop_server}:6010/api/synonymize/{identifier}/{nodetype}/'\n",
    "    response = requests.post(url)\n",
    "    print( f'Return Status: {response.status_code}' )\n",
    "    if response.status_code == 200:\n",
    "        return response.json()\n",
    "    return []"
   ]
  },
  {
   "cell_type": "markdown",
   "metadata": {
    "deletable": true,
    "editable": true
   },
   "source": [
    "## Basic Usage"
   ]
  },
  {
   "cell_type": "markdown",
   "metadata": {
    "deletable": true,
    "editable": true
   },
   "source": [
    "In this example, we have the `disease` Fanconi Anemia defined by the curie identifier `MONDO:0019391`.  We want to know the `phenotypic_feature`s that are associated with it.  We can call the function above like this:"
   ]
  },
  {
   "cell_type": "code",
   "execution_count": 4,
   "metadata": {
    "collapsed": false,
    "deletable": true,
    "editable": true
   },
   "outputs": [
    {
     "name": "stdout",
     "output_type": "stream",
     "text": [
      "Return Status: 200\n"
     ]
    },
    {
     "data": {
      "text/plain": [
       "{'id': 'MONDO:0019391',\n",
       " 'name': '',\n",
       " 'synonyms': [['MEDDRA:10055206', ''],\n",
       "  ['DOID:13636', ''],\n",
       "  ['UMLS:C0015625', ''],\n",
       "  ['MEDDRA:10016218', ''],\n",
       "  ['MESH:D005199', ''],\n",
       "  ['MONDO:0019391', 'Fanconi anemia'],\n",
       "  ['ORPHANET:84', '']],\n",
       " 'type': 'disease'}"
      ]
     },
     "execution_count": 4,
     "metadata": {},
     "output_type": "execute_result"
    }
   ],
   "source": [
    "other_fanconi_identifiers = synonymize('disease', 'MONDO:0019391')\n",
    "other_fanconi_identifiers"
   ]
  },
  {
   "cell_type": "markdown",
   "metadata": {
    "deletable": true,
    "editable": true
   },
   "source": [
    "Note that the object returned contains a list of synonyms. Each synonym is a list containing an identifier and possibly a name (though in many cases, the name string is empty.)"
   ]
  },
  {
   "cell_type": "code",
   "execution_count": 5,
   "metadata": {
    "collapsed": false,
    "deletable": true,
    "editable": true
   },
   "outputs": [
    {
     "name": "stdout",
     "output_type": "stream",
     "text": [
      "Return Status: 200\n"
     ]
    },
    {
     "data": {
      "text/plain": [
       "{'id': 'CHEBI:27732',\n",
       " 'name': '',\n",
       " 'synonyms': [['DRUGBANK:DB00201', ''],\n",
       "  ['HMDB:HMDB0001847', ''],\n",
       "  ['KEGG.COMPOUND:C07481', ''],\n",
       "  ['UNII:3G6A5W338E', ''],\n",
       "  ['CHEMBL:CHEMBL113', 'CAFFEINE'],\n",
       "  ['PUBCHEM:2519', ''],\n",
       "  ['MESH:D002110', 'Caffeine'],\n",
       "  ['CHEBI:27732', 'caffeine']],\n",
       " 'type': 'chemical_substance'}"
      ]
     },
     "execution_count": 5,
     "metadata": {},
     "output_type": "execute_result"
    }
   ],
   "source": [
    "other_caffeine_identifiers = synonymize('chemical_substance', 'CHEBI:27732')\n",
    "other_caffeine_identifiers"
   ]
  },
  {
   "cell_type": "code",
   "execution_count": 6,
   "metadata": {
    "collapsed": false,
    "deletable": true,
    "editable": true
   },
   "outputs": [
    {
     "name": "stdout",
     "output_type": "stream",
     "text": [
      "Return Status: 200\n"
     ]
    },
    {
     "data": {
      "text/plain": [
       "{'id': 'HGNC:6342',\n",
       " 'name': '',\n",
       " 'synonyms': [['UniProtKB:A0A0U2N547', ''],\n",
       "  ['HGNC:6342', 'KIT'],\n",
       "  ['UniProtKB:A0A024RDA0', ''],\n",
       "  ['UniProtKB:P10721', 'KIT'],\n",
       "  ['ENSEMBL:ENSG00000157404', 'KIT'],\n",
       "  ['NCBIGENE:3815', 'KIT']],\n",
       " 'type': 'gene'}"
      ]
     },
     "execution_count": 6,
     "metadata": {},
     "output_type": "execute_result"
    }
   ],
   "source": [
    "other_gene_identifiers = synonymize('gene', 'HGNC:6342')\n",
    "other_gene_identifiers"
   ]
  },
  {
   "cell_type": "markdown",
   "metadata": {
    "deletable": true,
    "editable": true
   },
   "source": [
    "## Biolink-model hierarchy: The simple case"
   ]
  },
  {
   "cell_type": "markdown",
   "metadata": {
    "deletable": true,
    "editable": true
   },
   "source": [
    "Superclasses and subclasses of biolink model types are useable.  So we can use `metabolite` instead of `chemical_substance`."
   ]
  },
  {
   "cell_type": "code",
   "execution_count": 7,
   "metadata": {
    "collapsed": false,
    "deletable": true,
    "editable": true
   },
   "outputs": [
    {
     "name": "stdout",
     "output_type": "stream",
     "text": [
      "Return Status: 200\n"
     ]
    },
    {
     "data": {
      "text/plain": [
       "{'id': 'CHEBI:27732',\n",
       " 'name': '',\n",
       " 'synonyms': [['DRUGBANK:DB00201', ''],\n",
       "  ['HMDB:HMDB0001847', ''],\n",
       "  ['KEGG.COMPOUND:C07481', ''],\n",
       "  ['UNII:3G6A5W338E', ''],\n",
       "  ['CHEMBL:CHEMBL113', 'CAFFEINE'],\n",
       "  ['PUBCHEM:2519', ''],\n",
       "  ['MESH:D002110', 'Caffeine'],\n",
       "  ['CHEBI:27732', 'caffeine']],\n",
       " 'type': 'metabolite'}"
      ]
     },
     "execution_count": 7,
     "metadata": {},
     "output_type": "execute_result"
    }
   ],
   "source": [
    "synonymize('metabolite', 'CHEBI:27732')"
   ]
  },
  {
   "cell_type": "markdown",
   "metadata": {
    "deletable": true,
    "editable": true
   },
   "source": [
    "We can also use the superclass `disease_or_phenotypic_feature` instead of `disease`."
   ]
  },
  {
   "cell_type": "code",
   "execution_count": 8,
   "metadata": {
    "collapsed": false,
    "deletable": true,
    "editable": true
   },
   "outputs": [
    {
     "name": "stdout",
     "output_type": "stream",
     "text": [
      "Return Status: 200\n"
     ]
    },
    {
     "data": {
      "text/plain": [
       "{'id': 'MONDO:0019391',\n",
       " 'name': '',\n",
       " 'synonyms': [['MEDDRA:10055206', ''],\n",
       "  ['DOID:13636', ''],\n",
       "  ['UMLS:C0015625', ''],\n",
       "  ['NCIT:C62505', ''],\n",
       "  ['MEDDRA:10016218', ''],\n",
       "  ['MESH:D005199', ''],\n",
       "  ['MONDO:0019391', 'Fanconi anemia'],\n",
       "  ['ORPHANET:84', '']],\n",
       " 'type': 'disease_or_phenotypic_feature'}"
      ]
     },
     "execution_count": 8,
     "metadata": {},
     "output_type": "execute_result"
    }
   ],
   "source": [
    "synonymize('disease_or_phenotypic_feature', 'MONDO:0019391')"
   ]
  },
  {
   "cell_type": "markdown",
   "metadata": {
    "deletable": true,
    "editable": true
   },
   "source": [
    "## Biolink Model types: a more complicated case"
   ]
  },
  {
   "cell_type": "markdown",
   "metadata": {
    "deletable": true,
    "editable": true
   },
   "source": [
    "Some care needs to be applied by the user here, because the results that one gets can be type dependent.  For instance, consider ALS, which has a `disease` identifier in MONDO, and a `phenotypic_feature` identifier in HPO.\n",
    "In biolink model, these are separate entities:"
   ]
  },
  {
   "cell_type": "code",
   "execution_count": 9,
   "metadata": {
    "collapsed": false,
    "deletable": true,
    "editable": true
   },
   "outputs": [
    {
     "name": "stdout",
     "output_type": "stream",
     "text": [
      "Return Status: 200\n"
     ]
    },
    {
     "data": {
      "text/plain": [
       "{'id': 'MONDO:0004976',\n",
       " 'name': '',\n",
       " 'synonyms': [['ORPHANET:803', ''],\n",
       "  ['DOID:332', ''],\n",
       "  ['MESH:D000690', ''],\n",
       "  ['UMLS:C0002736', ''],\n",
       "  ['MEDDRA:10002026', ''],\n",
       "  ['MONDO:0004976', 'amyotrophic lateral sclerosis'],\n",
       "  ['MEDDRA:10052889', '']],\n",
       " 'type': 'disease'}"
      ]
     },
     "execution_count": 9,
     "metadata": {},
     "output_type": "execute_result"
    }
   ],
   "source": [
    "synonymize('disease','MONDO:0004976')"
   ]
  },
  {
   "cell_type": "code",
   "execution_count": 10,
   "metadata": {
    "collapsed": false,
    "deletable": true,
    "editable": true
   },
   "outputs": [
    {
     "name": "stdout",
     "output_type": "stream",
     "text": [
      "Return Status: 200\n"
     ]
    },
    {
     "data": {
      "text/plain": [
       "{'id': 'HP:0007354',\n",
       " 'name': '',\n",
       " 'synonyms': [['NCIT:C34373', ''],\n",
       "  ['UMLS:C0002736', ''],\n",
       "  ['HP:0007354', 'Amyotrophic lateral sclerosis'],\n",
       "  ['MEDDRA:10002026', ''],\n",
       "  ['MEDDRA:10052889', '']],\n",
       " 'type': 'phenotypic_feature'}"
      ]
     },
     "execution_count": 10,
     "metadata": {},
     "output_type": "execute_result"
    }
   ],
   "source": [
    "synonymize('phenotypic_feature','HP:0007354')"
   ]
  },
  {
   "cell_type": "markdown",
   "metadata": {
    "deletable": true,
    "editable": true
   },
   "source": [
    "Note that in both cases, `UMLS:C000736` is returned as a synonym.  That's because a UMLS can be either a `disease` or a `phenotypic_feature`.  But the MONDO is not returned for the `phenotypic_feature` call because a MONDO identifier cannot point to a `phenotypic_feature`.  Similarly, the HP identifier is not returned if we ask for `disease`.   What if we ask for synonyms of `UMLS:C0002736`?   The answer depends on what type we assert we want. If we ask for diseases, we get the MONDO identifier (and not the HP):"
   ]
  },
  {
   "cell_type": "code",
   "execution_count": 11,
   "metadata": {
    "collapsed": false,
    "deletable": true,
    "editable": true
   },
   "outputs": [
    {
     "name": "stdout",
     "output_type": "stream",
     "text": [
      "Return Status: 200\n"
     ]
    },
    {
     "data": {
      "text/plain": [
       "{'id': 'MONDO:0004976',\n",
       " 'name': 'amyotrophic lateral sclerosis',\n",
       " 'synonyms': [['ORPHANET:803', ''],\n",
       "  ['DOID:332', ''],\n",
       "  ['MESH:D000690', ''],\n",
       "  ['UMLS:C0002736', ''],\n",
       "  ['MEDDRA:10002026', ''],\n",
       "  ['MONDO:0004976', 'amyotrophic lateral sclerosis'],\n",
       "  ['MEDDRA:10052889', '']],\n",
       " 'type': 'disease'}"
      ]
     },
     "execution_count": 11,
     "metadata": {},
     "output_type": "execute_result"
    }
   ],
   "source": [
    "synonymize('disease','UMLS:C0002736')"
   ]
  },
  {
   "cell_type": "markdown",
   "metadata": {
    "deletable": true,
    "editable": true
   },
   "source": [
    "If we ask for a `phenotypic_feature` we get the HP (and not the MONDO):"
   ]
  },
  {
   "cell_type": "code",
   "execution_count": 12,
   "metadata": {
    "collapsed": false,
    "deletable": true,
    "editable": true
   },
   "outputs": [
    {
     "name": "stdout",
     "output_type": "stream",
     "text": [
      "Return Status: 200\n"
     ]
    },
    {
     "data": {
      "text/plain": [
       "{'id': 'HP:0007354',\n",
       " 'name': 'Amyotrophic lateral sclerosis',\n",
       " 'synonyms': [['NCIT:C34373', ''],\n",
       "  ['UMLS:C0002736', ''],\n",
       "  ['HP:0007354', 'Amyotrophic lateral sclerosis'],\n",
       "  ['MEDDRA:10002026', ''],\n",
       "  ['MEDDRA:10052889', '']],\n",
       " 'type': 'phenotypic_feature'}"
      ]
     },
     "execution_count": 12,
     "metadata": {},
     "output_type": "execute_result"
    }
   ],
   "source": [
    "synonymize('phenotypic_feature','UMLS:C0002736')"
   ]
  },
  {
   "cell_type": "markdown",
   "metadata": {
    "deletable": true,
    "editable": true
   },
   "source": [
    "And if we ask for the union superclass `disease_or_phenoptyic_feature`, we get both:"
   ]
  },
  {
   "cell_type": "code",
   "execution_count": 13,
   "metadata": {
    "collapsed": false,
    "deletable": true,
    "editable": true
   },
   "outputs": [
    {
     "name": "stdout",
     "output_type": "stream",
     "text": [
      "Return Status: 200\n"
     ]
    },
    {
     "data": {
      "text/plain": [
       "{'id': 'MONDO:0004976',\n",
       " 'name': 'amyotrophic lateral sclerosis',\n",
       " 'synonyms': [['ORPHANET:803', ''],\n",
       "  ['NCIT:C34373', ''],\n",
       "  ['DOID:332', ''],\n",
       "  ['MESH:D000690', ''],\n",
       "  ['UMLS:C0002736', ''],\n",
       "  ['HP:0007354', 'Amyotrophic lateral sclerosis'],\n",
       "  ['MEDDRA:10002026', ''],\n",
       "  ['MONDO:0004976', 'amyotrophic lateral sclerosis'],\n",
       "  ['MEDDRA:10052889', '']],\n",
       " 'type': 'disease_or_phenotypic_feature'}"
      ]
     },
     "execution_count": 13,
     "metadata": {},
     "output_type": "execute_result"
    }
   ],
   "source": [
    "synonymize('disease_or_phenotypic_feature','UMLS:C0002736')"
   ]
  }
 ],
 "metadata": {
  "kernelspec": {
   "display_name": "Python 3",
   "language": "python",
   "name": "python3"
  },
  "language_info": {
   "codemirror_mode": {
    "name": "ipython",
    "version": 3
   },
   "file_extension": ".py",
   "mimetype": "text/x-python",
   "name": "python",
   "nbconvert_exporter": "python",
   "pygments_lexer": "ipython3",
   "version": "3.6.2"
  }
 },
 "nbformat": 4,
 "nbformat_minor": 2
}
