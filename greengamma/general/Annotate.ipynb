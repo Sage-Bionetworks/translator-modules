{
 "cells": [
  {
   "cell_type": "markdown",
   "metadata": {
    "deletable": true,
    "editable": true
   },
   "source": [
    "# Using ROBOKOP's annotation service"
   ]
  },
  {
   "cell_type": "markdown",
   "metadata": {
    "deletable": true,
    "editable": true
   },
   "source": [
    "Entities in ROBOKOP's neo4j instance can contain properties.  Which properties will be on the node are dependent on the node type.  That is, there is one set of properties for chemical_substances, and a different one for diseases, etc"
   ]
  },
  {
   "cell_type": "code",
   "execution_count": 1,
   "metadata": {
    "collapsed": true,
    "deletable": true,
    "editable": true
   },
   "outputs": [],
   "source": [
    "robokop_server = 'robokop.renci.org'"
   ]
  },
  {
   "cell_type": "code",
   "execution_count": 2,
   "metadata": {
    "collapsed": true,
    "deletable": true,
    "editable": true
   },
   "outputs": [],
   "source": [
    "import requests\n",
    "import json\n",
    "import pandas as pd"
   ]
  },
  {
   "cell_type": "markdown",
   "metadata": {
    "deletable": true,
    "editable": true
   },
   "source": [
    "The following python function shows how to call the ROBOKOP annotation service.  It takes a list of identifiers in a POST."
   ]
  },
  {
   "cell_type": "code",
   "execution_count": 8,
   "metadata": {
    "collapsed": true,
    "deletable": true,
    "editable": true
   },
   "outputs": [],
   "source": [
    "def annotate(nodelist):\n",
    "    url=f'http://{robokop_server}:6011/api/multinode_lookup/'\n",
    "    response = requests.post(url,json={\"node_ids\":nodelist})\n",
    "    print( f'Return Status: {response.status_code}' )\n",
    "    if response.status_code == 200:\n",
    "        return response.json()\n",
    "    return []"
   ]
  },
  {
   "cell_type": "markdown",
   "metadata": {
    "deletable": true,
    "editable": true
   },
   "source": [
    "## Basic Usage"
   ]
  },
  {
   "cell_type": "code",
   "execution_count": 17,
   "metadata": {
    "collapsed": false,
    "deletable": true,
    "editable": true
   },
   "outputs": [
    {
     "name": "stdout",
     "output_type": "stream",
     "text": [
      "Return Status: 200\n"
     ]
    }
   ],
   "source": [
    "nodelist=[\"MONDO:0019391\", \"CHEBI:6801\", \"HGNC:51\"]\n",
    "annotations = annotate(nodelist)"
   ]
  },
  {
   "cell_type": "code",
   "execution_count": 18,
   "metadata": {
    "collapsed": false
   },
   "outputs": [
    {
     "data": {
      "text/plain": [
       "{'congenital_abnormality': True,\n",
       " 'equivalent_identifiers': ['UMLS:C0015625',\n",
       "  'MEDDRA:10016218',\n",
       "  'MONDO:0019391',\n",
       "  'ORPHANET:84',\n",
       "  'MESH:D005199',\n",
       "  'DOID:13636',\n",
       "  'MEDDRA:10055206'],\n",
       " 'id': 'MONDO:0019391',\n",
       " 'labels': ['disease', 'genetic_condition'],\n",
       " 'name': 'Fanconi anemia',\n",
       " 'nutritional_or_metabolic_disease': True,\n",
       " 'rare_disease': True,\n",
       " 'syndromic_disease': True}"
      ]
     },
     "execution_count": 18,
     "metadata": {},
     "output_type": "execute_result"
    }
   ],
   "source": [
    "annotations[0]"
   ]
  },
  {
   "cell_type": "code",
   "execution_count": 19,
   "metadata": {
    "collapsed": false
   },
   "outputs": [
    {
     "data": {
      "text/plain": [
       "{'application': True,\n",
       " 'biological_role': True,\n",
       " 'charge': '0',\n",
       " 'chemical_role': True,\n",
       " 'continuant': True,\n",
       " 'drug': True,\n",
       " 'entity': True,\n",
       " 'environmental_contaminant': True,\n",
       " 'equivalent_identifiers': ['DRUGBANK:DB00331',\n",
       "  'HMDB:HMDB0001921',\n",
       "  'MESH:D008687',\n",
       "  'CHEMBL:CHEMBL1431',\n",
       "  'UNII:9100L32L2N',\n",
       "  'KEGG.COMPOUND:C07151',\n",
       "  'CHEBI:6801',\n",
       "  'PUBCHEM:4091'],\n",
       " 'hypoglycemic_agent': True,\n",
       " 'id': 'CHEBI:6801',\n",
       " 'inchi': 'InChI=1S/C4H11N5/c1-9(2)4(7)8-3(5)6/h1-2H3,(H5,5,6,7,8)',\n",
       " 'inchikey': 'XZWYZXLIPXDOLR-UHFFFAOYSA-N',\n",
       " 'iupac_name': '3-(diaminomethylene)-1,1-dimethyl-guanidine',\n",
       " 'labels': ['chemical_substance'],\n",
       " 'mass': '129.16384',\n",
       " 'molecular_formula': 'C4H11N5',\n",
       " 'molecular_weight': 129.167,\n",
       " 'molecule_properties': \"{'acd_logd': '-3.24', 'acd_logp': '-1.25', 'acd_most_apka': None, 'acd_most_bpka': '12.25', 'alogp': '-1.03', 'aromatic_rings': 0, 'full_molformula': 'C4H11N5', 'full_mwt': '129.17', 'hba': 2, 'hba_lipinski': 5, 'hbd': 4, 'hbd_lipinski': 5, 'heavy_atoms': 9, 'molecular_species': 'BASE', 'mw_freebase': '129.17', 'mw_monoisotopic': '129.1014', 'num_lipinski_ro5_violations': 0, 'num_ro5_violations': 0, 'psa': '88.99', 'qed_weighted': '0.25', 'ro3_pass': 'N', 'rtb': 0}\",\n",
       " 'molecule_type': 'Small molecule',\n",
       " 'monoisotopic_mass': '129.101',\n",
       " 'name': 'metformin',\n",
       " 'natural_product': '0',\n",
       " 'oral': True,\n",
       " 'parenteral': False,\n",
       " 'pharmaceutical': True,\n",
       " 'prodrug': '0',\n",
       " 'role': True,\n",
       " 'smiles': 'CN(C)C(=N)N=C(N)N',\n",
       " 'therapeutic_flag': True,\n",
       " 'topical': False,\n",
       " 'withdrawn_flag': False,\n",
       " 'xenobiotic': True}"
      ]
     },
     "execution_count": 19,
     "metadata": {},
     "output_type": "execute_result"
    }
   ],
   "source": [
    "annotations[1]"
   ]
  },
  {
   "cell_type": "code",
   "execution_count": 20,
   "metadata": {
    "collapsed": false
   },
   "outputs": [
    {
     "data": {
      "text/plain": [
       "{'chromosome': '16',\n",
       " 'equivalent_identifiers': ['HGNC:51',\n",
       "  'NCBIGENE:4363',\n",
       "  'UniProtKB:I3L4X2',\n",
       "  'UniProtKB:P33527',\n",
       "  'UniProtKB:A0A0A0MS99',\n",
       "  'ENSEMBL:ENSG00000103222',\n",
       "  'NCBIGene:4363',\n",
       "  'UniProtKB:I3L2H9'],\n",
       " 'gene_family': ['ATP binding cassette subfamily C'],\n",
       " 'gene_family_id': [807],\n",
       " 'id': 'HGNC:51',\n",
       " 'labels': ['gene'],\n",
       " 'location': '16p13.11',\n",
       " 'locus_group': 'protein-coding gene',\n",
       " 'name': 'ABCC1',\n",
       " 'taxon': 9606}"
      ]
     },
     "execution_count": 20,
     "metadata": {},
     "output_type": "execute_result"
    }
   ],
   "source": [
    "annotations[2]"
   ]
  },
  {
   "cell_type": "code",
   "execution_count": null,
   "metadata": {
    "collapsed": true
   },
   "outputs": [],
   "source": []
  }
 ],
 "metadata": {
  "kernelspec": {
   "display_name": "Python 3",
   "language": "python",
   "name": "python3"
  },
  "language_info": {
   "codemirror_mode": {
    "name": "ipython",
    "version": 3
   },
   "file_extension": ".py",
   "mimetype": "text/x-python",
   "name": "python",
   "nbconvert_exporter": "python",
   "pygments_lexer": "ipython3",
   "version": "3.6.2"
  }
 },
 "nbformat": 4,
 "nbformat_minor": 2
}
