{
 "cells": [
  {
   "cell_type": "markdown",
   "metadata": {
    "deletable": true,
    "editable": true
   },
   "source": [
    "# Repurposing by gene"
   ]
  },
  {
   "cell_type": "code",
   "execution_count": 1,
   "metadata": {
    "collapsed": false,
    "deletable": true,
    "editable": true
   },
   "outputs": [],
   "source": [
    "#To make nicer looking outputs\n",
    "from IPython.core.display import display, HTML\n",
    "import requests\n",
    "\n",
    "#Load some functions for parsing quick output\n",
    "import os\n",
    "import sys\n",
    "module_path = os.path.abspath(os.path.join('..'))\n",
    "if module_path not in sys.path:\n",
    "    sys.path.append(module_path)\n",
    "from gg_functions import parse_answer, get_view_url\n",
    "\n",
    "robokop='robokop.renci.org'\n",
    "\n",
    "from disease_lists import rare_diseases, common_diseases\n",
    "diseases = rare_diseases + common_diseases"
   ]
  },
  {
   "cell_type": "code",
   "execution_count": 2,
   "metadata": {
    "collapsed": false,
    "deletable": true,
    "editable": true,
    "scrolled": true
   },
   "outputs": [
    {
     "data": {
      "text/html": [
       "<h3>arthritis</h3>"
      ],
      "text/plain": [
       "<IPython.core.display.HTML object>"
      ]
     },
     "metadata": {},
     "output_type": "display_data"
    },
    {
     "data": {
      "text/html": [
       "<a href=http://robokop.renci.org/simple/view/91c6505b-dd6e-4599-b916-578c8640809b>View Answer in ROBOKOP</a>"
      ],
      "text/plain": [
       "<IPython.core.display.HTML object>"
      ]
     },
     "metadata": {},
     "output_type": "display_data"
    },
    {
     "data": {
      "text/html": [
       "<div>\n",
       "<style>\n",
       "    .dataframe thead tr:only-child th {\n",
       "        text-align: right;\n",
       "    }\n",
       "\n",
       "    .dataframe thead th {\n",
       "        text-align: left;\n",
       "    }\n",
       "\n",
       "    .dataframe tbody tr th {\n",
       "        vertical-align: top;\n",
       "    }\n",
       "</style>\n",
       "<table border=\"1\" class=\"dataframe\">\n",
       "  <thead>\n",
       "    <tr style=\"text-align: right;\">\n",
       "      <th></th>\n",
       "      <th>n1 - id</th>\n",
       "      <th>n1 - name</th>\n",
       "      <th>n2 - id</th>\n",
       "      <th>n2 - name</th>\n",
       "      <th>n3 - id</th>\n",
       "      <th>n3 - name</th>\n",
       "      <th>score</th>\n",
       "    </tr>\n",
       "  </thead>\n",
       "  <tbody>\n",
       "    <tr>\n",
       "      <th>0</th>\n",
       "      <td>HGNC:12679</td>\n",
       "      <td>VDR</td>\n",
       "      <td>MONDO:0005520</td>\n",
       "      <td>rickets (disease)</td>\n",
       "      <td>CHEBI:17823</td>\n",
       "      <td>calcitriol</td>\n",
       "      <td>1.644453</td>\n",
       "    </tr>\n",
       "    <tr>\n",
       "      <th>1</th>\n",
       "      <td>HGNC:870</td>\n",
       "      <td>ATP7B</td>\n",
       "      <td>MONDO:0010200</td>\n",
       "      <td>Wilson disease</td>\n",
       "      <td>CHEBI:28694</td>\n",
       "      <td>copper atom</td>\n",
       "      <td>1.495524</td>\n",
       "    </tr>\n",
       "    <tr>\n",
       "      <th>2</th>\n",
       "      <td>HGNC:6081</td>\n",
       "      <td>INS</td>\n",
       "      <td>MONDO:0004946</td>\n",
       "      <td>hypoglycemia</td>\n",
       "      <td>CHEBI:17234</td>\n",
       "      <td>glucose</td>\n",
       "      <td>1.372602</td>\n",
       "    </tr>\n",
       "    <tr>\n",
       "      <th>3</th>\n",
       "      <td>HGNC:1884</td>\n",
       "      <td>CFTR</td>\n",
       "      <td>MONDO:0009061</td>\n",
       "      <td>cystic fibrosis</td>\n",
       "      <td>CHEBI:66901</td>\n",
       "      <td>ivacaftor</td>\n",
       "      <td>1.342034</td>\n",
       "    </tr>\n",
       "    <tr>\n",
       "      <th>4</th>\n",
       "      <td>HGNC:4932</td>\n",
       "      <td>HLA-B</td>\n",
       "      <td>MONDO:0002144</td>\n",
       "      <td>hyperuricemia (disease)</td>\n",
       "      <td>CHEBI:40279</td>\n",
       "      <td>allopurinol</td>\n",
       "      <td>1.258657</td>\n",
       "    </tr>\n",
       "  </tbody>\n",
       "</table>\n",
       "</div>"
      ],
      "text/plain": [
       "     n1 - id  n1 - name        n2 - id                n2 - name      n3 - id   \\\n",
       "0  HGNC:12679        VDR  MONDO:0005520        rickets (disease)  CHEBI:17823   \n",
       "1    HGNC:870      ATP7B  MONDO:0010200           Wilson disease  CHEBI:28694   \n",
       "2   HGNC:6081        INS  MONDO:0004946             hypoglycemia  CHEBI:17234   \n",
       "3   HGNC:1884       CFTR  MONDO:0009061          cystic fibrosis  CHEBI:66901   \n",
       "4   HGNC:4932      HLA-B  MONDO:0002144  hyperuricemia (disease)  CHEBI:40279   \n",
       "\n",
       "    n3 - name      score  \n",
       "0   calcitriol  1.644453  \n",
       "1  copper atom  1.495524  \n",
       "2      glucose  1.372602  \n",
       "3    ivacaftor  1.342034  \n",
       "4  allopurinol  1.258657  "
      ]
     },
     "metadata": {},
     "output_type": "display_data"
    },
    {
     "data": {
      "text/html": [
       "<h3>type 2 diabetes mellitus</h3>"
      ],
      "text/plain": [
       "<IPython.core.display.HTML object>"
      ]
     },
     "metadata": {},
     "output_type": "display_data"
    },
    {
     "data": {
      "text/html": [
       "<a href=http://robokop.renci.org/simple/view/60193d6f-16cc-4250-af6b-9bed75b55766>View Answer in ROBOKOP</a>"
      ],
      "text/plain": [
       "<IPython.core.display.HTML object>"
      ]
     },
     "metadata": {},
     "output_type": "display_data"
    },
    {
     "data": {
      "text/html": [
       "<div>\n",
       "<style>\n",
       "    .dataframe thead tr:only-child th {\n",
       "        text-align: right;\n",
       "    }\n",
       "\n",
       "    .dataframe thead th {\n",
       "        text-align: left;\n",
       "    }\n",
       "\n",
       "    .dataframe tbody tr th {\n",
       "        vertical-align: top;\n",
       "    }\n",
       "</style>\n",
       "<table border=\"1\" class=\"dataframe\">\n",
       "  <thead>\n",
       "    <tr style=\"text-align: right;\">\n",
       "      <th></th>\n",
       "      <th>n1 - id</th>\n",
       "      <th>n1 - name</th>\n",
       "      <th>n2 - id</th>\n",
       "      <th>n2 - name</th>\n",
       "      <th>n3 - id</th>\n",
       "      <th>n3 - name</th>\n",
       "      <th>score</th>\n",
       "    </tr>\n",
       "  </thead>\n",
       "  <tbody>\n",
       "    <tr>\n",
       "      <th>0</th>\n",
       "      <td>HGNC:6081</td>\n",
       "      <td>INS</td>\n",
       "      <td>MONDO:0004946</td>\n",
       "      <td>hypoglycemia</td>\n",
       "      <td>CHEBI:17234</td>\n",
       "      <td>glucose</td>\n",
       "      <td>2.046613</td>\n",
       "    </tr>\n",
       "    <tr>\n",
       "      <th>1</th>\n",
       "      <td>HGNC:11621</td>\n",
       "      <td>HNF1A</td>\n",
       "      <td>MONDO:0004946</td>\n",
       "      <td>hypoglycemia</td>\n",
       "      <td>CHEBI:17234</td>\n",
       "      <td>glucose</td>\n",
       "      <td>2.034507</td>\n",
       "    </tr>\n",
       "    <tr>\n",
       "      <th>2</th>\n",
       "      <td>HGNC:11006</td>\n",
       "      <td>SLC2A2</td>\n",
       "      <td>MONDO:0004946</td>\n",
       "      <td>hypoglycemia</td>\n",
       "      <td>CHEBI:17234</td>\n",
       "      <td>glucose</td>\n",
       "      <td>1.964184</td>\n",
       "    </tr>\n",
       "    <tr>\n",
       "      <th>3</th>\n",
       "      <td>HGNC:9232</td>\n",
       "      <td>PPARA</td>\n",
       "      <td>MONDO:0004946</td>\n",
       "      <td>hypoglycemia</td>\n",
       "      <td>CHEBI:17234</td>\n",
       "      <td>glucose</td>\n",
       "      <td>1.961608</td>\n",
       "    </tr>\n",
       "    <tr>\n",
       "      <th>4</th>\n",
       "      <td>HGNC:6091</td>\n",
       "      <td>INSR</td>\n",
       "      <td>MONDO:0004946</td>\n",
       "      <td>hypoglycemia</td>\n",
       "      <td>CHEBI:17234</td>\n",
       "      <td>glucose</td>\n",
       "      <td>1.899160</td>\n",
       "    </tr>\n",
       "  </tbody>\n",
       "</table>\n",
       "</div>"
      ],
      "text/plain": [
       "     n1 - id  n1 - name        n2 - id     n2 - name      n3 - id  n3 - name   \\\n",
       "0   HGNC:6081        INS  MONDO:0004946  hypoglycemia  CHEBI:17234    glucose   \n",
       "1  HGNC:11621      HNF1A  MONDO:0004946  hypoglycemia  CHEBI:17234    glucose   \n",
       "2  HGNC:11006     SLC2A2  MONDO:0004946  hypoglycemia  CHEBI:17234    glucose   \n",
       "3   HGNC:9232      PPARA  MONDO:0004946  hypoglycemia  CHEBI:17234    glucose   \n",
       "4   HGNC:6091       INSR  MONDO:0004946  hypoglycemia  CHEBI:17234    glucose   \n",
       "\n",
       "      score  \n",
       "0  2.046613  \n",
       "1  2.034507  \n",
       "2  1.964184  \n",
       "3  1.961608  \n",
       "4  1.899160  "
      ]
     },
     "metadata": {},
     "output_type": "display_data"
    },
    {
     "data": {
      "text/html": [
       "<h3>dermatitis</h3>"
      ],
      "text/plain": [
       "<IPython.core.display.HTML object>"
      ]
     },
     "metadata": {},
     "output_type": "display_data"
    },
    {
     "data": {
      "text/html": [
       "<a href=http://robokop.renci.org/simple/view/e826f486-e855-4250-aa77-89fe76d63a77>View Answer in ROBOKOP</a>"
      ],
      "text/plain": [
       "<IPython.core.display.HTML object>"
      ]
     },
     "metadata": {},
     "output_type": "display_data"
    },
    {
     "data": {
      "text/html": [
       "<div>\n",
       "<style>\n",
       "    .dataframe thead tr:only-child th {\n",
       "        text-align: right;\n",
       "    }\n",
       "\n",
       "    .dataframe thead th {\n",
       "        text-align: left;\n",
       "    }\n",
       "\n",
       "    .dataframe tbody tr th {\n",
       "        vertical-align: top;\n",
       "    }\n",
       "</style>\n",
       "<table border=\"1\" class=\"dataframe\">\n",
       "  <thead>\n",
       "    <tr style=\"text-align: right;\">\n",
       "      <th></th>\n",
       "      <th>n1 - id</th>\n",
       "      <th>n1 - name</th>\n",
       "      <th>n2 - id</th>\n",
       "      <th>n2 - name</th>\n",
       "      <th>n3 - id</th>\n",
       "      <th>n3 - name</th>\n",
       "      <th>score</th>\n",
       "    </tr>\n",
       "  </thead>\n",
       "  <tbody>\n",
       "    <tr>\n",
       "      <th>0</th>\n",
       "      <td>HGNC:4932</td>\n",
       "      <td>HLA-B</td>\n",
       "      <td>MONDO:0002144</td>\n",
       "      <td>hyperuricemia (disease)</td>\n",
       "      <td>CHEBI:40279</td>\n",
       "      <td>allopurinol</td>\n",
       "      <td>1.381769</td>\n",
       "    </tr>\n",
       "    <tr>\n",
       "      <th>1</th>\n",
       "      <td>HGNC:17129</td>\n",
       "      <td>SLC39A4</td>\n",
       "      <td>MONDO:0006523</td>\n",
       "      <td>acrodermatitis</td>\n",
       "      <td>CHEBI:27363</td>\n",
       "      <td>zinc atom</td>\n",
       "      <td>1.379584</td>\n",
       "    </tr>\n",
       "    <tr>\n",
       "      <th>2</th>\n",
       "      <td>HGNC:11364</td>\n",
       "      <td>STAT3</td>\n",
       "      <td>MONDO:0005311</td>\n",
       "      <td>atherosclerosis</td>\n",
       "      <td>CHEBI:16243</td>\n",
       "      <td>quercetin</td>\n",
       "      <td>1.206149</td>\n",
       "    </tr>\n",
       "    <tr>\n",
       "      <th>3</th>\n",
       "      <td>HGNC:11364</td>\n",
       "      <td>STAT3</td>\n",
       "      <td>MONDO:0021040</td>\n",
       "      <td>pancreatic neoplasm</td>\n",
       "      <td>CHEBI:175901</td>\n",
       "      <td>gemcitabine</td>\n",
       "      <td>1.149370</td>\n",
       "    </tr>\n",
       "    <tr>\n",
       "      <th>4</th>\n",
       "      <td>HGNC:812</td>\n",
       "      <td>ATP2A2</td>\n",
       "      <td>MONDO:0005252</td>\n",
       "      <td>heart failure</td>\n",
       "      <td>CHEBI:3441</td>\n",
       "      <td>carvedilol</td>\n",
       "      <td>1.127502</td>\n",
       "    </tr>\n",
       "  </tbody>\n",
       "</table>\n",
       "</div>"
      ],
      "text/plain": [
       "     n1 - id  n1 - name        n2 - id                n2 - name   \\\n",
       "0   HGNC:4932      HLA-B  MONDO:0002144  hyperuricemia (disease)   \n",
       "1  HGNC:17129    SLC39A4  MONDO:0006523           acrodermatitis   \n",
       "2  HGNC:11364      STAT3  MONDO:0005311          atherosclerosis   \n",
       "3  HGNC:11364      STAT3  MONDO:0021040      pancreatic neoplasm   \n",
       "4    HGNC:812     ATP2A2  MONDO:0005252            heart failure   \n",
       "\n",
       "       n3 - id    n3 - name      score  \n",
       "0   CHEBI:40279  allopurinol  1.381769  \n",
       "1   CHEBI:27363    zinc atom  1.379584  \n",
       "2   CHEBI:16243    quercetin  1.206149  \n",
       "3  CHEBI:175901  gemcitabine  1.149370  \n",
       "4    CHEBI:3441   carvedilol  1.127502  "
      ]
     },
     "metadata": {},
     "output_type": "display_data"
    },
    {
     "data": {
      "text/html": [
       "<h3>rheumatoid arthritis</h3>"
      ],
      "text/plain": [
       "<IPython.core.display.HTML object>"
      ]
     },
     "metadata": {},
     "output_type": "display_data"
    },
    {
     "data": {
      "text/html": [
       "<a href=http://robokop.renci.org/simple/view/48116e2c-e615-41f1-9c6c-3bebb38902b0>View Answer in ROBOKOP</a>"
      ],
      "text/plain": [
       "<IPython.core.display.HTML object>"
      ]
     },
     "metadata": {},
     "output_type": "display_data"
    },
    {
     "data": {
      "text/html": [
       "<div>\n",
       "<style>\n",
       "    .dataframe thead tr:only-child th {\n",
       "        text-align: right;\n",
       "    }\n",
       "\n",
       "    .dataframe thead th {\n",
       "        text-align: left;\n",
       "    }\n",
       "\n",
       "    .dataframe tbody tr th {\n",
       "        vertical-align: top;\n",
       "    }\n",
       "</style>\n",
       "<table border=\"1\" class=\"dataframe\">\n",
       "  <thead>\n",
       "    <tr style=\"text-align: right;\">\n",
       "      <th></th>\n",
       "      <th>n1 - id</th>\n",
       "      <th>n1 - name</th>\n",
       "      <th>n2 - id</th>\n",
       "      <th>n2 - name</th>\n",
       "      <th>n3 - id</th>\n",
       "      <th>n3 - name</th>\n",
       "      <th>score</th>\n",
       "    </tr>\n",
       "  </thead>\n",
       "  <tbody>\n",
       "    <tr>\n",
       "      <th>0</th>\n",
       "      <td>HGNC:12679</td>\n",
       "      <td>VDR</td>\n",
       "      <td>MONDO:0005520</td>\n",
       "      <td>rickets (disease)</td>\n",
       "      <td>CHEBI:17823</td>\n",
       "      <td>calcitriol</td>\n",
       "      <td>1.574685</td>\n",
       "    </tr>\n",
       "    <tr>\n",
       "      <th>1</th>\n",
       "      <td>HGNC:9204</td>\n",
       "      <td>PON1</td>\n",
       "      <td>MONDO:0005542</td>\n",
       "      <td>acute coronary syndrome</td>\n",
       "      <td>CHEBI:37941</td>\n",
       "      <td>clopidogrel</td>\n",
       "      <td>1.335445</td>\n",
       "    </tr>\n",
       "    <tr>\n",
       "      <th>2</th>\n",
       "      <td>HGNC:53</td>\n",
       "      <td>ABCC2</td>\n",
       "      <td>MONDO:0005388</td>\n",
       "      <td>primary biliary cholangitis</td>\n",
       "      <td>CHEBI:9907</td>\n",
       "      <td>ursodeoxycholic acid</td>\n",
       "      <td>1.290341</td>\n",
       "    </tr>\n",
       "    <tr>\n",
       "      <th>3</th>\n",
       "      <td>HGNC:4932</td>\n",
       "      <td>HLA-B</td>\n",
       "      <td>MONDO:0002144</td>\n",
       "      <td>hyperuricemia (disease)</td>\n",
       "      <td>CHEBI:40279</td>\n",
       "      <td>allopurinol</td>\n",
       "      <td>1.241002</td>\n",
       "    </tr>\n",
       "    <tr>\n",
       "      <th>4</th>\n",
       "      <td>HGNC:12680</td>\n",
       "      <td>VEGFA</td>\n",
       "      <td>MONDO:0005311</td>\n",
       "      <td>atherosclerosis</td>\n",
       "      <td>CHEBI:16243</td>\n",
       "      <td>quercetin</td>\n",
       "      <td>1.219089</td>\n",
       "    </tr>\n",
       "  </tbody>\n",
       "</table>\n",
       "</div>"
      ],
      "text/plain": [
       "     n1 - id  n1 - name        n2 - id                    n2 - name   \\\n",
       "0  HGNC:12679        VDR  MONDO:0005520            rickets (disease)   \n",
       "1   HGNC:9204       PON1  MONDO:0005542      acute coronary syndrome   \n",
       "2     HGNC:53      ABCC2  MONDO:0005388  primary biliary cholangitis   \n",
       "3   HGNC:4932      HLA-B  MONDO:0002144      hyperuricemia (disease)   \n",
       "4  HGNC:12680      VEGFA  MONDO:0005311              atherosclerosis   \n",
       "\n",
       "      n3 - id             n3 - name      score  \n",
       "0  CHEBI:17823            calcitriol  1.574685  \n",
       "1  CHEBI:37941           clopidogrel  1.335445  \n",
       "2   CHEBI:9907  ursodeoxycholic acid  1.290341  \n",
       "3  CHEBI:40279           allopurinol  1.241002  \n",
       "4  CHEBI:16243             quercetin  1.219089  "
      ]
     },
     "metadata": {},
     "output_type": "display_data"
    },
    {
     "data": {
      "text/html": [
       "<h3>drug-induced liver injury</h3>"
      ],
      "text/plain": [
       "<IPython.core.display.HTML object>"
      ]
     },
     "metadata": {},
     "output_type": "display_data"
    },
    {
     "data": {
      "text/html": [
       "<a href=http://robokop.renci.org/simple/view/5fe7ee64-d32c-40b8-8817-ebc2f1d0e4a1>View Answer in ROBOKOP</a>"
      ],
      "text/plain": [
       "<IPython.core.display.HTML object>"
      ]
     },
     "metadata": {},
     "output_type": "display_data"
    },
    {
     "data": {
      "text/html": [
       "<div>\n",
       "<style>\n",
       "    .dataframe thead tr:only-child th {\n",
       "        text-align: right;\n",
       "    }\n",
       "\n",
       "    .dataframe thead th {\n",
       "        text-align: left;\n",
       "    }\n",
       "\n",
       "    .dataframe tbody tr th {\n",
       "        vertical-align: top;\n",
       "    }\n",
       "</style>\n",
       "<table border=\"1\" class=\"dataframe\">\n",
       "  <thead>\n",
       "    <tr style=\"text-align: right;\">\n",
       "      <th></th>\n",
       "      <th>n1 - id</th>\n",
       "      <th>n1 - name</th>\n",
       "      <th>n2 - id</th>\n",
       "      <th>n2 - name</th>\n",
       "      <th>n3 - id</th>\n",
       "      <th>n3 - name</th>\n",
       "      <th>score</th>\n",
       "    </tr>\n",
       "  </thead>\n",
       "  <tbody>\n",
       "    <tr>\n",
       "      <th>0</th>\n",
       "      <td>HGNC:53</td>\n",
       "      <td>ABCC2</td>\n",
       "      <td>MONDO:0005388</td>\n",
       "      <td>primary biliary cholangitis</td>\n",
       "      <td>CHEBI:9907</td>\n",
       "      <td>ursodeoxycholic acid</td>\n",
       "      <td>1.345748</td>\n",
       "    </tr>\n",
       "    <tr>\n",
       "      <th>1</th>\n",
       "      <td>HGNC:5464</td>\n",
       "      <td>IGF1</td>\n",
       "      <td>MONDO:0001119</td>\n",
       "      <td>premature menopause</td>\n",
       "      <td>CHEBI:17347</td>\n",
       "      <td>testosterone</td>\n",
       "      <td>1.337890</td>\n",
       "    </tr>\n",
       "    <tr>\n",
       "      <th>2</th>\n",
       "      <td>HGNC:9232</td>\n",
       "      <td>PPARA</td>\n",
       "      <td>MONDO:0004946</td>\n",
       "      <td>hypoglycemia</td>\n",
       "      <td>CHEBI:17234</td>\n",
       "      <td>glucose</td>\n",
       "      <td>1.326610</td>\n",
       "    </tr>\n",
       "    <tr>\n",
       "      <th>3</th>\n",
       "      <td>HGNC:4623</td>\n",
       "      <td>GSR</td>\n",
       "      <td>MONDO:0004946</td>\n",
       "      <td>hypoglycemia</td>\n",
       "      <td>CHEBI:17234</td>\n",
       "      <td>glucose</td>\n",
       "      <td>1.293344</td>\n",
       "    </tr>\n",
       "    <tr>\n",
       "      <th>4</th>\n",
       "      <td>HGNC:2631</td>\n",
       "      <td>CYP2E1</td>\n",
       "      <td>MONDO:0002046</td>\n",
       "      <td>alcohol abuse</td>\n",
       "      <td>CHEBI:4659</td>\n",
       "      <td>disulfiram</td>\n",
       "      <td>1.289183</td>\n",
       "    </tr>\n",
       "  </tbody>\n",
       "</table>\n",
       "</div>"
      ],
      "text/plain": [
       "    n1 - id  n1 - name        n2 - id                    n2 - name   \\\n",
       "0    HGNC:53      ABCC2  MONDO:0005388  primary biliary cholangitis   \n",
       "1  HGNC:5464       IGF1  MONDO:0001119          premature menopause   \n",
       "2  HGNC:9232      PPARA  MONDO:0004946                 hypoglycemia   \n",
       "3  HGNC:4623        GSR  MONDO:0004946                 hypoglycemia   \n",
       "4  HGNC:2631     CYP2E1  MONDO:0002046                alcohol abuse   \n",
       "\n",
       "      n3 - id             n3 - name      score  \n",
       "0   CHEBI:9907  ursodeoxycholic acid  1.345748  \n",
       "1  CHEBI:17347          testosterone  1.337890  \n",
       "2  CHEBI:17234               glucose  1.326610  \n",
       "3  CHEBI:17234               glucose  1.293344  \n",
       "4   CHEBI:4659            disulfiram  1.289183  "
      ]
     },
     "metadata": {},
     "output_type": "display_data"
    },
    {
     "data": {
      "text/html": [
       "<h3>lipodystrophy (disease)</h3>"
      ],
      "text/plain": [
       "<IPython.core.display.HTML object>"
      ]
     },
     "metadata": {},
     "output_type": "display_data"
    },
    {
     "data": {
      "text/html": [
       "<a href=http://robokop.renci.org/simple/view/8faf541b-7537-47ee-aa58-26aed8e638a0>View Answer in ROBOKOP</a>"
      ],
      "text/plain": [
       "<IPython.core.display.HTML object>"
      ]
     },
     "metadata": {},
     "output_type": "display_data"
    },
    {
     "data": {
      "text/html": [
       "<div>\n",
       "<style>\n",
       "    .dataframe thead tr:only-child th {\n",
       "        text-align: right;\n",
       "    }\n",
       "\n",
       "    .dataframe thead th {\n",
       "        text-align: left;\n",
       "    }\n",
       "\n",
       "    .dataframe tbody tr th {\n",
       "        vertical-align: top;\n",
       "    }\n",
       "</style>\n",
       "<table border=\"1\" class=\"dataframe\">\n",
       "  <thead>\n",
       "    <tr style=\"text-align: right;\">\n",
       "      <th></th>\n",
       "      <th>n1 - id</th>\n",
       "      <th>n1 - name</th>\n",
       "      <th>n2 - id</th>\n",
       "      <th>n2 - name</th>\n",
       "      <th>n3 - id</th>\n",
       "      <th>n3 - name</th>\n",
       "      <th>score</th>\n",
       "    </tr>\n",
       "  </thead>\n",
       "  <tbody>\n",
       "    <tr>\n",
       "      <th>0</th>\n",
       "      <td>HGNC:6081</td>\n",
       "      <td>INS</td>\n",
       "      <td>MONDO:0004946</td>\n",
       "      <td>hypoglycemia</td>\n",
       "      <td>CHEBI:17234</td>\n",
       "      <td>glucose</td>\n",
       "      <td>1.387180</td>\n",
       "    </tr>\n",
       "    <tr>\n",
       "      <th>1</th>\n",
       "      <td>HGNC:1527</td>\n",
       "      <td>CAV1</td>\n",
       "      <td>MONDO:0015924</td>\n",
       "      <td>pulmonary arterial hypertension</td>\n",
       "      <td>CHEBI:84879</td>\n",
       "      <td>nitroxyl</td>\n",
       "      <td>1.184516</td>\n",
       "    </tr>\n",
       "    <tr>\n",
       "      <th>2</th>\n",
       "      <td>HGNC:1527</td>\n",
       "      <td>CAV1</td>\n",
       "      <td>MONDO:0005252</td>\n",
       "      <td>heart failure</td>\n",
       "      <td>CHEBI:7596</td>\n",
       "      <td>nitroprusside</td>\n",
       "      <td>1.179028</td>\n",
       "    </tr>\n",
       "    <tr>\n",
       "      <th>3</th>\n",
       "      <td>HGNC:1527</td>\n",
       "      <td>CAV1</td>\n",
       "      <td>MONDO:0001076</td>\n",
       "      <td>glucose intolerance</td>\n",
       "      <td>CHEBI:50122</td>\n",
       "      <td>rosiglitazone</td>\n",
       "      <td>1.027898</td>\n",
       "    </tr>\n",
       "    <tr>\n",
       "      <th>4</th>\n",
       "      <td>HGNC:13633</td>\n",
       "      <td>ADIPOQ</td>\n",
       "      <td>MONDO:0011565</td>\n",
       "      <td>metabolic syndrome X</td>\n",
       "      <td>CHEBI:50122</td>\n",
       "      <td>rosiglitazone</td>\n",
       "      <td>0.990720</td>\n",
       "    </tr>\n",
       "  </tbody>\n",
       "</table>\n",
       "</div>"
      ],
      "text/plain": [
       "     n1 - id  n1 - name        n2 - id                        n2 - name   \\\n",
       "0   HGNC:6081        INS  MONDO:0004946                     hypoglycemia   \n",
       "1   HGNC:1527       CAV1  MONDO:0015924  pulmonary arterial hypertension   \n",
       "2   HGNC:1527       CAV1  MONDO:0005252                    heart failure   \n",
       "3   HGNC:1527       CAV1  MONDO:0001076              glucose intolerance   \n",
       "4  HGNC:13633     ADIPOQ  MONDO:0011565             metabolic syndrome X   \n",
       "\n",
       "      n3 - id      n3 - name      score  \n",
       "0  CHEBI:17234        glucose  1.387180  \n",
       "1  CHEBI:84879       nitroxyl  1.184516  \n",
       "2   CHEBI:7596  nitroprusside  1.179028  \n",
       "3  CHEBI:50122  rosiglitazone  1.027898  \n",
       "4  CHEBI:50122  rosiglitazone  0.990720  "
      ]
     },
     "metadata": {},
     "output_type": "display_data"
    },
    {
     "data": {
      "text/html": [
       "<h3>aggressive periodontitis</h3>"
      ],
      "text/plain": [
       "<IPython.core.display.HTML object>"
      ]
     },
     "metadata": {},
     "output_type": "display_data"
    },
    {
     "data": {
      "text/html": [
       "<a href=http://robokop.renci.org/simple/view/b44aaee9-e67c-440d-a57c-9e74418cd284>View Answer in ROBOKOP</a>"
      ],
      "text/plain": [
       "<IPython.core.display.HTML object>"
      ]
     },
     "metadata": {},
     "output_type": "display_data"
    },
    {
     "data": {
      "text/html": [
       "<div>\n",
       "<style>\n",
       "    .dataframe thead tr:only-child th {\n",
       "        text-align: right;\n",
       "    }\n",
       "\n",
       "    .dataframe thead th {\n",
       "        text-align: left;\n",
       "    }\n",
       "\n",
       "    .dataframe tbody tr th {\n",
       "        vertical-align: top;\n",
       "    }\n",
       "</style>\n",
       "<table border=\"1\" class=\"dataframe\">\n",
       "  <thead>\n",
       "    <tr style=\"text-align: right;\">\n",
       "      <th></th>\n",
       "      <th>n1 - id</th>\n",
       "      <th>n1 - name</th>\n",
       "      <th>n2 - id</th>\n",
       "      <th>n2 - name</th>\n",
       "      <th>n3 - id</th>\n",
       "      <th>n3 - name</th>\n",
       "      <th>score</th>\n",
       "    </tr>\n",
       "  </thead>\n",
       "  <tbody>\n",
       "    <tr>\n",
       "      <th>0</th>\n",
       "      <td>HGNC:2528</td>\n",
       "      <td>CTSC</td>\n",
       "      <td>MONDO:0006525</td>\n",
       "      <td>allergic contact dermatitis</td>\n",
       "      <td>CHEBI:15939</td>\n",
       "      <td>glycyrrhizinic acid</td>\n",
       "      <td>0.641195</td>\n",
       "    </tr>\n",
       "  </tbody>\n",
       "</table>\n",
       "</div>"
      ],
      "text/plain": [
       "    n1 - id  n1 - name        n2 - id                    n2 - name   \\\n",
       "0  HGNC:2528       CTSC  MONDO:0006525  allergic contact dermatitis   \n",
       "\n",
       "      n3 - id            n3 - name      score  \n",
       "0  CHEBI:15939  glycyrrhizinic acid  0.641195  "
      ]
     },
     "metadata": {},
     "output_type": "display_data"
    },
    {
     "data": {
      "text/html": [
       "<h3>dementia</h3>"
      ],
      "text/plain": [
       "<IPython.core.display.HTML object>"
      ]
     },
     "metadata": {},
     "output_type": "display_data"
    },
    {
     "data": {
      "text/html": [
       "<a href=http://robokop.renci.org/simple/view/2fa1ff98-5b14-4d5c-9f03-633770e41355>View Answer in ROBOKOP</a>"
      ],
      "text/plain": [
       "<IPython.core.display.HTML object>"
      ]
     },
     "metadata": {},
     "output_type": "display_data"
    },
    {
     "data": {
      "text/html": [
       "<div>\n",
       "<style>\n",
       "    .dataframe thead tr:only-child th {\n",
       "        text-align: right;\n",
       "    }\n",
       "\n",
       "    .dataframe thead th {\n",
       "        text-align: left;\n",
       "    }\n",
       "\n",
       "    .dataframe tbody tr th {\n",
       "        vertical-align: top;\n",
       "    }\n",
       "</style>\n",
       "<table border=\"1\" class=\"dataframe\">\n",
       "  <thead>\n",
       "    <tr style=\"text-align: right;\">\n",
       "      <th></th>\n",
       "      <th>n1 - id</th>\n",
       "      <th>n1 - name</th>\n",
       "      <th>n2 - id</th>\n",
       "      <th>n2 - name</th>\n",
       "      <th>n3 - id</th>\n",
       "      <th>n3 - name</th>\n",
       "      <th>score</th>\n",
       "    </tr>\n",
       "  </thead>\n",
       "  <tbody>\n",
       "    <tr>\n",
       "      <th>0</th>\n",
       "      <td>HGNC:620</td>\n",
       "      <td>APP</td>\n",
       "      <td>MONDO:0006496</td>\n",
       "      <td>palsy</td>\n",
       "      <td>CHEBI:28694</td>\n",
       "      <td>copper atom</td>\n",
       "      <td>1.677485</td>\n",
       "    </tr>\n",
       "    <tr>\n",
       "      <th>1</th>\n",
       "      <td>HGNC:6081</td>\n",
       "      <td>INS</td>\n",
       "      <td>MONDO:0004946</td>\n",
       "      <td>hypoglycemia</td>\n",
       "      <td>CHEBI:17234</td>\n",
       "      <td>glucose</td>\n",
       "      <td>1.641026</td>\n",
       "    </tr>\n",
       "    <tr>\n",
       "      <th>2</th>\n",
       "      <td>HGNC:2295</td>\n",
       "      <td>CP</td>\n",
       "      <td>MONDO:0010200</td>\n",
       "      <td>Wilson disease</td>\n",
       "      <td>CHEBI:28694</td>\n",
       "      <td>copper atom</td>\n",
       "      <td>1.552908</td>\n",
       "    </tr>\n",
       "    <tr>\n",
       "      <th>3</th>\n",
       "      <td>HGNC:870</td>\n",
       "      <td>ATP7B</td>\n",
       "      <td>MONDO:0010200</td>\n",
       "      <td>Wilson disease</td>\n",
       "      <td>CHEBI:28694</td>\n",
       "      <td>copper atom</td>\n",
       "      <td>1.539834</td>\n",
       "    </tr>\n",
       "    <tr>\n",
       "      <th>4</th>\n",
       "      <td>HGNC:11138</td>\n",
       "      <td>SNCA</td>\n",
       "      <td>MONDO:0021095</td>\n",
       "      <td>parkinsonian disorder</td>\n",
       "      <td>CHEBI:17963</td>\n",
       "      <td>1-methyl-4-phenyl-1,2,3,6-tetrahydropyridine</td>\n",
       "      <td>1.501451</td>\n",
       "    </tr>\n",
       "  </tbody>\n",
       "</table>\n",
       "</div>"
      ],
      "text/plain": [
       "     n1 - id  n1 - name        n2 - id              n2 - name      n3 - id   \\\n",
       "0    HGNC:620        APP  MONDO:0006496                  palsy  CHEBI:28694   \n",
       "1   HGNC:6081        INS  MONDO:0004946           hypoglycemia  CHEBI:17234   \n",
       "2   HGNC:2295         CP  MONDO:0010200         Wilson disease  CHEBI:28694   \n",
       "3    HGNC:870      ATP7B  MONDO:0010200         Wilson disease  CHEBI:28694   \n",
       "4  HGNC:11138       SNCA  MONDO:0021095  parkinsonian disorder  CHEBI:17963   \n",
       "\n",
       "                                     n3 - name      score  \n",
       "0                                   copper atom  1.677485  \n",
       "1                                       glucose  1.641026  \n",
       "2                                   copper atom  1.552908  \n",
       "3                                   copper atom  1.539834  \n",
       "4  1-methyl-4-phenyl-1,2,3,6-tetrahydropyridine  1.501451  "
      ]
     },
     "metadata": {},
     "output_type": "display_data"
    },
    {
     "data": {
      "text/html": [
       "<h3>inflammatory bowel disease</h3>"
      ],
      "text/plain": [
       "<IPython.core.display.HTML object>"
      ]
     },
     "metadata": {},
     "output_type": "display_data"
    },
    {
     "data": {
      "text/html": [
       "<a href=http://robokop.renci.org/simple/view/eb793534-f948-4719-aef2-e02af268154a>View Answer in ROBOKOP</a>"
      ],
      "text/plain": [
       "<IPython.core.display.HTML object>"
      ]
     },
     "metadata": {},
     "output_type": "display_data"
    },
    {
     "data": {
      "text/html": [
       "<div>\n",
       "<style>\n",
       "    .dataframe thead tr:only-child th {\n",
       "        text-align: right;\n",
       "    }\n",
       "\n",
       "    .dataframe thead th {\n",
       "        text-align: left;\n",
       "    }\n",
       "\n",
       "    .dataframe tbody tr th {\n",
       "        vertical-align: top;\n",
       "    }\n",
       "</style>\n",
       "<table border=\"1\" class=\"dataframe\">\n",
       "  <thead>\n",
       "    <tr style=\"text-align: right;\">\n",
       "      <th></th>\n",
       "      <th>n1 - id</th>\n",
       "      <th>n1 - name</th>\n",
       "      <th>n2 - id</th>\n",
       "      <th>n2 - name</th>\n",
       "      <th>n3 - id</th>\n",
       "      <th>n3 - name</th>\n",
       "      <th>score</th>\n",
       "    </tr>\n",
       "  </thead>\n",
       "  <tbody>\n",
       "    <tr>\n",
       "      <th>0</th>\n",
       "      <td>HGNC:11364</td>\n",
       "      <td>STAT3</td>\n",
       "      <td>MONDO:0005292</td>\n",
       "      <td>colitis (disease)</td>\n",
       "      <td>CHEBI:16412</td>\n",
       "      <td>lipopolysaccharide</td>\n",
       "      <td>1.446089</td>\n",
       "    </tr>\n",
       "    <tr>\n",
       "      <th>1</th>\n",
       "      <td>HGNC:12679</td>\n",
       "      <td>VDR</td>\n",
       "      <td>MONDO:0005520</td>\n",
       "      <td>rickets (disease)</td>\n",
       "      <td>CHEBI:17823</td>\n",
       "      <td>calcitriol</td>\n",
       "      <td>1.430393</td>\n",
       "    </tr>\n",
       "    <tr>\n",
       "      <th>2</th>\n",
       "      <td>HGNC:11364</td>\n",
       "      <td>STAT3</td>\n",
       "      <td>MONDO:0005311</td>\n",
       "      <td>atherosclerosis</td>\n",
       "      <td>CHEBI:16243</td>\n",
       "      <td>quercetin</td>\n",
       "      <td>1.346823</td>\n",
       "    </tr>\n",
       "    <tr>\n",
       "      <th>3</th>\n",
       "      <td>HGNC:7794</td>\n",
       "      <td>NFKB1</td>\n",
       "      <td>MONDO:0005292</td>\n",
       "      <td>colitis (disease)</td>\n",
       "      <td>CHEBI:16412</td>\n",
       "      <td>lipopolysaccharide</td>\n",
       "      <td>1.338951</td>\n",
       "    </tr>\n",
       "    <tr>\n",
       "      <th>4</th>\n",
       "      <td>HGNC:7794</td>\n",
       "      <td>NFKB1</td>\n",
       "      <td>MONDO:0005292</td>\n",
       "      <td>colitis (disease)</td>\n",
       "      <td>CHEBI:3962</td>\n",
       "      <td>curcumin</td>\n",
       "      <td>1.307195</td>\n",
       "    </tr>\n",
       "  </tbody>\n",
       "</table>\n",
       "</div>"
      ],
      "text/plain": [
       "     n1 - id  n1 - name        n2 - id          n2 - name      n3 - id   \\\n",
       "0  HGNC:11364      STAT3  MONDO:0005292  colitis (disease)  CHEBI:16412   \n",
       "1  HGNC:12679        VDR  MONDO:0005520  rickets (disease)  CHEBI:17823   \n",
       "2  HGNC:11364      STAT3  MONDO:0005311    atherosclerosis  CHEBI:16243   \n",
       "3   HGNC:7794      NFKB1  MONDO:0005292  colitis (disease)  CHEBI:16412   \n",
       "4   HGNC:7794      NFKB1  MONDO:0005292  colitis (disease)   CHEBI:3962   \n",
       "\n",
       "           n3 - name      score  \n",
       "0  lipopolysaccharide  1.446089  \n",
       "1          calcitriol  1.430393  \n",
       "2           quercetin  1.346823  \n",
       "3  lipopolysaccharide  1.338951  \n",
       "4            curcumin  1.307195  "
      ]
     },
     "metadata": {},
     "output_type": "display_data"
    },
    {
     "data": {
      "text/html": [
       "<h3>asthma</h3>"
      ],
      "text/plain": [
       "<IPython.core.display.HTML object>"
      ]
     },
     "metadata": {},
     "output_type": "display_data"
    },
    {
     "data": {
      "text/html": [
       "<a href=http://robokop.renci.org/simple/view/535a1ef5-4db9-4fc1-8e6d-8593f641659e>View Answer in ROBOKOP</a>"
      ],
      "text/plain": [
       "<IPython.core.display.HTML object>"
      ]
     },
     "metadata": {},
     "output_type": "display_data"
    },
    {
     "data": {
      "text/html": [
       "<div>\n",
       "<style>\n",
       "    .dataframe thead tr:only-child th {\n",
       "        text-align: right;\n",
       "    }\n",
       "\n",
       "    .dataframe thead th {\n",
       "        text-align: left;\n",
       "    }\n",
       "\n",
       "    .dataframe tbody tr th {\n",
       "        vertical-align: top;\n",
       "    }\n",
       "</style>\n",
       "<table border=\"1\" class=\"dataframe\">\n",
       "  <thead>\n",
       "    <tr style=\"text-align: right;\">\n",
       "      <th></th>\n",
       "      <th>n1 - id</th>\n",
       "      <th>n1 - name</th>\n",
       "      <th>n2 - id</th>\n",
       "      <th>n2 - name</th>\n",
       "      <th>n3 - id</th>\n",
       "      <th>n3 - name</th>\n",
       "      <th>score</th>\n",
       "    </tr>\n",
       "  </thead>\n",
       "  <tbody>\n",
       "    <tr>\n",
       "      <th>0</th>\n",
       "      <td>HGNC:12679</td>\n",
       "      <td>VDR</td>\n",
       "      <td>MONDO:0005520</td>\n",
       "      <td>rickets (disease)</td>\n",
       "      <td>CHEBI:17823</td>\n",
       "      <td>calcitriol</td>\n",
       "      <td>1.427723</td>\n",
       "    </tr>\n",
       "    <tr>\n",
       "      <th>1</th>\n",
       "      <td>HGNC:1884</td>\n",
       "      <td>CFTR</td>\n",
       "      <td>MONDO:0009061</td>\n",
       "      <td>cystic fibrosis</td>\n",
       "      <td>CHEBI:66901</td>\n",
       "      <td>ivacaftor</td>\n",
       "      <td>1.409275</td>\n",
       "    </tr>\n",
       "    <tr>\n",
       "      <th>2</th>\n",
       "      <td>HGNC:12680</td>\n",
       "      <td>VEGFA</td>\n",
       "      <td>MONDO:0005311</td>\n",
       "      <td>atherosclerosis</td>\n",
       "      <td>CHEBI:16243</td>\n",
       "      <td>quercetin</td>\n",
       "      <td>1.312926</td>\n",
       "    </tr>\n",
       "    <tr>\n",
       "      <th>3</th>\n",
       "      <td>HGNC:4932</td>\n",
       "      <td>HLA-B</td>\n",
       "      <td>MONDO:0002144</td>\n",
       "      <td>hyperuricemia (disease)</td>\n",
       "      <td>CHEBI:40279</td>\n",
       "      <td>allopurinol</td>\n",
       "      <td>1.311589</td>\n",
       "    </tr>\n",
       "    <tr>\n",
       "      <th>4</th>\n",
       "      <td>HGNC:10593</td>\n",
       "      <td>SCN5A</td>\n",
       "      <td>MONDO:0004981</td>\n",
       "      <td>atrial fibrillation (disease)</td>\n",
       "      <td>CHEBI:28593</td>\n",
       "      <td>quinidine</td>\n",
       "      <td>1.294983</td>\n",
       "    </tr>\n",
       "  </tbody>\n",
       "</table>\n",
       "</div>"
      ],
      "text/plain": [
       "     n1 - id  n1 - name        n2 - id                      n2 - name   \\\n",
       "0  HGNC:12679        VDR  MONDO:0005520              rickets (disease)   \n",
       "1   HGNC:1884       CFTR  MONDO:0009061                cystic fibrosis   \n",
       "2  HGNC:12680      VEGFA  MONDO:0005311                atherosclerosis   \n",
       "3   HGNC:4932      HLA-B  MONDO:0002144        hyperuricemia (disease)   \n",
       "4  HGNC:10593      SCN5A  MONDO:0004981  atrial fibrillation (disease)   \n",
       "\n",
       "      n3 - id    n3 - name      score  \n",
       "0  CHEBI:17823   calcitriol  1.427723  \n",
       "1  CHEBI:66901    ivacaftor  1.409275  \n",
       "2  CHEBI:16243    quercetin  1.312926  \n",
       "3  CHEBI:40279  allopurinol  1.311589  \n",
       "4  CHEBI:28593    quinidine  1.294983  "
      ]
     },
     "metadata": {},
     "output_type": "display_data"
    },
    {
     "data": {
      "text/html": [
       "<h3>osteoporosis</h3>"
      ],
      "text/plain": [
       "<IPython.core.display.HTML object>"
      ]
     },
     "metadata": {},
     "output_type": "display_data"
    },
    {
     "data": {
      "text/html": [
       "<a href=http://robokop.renci.org/simple/view/8c74a64a-95ae-4e85-95f3-ce143a9136f0>View Answer in ROBOKOP</a>"
      ],
      "text/plain": [
       "<IPython.core.display.HTML object>"
      ]
     },
     "metadata": {},
     "output_type": "display_data"
    },
    {
     "data": {
      "text/html": [
       "<div>\n",
       "<style>\n",
       "    .dataframe thead tr:only-child th {\n",
       "        text-align: right;\n",
       "    }\n",
       "\n",
       "    .dataframe thead th {\n",
       "        text-align: left;\n",
       "    }\n",
       "\n",
       "    .dataframe tbody tr th {\n",
       "        vertical-align: top;\n",
       "    }\n",
       "</style>\n",
       "<table border=\"1\" class=\"dataframe\">\n",
       "  <thead>\n",
       "    <tr style=\"text-align: right;\">\n",
       "      <th></th>\n",
       "      <th>n1 - id</th>\n",
       "      <th>n1 - name</th>\n",
       "      <th>n2 - id</th>\n",
       "      <th>n2 - name</th>\n",
       "      <th>n3 - id</th>\n",
       "      <th>n3 - name</th>\n",
       "      <th>score</th>\n",
       "    </tr>\n",
       "  </thead>\n",
       "  <tbody>\n",
       "    <tr>\n",
       "      <th>0</th>\n",
       "      <td>HGNC:12679</td>\n",
       "      <td>VDR</td>\n",
       "      <td>MONDO:0005520</td>\n",
       "      <td>rickets (disease)</td>\n",
       "      <td>CHEBI:17823</td>\n",
       "      <td>calcitriol</td>\n",
       "      <td>1.747626</td>\n",
       "    </tr>\n",
       "    <tr>\n",
       "      <th>1</th>\n",
       "      <td>HGNC:870</td>\n",
       "      <td>ATP7B</td>\n",
       "      <td>MONDO:0010200</td>\n",
       "      <td>Wilson disease</td>\n",
       "      <td>CHEBI:28694</td>\n",
       "      <td>copper atom</td>\n",
       "      <td>1.538676</td>\n",
       "    </tr>\n",
       "    <tr>\n",
       "      <th>2</th>\n",
       "      <td>HGNC:869</td>\n",
       "      <td>ATP7A</td>\n",
       "      <td>MONDO:0010651</td>\n",
       "      <td>Menkes disease</td>\n",
       "      <td>CHEBI:28694</td>\n",
       "      <td>copper atom</td>\n",
       "      <td>1.485351</td>\n",
       "    </tr>\n",
       "    <tr>\n",
       "      <th>3</th>\n",
       "      <td>HGNC:6081</td>\n",
       "      <td>INS</td>\n",
       "      <td>MONDO:0004946</td>\n",
       "      <td>hypoglycemia</td>\n",
       "      <td>CHEBI:17234</td>\n",
       "      <td>glucose</td>\n",
       "      <td>1.372602</td>\n",
       "    </tr>\n",
       "    <tr>\n",
       "      <th>4</th>\n",
       "      <td>HGNC:5464</td>\n",
       "      <td>IGF1</td>\n",
       "      <td>MONDO:0001119</td>\n",
       "      <td>premature menopause</td>\n",
       "      <td>CHEBI:17347</td>\n",
       "      <td>testosterone</td>\n",
       "      <td>1.358151</td>\n",
       "    </tr>\n",
       "  </tbody>\n",
       "</table>\n",
       "</div>"
      ],
      "text/plain": [
       "     n1 - id  n1 - name        n2 - id            n2 - name      n3 - id   \\\n",
       "0  HGNC:12679        VDR  MONDO:0005520    rickets (disease)  CHEBI:17823   \n",
       "1    HGNC:870      ATP7B  MONDO:0010200       Wilson disease  CHEBI:28694   \n",
       "2    HGNC:869      ATP7A  MONDO:0010651       Menkes disease  CHEBI:28694   \n",
       "3   HGNC:6081        INS  MONDO:0004946         hypoglycemia  CHEBI:17234   \n",
       "4   HGNC:5464       IGF1  MONDO:0001119  premature menopause  CHEBI:17347   \n",
       "\n",
       "     n3 - name      score  \n",
       "0    calcitriol  1.747626  \n",
       "1   copper atom  1.538676  \n",
       "2   copper atom  1.485351  \n",
       "3       glucose  1.372602  \n",
       "4  testosterone  1.358151  "
      ]
     },
     "metadata": {},
     "output_type": "display_data"
    },
    {
     "data": {
      "text/html": [
       "<h3>pulmonary edema</h3>"
      ],
      "text/plain": [
       "<IPython.core.display.HTML object>"
      ]
     },
     "metadata": {},
     "output_type": "display_data"
    },
    {
     "data": {
      "text/html": [
       "<a href=http://robokop.renci.org/simple/view/027fc177-94eb-4f81-bdbb-0001955a8ede>View Answer in ROBOKOP</a>"
      ],
      "text/plain": [
       "<IPython.core.display.HTML object>"
      ]
     },
     "metadata": {},
     "output_type": "display_data"
    },
    {
     "data": {
      "text/html": [
       "<div>\n",
       "<style>\n",
       "    .dataframe thead tr:only-child th {\n",
       "        text-align: right;\n",
       "    }\n",
       "\n",
       "    .dataframe thead th {\n",
       "        text-align: left;\n",
       "    }\n",
       "\n",
       "    .dataframe tbody tr th {\n",
       "        vertical-align: top;\n",
       "    }\n",
       "</style>\n",
       "<table border=\"1\" class=\"dataframe\">\n",
       "  <thead>\n",
       "    <tr style=\"text-align: right;\">\n",
       "      <th></th>\n",
       "      <th>n1 - id</th>\n",
       "      <th>n1 - name</th>\n",
       "      <th>n2 - id</th>\n",
       "      <th>n2 - name</th>\n",
       "      <th>n3 - id</th>\n",
       "      <th>n3 - name</th>\n",
       "      <th>score</th>\n",
       "    </tr>\n",
       "  </thead>\n",
       "  <tbody>\n",
       "    <tr>\n",
       "      <th>0</th>\n",
       "      <td>HGNC:2978</td>\n",
       "      <td>DNMT3A</td>\n",
       "      <td>MONDO:0018881</td>\n",
       "      <td>myelodysplastic syndrome</td>\n",
       "      <td>CHEBI:50131</td>\n",
       "      <td>5-aza-2'-deoxycytidine</td>\n",
       "      <td>1.336300</td>\n",
       "    </tr>\n",
       "    <tr>\n",
       "      <th>1</th>\n",
       "      <td>HGNC:1884</td>\n",
       "      <td>CFTR</td>\n",
       "      <td>MONDO:0009061</td>\n",
       "      <td>cystic fibrosis</td>\n",
       "      <td>CHEBI:66901</td>\n",
       "      <td>ivacaftor</td>\n",
       "      <td>1.327842</td>\n",
       "    </tr>\n",
       "    <tr>\n",
       "      <th>2</th>\n",
       "      <td>HGNC:10593</td>\n",
       "      <td>SCN5A</td>\n",
       "      <td>MONDO:0004981</td>\n",
       "      <td>atrial fibrillation (disease)</td>\n",
       "      <td>CHEBI:28593</td>\n",
       "      <td>quinidine</td>\n",
       "      <td>1.299247</td>\n",
       "    </tr>\n",
       "    <tr>\n",
       "      <th>3</th>\n",
       "      <td>HGNC:10593</td>\n",
       "      <td>SCN5A</td>\n",
       "      <td>MONDO:0004981</td>\n",
       "      <td>atrial fibrillation (disease)</td>\n",
       "      <td>CHEBI:75984</td>\n",
       "      <td>flecainide</td>\n",
       "      <td>1.293068</td>\n",
       "    </tr>\n",
       "    <tr>\n",
       "      <th>4</th>\n",
       "      <td>HGNC:3765</td>\n",
       "      <td>FLT3</td>\n",
       "      <td>MONDO:0005005</td>\n",
       "      <td>clear cell renal carcinoma</td>\n",
       "      <td>CHEBI:50924</td>\n",
       "      <td>sorafenib</td>\n",
       "      <td>1.248246</td>\n",
       "    </tr>\n",
       "  </tbody>\n",
       "</table>\n",
       "</div>"
      ],
      "text/plain": [
       "     n1 - id  n1 - name        n2 - id                      n2 - name   \\\n",
       "0   HGNC:2978     DNMT3A  MONDO:0018881       myelodysplastic syndrome   \n",
       "1   HGNC:1884       CFTR  MONDO:0009061                cystic fibrosis   \n",
       "2  HGNC:10593      SCN5A  MONDO:0004981  atrial fibrillation (disease)   \n",
       "3  HGNC:10593      SCN5A  MONDO:0004981  atrial fibrillation (disease)   \n",
       "4   HGNC:3765       FLT3  MONDO:0005005     clear cell renal carcinoma   \n",
       "\n",
       "      n3 - id               n3 - name      score  \n",
       "0  CHEBI:50131  5-aza-2'-deoxycytidine  1.336300  \n",
       "1  CHEBI:66901               ivacaftor  1.327842  \n",
       "2  CHEBI:28593               quinidine  1.299247  \n",
       "3  CHEBI:75984              flecainide  1.293068  \n",
       "4  CHEBI:50924               sorafenib  1.248246  "
      ]
     },
     "metadata": {},
     "output_type": "display_data"
    },
    {
     "data": {
      "text/html": [
       "<h3>Parkinson disease</h3>"
      ],
      "text/plain": [
       "<IPython.core.display.HTML object>"
      ]
     },
     "metadata": {},
     "output_type": "display_data"
    },
    {
     "data": {
      "text/html": [
       "<a href=http://robokop.renci.org/simple/view/5240c359-2f24-47ed-ad36-aa29d1704418>View Answer in ROBOKOP</a>"
      ],
      "text/plain": [
       "<IPython.core.display.HTML object>"
      ]
     },
     "metadata": {},
     "output_type": "display_data"
    },
    {
     "data": {
      "text/html": [
       "<div>\n",
       "<style>\n",
       "    .dataframe thead tr:only-child th {\n",
       "        text-align: right;\n",
       "    }\n",
       "\n",
       "    .dataframe thead th {\n",
       "        text-align: left;\n",
       "    }\n",
       "\n",
       "    .dataframe tbody tr th {\n",
       "        vertical-align: top;\n",
       "    }\n",
       "</style>\n",
       "<table border=\"1\" class=\"dataframe\">\n",
       "  <thead>\n",
       "    <tr style=\"text-align: right;\">\n",
       "      <th></th>\n",
       "      <th>n1 - id</th>\n",
       "      <th>n1 - name</th>\n",
       "      <th>n2 - id</th>\n",
       "      <th>n2 - name</th>\n",
       "      <th>n3 - id</th>\n",
       "      <th>n3 - name</th>\n",
       "      <th>score</th>\n",
       "    </tr>\n",
       "  </thead>\n",
       "  <tbody>\n",
       "    <tr>\n",
       "      <th>0</th>\n",
       "      <td>HGNC:14581</td>\n",
       "      <td>PINK1</td>\n",
       "      <td>MONDO:0021095</td>\n",
       "      <td>parkinsonian disorder</td>\n",
       "      <td>CHEBI:15765</td>\n",
       "      <td>L-dopa</td>\n",
       "      <td>1.812825</td>\n",
       "    </tr>\n",
       "    <tr>\n",
       "      <th>1</th>\n",
       "      <td>HGNC:11138</td>\n",
       "      <td>SNCA</td>\n",
       "      <td>MONDO:0021095</td>\n",
       "      <td>parkinsonian disorder</td>\n",
       "      <td>CHEBI:17963</td>\n",
       "      <td>1-methyl-4-phenyl-1,2,3,6-tetrahydropyridine</td>\n",
       "      <td>1.750629</td>\n",
       "    </tr>\n",
       "    <tr>\n",
       "      <th>2</th>\n",
       "      <td>HGNC:6081</td>\n",
       "      <td>INS</td>\n",
       "      <td>MONDO:0004946</td>\n",
       "      <td>hypoglycemia</td>\n",
       "      <td>CHEBI:17234</td>\n",
       "      <td>glucose</td>\n",
       "      <td>1.579958</td>\n",
       "    </tr>\n",
       "    <tr>\n",
       "      <th>3</th>\n",
       "      <td>HGNC:8607</td>\n",
       "      <td>PRKN</td>\n",
       "      <td>MONDO:0021095</td>\n",
       "      <td>parkinsonian disorder</td>\n",
       "      <td>CHEBI:17963</td>\n",
       "      <td>1-methyl-4-phenyl-1,2,3,6-tetrahydropyridine</td>\n",
       "      <td>1.456557</td>\n",
       "    </tr>\n",
       "    <tr>\n",
       "      <th>4</th>\n",
       "      <td>HGNC:8607</td>\n",
       "      <td>PRKN</td>\n",
       "      <td>MONDO:0005192</td>\n",
       "      <td>exocrine pancreatic carcinoma</td>\n",
       "      <td>CHEBI:28201</td>\n",
       "      <td>rotenone</td>\n",
       "      <td>1.346261</td>\n",
       "    </tr>\n",
       "  </tbody>\n",
       "</table>\n",
       "</div>"
      ],
      "text/plain": [
       "     n1 - id  n1 - name        n2 - id                      n2 - name   \\\n",
       "0  HGNC:14581      PINK1  MONDO:0021095          parkinsonian disorder   \n",
       "1  HGNC:11138       SNCA  MONDO:0021095          parkinsonian disorder   \n",
       "2   HGNC:6081        INS  MONDO:0004946                   hypoglycemia   \n",
       "3   HGNC:8607       PRKN  MONDO:0021095          parkinsonian disorder   \n",
       "4   HGNC:8607       PRKN  MONDO:0005192  exocrine pancreatic carcinoma   \n",
       "\n",
       "      n3 - id                                     n3 - name      score  \n",
       "0  CHEBI:15765                                        L-dopa  1.812825  \n",
       "1  CHEBI:17963  1-methyl-4-phenyl-1,2,3,6-tetrahydropyridine  1.750629  \n",
       "2  CHEBI:17234                                       glucose  1.579958  \n",
       "3  CHEBI:17963  1-methyl-4-phenyl-1,2,3,6-tetrahydropyridine  1.456557  \n",
       "4  CHEBI:28201                                      rotenone  1.346261  "
      ]
     },
     "metadata": {},
     "output_type": "display_data"
    },
    {
     "data": {
      "text/html": [
       "<h3>arteriolosclerosis</h3>"
      ],
      "text/plain": [
       "<IPython.core.display.HTML object>"
      ]
     },
     "metadata": {},
     "output_type": "display_data"
    },
    {
     "data": {
      "text/html": [
       "<a href=http://robokop.renci.org/simple/view/e2073c59-92bb-4de9-9bae-0ab8bedefe06>View Answer in ROBOKOP</a>"
      ],
      "text/plain": [
       "<IPython.core.display.HTML object>"
      ]
     },
     "metadata": {},
     "output_type": "display_data"
    },
    {
     "data": {
      "text/html": [
       "<div>\n",
       "<style>\n",
       "    .dataframe thead tr:only-child th {\n",
       "        text-align: right;\n",
       "    }\n",
       "\n",
       "    .dataframe thead th {\n",
       "        text-align: left;\n",
       "    }\n",
       "\n",
       "    .dataframe tbody tr th {\n",
       "        vertical-align: top;\n",
       "    }\n",
       "</style>\n",
       "<table border=\"1\" class=\"dataframe\">\n",
       "  <thead>\n",
       "    <tr style=\"text-align: right;\">\n",
       "      <th></th>\n",
       "      <th>n1 - id</th>\n",
       "      <th>n1 - name</th>\n",
       "      <th>n2 - id</th>\n",
       "      <th>n2 - name</th>\n",
       "      <th>n3 - id</th>\n",
       "      <th>n3 - name</th>\n",
       "      <th>score</th>\n",
       "    </tr>\n",
       "  </thead>\n",
       "  <tbody>\n",
       "    <tr>\n",
       "      <th>0</th>\n",
       "      <td>HGNC:60</td>\n",
       "      <td>ABCC9</td>\n",
       "      <td>MONDO:0005477</td>\n",
       "      <td>ventricular tachycardia</td>\n",
       "      <td>CHEBI:31905</td>\n",
       "      <td>nicorandil</td>\n",
       "      <td>0.514291</td>\n",
       "    </tr>\n",
       "    <tr>\n",
       "      <th>1</th>\n",
       "      <td>HGNC:60</td>\n",
       "      <td>ABCC9</td>\n",
       "      <td>MONDO:0005477</td>\n",
       "      <td>ventricular tachycardia</td>\n",
       "      <td>CHEBI:91706</td>\n",
       "      <td>1-cyano-2-(3,3-dimethylbutan-2-yl)-3-pyridin-4...</td>\n",
       "      <td>0.505217</td>\n",
       "    </tr>\n",
       "    <tr>\n",
       "      <th>2</th>\n",
       "      <td>HGNC:60</td>\n",
       "      <td>ABCC9</td>\n",
       "      <td>MONDO:0005356</td>\n",
       "      <td>coronary vasospasm</td>\n",
       "      <td>CHEBI:31905</td>\n",
       "      <td>nicorandil</td>\n",
       "      <td>0.397299</td>\n",
       "    </tr>\n",
       "  </tbody>\n",
       "</table>\n",
       "</div>"
      ],
      "text/plain": [
       "  n1 - id  n1 - name        n2 - id                n2 - name      n3 - id   \\\n",
       "0  HGNC:60      ABCC9  MONDO:0005477  ventricular tachycardia  CHEBI:31905   \n",
       "1  HGNC:60      ABCC9  MONDO:0005477  ventricular tachycardia  CHEBI:91706   \n",
       "2  HGNC:60      ABCC9  MONDO:0005356       coronary vasospasm  CHEBI:31905   \n",
       "\n",
       "                                          n3 - name      score  \n",
       "0                                         nicorandil  0.514291  \n",
       "1  1-cyano-2-(3,3-dimethylbutan-2-yl)-3-pyridin-4...  0.505217  \n",
       "2                                         nicorandil  0.397299  "
      ]
     },
     "metadata": {},
     "output_type": "display_data"
    },
    {
     "data": {
      "text/html": [
       "<h3>schizophrenia</h3>"
      ],
      "text/plain": [
       "<IPython.core.display.HTML object>"
      ]
     },
     "metadata": {},
     "output_type": "display_data"
    },
    {
     "data": {
      "text/html": [
       "<a href=http://robokop.renci.org/simple/view/67281ea3-713e-4153-9eaa-716eac04e2af>View Answer in ROBOKOP</a>"
      ],
      "text/plain": [
       "<IPython.core.display.HTML object>"
      ]
     },
     "metadata": {},
     "output_type": "display_data"
    },
    {
     "data": {
      "text/html": [
       "<div>\n",
       "<style>\n",
       "    .dataframe thead tr:only-child th {\n",
       "        text-align: right;\n",
       "    }\n",
       "\n",
       "    .dataframe thead th {\n",
       "        text-align: left;\n",
       "    }\n",
       "\n",
       "    .dataframe tbody tr th {\n",
       "        vertical-align: top;\n",
       "    }\n",
       "</style>\n",
       "<table border=\"1\" class=\"dataframe\">\n",
       "  <thead>\n",
       "    <tr style=\"text-align: right;\">\n",
       "      <th></th>\n",
       "      <th>n1 - id</th>\n",
       "      <th>n1 - name</th>\n",
       "      <th>n2 - id</th>\n",
       "      <th>n2 - name</th>\n",
       "      <th>n3 - id</th>\n",
       "      <th>n3 - name</th>\n",
       "      <th>score</th>\n",
       "    </tr>\n",
       "  </thead>\n",
       "  <tbody>\n",
       "    <tr>\n",
       "      <th>0</th>\n",
       "      <td>HGNC:6081</td>\n",
       "      <td>INS</td>\n",
       "      <td>MONDO:0004946</td>\n",
       "      <td>hypoglycemia</td>\n",
       "      <td>CHEBI:17234</td>\n",
       "      <td>glucose</td>\n",
       "      <td>1.372854</td>\n",
       "    </tr>\n",
       "    <tr>\n",
       "      <th>1</th>\n",
       "      <td>HGNC:812</td>\n",
       "      <td>ATP2A2</td>\n",
       "      <td>MONDO:0005252</td>\n",
       "      <td>heart failure</td>\n",
       "      <td>CHEBI:3441</td>\n",
       "      <td>carvedilol</td>\n",
       "      <td>1.285736</td>\n",
       "    </tr>\n",
       "    <tr>\n",
       "      <th>2</th>\n",
       "      <td>HGNC:1390</td>\n",
       "      <td>CACNA1C</td>\n",
       "      <td>MONDO:0004981</td>\n",
       "      <td>atrial fibrillation (disease)</td>\n",
       "      <td>CHEBI:101278</td>\n",
       "      <td>diltiazem</td>\n",
       "      <td>1.248339</td>\n",
       "    </tr>\n",
       "    <tr>\n",
       "      <th>3</th>\n",
       "      <td>HGNC:1390</td>\n",
       "      <td>CACNA1C</td>\n",
       "      <td>MONDO:0004981</td>\n",
       "      <td>atrial fibrillation (disease)</td>\n",
       "      <td>CHEBI:77733</td>\n",
       "      <td>2-(3,4-dimethoxyphenyl)-5-\\{[2-(3,4-dimethoxyp...</td>\n",
       "      <td>1.230275</td>\n",
       "    </tr>\n",
       "    <tr>\n",
       "      <th>4</th>\n",
       "      <td>HGNC:1390</td>\n",
       "      <td>CACNA1C</td>\n",
       "      <td>MONDO:0000190</td>\n",
       "      <td>ventricular fibrillation (disease)</td>\n",
       "      <td>CHEBI:77733</td>\n",
       "      <td>2-(3,4-dimethoxyphenyl)-5-\\{[2-(3,4-dimethoxyp...</td>\n",
       "      <td>1.200322</td>\n",
       "    </tr>\n",
       "  </tbody>\n",
       "</table>\n",
       "</div>"
      ],
      "text/plain": [
       "    n1 - id  n1 - name        n2 - id                           n2 - name   \\\n",
       "0  HGNC:6081        INS  MONDO:0004946                        hypoglycemia   \n",
       "1   HGNC:812     ATP2A2  MONDO:0005252                       heart failure   \n",
       "2  HGNC:1390    CACNA1C  MONDO:0004981       atrial fibrillation (disease)   \n",
       "3  HGNC:1390    CACNA1C  MONDO:0004981       atrial fibrillation (disease)   \n",
       "4  HGNC:1390    CACNA1C  MONDO:0000190  ventricular fibrillation (disease)   \n",
       "\n",
       "       n3 - id                                          n3 - name      score  \n",
       "0   CHEBI:17234                                            glucose  1.372854  \n",
       "1    CHEBI:3441                                         carvedilol  1.285736  \n",
       "2  CHEBI:101278                                          diltiazem  1.248339  \n",
       "3   CHEBI:77733  2-(3,4-dimethoxyphenyl)-5-\\{[2-(3,4-dimethoxyp...  1.230275  \n",
       "4   CHEBI:77733  2-(3,4-dimethoxyphenyl)-5-\\{[2-(3,4-dimethoxyp...  1.200322  "
      ]
     },
     "metadata": {},
     "output_type": "display_data"
    },
    {
     "data": {
      "text/html": [
       "<h3>hypopituitarism</h3>"
      ],
      "text/plain": [
       "<IPython.core.display.HTML object>"
      ]
     },
     "metadata": {},
     "output_type": "display_data"
    },
    {
     "data": {
      "text/html": [
       "<a href=http://robokop.renci.org/simple/view/090aee5d-84af-4f33-b507-9e153dcbf98a>View Answer in ROBOKOP</a>"
      ],
      "text/plain": [
       "<IPython.core.display.HTML object>"
      ]
     },
     "metadata": {},
     "output_type": "display_data"
    },
    {
     "data": {
      "text/html": [
       "<div>\n",
       "<style>\n",
       "    .dataframe thead tr:only-child th {\n",
       "        text-align: right;\n",
       "    }\n",
       "\n",
       "    .dataframe thead th {\n",
       "        text-align: left;\n",
       "    }\n",
       "\n",
       "    .dataframe tbody tr th {\n",
       "        vertical-align: top;\n",
       "    }\n",
       "</style>\n",
       "<table border=\"1\" class=\"dataframe\">\n",
       "  <thead>\n",
       "    <tr style=\"text-align: right;\">\n",
       "      <th></th>\n",
       "      <th>n1 - id</th>\n",
       "      <th>n1 - name</th>\n",
       "      <th>n2 - id</th>\n",
       "      <th>n2 - name</th>\n",
       "      <th>n3 - id</th>\n",
       "      <th>n3 - name</th>\n",
       "      <th>score</th>\n",
       "    </tr>\n",
       "  </thead>\n",
       "  <tbody>\n",
       "    <tr>\n",
       "      <th>0</th>\n",
       "      <td>HGNC:4261</td>\n",
       "      <td>GH1</td>\n",
       "      <td>MONDO:0019933</td>\n",
       "      <td>acromegaly</td>\n",
       "      <td>CHEMBL:CHEMBL1680</td>\n",
       "      <td>OCTREOTIDE</td>\n",
       "      <td>1.646652</td>\n",
       "    </tr>\n",
       "    <tr>\n",
       "      <th>1</th>\n",
       "      <td>HGNC:4261</td>\n",
       "      <td>GH1</td>\n",
       "      <td>MONDO:0019933</td>\n",
       "      <td>acromegaly</td>\n",
       "      <td>CHEBI:3181</td>\n",
       "      <td>bromocriptine</td>\n",
       "      <td>1.538487</td>\n",
       "    </tr>\n",
       "    <tr>\n",
       "      <th>2</th>\n",
       "      <td>HGNC:9445</td>\n",
       "      <td>PRL</td>\n",
       "      <td>MONDO:0010911</td>\n",
       "      <td>prolactin-producing pituitary gland adenoma</td>\n",
       "      <td>CHEBI:3181</td>\n",
       "      <td>bromocriptine</td>\n",
       "      <td>1.476093</td>\n",
       "    </tr>\n",
       "    <tr>\n",
       "      <th>3</th>\n",
       "      <td>HGNC:9445</td>\n",
       "      <td>PRL</td>\n",
       "      <td>MONDO:0005804</td>\n",
       "      <td>hyperprolactinemia (disease)</td>\n",
       "      <td>CHEBI:3181</td>\n",
       "      <td>bromocriptine</td>\n",
       "      <td>1.448747</td>\n",
       "    </tr>\n",
       "    <tr>\n",
       "      <th>4</th>\n",
       "      <td>HGNC:6081</td>\n",
       "      <td>INS</td>\n",
       "      <td>MONDO:0004946</td>\n",
       "      <td>hypoglycemia</td>\n",
       "      <td>CHEBI:17234</td>\n",
       "      <td>glucose</td>\n",
       "      <td>1.394252</td>\n",
       "    </tr>\n",
       "  </tbody>\n",
       "</table>\n",
       "</div>"
      ],
      "text/plain": [
       "    n1 - id  n1 - name        n2 - id   \\\n",
       "0  HGNC:4261        GH1  MONDO:0019933   \n",
       "1  HGNC:4261        GH1  MONDO:0019933   \n",
       "2  HGNC:9445        PRL  MONDO:0010911   \n",
       "3  HGNC:9445        PRL  MONDO:0005804   \n",
       "4  HGNC:6081        INS  MONDO:0004946   \n",
       "\n",
       "                                    n2 - name            n3 - id   \\\n",
       "0                                   acromegaly  CHEMBL:CHEMBL1680   \n",
       "1                                   acromegaly         CHEBI:3181   \n",
       "2  prolactin-producing pituitary gland adenoma         CHEBI:3181   \n",
       "3                 hyperprolactinemia (disease)         CHEBI:3181   \n",
       "4                                 hypoglycemia        CHEBI:17234   \n",
       "\n",
       "      n3 - name      score  \n",
       "0     OCTREOTIDE  1.646652  \n",
       "1  bromocriptine  1.538487  \n",
       "2  bromocriptine  1.476093  \n",
       "3  bromocriptine  1.448747  \n",
       "4        glucose  1.394252  "
      ]
     },
     "metadata": {},
     "output_type": "display_data"
    },
    {
     "data": {
      "text/html": [
       "<h3>facial paralysis</h3>"
      ],
      "text/plain": [
       "<IPython.core.display.HTML object>"
      ]
     },
     "metadata": {},
     "output_type": "display_data"
    },
    {
     "data": {
      "text/html": [
       "<a href=http://robokop.renci.org/simple/view/fa7eb2e7-de8a-4da3-9818-3b5141ac34b7>View Answer in ROBOKOP</a>"
      ],
      "text/plain": [
       "<IPython.core.display.HTML object>"
      ]
     },
     "metadata": {},
     "output_type": "display_data"
    },
    {
     "data": {
      "text/html": [
       "<div>\n",
       "<style>\n",
       "    .dataframe thead tr:only-child th {\n",
       "        text-align: right;\n",
       "    }\n",
       "\n",
       "    .dataframe thead th {\n",
       "        text-align: left;\n",
       "    }\n",
       "\n",
       "    .dataframe tbody tr th {\n",
       "        vertical-align: top;\n",
       "    }\n",
       "</style>\n",
       "<table border=\"1\" class=\"dataframe\">\n",
       "  <thead>\n",
       "    <tr style=\"text-align: right;\">\n",
       "      <th></th>\n",
       "      <th>n1 - id</th>\n",
       "      <th>n1 - name</th>\n",
       "      <th>n2 - id</th>\n",
       "      <th>n2 - name</th>\n",
       "      <th>n3 - id</th>\n",
       "      <th>n3 - name</th>\n",
       "      <th>score</th>\n",
       "    </tr>\n",
       "  </thead>\n",
       "  <tbody>\n",
       "    <tr>\n",
       "      <th>0</th>\n",
       "      <td>HGNC:10483</td>\n",
       "      <td>RYR1</td>\n",
       "      <td>MONDO:0018493</td>\n",
       "      <td>malignant hyperthermia of anesthesia</td>\n",
       "      <td>CHEBI:4317</td>\n",
       "      <td>dantrolene</td>\n",
       "      <td>1.269727</td>\n",
       "    </tr>\n",
       "    <tr>\n",
       "      <th>1</th>\n",
       "      <td>HGNC:4274</td>\n",
       "      <td>GJA1</td>\n",
       "      <td>MONDO:0004946</td>\n",
       "      <td>hypoglycemia</td>\n",
       "      <td>CHEBI:17234</td>\n",
       "      <td>glucose</td>\n",
       "      <td>1.000691</td>\n",
       "    </tr>\n",
       "    <tr>\n",
       "      <th>2</th>\n",
       "      <td>HGNC:7436</td>\n",
       "      <td>MTHFR</td>\n",
       "      <td>MONDO:0003634</td>\n",
       "      <td>proteinuria</td>\n",
       "      <td>CHEBI:3011</td>\n",
       "      <td>benazepril</td>\n",
       "      <td>0.990558</td>\n",
       "    </tr>\n",
       "    <tr>\n",
       "      <th>3</th>\n",
       "      <td>HGNC:4235</td>\n",
       "      <td>GFAP</td>\n",
       "      <td>MONDO:0001442</td>\n",
       "      <td>dysthymic disorder</td>\n",
       "      <td>CHEBI:86990</td>\n",
       "      <td>N-methyl-3-phenyl-3-[4-(trifluoromethyl)phenox...</td>\n",
       "      <td>0.888594</td>\n",
       "    </tr>\n",
       "    <tr>\n",
       "      <th>4</th>\n",
       "      <td>HGNC:3026</td>\n",
       "      <td>DRD5</td>\n",
       "      <td>MONDO:0016058</td>\n",
       "      <td>paroxysmal dystonia</td>\n",
       "      <td>CHEBI:15765</td>\n",
       "      <td>L-dopa</td>\n",
       "      <td>0.870816</td>\n",
       "    </tr>\n",
       "  </tbody>\n",
       "</table>\n",
       "</div>"
      ],
      "text/plain": [
       "     n1 - id  n1 - name        n2 - id                             n2 - name   \\\n",
       "0  HGNC:10483       RYR1  MONDO:0018493  malignant hyperthermia of anesthesia   \n",
       "1   HGNC:4274       GJA1  MONDO:0004946                          hypoglycemia   \n",
       "2   HGNC:7436      MTHFR  MONDO:0003634                           proteinuria   \n",
       "3   HGNC:4235       GFAP  MONDO:0001442                    dysthymic disorder   \n",
       "4   HGNC:3026       DRD5  MONDO:0016058                   paroxysmal dystonia   \n",
       "\n",
       "      n3 - id                                          n3 - name      score  \n",
       "0   CHEBI:4317                                         dantrolene  1.269727  \n",
       "1  CHEBI:17234                                            glucose  1.000691  \n",
       "2   CHEBI:3011                                         benazepril  0.990558  \n",
       "3  CHEBI:86990  N-methyl-3-phenyl-3-[4-(trifluoromethyl)phenox...  0.888594  \n",
       "4  CHEBI:15765                                             L-dopa  0.870816  "
      ]
     },
     "metadata": {},
     "output_type": "display_data"
    },
    {
     "data": {
      "text/html": [
       "<h3>polyneuropathy</h3>"
      ],
      "text/plain": [
       "<IPython.core.display.HTML object>"
      ]
     },
     "metadata": {},
     "output_type": "display_data"
    },
    {
     "data": {
      "text/html": [
       "<a href=http://robokop.renci.org/simple/view/b071196e-c2ec-4d4d-b4d7-cf92fc07e117>View Answer in ROBOKOP</a>"
      ],
      "text/plain": [
       "<IPython.core.display.HTML object>"
      ]
     },
     "metadata": {},
     "output_type": "display_data"
    },
    {
     "data": {
      "text/html": [
       "<div>\n",
       "<style>\n",
       "    .dataframe thead tr:only-child th {\n",
       "        text-align: right;\n",
       "    }\n",
       "\n",
       "    .dataframe thead th {\n",
       "        text-align: left;\n",
       "    }\n",
       "\n",
       "    .dataframe tbody tr th {\n",
       "        vertical-align: top;\n",
       "    }\n",
       "</style>\n",
       "<table border=\"1\" class=\"dataframe\">\n",
       "  <thead>\n",
       "    <tr style=\"text-align: right;\">\n",
       "      <th></th>\n",
       "      <th>n1 - id</th>\n",
       "      <th>n1 - name</th>\n",
       "      <th>n2 - id</th>\n",
       "      <th>n2 - name</th>\n",
       "      <th>n3 - id</th>\n",
       "      <th>n3 - name</th>\n",
       "      <th>score</th>\n",
       "    </tr>\n",
       "  </thead>\n",
       "  <tbody>\n",
       "    <tr>\n",
       "      <th>0</th>\n",
       "      <td>HGNC:870</td>\n",
       "      <td>ATP7B</td>\n",
       "      <td>MONDO:0010200</td>\n",
       "      <td>Wilson disease</td>\n",
       "      <td>CHEBI:28694</td>\n",
       "      <td>copper atom</td>\n",
       "      <td>1.495689</td>\n",
       "    </tr>\n",
       "    <tr>\n",
       "      <th>1</th>\n",
       "      <td>HGNC:6081</td>\n",
       "      <td>INS</td>\n",
       "      <td>MONDO:0004946</td>\n",
       "      <td>hypoglycemia</td>\n",
       "      <td>CHEBI:17234</td>\n",
       "      <td>glucose</td>\n",
       "      <td>1.459794</td>\n",
       "    </tr>\n",
       "    <tr>\n",
       "      <th>2</th>\n",
       "      <td>HGNC:869</td>\n",
       "      <td>ATP7A</td>\n",
       "      <td>MONDO:0010651</td>\n",
       "      <td>Menkes disease</td>\n",
       "      <td>CHEBI:28694</td>\n",
       "      <td>copper atom</td>\n",
       "      <td>1.325956</td>\n",
       "    </tr>\n",
       "    <tr>\n",
       "      <th>3</th>\n",
       "      <td>HGNC:29</td>\n",
       "      <td>ABCA1</td>\n",
       "      <td>MONDO:0011393</td>\n",
       "      <td>apolipoprotein A-I deficiency</td>\n",
       "      <td>CHEBI:15940</td>\n",
       "      <td>nicotinic acid</td>\n",
       "      <td>1.277749</td>\n",
       "    </tr>\n",
       "    <tr>\n",
       "      <th>4</th>\n",
       "      <td>HGNC:29</td>\n",
       "      <td>ABCA1</td>\n",
       "      <td>MONDO:0005311</td>\n",
       "      <td>atherosclerosis</td>\n",
       "      <td>CHEBI:16243</td>\n",
       "      <td>quercetin</td>\n",
       "      <td>1.212777</td>\n",
       "    </tr>\n",
       "  </tbody>\n",
       "</table>\n",
       "</div>"
      ],
      "text/plain": [
       "    n1 - id  n1 - name        n2 - id                      n2 - name   \\\n",
       "0   HGNC:870      ATP7B  MONDO:0010200                 Wilson disease   \n",
       "1  HGNC:6081        INS  MONDO:0004946                   hypoglycemia   \n",
       "2   HGNC:869      ATP7A  MONDO:0010651                 Menkes disease   \n",
       "3    HGNC:29      ABCA1  MONDO:0011393  apolipoprotein A-I deficiency   \n",
       "4    HGNC:29      ABCA1  MONDO:0005311                atherosclerosis   \n",
       "\n",
       "      n3 - id       n3 - name      score  \n",
       "0  CHEBI:28694     copper atom  1.495689  \n",
       "1  CHEBI:17234         glucose  1.459794  \n",
       "2  CHEBI:28694     copper atom  1.325956  \n",
       "3  CHEBI:15940  nicotinic acid  1.277749  \n",
       "4  CHEBI:16243       quercetin  1.212777  "
      ]
     },
     "metadata": {},
     "output_type": "display_data"
    },
    {
     "data": {
      "text/html": [
       "<h3>multiple sclerosis</h3>"
      ],
      "text/plain": [
       "<IPython.core.display.HTML object>"
      ]
     },
     "metadata": {},
     "output_type": "display_data"
    },
    {
     "data": {
      "text/html": [
       "<a href=http://robokop.renci.org/simple/view/31342109-b828-4e42-99eb-61f4379ba2b9>View Answer in ROBOKOP</a>"
      ],
      "text/plain": [
       "<IPython.core.display.HTML object>"
      ]
     },
     "metadata": {},
     "output_type": "display_data"
    },
    {
     "data": {
      "text/html": [
       "<div>\n",
       "<style>\n",
       "    .dataframe thead tr:only-child th {\n",
       "        text-align: right;\n",
       "    }\n",
       "\n",
       "    .dataframe thead th {\n",
       "        text-align: left;\n",
       "    }\n",
       "\n",
       "    .dataframe tbody tr th {\n",
       "        vertical-align: top;\n",
       "    }\n",
       "</style>\n",
       "<table border=\"1\" class=\"dataframe\">\n",
       "  <thead>\n",
       "    <tr style=\"text-align: right;\">\n",
       "      <th></th>\n",
       "      <th>n1 - id</th>\n",
       "      <th>n1 - name</th>\n",
       "      <th>n2 - id</th>\n",
       "      <th>n2 - name</th>\n",
       "      <th>n3 - id</th>\n",
       "      <th>n3 - name</th>\n",
       "      <th>score</th>\n",
       "    </tr>\n",
       "  </thead>\n",
       "  <tbody>\n",
       "    <tr>\n",
       "      <th>0</th>\n",
       "      <td>HGNC:12679</td>\n",
       "      <td>VDR</td>\n",
       "      <td>MONDO:0005520</td>\n",
       "      <td>rickets (disease)</td>\n",
       "      <td>CHEBI:17823</td>\n",
       "      <td>calcitriol</td>\n",
       "      <td>1.840411</td>\n",
       "    </tr>\n",
       "    <tr>\n",
       "      <th>1</th>\n",
       "      <td>HGNC:12679</td>\n",
       "      <td>VDR</td>\n",
       "      <td>MONDO:0006964</td>\n",
       "      <td>secondary hyperparathyroidism (disease)</td>\n",
       "      <td>CHEBI:17823</td>\n",
       "      <td>calcitriol</td>\n",
       "      <td>1.406516</td>\n",
       "    </tr>\n",
       "    <tr>\n",
       "      <th>2</th>\n",
       "      <td>HGNC:12679</td>\n",
       "      <td>VDR</td>\n",
       "      <td>MONDO:0007008</td>\n",
       "      <td>uremia</td>\n",
       "      <td>CHEBI:17823</td>\n",
       "      <td>calcitriol</td>\n",
       "      <td>1.249197</td>\n",
       "    </tr>\n",
       "    <tr>\n",
       "      <th>3</th>\n",
       "      <td>HGNC:12679</td>\n",
       "      <td>VDR</td>\n",
       "      <td>MONDO:0005520</td>\n",
       "      <td>rickets (disease)</td>\n",
       "      <td>CHEBI:31186</td>\n",
       "      <td>alfacalcidol</td>\n",
       "      <td>1.212373</td>\n",
       "    </tr>\n",
       "    <tr>\n",
       "      <th>4</th>\n",
       "      <td>HGNC:11364</td>\n",
       "      <td>STAT3</td>\n",
       "      <td>MONDO:0005311</td>\n",
       "      <td>atherosclerosis</td>\n",
       "      <td>CHEBI:16243</td>\n",
       "      <td>quercetin</td>\n",
       "      <td>1.211765</td>\n",
       "    </tr>\n",
       "  </tbody>\n",
       "</table>\n",
       "</div>"
      ],
      "text/plain": [
       "     n1 - id  n1 - name        n2 - id   \\\n",
       "0  HGNC:12679        VDR  MONDO:0005520   \n",
       "1  HGNC:12679        VDR  MONDO:0006964   \n",
       "2  HGNC:12679        VDR  MONDO:0007008   \n",
       "3  HGNC:12679        VDR  MONDO:0005520   \n",
       "4  HGNC:11364      STAT3  MONDO:0005311   \n",
       "\n",
       "                                n2 - name      n3 - id     n3 - name   \\\n",
       "0                        rickets (disease)  CHEBI:17823    calcitriol   \n",
       "1  secondary hyperparathyroidism (disease)  CHEBI:17823    calcitriol   \n",
       "2                                   uremia  CHEBI:17823    calcitriol   \n",
       "3                        rickets (disease)  CHEBI:31186  alfacalcidol   \n",
       "4                          atherosclerosis  CHEBI:16243     quercetin   \n",
       "\n",
       "      score  \n",
       "0  1.840411  \n",
       "1  1.406516  \n",
       "2  1.249197  \n",
       "3  1.212373  \n",
       "4  1.211765  "
      ]
     },
     "metadata": {},
     "output_type": "display_data"
    },
    {
     "data": {
      "text/html": [
       "<h3>alcoholic liver cirrhosis</h3>"
      ],
      "text/plain": [
       "<IPython.core.display.HTML object>"
      ]
     },
     "metadata": {},
     "output_type": "display_data"
    },
    {
     "data": {
      "text/html": [
       "<a href=http://robokop.renci.org/simple/view/81ac27b1-e9ed-4d56-b817-edaafee4f7de>View Answer in ROBOKOP</a>"
      ],
      "text/plain": [
       "<IPython.core.display.HTML object>"
      ]
     },
     "metadata": {},
     "output_type": "display_data"
    },
    {
     "data": {
      "text/html": [
       "<div>\n",
       "<style>\n",
       "    .dataframe thead tr:only-child th {\n",
       "        text-align: right;\n",
       "    }\n",
       "\n",
       "    .dataframe thead th {\n",
       "        text-align: left;\n",
       "    }\n",
       "\n",
       "    .dataframe tbody tr th {\n",
       "        vertical-align: top;\n",
       "    }\n",
       "</style>\n",
       "<table border=\"1\" class=\"dataframe\">\n",
       "  <thead>\n",
       "    <tr style=\"text-align: right;\">\n",
       "      <th></th>\n",
       "      <th>n1 - id</th>\n",
       "      <th>n1 - name</th>\n",
       "      <th>n2 - id</th>\n",
       "      <th>n2 - name</th>\n",
       "      <th>n3 - id</th>\n",
       "      <th>n3 - name</th>\n",
       "      <th>score</th>\n",
       "    </tr>\n",
       "  </thead>\n",
       "  <tbody>\n",
       "    <tr>\n",
       "      <th>0</th>\n",
       "      <td>HGNC:2631</td>\n",
       "      <td>CYP2E1</td>\n",
       "      <td>MONDO:0002046</td>\n",
       "      <td>alcohol abuse</td>\n",
       "      <td>CHEBI:4659</td>\n",
       "      <td>disulfiram</td>\n",
       "      <td>1.167107</td>\n",
       "    </tr>\n",
       "    <tr>\n",
       "      <th>1</th>\n",
       "      <td>HGNC:11766</td>\n",
       "      <td>TGFB1</td>\n",
       "      <td>MONDO:0003634</td>\n",
       "      <td>proteinuria</td>\n",
       "      <td>CHEBI:6541</td>\n",
       "      <td>losartan</td>\n",
       "      <td>1.119471</td>\n",
       "    </tr>\n",
       "    <tr>\n",
       "      <th>2</th>\n",
       "      <td>HGNC:11766</td>\n",
       "      <td>TGFB1</td>\n",
       "      <td>MONDO:0005016</td>\n",
       "      <td>diabetic nephropathy</td>\n",
       "      <td>CHEBI:3011</td>\n",
       "      <td>benazepril</td>\n",
       "      <td>1.080385</td>\n",
       "    </tr>\n",
       "    <tr>\n",
       "      <th>3</th>\n",
       "      <td>HGNC:11766</td>\n",
       "      <td>TGFB1</td>\n",
       "      <td>MONDO:0005363</td>\n",
       "      <td>focal segmental glomerulosclerosis</td>\n",
       "      <td>CHEBI:6541</td>\n",
       "      <td>losartan</td>\n",
       "      <td>1.074401</td>\n",
       "    </tr>\n",
       "    <tr>\n",
       "      <th>4</th>\n",
       "      <td>HGNC:11766</td>\n",
       "      <td>TGFB1</td>\n",
       "      <td>MONDO:0013209</td>\n",
       "      <td>non-alcoholic fatty liver disease</td>\n",
       "      <td>CHEBI:16243</td>\n",
       "      <td>quercetin</td>\n",
       "      <td>1.072216</td>\n",
       "    </tr>\n",
       "  </tbody>\n",
       "</table>\n",
       "</div>"
      ],
      "text/plain": [
       "     n1 - id  n1 - name        n2 - id                           n2 - name   \\\n",
       "0   HGNC:2631     CYP2E1  MONDO:0002046                       alcohol abuse   \n",
       "1  HGNC:11766      TGFB1  MONDO:0003634                         proteinuria   \n",
       "2  HGNC:11766      TGFB1  MONDO:0005016                diabetic nephropathy   \n",
       "3  HGNC:11766      TGFB1  MONDO:0005363  focal segmental glomerulosclerosis   \n",
       "4  HGNC:11766      TGFB1  MONDO:0013209   non-alcoholic fatty liver disease   \n",
       "\n",
       "      n3 - id   n3 - name      score  \n",
       "0   CHEBI:4659  disulfiram  1.167107  \n",
       "1   CHEBI:6541    losartan  1.119471  \n",
       "2   CHEBI:3011  benazepril  1.080385  \n",
       "3   CHEBI:6541    losartan  1.074401  \n",
       "4  CHEBI:16243   quercetin  1.072216  "
      ]
     },
     "metadata": {},
     "output_type": "display_data"
    },
    {
     "data": {
      "text/html": [
       "<h3>xeroderma pigmentosum</h3>"
      ],
      "text/plain": [
       "<IPython.core.display.HTML object>"
      ]
     },
     "metadata": {},
     "output_type": "display_data"
    },
    {
     "data": {
      "text/html": [
       "<a href=http://robokop.renci.org/simple/view/d40a2b60-64eb-4691-b7d5-15f581e1a519>View Answer in ROBOKOP</a>"
      ],
      "text/plain": [
       "<IPython.core.display.HTML object>"
      ]
     },
     "metadata": {},
     "output_type": "display_data"
    },
    {
     "data": {
      "text/html": [
       "<div>\n",
       "<style>\n",
       "    .dataframe thead tr:only-child th {\n",
       "        text-align: right;\n",
       "    }\n",
       "\n",
       "    .dataframe thead th {\n",
       "        text-align: left;\n",
       "    }\n",
       "\n",
       "    .dataframe tbody tr th {\n",
       "        vertical-align: top;\n",
       "    }\n",
       "</style>\n",
       "<table border=\"1\" class=\"dataframe\">\n",
       "  <thead>\n",
       "    <tr style=\"text-align: right;\">\n",
       "      <th></th>\n",
       "      <th>n1 - id</th>\n",
       "      <th>n1 - name</th>\n",
       "      <th>n2 - id</th>\n",
       "      <th>n2 - name</th>\n",
       "      <th>n3 - id</th>\n",
       "      <th>n3 - name</th>\n",
       "      <th>score</th>\n",
       "    </tr>\n",
       "  </thead>\n",
       "  <tbody>\n",
       "    <tr>\n",
       "      <th>0</th>\n",
       "      <td>HGNC:3434</td>\n",
       "      <td>ERCC2</td>\n",
       "      <td>MONDO:0021085</td>\n",
       "      <td>gastric neoplasm</td>\n",
       "      <td>CHEBI:31941</td>\n",
       "      <td>oxaliplatin</td>\n",
       "      <td>1.038074</td>\n",
       "    </tr>\n",
       "    <tr>\n",
       "      <th>1</th>\n",
       "      <td>HGNC:3436</td>\n",
       "      <td>ERCC4</td>\n",
       "      <td>MONDO:0005447</td>\n",
       "      <td>testicular cancer</td>\n",
       "      <td>CHEBI:3139</td>\n",
       "      <td>bleomycin A2</td>\n",
       "      <td>1.016866</td>\n",
       "    </tr>\n",
       "    <tr>\n",
       "      <th>2</th>\n",
       "      <td>HGNC:795</td>\n",
       "      <td>ATM</td>\n",
       "      <td>MONDO:0018881</td>\n",
       "      <td>myelodysplastic syndrome</td>\n",
       "      <td>CHEBI:50131</td>\n",
       "      <td>5-aza-2'-deoxycytidine</td>\n",
       "      <td>0.992064</td>\n",
       "    </tr>\n",
       "    <tr>\n",
       "      <th>3</th>\n",
       "      <td>HGNC:795</td>\n",
       "      <td>ATM</td>\n",
       "      <td>MONDO:0005615</td>\n",
       "      <td>plasmacytoma</td>\n",
       "      <td>CHEBI:52717</td>\n",
       "      <td>bortezomib</td>\n",
       "      <td>0.983665</td>\n",
       "    </tr>\n",
       "    <tr>\n",
       "      <th>4</th>\n",
       "      <td>HGNC:9817</td>\n",
       "      <td>RAD51</td>\n",
       "      <td>MONDO:0018881</td>\n",
       "      <td>myelodysplastic syndrome</td>\n",
       "      <td>CHEBI:50131</td>\n",
       "      <td>5-aza-2'-deoxycytidine</td>\n",
       "      <td>0.939744</td>\n",
       "    </tr>\n",
       "  </tbody>\n",
       "</table>\n",
       "</div>"
      ],
      "text/plain": [
       "    n1 - id  n1 - name        n2 - id                 n2 - name      n3 - id   \\\n",
       "0  HGNC:3434      ERCC2  MONDO:0021085          gastric neoplasm  CHEBI:31941   \n",
       "1  HGNC:3436      ERCC4  MONDO:0005447         testicular cancer   CHEBI:3139   \n",
       "2   HGNC:795        ATM  MONDO:0018881  myelodysplastic syndrome  CHEBI:50131   \n",
       "3   HGNC:795        ATM  MONDO:0005615              plasmacytoma  CHEBI:52717   \n",
       "4  HGNC:9817      RAD51  MONDO:0018881  myelodysplastic syndrome  CHEBI:50131   \n",
       "\n",
       "               n3 - name      score  \n",
       "0             oxaliplatin  1.038074  \n",
       "1            bleomycin A2  1.016866  \n",
       "2  5-aza-2'-deoxycytidine  0.992064  \n",
       "3              bortezomib  0.983665  \n",
       "4  5-aza-2'-deoxycytidine  0.939744  "
      ]
     },
     "metadata": {},
     "output_type": "display_data"
    },
    {
     "data": {
      "text/html": [
       "<h3>cockayne syndrome</h3>"
      ],
      "text/plain": [
       "<IPython.core.display.HTML object>"
      ]
     },
     "metadata": {},
     "output_type": "display_data"
    },
    {
     "data": {
      "text/html": [
       "<a href=http://robokop.renci.org/simple/view/6f27c977-1639-4703-b1b2-4dcc18a65583>View Answer in ROBOKOP</a>"
      ],
      "text/plain": [
       "<IPython.core.display.HTML object>"
      ]
     },
     "metadata": {},
     "output_type": "display_data"
    },
    {
     "data": {
      "text/html": [
       "<div>\n",
       "<style>\n",
       "    .dataframe thead tr:only-child th {\n",
       "        text-align: right;\n",
       "    }\n",
       "\n",
       "    .dataframe thead th {\n",
       "        text-align: left;\n",
       "    }\n",
       "\n",
       "    .dataframe tbody tr th {\n",
       "        vertical-align: top;\n",
       "    }\n",
       "</style>\n",
       "<table border=\"1\" class=\"dataframe\">\n",
       "  <thead>\n",
       "    <tr style=\"text-align: right;\">\n",
       "      <th></th>\n",
       "      <th>n1 - id</th>\n",
       "      <th>n1 - name</th>\n",
       "      <th>n2 - id</th>\n",
       "      <th>n2 - name</th>\n",
       "      <th>n3 - id</th>\n",
       "      <th>n3 - name</th>\n",
       "      <th>score</th>\n",
       "    </tr>\n",
       "  </thead>\n",
       "  <tbody>\n",
       "    <tr>\n",
       "      <th>0</th>\n",
       "      <td>HGNC:3433</td>\n",
       "      <td>ERCC1</td>\n",
       "      <td>MONDO:0005061</td>\n",
       "      <td>lung adenocarcinoma</td>\n",
       "      <td>CHEBI:49668</td>\n",
       "      <td>gefitinib</td>\n",
       "      <td>0.873201</td>\n",
       "    </tr>\n",
       "    <tr>\n",
       "      <th>1</th>\n",
       "      <td>HGNC:3434</td>\n",
       "      <td>ERCC2</td>\n",
       "      <td>MONDO:0021085</td>\n",
       "      <td>gastric neoplasm</td>\n",
       "      <td>CHEBI:31941</td>\n",
       "      <td>oxaliplatin</td>\n",
       "      <td>0.853146</td>\n",
       "    </tr>\n",
       "    <tr>\n",
       "      <th>2</th>\n",
       "      <td>HGNC:3433</td>\n",
       "      <td>ERCC1</td>\n",
       "      <td>MONDO:0005447</td>\n",
       "      <td>testicular cancer</td>\n",
       "      <td>CHEBI:3139</td>\n",
       "      <td>bleomycin A2</td>\n",
       "      <td>0.806658</td>\n",
       "    </tr>\n",
       "    <tr>\n",
       "      <th>3</th>\n",
       "      <td>HGNC:9817</td>\n",
       "      <td>RAD51</td>\n",
       "      <td>MONDO:0018881</td>\n",
       "      <td>myelodysplastic syndrome</td>\n",
       "      <td>CHEBI:50131</td>\n",
       "      <td>5-aza-2'-deoxycytidine</td>\n",
       "      <td>0.801241</td>\n",
       "    </tr>\n",
       "    <tr>\n",
       "      <th>4</th>\n",
       "      <td>HGNC:3433</td>\n",
       "      <td>ERCC1</td>\n",
       "      <td>MONDO:0021085</td>\n",
       "      <td>gastric neoplasm</td>\n",
       "      <td>CHEBI:31941</td>\n",
       "      <td>oxaliplatin</td>\n",
       "      <td>0.800921</td>\n",
       "    </tr>\n",
       "  </tbody>\n",
       "</table>\n",
       "</div>"
      ],
      "text/plain": [
       "    n1 - id  n1 - name        n2 - id                 n2 - name      n3 - id   \\\n",
       "0  HGNC:3433      ERCC1  MONDO:0005061       lung adenocarcinoma  CHEBI:49668   \n",
       "1  HGNC:3434      ERCC2  MONDO:0021085          gastric neoplasm  CHEBI:31941   \n",
       "2  HGNC:3433      ERCC1  MONDO:0005447         testicular cancer   CHEBI:3139   \n",
       "3  HGNC:9817      RAD51  MONDO:0018881  myelodysplastic syndrome  CHEBI:50131   \n",
       "4  HGNC:3433      ERCC1  MONDO:0021085          gastric neoplasm  CHEBI:31941   \n",
       "\n",
       "               n3 - name      score  \n",
       "0               gefitinib  0.873201  \n",
       "1             oxaliplatin  0.853146  \n",
       "2            bleomycin A2  0.806658  \n",
       "3  5-aza-2'-deoxycytidine  0.801241  \n",
       "4             oxaliplatin  0.800921  "
      ]
     },
     "metadata": {},
     "output_type": "display_data"
    },
    {
     "data": {
      "text/html": [
       "<h3>UV-sensitive syndrome</h3>"
      ],
      "text/plain": [
       "<IPython.core.display.HTML object>"
      ]
     },
     "metadata": {},
     "output_type": "display_data"
    },
    {
     "data": {
      "text/html": [
       "<a href=http://robokop.renci.org/simple/view/a7eaa0e2-d98d-425a-9699-43581f98aba9>View Answer in ROBOKOP</a>"
      ],
      "text/plain": [
       "<IPython.core.display.HTML object>"
      ]
     },
     "metadata": {},
     "output_type": "display_data"
    },
    {
     "data": {
      "text/html": [
       "<div>\n",
       "<style>\n",
       "    .dataframe thead tr:only-child th {\n",
       "        text-align: right;\n",
       "    }\n",
       "\n",
       "    .dataframe thead th {\n",
       "        text-align: left;\n",
       "    }\n",
       "\n",
       "    .dataframe tbody tr th {\n",
       "        vertical-align: top;\n",
       "    }\n",
       "</style>\n",
       "<table border=\"1\" class=\"dataframe\">\n",
       "  <thead>\n",
       "    <tr style=\"text-align: right;\">\n",
       "      <th></th>\n",
       "      <th>n1 - id</th>\n",
       "      <th>n1 - name</th>\n",
       "      <th>n2 - id</th>\n",
       "      <th>n2 - name</th>\n",
       "      <th>n3 - id</th>\n",
       "      <th>n3 - name</th>\n",
       "      <th>score</th>\n",
       "    </tr>\n",
       "  </thead>\n",
       "  <tbody>\n",
       "    <tr>\n",
       "      <th>0</th>\n",
       "      <td>HGNC:3438</td>\n",
       "      <td>ERCC6</td>\n",
       "      <td>MONDO:0016006</td>\n",
       "      <td>Cockayne syndrome</td>\n",
       "      <td>CHEBI:44215</td>\n",
       "      <td>NAD zwitterion</td>\n",
       "      <td>0.45993</td>\n",
       "    </tr>\n",
       "  </tbody>\n",
       "</table>\n",
       "</div>"
      ],
      "text/plain": [
       "    n1 - id  n1 - name        n2 - id          n2 - name      n3 - id   \\\n",
       "0  HGNC:3438      ERCC6  MONDO:0016006  Cockayne syndrome  CHEBI:44215   \n",
       "\n",
       "       n3 - name     score  \n",
       "0  NAD zwitterion  0.45993  "
      ]
     },
     "metadata": {},
     "output_type": "display_data"
    },
    {
     "data": {
      "text/html": [
       "<h3>Triciothiodystrophy</h3>"
      ],
      "text/plain": [
       "<IPython.core.display.HTML object>"
      ]
     },
     "metadata": {},
     "output_type": "display_data"
    },
    {
     "data": {
      "text/html": [
       "<a href=http://robokop.renci.org/simple/view/a7fb70ab-90ef-448a-96a5-2a4fecffdadf>View Answer in ROBOKOP</a>"
      ],
      "text/plain": [
       "<IPython.core.display.HTML object>"
      ]
     },
     "metadata": {},
     "output_type": "display_data"
    },
    {
     "data": {
      "text/html": [
       "<div>\n",
       "<style>\n",
       "    .dataframe thead tr:only-child th {\n",
       "        text-align: right;\n",
       "    }\n",
       "\n",
       "    .dataframe thead th {\n",
       "        text-align: left;\n",
       "    }\n",
       "\n",
       "    .dataframe tbody tr th {\n",
       "        vertical-align: top;\n",
       "    }\n",
       "</style>\n",
       "<table border=\"1\" class=\"dataframe\">\n",
       "  <thead>\n",
       "    <tr style=\"text-align: right;\">\n",
       "      <th></th>\n",
       "      <th>n1 - id</th>\n",
       "      <th>n1 - name</th>\n",
       "      <th>n2 - id</th>\n",
       "      <th>n2 - name</th>\n",
       "      <th>n3 - id</th>\n",
       "      <th>n3 - name</th>\n",
       "      <th>score</th>\n",
       "    </tr>\n",
       "  </thead>\n",
       "  <tbody>\n",
       "    <tr>\n",
       "      <th>0</th>\n",
       "      <td>HGNC:3434</td>\n",
       "      <td>ERCC2</td>\n",
       "      <td>MONDO:0021085</td>\n",
       "      <td>gastric neoplasm</td>\n",
       "      <td>CHEBI:31941</td>\n",
       "      <td>oxaliplatin</td>\n",
       "      <td>0.912725</td>\n",
       "    </tr>\n",
       "    <tr>\n",
       "      <th>1</th>\n",
       "      <td>HGNC:3434</td>\n",
       "      <td>ERCC2</td>\n",
       "      <td>MONDO:0021085</td>\n",
       "      <td>gastric neoplasm</td>\n",
       "      <td>PUBCHEM:56842121</td>\n",
       "      <td>Folfox protocol</td>\n",
       "      <td>0.680207</td>\n",
       "    </tr>\n",
       "  </tbody>\n",
       "</table>\n",
       "</div>"
      ],
      "text/plain": [
       "    n1 - id  n1 - name        n2 - id         n2 - name           n3 - id   \\\n",
       "0  HGNC:3434      ERCC2  MONDO:0021085  gastric neoplasm       CHEBI:31941   \n",
       "1  HGNC:3434      ERCC2  MONDO:0021085  gastric neoplasm  PUBCHEM:56842121   \n",
       "\n",
       "        n3 - name      score  \n",
       "0      oxaliplatin  0.912725  \n",
       "1  Folfox protocol  0.680207  "
      ]
     },
     "metadata": {},
     "output_type": "display_data"
    },
    {
     "data": {
      "text/html": [
       "<h3>glucose intolerance</h3>"
      ],
      "text/plain": [
       "<IPython.core.display.HTML object>"
      ]
     },
     "metadata": {},
     "output_type": "display_data"
    },
    {
     "data": {
      "text/html": [
       "<a href=http://robokop.renci.org/simple/view/dc20ee97-ab49-4df7-87f3-51500edae1a2>View Answer in ROBOKOP</a>"
      ],
      "text/plain": [
       "<IPython.core.display.HTML object>"
      ]
     },
     "metadata": {},
     "output_type": "display_data"
    },
    {
     "data": {
      "text/html": [
       "<div>\n",
       "<style>\n",
       "    .dataframe thead tr:only-child th {\n",
       "        text-align: right;\n",
       "    }\n",
       "\n",
       "    .dataframe thead th {\n",
       "        text-align: left;\n",
       "    }\n",
       "\n",
       "    .dataframe tbody tr th {\n",
       "        vertical-align: top;\n",
       "    }\n",
       "</style>\n",
       "<table border=\"1\" class=\"dataframe\">\n",
       "  <thead>\n",
       "    <tr style=\"text-align: right;\">\n",
       "      <th></th>\n",
       "      <th>n1 - id</th>\n",
       "      <th>n1 - name</th>\n",
       "      <th>n2 - id</th>\n",
       "      <th>n2 - name</th>\n",
       "      <th>n3 - id</th>\n",
       "      <th>n3 - name</th>\n",
       "      <th>score</th>\n",
       "    </tr>\n",
       "  </thead>\n",
       "  <tbody>\n",
       "    <tr>\n",
       "      <th>0</th>\n",
       "      <td>HGNC:6081</td>\n",
       "      <td>INS</td>\n",
       "      <td>MONDO:0004946</td>\n",
       "      <td>hypoglycemia</td>\n",
       "      <td>CHEBI:17234</td>\n",
       "      <td>glucose</td>\n",
       "      <td>1.898514</td>\n",
       "    </tr>\n",
       "    <tr>\n",
       "      <th>1</th>\n",
       "      <td>HGNC:6091</td>\n",
       "      <td>INSR</td>\n",
       "      <td>MONDO:0004946</td>\n",
       "      <td>hypoglycemia</td>\n",
       "      <td>CHEBI:17234</td>\n",
       "      <td>glucose</td>\n",
       "      <td>1.365341</td>\n",
       "    </tr>\n",
       "    <tr>\n",
       "      <th>2</th>\n",
       "      <td>HGNC:1884</td>\n",
       "      <td>CFTR</td>\n",
       "      <td>MONDO:0009061</td>\n",
       "      <td>cystic fibrosis</td>\n",
       "      <td>CHEBI:66901</td>\n",
       "      <td>ivacaftor</td>\n",
       "      <td>1.330438</td>\n",
       "    </tr>\n",
       "    <tr>\n",
       "      <th>3</th>\n",
       "      <td>HGNC:6553</td>\n",
       "      <td>LEP</td>\n",
       "      <td>MONDO:0004946</td>\n",
       "      <td>hypoglycemia</td>\n",
       "      <td>CHEBI:17234</td>\n",
       "      <td>glucose</td>\n",
       "      <td>1.263290</td>\n",
       "    </tr>\n",
       "    <tr>\n",
       "      <th>4</th>\n",
       "      <td>HGNC:7863</td>\n",
       "      <td>NNT</td>\n",
       "      <td>MONDO:0004946</td>\n",
       "      <td>hypoglycemia</td>\n",
       "      <td>CHEBI:17234</td>\n",
       "      <td>glucose</td>\n",
       "      <td>1.221559</td>\n",
       "    </tr>\n",
       "  </tbody>\n",
       "</table>\n",
       "</div>"
      ],
      "text/plain": [
       "    n1 - id  n1 - name        n2 - id        n2 - name      n3 - id   \\\n",
       "0  HGNC:6081        INS  MONDO:0004946     hypoglycemia  CHEBI:17234   \n",
       "1  HGNC:6091       INSR  MONDO:0004946     hypoglycemia  CHEBI:17234   \n",
       "2  HGNC:1884       CFTR  MONDO:0009061  cystic fibrosis  CHEBI:66901   \n",
       "3  HGNC:6553        LEP  MONDO:0004946     hypoglycemia  CHEBI:17234   \n",
       "4  HGNC:7863        NNT  MONDO:0004946     hypoglycemia  CHEBI:17234   \n",
       "\n",
       "  n3 - name      score  \n",
       "0    glucose  1.898514  \n",
       "1    glucose  1.365341  \n",
       "2  ivacaftor  1.330438  \n",
       "3    glucose  1.263290  \n",
       "4    glucose  1.221559  "
      ]
     },
     "metadata": {},
     "output_type": "display_data"
    },
    {
     "data": {
      "text/html": [
       "<h3>sudden infant death syndrome</h3>"
      ],
      "text/plain": [
       "<IPython.core.display.HTML object>"
      ]
     },
     "metadata": {},
     "output_type": "display_data"
    },
    {
     "data": {
      "text/html": [
       "<a href=http://robokop.renci.org/simple/view/b3687a21-0748-480d-b632-d88bec5eda33>View Answer in ROBOKOP</a>"
      ],
      "text/plain": [
       "<IPython.core.display.HTML object>"
      ]
     },
     "metadata": {},
     "output_type": "display_data"
    },
    {
     "data": {
      "text/html": [
       "<div>\n",
       "<style>\n",
       "    .dataframe thead tr:only-child th {\n",
       "        text-align: right;\n",
       "    }\n",
       "\n",
       "    .dataframe thead th {\n",
       "        text-align: left;\n",
       "    }\n",
       "\n",
       "    .dataframe tbody tr th {\n",
       "        vertical-align: top;\n",
       "    }\n",
       "</style>\n",
       "<table border=\"1\" class=\"dataframe\">\n",
       "  <thead>\n",
       "    <tr style=\"text-align: right;\">\n",
       "      <th></th>\n",
       "      <th>n1 - id</th>\n",
       "      <th>n1 - name</th>\n",
       "      <th>n2 - id</th>\n",
       "      <th>n2 - name</th>\n",
       "      <th>n3 - id</th>\n",
       "      <th>n3 - name</th>\n",
       "      <th>score</th>\n",
       "    </tr>\n",
       "  </thead>\n",
       "  <tbody>\n",
       "    <tr>\n",
       "      <th>0</th>\n",
       "      <td>HGNC:10593</td>\n",
       "      <td>SCN5A</td>\n",
       "      <td>MONDO:0004981</td>\n",
       "      <td>atrial fibrillation (disease)</td>\n",
       "      <td>CHEBI:28593</td>\n",
       "      <td>quinidine</td>\n",
       "      <td>1.551383</td>\n",
       "    </tr>\n",
       "    <tr>\n",
       "      <th>1</th>\n",
       "      <td>HGNC:10593</td>\n",
       "      <td>SCN5A</td>\n",
       "      <td>MONDO:0004981</td>\n",
       "      <td>atrial fibrillation (disease)</td>\n",
       "      <td>CHEBI:75984</td>\n",
       "      <td>flecainide</td>\n",
       "      <td>1.545114</td>\n",
       "    </tr>\n",
       "    <tr>\n",
       "      <th>2</th>\n",
       "      <td>HGNC:10593</td>\n",
       "      <td>SCN5A</td>\n",
       "      <td>MONDO:0005477</td>\n",
       "      <td>ventricular tachycardia</td>\n",
       "      <td>CHEBI:6456</td>\n",
       "      <td>lidocaine</td>\n",
       "      <td>1.418971</td>\n",
       "    </tr>\n",
       "    <tr>\n",
       "      <th>3</th>\n",
       "      <td>HGNC:10593</td>\n",
       "      <td>SCN5A</td>\n",
       "      <td>MONDO:0002442</td>\n",
       "      <td>long QT syndrome</td>\n",
       "      <td>CHEBI:6456</td>\n",
       "      <td>lidocaine</td>\n",
       "      <td>1.376012</td>\n",
       "    </tr>\n",
       "    <tr>\n",
       "      <th>4</th>\n",
       "      <td>HGNC:10593</td>\n",
       "      <td>SCN5A</td>\n",
       "      <td>MONDO:0004981</td>\n",
       "      <td>atrial fibrillation (disease)</td>\n",
       "      <td>CHEBI:63619</td>\n",
       "      <td>propafenone</td>\n",
       "      <td>1.345687</td>\n",
       "    </tr>\n",
       "  </tbody>\n",
       "</table>\n",
       "</div>"
      ],
      "text/plain": [
       "     n1 - id  n1 - name        n2 - id                      n2 - name   \\\n",
       "0  HGNC:10593      SCN5A  MONDO:0004981  atrial fibrillation (disease)   \n",
       "1  HGNC:10593      SCN5A  MONDO:0004981  atrial fibrillation (disease)   \n",
       "2  HGNC:10593      SCN5A  MONDO:0005477        ventricular tachycardia   \n",
       "3  HGNC:10593      SCN5A  MONDO:0002442               long QT syndrome   \n",
       "4  HGNC:10593      SCN5A  MONDO:0004981  atrial fibrillation (disease)   \n",
       "\n",
       "      n3 - id    n3 - name      score  \n",
       "0  CHEBI:28593    quinidine  1.551383  \n",
       "1  CHEBI:75984   flecainide  1.545114  \n",
       "2   CHEBI:6456    lidocaine  1.418971  \n",
       "3   CHEBI:6456    lidocaine  1.376012  \n",
       "4  CHEBI:63619  propafenone  1.345687  "
      ]
     },
     "metadata": {},
     "output_type": "display_data"
    },
    {
     "data": {
      "text/html": [
       "<h3>neuronal ceroid lipofuscinosis 3</h3>"
      ],
      "text/plain": [
       "<IPython.core.display.HTML object>"
      ]
     },
     "metadata": {},
     "output_type": "display_data"
    },
    {
     "data": {
      "text/html": [
       "<a href=http://robokop.renci.org/simple/view/b23d641e-8271-4f36-9a23-aa0241696eb7>View Answer in ROBOKOP</a>"
      ],
      "text/plain": [
       "<IPython.core.display.HTML object>"
      ]
     },
     "metadata": {},
     "output_type": "display_data"
    },
    {
     "data": {
      "text/html": [
       "<div>\n",
       "<style>\n",
       "    .dataframe thead tr:only-child th {\n",
       "        text-align: right;\n",
       "    }\n",
       "\n",
       "    .dataframe thead th {\n",
       "        text-align: left;\n",
       "    }\n",
       "\n",
       "    .dataframe tbody tr th {\n",
       "        vertical-align: top;\n",
       "    }\n",
       "</style>\n",
       "<table border=\"1\" class=\"dataframe\">\n",
       "  <thead>\n",
       "    <tr style=\"text-align: right;\">\n",
       "      <th></th>\n",
       "    </tr>\n",
       "  </thead>\n",
       "  <tbody>\n",
       "  </tbody>\n",
       "</table>\n",
       "</div>"
      ],
      "text/plain": [
       "Empty DataFrame\n",
       "Columns: []\n",
       "Index: []"
      ]
     },
     "metadata": {},
     "output_type": "display_data"
    },
    {
     "data": {
      "text/html": [
       "<h3>Niemann-Pick disease, type C1</h3>"
      ],
      "text/plain": [
       "<IPython.core.display.HTML object>"
      ]
     },
     "metadata": {},
     "output_type": "display_data"
    },
    {
     "data": {
      "text/html": [
       "<a href=http://robokop.renci.org/simple/view/d6f19982-aedd-40c6-837d-6e37bf79fdd1>View Answer in ROBOKOP</a>"
      ],
      "text/plain": [
       "<IPython.core.display.HTML object>"
      ]
     },
     "metadata": {},
     "output_type": "display_data"
    },
    {
     "data": {
      "text/html": [
       "<div>\n",
       "<style>\n",
       "    .dataframe thead tr:only-child th {\n",
       "        text-align: right;\n",
       "    }\n",
       "\n",
       "    .dataframe thead th {\n",
       "        text-align: left;\n",
       "    }\n",
       "\n",
       "    .dataframe tbody tr th {\n",
       "        vertical-align: top;\n",
       "    }\n",
       "</style>\n",
       "<table border=\"1\" class=\"dataframe\">\n",
       "  <thead>\n",
       "    <tr style=\"text-align: right;\">\n",
       "      <th></th>\n",
       "    </tr>\n",
       "  </thead>\n",
       "  <tbody>\n",
       "  </tbody>\n",
       "</table>\n",
       "</div>"
      ],
      "text/plain": [
       "Empty DataFrame\n",
       "Columns: []\n",
       "Index: []"
      ]
     },
     "metadata": {},
     "output_type": "display_data"
    },
    {
     "data": {
      "text/html": [
       "<h3>inherited susceptibility to asthma</h3>"
      ],
      "text/plain": [
       "<IPython.core.display.HTML object>"
      ]
     },
     "metadata": {},
     "output_type": "display_data"
    },
    {
     "data": {
      "text/html": [
       "<a href=http://robokop.renci.org/simple/view/c7afae19-38f4-45f1-84be-25f3f6b11b83>View Answer in ROBOKOP</a>"
      ],
      "text/plain": [
       "<IPython.core.display.HTML object>"
      ]
     },
     "metadata": {},
     "output_type": "display_data"
    },
    {
     "data": {
      "text/html": [
       "<div>\n",
       "<style>\n",
       "    .dataframe thead tr:only-child th {\n",
       "        text-align: right;\n",
       "    }\n",
       "\n",
       "    .dataframe thead th {\n",
       "        text-align: left;\n",
       "    }\n",
       "\n",
       "    .dataframe tbody tr th {\n",
       "        vertical-align: top;\n",
       "    }\n",
       "</style>\n",
       "<table border=\"1\" class=\"dataframe\">\n",
       "  <thead>\n",
       "    <tr style=\"text-align: right;\">\n",
       "      <th></th>\n",
       "      <th>n1 - id</th>\n",
       "      <th>n1 - name</th>\n",
       "      <th>n2 - id</th>\n",
       "      <th>n2 - name</th>\n",
       "      <th>n3 - id</th>\n",
       "      <th>n3 - name</th>\n",
       "      <th>score</th>\n",
       "    </tr>\n",
       "  </thead>\n",
       "  <tbody>\n",
       "    <tr>\n",
       "      <th>0</th>\n",
       "      <td>HGNC:5973</td>\n",
       "      <td>IL13</td>\n",
       "      <td>MONDO:0005086</td>\n",
       "      <td>renal cell carcinoma (disease)</td>\n",
       "      <td>CHEBI:38940</td>\n",
       "      <td>sunitinib</td>\n",
       "      <td>0.820595</td>\n",
       "    </tr>\n",
       "    <tr>\n",
       "      <th>1</th>\n",
       "      <td>HGNC:5973</td>\n",
       "      <td>IL13</td>\n",
       "      <td>MONDO:0004952</td>\n",
       "      <td>Hodgkins lymphoma</td>\n",
       "      <td>CHEBI:3139</td>\n",
       "      <td>bleomycin A2</td>\n",
       "      <td>0.740506</td>\n",
       "    </tr>\n",
       "    <tr>\n",
       "      <th>2</th>\n",
       "      <td>HGNC:5973</td>\n",
       "      <td>IL13</td>\n",
       "      <td>MONDO:0005961</td>\n",
       "      <td>sinusitis</td>\n",
       "      <td>CHEBI:3001</td>\n",
       "      <td>beclomethasone</td>\n",
       "      <td>0.675160</td>\n",
       "    </tr>\n",
       "    <tr>\n",
       "      <th>3</th>\n",
       "      <td>HGNC:286</td>\n",
       "      <td>ADRB2</td>\n",
       "      <td>MONDO:0003019</td>\n",
       "      <td>hypokalemia (disease)</td>\n",
       "      <td>CHEBI:8499</td>\n",
       "      <td>propranolol</td>\n",
       "      <td>0.638704</td>\n",
       "    </tr>\n",
       "    <tr>\n",
       "      <th>4</th>\n",
       "      <td>HGNC:9040</td>\n",
       "      <td>PLA2G7</td>\n",
       "      <td>MONDO:0011565</td>\n",
       "      <td>metabolic syndrome X</td>\n",
       "      <td>CHEBI:94686</td>\n",
       "      <td>orlistat</td>\n",
       "      <td>0.637889</td>\n",
       "    </tr>\n",
       "  </tbody>\n",
       "</table>\n",
       "</div>"
      ],
      "text/plain": [
       "    n1 - id  n1 - name        n2 - id                       n2 - name   \\\n",
       "0  HGNC:5973       IL13  MONDO:0005086  renal cell carcinoma (disease)   \n",
       "1  HGNC:5973       IL13  MONDO:0004952               Hodgkins lymphoma   \n",
       "2  HGNC:5973       IL13  MONDO:0005961                       sinusitis   \n",
       "3   HGNC:286      ADRB2  MONDO:0003019           hypokalemia (disease)   \n",
       "4  HGNC:9040     PLA2G7  MONDO:0011565            metabolic syndrome X   \n",
       "\n",
       "      n3 - id       n3 - name      score  \n",
       "0  CHEBI:38940       sunitinib  0.820595  \n",
       "1   CHEBI:3139    bleomycin A2  0.740506  \n",
       "2   CHEBI:3001  beclomethasone  0.675160  \n",
       "3   CHEBI:8499     propranolol  0.638704  \n",
       "4  CHEBI:94686        orlistat  0.637889  "
      ]
     },
     "metadata": {},
     "output_type": "display_data"
    },
    {
     "data": {
      "text/html": [
       "<h3>familial calcium pyrophosphate deposition</h3>"
      ],
      "text/plain": [
       "<IPython.core.display.HTML object>"
      ]
     },
     "metadata": {},
     "output_type": "display_data"
    },
    {
     "data": {
      "text/html": [
       "<a href=http://robokop.renci.org/simple/view/f104d438-183e-4df2-a359-1eb7d40ebf8a>View Answer in ROBOKOP</a>"
      ],
      "text/plain": [
       "<IPython.core.display.HTML object>"
      ]
     },
     "metadata": {},
     "output_type": "display_data"
    },
    {
     "data": {
      "text/html": [
       "<div>\n",
       "<style>\n",
       "    .dataframe thead tr:only-child th {\n",
       "        text-align: right;\n",
       "    }\n",
       "\n",
       "    .dataframe thead th {\n",
       "        text-align: left;\n",
       "    }\n",
       "\n",
       "    .dataframe tbody tr th {\n",
       "        vertical-align: top;\n",
       "    }\n",
       "</style>\n",
       "<table border=\"1\" class=\"dataframe\">\n",
       "  <thead>\n",
       "    <tr style=\"text-align: right;\">\n",
       "      <th></th>\n",
       "    </tr>\n",
       "  </thead>\n",
       "  <tbody>\n",
       "  </tbody>\n",
       "</table>\n",
       "</div>"
      ],
      "text/plain": [
       "Empty DataFrame\n",
       "Columns: []\n",
       "Index: []"
      ]
     },
     "metadata": {},
     "output_type": "display_data"
    },
    {
     "data": {
      "text/html": [
       "<h3>genetic lipodystrophy</h3>"
      ],
      "text/plain": [
       "<IPython.core.display.HTML object>"
      ]
     },
     "metadata": {},
     "output_type": "display_data"
    },
    {
     "data": {
      "text/html": [
       "<a href=http://robokop.renci.org/simple/view/704aacf3-538f-47e9-b388-c53f23497117>View Answer in ROBOKOP</a>"
      ],
      "text/plain": [
       "<IPython.core.display.HTML object>"
      ]
     },
     "metadata": {},
     "output_type": "display_data"
    },
    {
     "data": {
      "text/html": [
       "<div>\n",
       "<style>\n",
       "    .dataframe thead tr:only-child th {\n",
       "        text-align: right;\n",
       "    }\n",
       "\n",
       "    .dataframe thead th {\n",
       "        text-align: left;\n",
       "    }\n",
       "\n",
       "    .dataframe tbody tr th {\n",
       "        vertical-align: top;\n",
       "    }\n",
       "</style>\n",
       "<table border=\"1\" class=\"dataframe\">\n",
       "  <thead>\n",
       "    <tr style=\"text-align: right;\">\n",
       "      <th></th>\n",
       "      <th>n1 - id</th>\n",
       "      <th>n1 - name</th>\n",
       "      <th>n2 - id</th>\n",
       "      <th>n2 - name</th>\n",
       "      <th>n3 - id</th>\n",
       "      <th>n3 - name</th>\n",
       "      <th>score</th>\n",
       "    </tr>\n",
       "  </thead>\n",
       "  <tbody>\n",
       "    <tr>\n",
       "      <th>0</th>\n",
       "      <td>HGNC:1527</td>\n",
       "      <td>CAV1</td>\n",
       "      <td>MONDO:0015924</td>\n",
       "      <td>pulmonary arterial hypertension</td>\n",
       "      <td>CHEBI:84879</td>\n",
       "      <td>nitroxyl</td>\n",
       "      <td>1.032412</td>\n",
       "    </tr>\n",
       "    <tr>\n",
       "      <th>1</th>\n",
       "      <td>HGNC:1527</td>\n",
       "      <td>CAV1</td>\n",
       "      <td>MONDO:0005252</td>\n",
       "      <td>heart failure</td>\n",
       "      <td>CHEBI:7596</td>\n",
       "      <td>nitroprusside</td>\n",
       "      <td>0.961401</td>\n",
       "    </tr>\n",
       "    <tr>\n",
       "      <th>2</th>\n",
       "      <td>HGNC:1527</td>\n",
       "      <td>CAV1</td>\n",
       "      <td>MONDO:0015924</td>\n",
       "      <td>pulmonary arterial hypertension</td>\n",
       "      <td>CHEBI:7596</td>\n",
       "      <td>nitroprusside</td>\n",
       "      <td>0.837900</td>\n",
       "    </tr>\n",
       "    <tr>\n",
       "      <th>3</th>\n",
       "      <td>HGNC:3796</td>\n",
       "      <td>FOS</td>\n",
       "      <td>MONDO:0002125</td>\n",
       "      <td>status epilepticus</td>\n",
       "      <td>CHEBI:7983</td>\n",
       "      <td>pentobarbital</td>\n",
       "      <td>0.813781</td>\n",
       "    </tr>\n",
       "    <tr>\n",
       "      <th>4</th>\n",
       "      <td>HGNC:1527</td>\n",
       "      <td>CAV1</td>\n",
       "      <td>MONDO:0001076</td>\n",
       "      <td>glucose intolerance</td>\n",
       "      <td>CHEBI:50122</td>\n",
       "      <td>rosiglitazone</td>\n",
       "      <td>0.811598</td>\n",
       "    </tr>\n",
       "  </tbody>\n",
       "</table>\n",
       "</div>"
      ],
      "text/plain": [
       "    n1 - id  n1 - name        n2 - id                        n2 - name   \\\n",
       "0  HGNC:1527       CAV1  MONDO:0015924  pulmonary arterial hypertension   \n",
       "1  HGNC:1527       CAV1  MONDO:0005252                    heart failure   \n",
       "2  HGNC:1527       CAV1  MONDO:0015924  pulmonary arterial hypertension   \n",
       "3  HGNC:3796        FOS  MONDO:0002125               status epilepticus   \n",
       "4  HGNC:1527       CAV1  MONDO:0001076              glucose intolerance   \n",
       "\n",
       "      n3 - id      n3 - name      score  \n",
       "0  CHEBI:84879       nitroxyl  1.032412  \n",
       "1   CHEBI:7596  nitroprusside  0.961401  \n",
       "2   CHEBI:7596  nitroprusside  0.837900  \n",
       "3   CHEBI:7983  pentobarbital  0.813781  \n",
       "4  CHEBI:50122  rosiglitazone  0.811598  "
      ]
     },
     "metadata": {},
     "output_type": "display_data"
    },
    {
     "data": {
      "text/html": [
       "<h3>diabetes mellitus, noninsulin-dependent</h3>"
      ],
      "text/plain": [
       "<IPython.core.display.HTML object>"
      ]
     },
     "metadata": {},
     "output_type": "display_data"
    },
    {
     "data": {
      "text/html": [
       "<a href=http://robokop.renci.org/simple/view/b0576090-80f8-4a23-809a-f1cb1b5d1f84>View Answer in ROBOKOP</a>"
      ],
      "text/plain": [
       "<IPython.core.display.HTML object>"
      ]
     },
     "metadata": {},
     "output_type": "display_data"
    },
    {
     "data": {
      "text/html": [
       "<div>\n",
       "<style>\n",
       "    .dataframe thead tr:only-child th {\n",
       "        text-align: right;\n",
       "    }\n",
       "\n",
       "    .dataframe thead th {\n",
       "        text-align: left;\n",
       "    }\n",
       "\n",
       "    .dataframe tbody tr th {\n",
       "        vertical-align: top;\n",
       "    }\n",
       "</style>\n",
       "<table border=\"1\" class=\"dataframe\">\n",
       "  <thead>\n",
       "    <tr style=\"text-align: right;\">\n",
       "      <th></th>\n",
       "      <th>n1 - id</th>\n",
       "      <th>n1 - name</th>\n",
       "      <th>n2 - id</th>\n",
       "      <th>n2 - name</th>\n",
       "      <th>n3 - id</th>\n",
       "      <th>n3 - name</th>\n",
       "      <th>score</th>\n",
       "    </tr>\n",
       "  </thead>\n",
       "  <tbody>\n",
       "    <tr>\n",
       "      <th>0</th>\n",
       "      <td>HGNC:11621</td>\n",
       "      <td>HNF1A</td>\n",
       "      <td>MONDO:0004946</td>\n",
       "      <td>hypoglycemia</td>\n",
       "      <td>CHEBI:17234</td>\n",
       "      <td>glucose</td>\n",
       "      <td>1.240749</td>\n",
       "    </tr>\n",
       "    <tr>\n",
       "      <th>1</th>\n",
       "      <td>HGNC:11006</td>\n",
       "      <td>SLC2A2</td>\n",
       "      <td>MONDO:0004946</td>\n",
       "      <td>hypoglycemia</td>\n",
       "      <td>CHEBI:17234</td>\n",
       "      <td>glucose</td>\n",
       "      <td>1.189530</td>\n",
       "    </tr>\n",
       "    <tr>\n",
       "      <th>2</th>\n",
       "      <td>HGNC:6091</td>\n",
       "      <td>INSR</td>\n",
       "      <td>MONDO:0004946</td>\n",
       "      <td>hypoglycemia</td>\n",
       "      <td>CHEBI:17234</td>\n",
       "      <td>glucose</td>\n",
       "      <td>1.165192</td>\n",
       "    </tr>\n",
       "    <tr>\n",
       "      <th>3</th>\n",
       "      <td>HGNC:5024</td>\n",
       "      <td>HNF4A</td>\n",
       "      <td>MONDO:0004946</td>\n",
       "      <td>hypoglycemia</td>\n",
       "      <td>CHEBI:17234</td>\n",
       "      <td>glucose</td>\n",
       "      <td>1.077296</td>\n",
       "    </tr>\n",
       "    <tr>\n",
       "      <th>4</th>\n",
       "      <td>HGNC:6257</td>\n",
       "      <td>KCNJ11</td>\n",
       "      <td>MONDO:0002909</td>\n",
       "      <td>hyperglycemia</td>\n",
       "      <td>CHEBI:5441</td>\n",
       "      <td>glyburide</td>\n",
       "      <td>1.056032</td>\n",
       "    </tr>\n",
       "  </tbody>\n",
       "</table>\n",
       "</div>"
      ],
      "text/plain": [
       "     n1 - id  n1 - name        n2 - id      n2 - name      n3 - id   \\\n",
       "0  HGNC:11621      HNF1A  MONDO:0004946   hypoglycemia  CHEBI:17234   \n",
       "1  HGNC:11006     SLC2A2  MONDO:0004946   hypoglycemia  CHEBI:17234   \n",
       "2   HGNC:6091       INSR  MONDO:0004946   hypoglycemia  CHEBI:17234   \n",
       "3   HGNC:5024      HNF4A  MONDO:0004946   hypoglycemia  CHEBI:17234   \n",
       "4   HGNC:6257     KCNJ11  MONDO:0002909  hyperglycemia   CHEBI:5441   \n",
       "\n",
       "  n3 - name      score  \n",
       "0    glucose  1.240749  \n",
       "1    glucose  1.189530  \n",
       "2    glucose  1.165192  \n",
       "3    glucose  1.077296  \n",
       "4  glyburide  1.056032  "
      ]
     },
     "metadata": {},
     "output_type": "display_data"
    },
    {
     "data": {
      "text/html": [
       "<h3>Behcet disease</h3>"
      ],
      "text/plain": [
       "<IPython.core.display.HTML object>"
      ]
     },
     "metadata": {},
     "output_type": "display_data"
    },
    {
     "data": {
      "text/html": [
       "<a href=http://robokop.renci.org/simple/view/0424e24f-572e-49ca-bd7d-0b8f9c87b686>View Answer in ROBOKOP</a>"
      ],
      "text/plain": [
       "<IPython.core.display.HTML object>"
      ]
     },
     "metadata": {},
     "output_type": "display_data"
    },
    {
     "data": {
      "text/html": [
       "<div>\n",
       "<style>\n",
       "    .dataframe thead tr:only-child th {\n",
       "        text-align: right;\n",
       "    }\n",
       "\n",
       "    .dataframe thead th {\n",
       "        text-align: left;\n",
       "    }\n",
       "\n",
       "    .dataframe tbody tr th {\n",
       "        vertical-align: top;\n",
       "    }\n",
       "</style>\n",
       "<table border=\"1\" class=\"dataframe\">\n",
       "  <thead>\n",
       "    <tr style=\"text-align: right;\">\n",
       "      <th></th>\n",
       "      <th>n1 - id</th>\n",
       "      <th>n1 - name</th>\n",
       "      <th>n2 - id</th>\n",
       "      <th>n2 - name</th>\n",
       "      <th>n3 - id</th>\n",
       "      <th>n3 - name</th>\n",
       "      <th>score</th>\n",
       "    </tr>\n",
       "  </thead>\n",
       "  <tbody>\n",
       "    <tr>\n",
       "      <th>0</th>\n",
       "      <td>HGNC:4932</td>\n",
       "      <td>HLA-B</td>\n",
       "      <td>MONDO:0002144</td>\n",
       "      <td>hyperuricemia (disease)</td>\n",
       "      <td>CHEBI:40279</td>\n",
       "      <td>allopurinol</td>\n",
       "      <td>1.183051</td>\n",
       "    </tr>\n",
       "    <tr>\n",
       "      <th>1</th>\n",
       "      <td>HGNC:11920</td>\n",
       "      <td>FAS</td>\n",
       "      <td>MONDO:0000607</td>\n",
       "      <td>cutaneous T cell lymphoma</td>\n",
       "      <td>CHEBI:45716</td>\n",
       "      <td>vorinostat</td>\n",
       "      <td>1.154447</td>\n",
       "    </tr>\n",
       "    <tr>\n",
       "      <th>2</th>\n",
       "      <td>HGNC:5962</td>\n",
       "      <td>IL10</td>\n",
       "      <td>MONDO:0005292</td>\n",
       "      <td>colitis (disease)</td>\n",
       "      <td>CHEBI:16412</td>\n",
       "      <td>lipopolysaccharide</td>\n",
       "      <td>1.117848</td>\n",
       "    </tr>\n",
       "    <tr>\n",
       "      <th>3</th>\n",
       "      <td>HGNC:6025</td>\n",
       "      <td>CXCL8</td>\n",
       "      <td>MONDO:0007186</td>\n",
       "      <td>gastroesophageal reflux disease</td>\n",
       "      <td>CHEBI:6375</td>\n",
       "      <td>lansoprazole</td>\n",
       "      <td>1.097952</td>\n",
       "    </tr>\n",
       "    <tr>\n",
       "      <th>4</th>\n",
       "      <td>HGNC:5962</td>\n",
       "      <td>IL10</td>\n",
       "      <td>MONDO:0005445</td>\n",
       "      <td>visceral leishmaniasis</td>\n",
       "      <td>CHEBI:28148</td>\n",
       "      <td>sodium stibogluconate</td>\n",
       "      <td>1.045817</td>\n",
       "    </tr>\n",
       "  </tbody>\n",
       "</table>\n",
       "</div>"
      ],
      "text/plain": [
       "     n1 - id  n1 - name        n2 - id                        n2 - name   \\\n",
       "0   HGNC:4932      HLA-B  MONDO:0002144          hyperuricemia (disease)   \n",
       "1  HGNC:11920        FAS  MONDO:0000607        cutaneous T cell lymphoma   \n",
       "2   HGNC:5962       IL10  MONDO:0005292                colitis (disease)   \n",
       "3   HGNC:6025      CXCL8  MONDO:0007186  gastroesophageal reflux disease   \n",
       "4   HGNC:5962       IL10  MONDO:0005445           visceral leishmaniasis   \n",
       "\n",
       "      n3 - id              n3 - name      score  \n",
       "0  CHEBI:40279            allopurinol  1.183051  \n",
       "1  CHEBI:45716             vorinostat  1.154447  \n",
       "2  CHEBI:16412     lipopolysaccharide  1.117848  \n",
       "3   CHEBI:6375           lansoprazole  1.097952  \n",
       "4  CHEBI:28148  sodium stibogluconate  1.045817  "
      ]
     },
     "metadata": {},
     "output_type": "display_data"
    },
    {
     "data": {
      "text/html": [
       "<h3>systemic sclerosis</h3>"
      ],
      "text/plain": [
       "<IPython.core.display.HTML object>"
      ]
     },
     "metadata": {},
     "output_type": "display_data"
    },
    {
     "data": {
      "text/html": [
       "<a href=http://robokop.renci.org/simple/view/f0505030-3564-43ed-889c-45084559c7f9>View Answer in ROBOKOP</a>"
      ],
      "text/plain": [
       "<IPython.core.display.HTML object>"
      ]
     },
     "metadata": {},
     "output_type": "display_data"
    },
    {
     "data": {
      "text/html": [
       "<div>\n",
       "<style>\n",
       "    .dataframe thead tr:only-child th {\n",
       "        text-align: right;\n",
       "    }\n",
       "\n",
       "    .dataframe thead th {\n",
       "        text-align: left;\n",
       "    }\n",
       "\n",
       "    .dataframe tbody tr th {\n",
       "        vertical-align: top;\n",
       "    }\n",
       "</style>\n",
       "<table border=\"1\" class=\"dataframe\">\n",
       "  <thead>\n",
       "    <tr style=\"text-align: right;\">\n",
       "      <th></th>\n",
       "      <th>n1 - id</th>\n",
       "      <th>n1 - name</th>\n",
       "      <th>n2 - id</th>\n",
       "      <th>n2 - name</th>\n",
       "      <th>n3 - id</th>\n",
       "      <th>n3 - name</th>\n",
       "      <th>score</th>\n",
       "    </tr>\n",
       "  </thead>\n",
       "  <tbody>\n",
       "    <tr>\n",
       "      <th>0</th>\n",
       "      <td>HGNC:2707</td>\n",
       "      <td>ACE</td>\n",
       "      <td>MONDO:0005016</td>\n",
       "      <td>diabetic nephropathy</td>\n",
       "      <td>CHEBI:3011</td>\n",
       "      <td>benazepril</td>\n",
       "      <td>1.045203</td>\n",
       "    </tr>\n",
       "    <tr>\n",
       "      <th>1</th>\n",
       "      <td>HGNC:2707</td>\n",
       "      <td>ACE</td>\n",
       "      <td>MONDO:0005016</td>\n",
       "      <td>diabetic nephropathy</td>\n",
       "      <td>CHEBI:4784</td>\n",
       "      <td>enalapril</td>\n",
       "      <td>1.043031</td>\n",
       "    </tr>\n",
       "    <tr>\n",
       "      <th>2</th>\n",
       "      <td>HGNC:6149</td>\n",
       "      <td>ITGAM</td>\n",
       "      <td>MONDO:0012883</td>\n",
       "      <td>acute promyelocytic leukemia</td>\n",
       "      <td>CHEBI:32181</td>\n",
       "      <td>tamibarotene</td>\n",
       "      <td>1.020031</td>\n",
       "    </tr>\n",
       "    <tr>\n",
       "      <th>3</th>\n",
       "      <td>HGNC:10968</td>\n",
       "      <td>SLC22A4</td>\n",
       "      <td>MONDO:0005412</td>\n",
       "      <td>duodenal ulcer (disease)</td>\n",
       "      <td>CHEBI:3699</td>\n",
       "      <td>cimetidine</td>\n",
       "      <td>1.004823</td>\n",
       "    </tr>\n",
       "    <tr>\n",
       "      <th>4</th>\n",
       "      <td>HGNC:8582</td>\n",
       "      <td>PAH</td>\n",
       "      <td>MONDO:0009861</td>\n",
       "      <td>phenylketonuria</td>\n",
       "      <td>CHEBI:59560</td>\n",
       "      <td>sapropterin</td>\n",
       "      <td>0.997700</td>\n",
       "    </tr>\n",
       "  </tbody>\n",
       "</table>\n",
       "</div>"
      ],
      "text/plain": [
       "     n1 - id  n1 - name        n2 - id                     n2 - name   \\\n",
       "0   HGNC:2707        ACE  MONDO:0005016          diabetic nephropathy   \n",
       "1   HGNC:2707        ACE  MONDO:0005016          diabetic nephropathy   \n",
       "2   HGNC:6149      ITGAM  MONDO:0012883  acute promyelocytic leukemia   \n",
       "3  HGNC:10968    SLC22A4  MONDO:0005412      duodenal ulcer (disease)   \n",
       "4   HGNC:8582        PAH  MONDO:0009861               phenylketonuria   \n",
       "\n",
       "      n3 - id     n3 - name      score  \n",
       "0   CHEBI:3011    benazepril  1.045203  \n",
       "1   CHEBI:4784     enalapril  1.043031  \n",
       "2  CHEBI:32181  tamibarotene  1.020031  \n",
       "3   CHEBI:3699    cimetidine  1.004823  \n",
       "4  CHEBI:59560   sapropterin  0.997700  "
      ]
     },
     "metadata": {},
     "output_type": "display_data"
    },
    {
     "data": {
      "text/html": [
       "<h3>hemophilia A</h3>"
      ],
      "text/plain": [
       "<IPython.core.display.HTML object>"
      ]
     },
     "metadata": {},
     "output_type": "display_data"
    },
    {
     "data": {
      "text/html": [
       "<a href=http://robokop.renci.org/simple/view/b555bc2e-06b1-4357-9f6e-d00ff5a81f80>View Answer in ROBOKOP</a>"
      ],
      "text/plain": [
       "<IPython.core.display.HTML object>"
      ]
     },
     "metadata": {},
     "output_type": "display_data"
    },
    {
     "data": {
      "text/html": [
       "<div>\n",
       "<style>\n",
       "    .dataframe thead tr:only-child th {\n",
       "        text-align: right;\n",
       "    }\n",
       "\n",
       "    .dataframe thead th {\n",
       "        text-align: left;\n",
       "    }\n",
       "\n",
       "    .dataframe tbody tr th {\n",
       "        vertical-align: top;\n",
       "    }\n",
       "</style>\n",
       "<table border=\"1\" class=\"dataframe\">\n",
       "  <thead>\n",
       "    <tr style=\"text-align: right;\">\n",
       "      <th></th>\n",
       "      <th>n1 - id</th>\n",
       "      <th>n1 - name</th>\n",
       "      <th>n2 - id</th>\n",
       "      <th>n2 - name</th>\n",
       "      <th>n3 - id</th>\n",
       "      <th>n3 - name</th>\n",
       "      <th>score</th>\n",
       "    </tr>\n",
       "  </thead>\n",
       "  <tbody>\n",
       "    <tr>\n",
       "      <th>0</th>\n",
       "      <td>HGNC:12726</td>\n",
       "      <td>VWF</td>\n",
       "      <td>MONDO:0002243</td>\n",
       "      <td>hemorrhagic disease</td>\n",
       "      <td>CHEBI:4450</td>\n",
       "      <td>desmopressin</td>\n",
       "      <td>1.008989</td>\n",
       "    </tr>\n",
       "    <tr>\n",
       "      <th>1</th>\n",
       "      <td>HGNC:7436</td>\n",
       "      <td>MTHFR</td>\n",
       "      <td>MONDO:0003634</td>\n",
       "      <td>proteinuria</td>\n",
       "      <td>CHEBI:3011</td>\n",
       "      <td>benazepril</td>\n",
       "      <td>0.966650</td>\n",
       "    </tr>\n",
       "    <tr>\n",
       "      <th>2</th>\n",
       "      <td>HGNC:12726</td>\n",
       "      <td>VWF</td>\n",
       "      <td>MONDO:0019565</td>\n",
       "      <td>von willebrand disease</td>\n",
       "      <td>CHEBI:4450</td>\n",
       "      <td>desmopressin</td>\n",
       "      <td>0.959465</td>\n",
       "    </tr>\n",
       "    <tr>\n",
       "      <th>3</th>\n",
       "      <td>HGNC:9817</td>\n",
       "      <td>RAD51</td>\n",
       "      <td>MONDO:0018881</td>\n",
       "      <td>myelodysplastic syndrome</td>\n",
       "      <td>CHEBI:50131</td>\n",
       "      <td>5-aza-2'-deoxycytidine</td>\n",
       "      <td>0.925555</td>\n",
       "    </tr>\n",
       "    <tr>\n",
       "      <th>4</th>\n",
       "      <td>HGNC:3546</td>\n",
       "      <td>F8</td>\n",
       "      <td>MONDO:0006496</td>\n",
       "      <td>palsy</td>\n",
       "      <td>CHEBI:28694</td>\n",
       "      <td>copper atom</td>\n",
       "      <td>0.925406</td>\n",
       "    </tr>\n",
       "  </tbody>\n",
       "</table>\n",
       "</div>"
      ],
      "text/plain": [
       "     n1 - id  n1 - name        n2 - id                 n2 - name   \\\n",
       "0  HGNC:12726        VWF  MONDO:0002243       hemorrhagic disease   \n",
       "1   HGNC:7436      MTHFR  MONDO:0003634               proteinuria   \n",
       "2  HGNC:12726        VWF  MONDO:0019565    von willebrand disease   \n",
       "3   HGNC:9817      RAD51  MONDO:0018881  myelodysplastic syndrome   \n",
       "4   HGNC:3546         F8  MONDO:0006496                     palsy   \n",
       "\n",
       "      n3 - id               n3 - name      score  \n",
       "0   CHEBI:4450            desmopressin  1.008989  \n",
       "1   CHEBI:3011              benazepril  0.966650  \n",
       "2   CHEBI:4450            desmopressin  0.959465  \n",
       "3  CHEBI:50131  5-aza-2'-deoxycytidine  0.925555  \n",
       "4  CHEBI:28694             copper atom  0.925406  "
      ]
     },
     "metadata": {},
     "output_type": "display_data"
    },
    {
     "data": {
      "text/html": [
       "<h3>hereditary hemochromatosis</h3>"
      ],
      "text/plain": [
       "<IPython.core.display.HTML object>"
      ]
     },
     "metadata": {},
     "output_type": "display_data"
    },
    {
     "data": {
      "text/html": [
       "<a href=http://robokop.renci.org/simple/view/4037b82d-f071-4f3d-809b-66226272071f>View Answer in ROBOKOP</a>"
      ],
      "text/plain": [
       "<IPython.core.display.HTML object>"
      ]
     },
     "metadata": {},
     "output_type": "display_data"
    },
    {
     "data": {
      "text/html": [
       "<div>\n",
       "<style>\n",
       "    .dataframe thead tr:only-child th {\n",
       "        text-align: right;\n",
       "    }\n",
       "\n",
       "    .dataframe thead th {\n",
       "        text-align: left;\n",
       "    }\n",
       "\n",
       "    .dataframe tbody tr th {\n",
       "        vertical-align: top;\n",
       "    }\n",
       "</style>\n",
       "<table border=\"1\" class=\"dataframe\">\n",
       "  <thead>\n",
       "    <tr style=\"text-align: right;\">\n",
       "      <th></th>\n",
       "      <th>n1 - id</th>\n",
       "      <th>n1 - name</th>\n",
       "      <th>n2 - id</th>\n",
       "      <th>n2 - name</th>\n",
       "      <th>n3 - id</th>\n",
       "      <th>n3 - name</th>\n",
       "      <th>score</th>\n",
       "    </tr>\n",
       "  </thead>\n",
       "  <tbody>\n",
       "    <tr>\n",
       "      <th>0</th>\n",
       "      <td>HGNC:2295</td>\n",
       "      <td>CP</td>\n",
       "      <td>MONDO:0010200</td>\n",
       "      <td>Wilson disease</td>\n",
       "      <td>CHEBI:28694</td>\n",
       "      <td>copper atom</td>\n",
       "      <td>1.178362</td>\n",
       "    </tr>\n",
       "    <tr>\n",
       "      <th>1</th>\n",
       "      <td>HGNC:10908</td>\n",
       "      <td>SLC11A2</td>\n",
       "      <td>MONDO:0001356</td>\n",
       "      <td>iron deficiency anemia</td>\n",
       "      <td>CHEBI:18248</td>\n",
       "      <td>iron atom</td>\n",
       "      <td>1.122788</td>\n",
       "    </tr>\n",
       "    <tr>\n",
       "      <th>2</th>\n",
       "      <td>HGNC:2295</td>\n",
       "      <td>CP</td>\n",
       "      <td>MONDO:0010651</td>\n",
       "      <td>Menkes disease</td>\n",
       "      <td>CHEBI:28694</td>\n",
       "      <td>copper atom</td>\n",
       "      <td>1.109912</td>\n",
       "    </tr>\n",
       "    <tr>\n",
       "      <th>3</th>\n",
       "      <td>HGNC:4886</td>\n",
       "      <td>HFE</td>\n",
       "      <td>MONDO:0001356</td>\n",
       "      <td>iron deficiency anemia</td>\n",
       "      <td>CHEBI:18248</td>\n",
       "      <td>iron atom</td>\n",
       "      <td>1.064117</td>\n",
       "    </tr>\n",
       "    <tr>\n",
       "      <th>4</th>\n",
       "      <td>HGNC:11763</td>\n",
       "      <td>TFRC</td>\n",
       "      <td>MONDO:0001356</td>\n",
       "      <td>iron deficiency anemia</td>\n",
       "      <td>CHEBI:18248</td>\n",
       "      <td>iron atom</td>\n",
       "      <td>0.994292</td>\n",
       "    </tr>\n",
       "  </tbody>\n",
       "</table>\n",
       "</div>"
      ],
      "text/plain": [
       "     n1 - id  n1 - name        n2 - id               n2 - name      n3 - id   \\\n",
       "0   HGNC:2295         CP  MONDO:0010200          Wilson disease  CHEBI:28694   \n",
       "1  HGNC:10908    SLC11A2  MONDO:0001356  iron deficiency anemia  CHEBI:18248   \n",
       "2   HGNC:2295         CP  MONDO:0010651          Menkes disease  CHEBI:28694   \n",
       "3   HGNC:4886        HFE  MONDO:0001356  iron deficiency anemia  CHEBI:18248   \n",
       "4  HGNC:11763       TFRC  MONDO:0001356  iron deficiency anemia  CHEBI:18248   \n",
       "\n",
       "    n3 - name      score  \n",
       "0  copper atom  1.178362  \n",
       "1    iron atom  1.122788  \n",
       "2  copper atom  1.109912  \n",
       "3    iron atom  1.064117  \n",
       "4    iron atom  0.994292  "
      ]
     },
     "metadata": {},
     "output_type": "display_data"
    },
    {
     "data": {
      "text/html": [
       "<h3>primary lipodystrophy</h3>"
      ],
      "text/plain": [
       "<IPython.core.display.HTML object>"
      ]
     },
     "metadata": {},
     "output_type": "display_data"
    },
    {
     "data": {
      "text/html": [
       "<a href=http://robokop.renci.org/simple/view/aff4f685-470d-49c3-8f4c-229147c32b0f>View Answer in ROBOKOP</a>"
      ],
      "text/plain": [
       "<IPython.core.display.HTML object>"
      ]
     },
     "metadata": {},
     "output_type": "display_data"
    },
    {
     "data": {
      "text/html": [
       "<div>\n",
       "<style>\n",
       "    .dataframe thead tr:only-child th {\n",
       "        text-align: right;\n",
       "    }\n",
       "\n",
       "    .dataframe thead th {\n",
       "        text-align: left;\n",
       "    }\n",
       "\n",
       "    .dataframe tbody tr th {\n",
       "        vertical-align: top;\n",
       "    }\n",
       "</style>\n",
       "<table border=\"1\" class=\"dataframe\">\n",
       "  <thead>\n",
       "    <tr style=\"text-align: right;\">\n",
       "      <th></th>\n",
       "      <th>n1 - id</th>\n",
       "      <th>n1 - name</th>\n",
       "      <th>n2 - id</th>\n",
       "      <th>n2 - name</th>\n",
       "      <th>n3 - id</th>\n",
       "      <th>n3 - name</th>\n",
       "      <th>score</th>\n",
       "    </tr>\n",
       "  </thead>\n",
       "  <tbody>\n",
       "    <tr>\n",
       "      <th>0</th>\n",
       "      <td>HGNC:1527</td>\n",
       "      <td>CAV1</td>\n",
       "      <td>MONDO:0015924</td>\n",
       "      <td>pulmonary arterial hypertension</td>\n",
       "      <td>CHEBI:84879</td>\n",
       "      <td>nitroxyl</td>\n",
       "      <td>0.946167</td>\n",
       "    </tr>\n",
       "    <tr>\n",
       "      <th>1</th>\n",
       "      <td>HGNC:1527</td>\n",
       "      <td>CAV1</td>\n",
       "      <td>MONDO:0005252</td>\n",
       "      <td>heart failure</td>\n",
       "      <td>CHEBI:7596</td>\n",
       "      <td>nitroprusside</td>\n",
       "      <td>0.941227</td>\n",
       "    </tr>\n",
       "    <tr>\n",
       "      <th>2</th>\n",
       "      <td>HGNC:3796</td>\n",
       "      <td>FOS</td>\n",
       "      <td>MONDO:0002125</td>\n",
       "      <td>status epilepticus</td>\n",
       "      <td>CHEBI:7983</td>\n",
       "      <td>pentobarbital</td>\n",
       "      <td>0.813781</td>\n",
       "    </tr>\n",
       "    <tr>\n",
       "      <th>3</th>\n",
       "      <td>HGNC:1527</td>\n",
       "      <td>CAV1</td>\n",
       "      <td>MONDO:0001076</td>\n",
       "      <td>glucose intolerance</td>\n",
       "      <td>CHEBI:50122</td>\n",
       "      <td>rosiglitazone</td>\n",
       "      <td>0.798052</td>\n",
       "    </tr>\n",
       "    <tr>\n",
       "      <th>4</th>\n",
       "      <td>HGNC:3796</td>\n",
       "      <td>FOS</td>\n",
       "      <td>MONDO:0004946</td>\n",
       "      <td>hypoglycemia</td>\n",
       "      <td>CHEBI:17234</td>\n",
       "      <td>glucose</td>\n",
       "      <td>0.782249</td>\n",
       "    </tr>\n",
       "  </tbody>\n",
       "</table>\n",
       "</div>"
      ],
      "text/plain": [
       "    n1 - id  n1 - name        n2 - id                        n2 - name   \\\n",
       "0  HGNC:1527       CAV1  MONDO:0015924  pulmonary arterial hypertension   \n",
       "1  HGNC:1527       CAV1  MONDO:0005252                    heart failure   \n",
       "2  HGNC:3796        FOS  MONDO:0002125               status epilepticus   \n",
       "3  HGNC:1527       CAV1  MONDO:0001076              glucose intolerance   \n",
       "4  HGNC:3796        FOS  MONDO:0004946                     hypoglycemia   \n",
       "\n",
       "      n3 - id      n3 - name      score  \n",
       "0  CHEBI:84879       nitroxyl  0.946167  \n",
       "1   CHEBI:7596  nitroprusside  0.941227  \n",
       "2   CHEBI:7983  pentobarbital  0.813781  \n",
       "3  CHEBI:50122  rosiglitazone  0.798052  \n",
       "4  CHEBI:17234        glucose  0.782249  "
      ]
     },
     "metadata": {},
     "output_type": "display_data"
    },
    {
     "data": {
      "text/html": [
       "<h3>genetic dementia</h3>"
      ],
      "text/plain": [
       "<IPython.core.display.HTML object>"
      ]
     },
     "metadata": {},
     "output_type": "display_data"
    },
    {
     "data": {
      "text/html": [
       "<a href=http://robokop.renci.org/simple/view/bbf9c963-ecb4-4b93-a8a3-bb791635a819>View Answer in ROBOKOP</a>"
      ],
      "text/plain": [
       "<IPython.core.display.HTML object>"
      ]
     },
     "metadata": {},
     "output_type": "display_data"
    },
    {
     "data": {
      "text/html": [
       "<div>\n",
       "<style>\n",
       "    .dataframe thead tr:only-child th {\n",
       "        text-align: right;\n",
       "    }\n",
       "\n",
       "    .dataframe thead th {\n",
       "        text-align: left;\n",
       "    }\n",
       "\n",
       "    .dataframe tbody tr th {\n",
       "        vertical-align: top;\n",
       "    }\n",
       "</style>\n",
       "<table border=\"1\" class=\"dataframe\">\n",
       "  <thead>\n",
       "    <tr style=\"text-align: right;\">\n",
       "      <th></th>\n",
       "      <th>n1 - id</th>\n",
       "      <th>n1 - name</th>\n",
       "      <th>n2 - id</th>\n",
       "      <th>n2 - name</th>\n",
       "      <th>n3 - id</th>\n",
       "      <th>n3 - name</th>\n",
       "      <th>score</th>\n",
       "    </tr>\n",
       "  </thead>\n",
       "  <tbody>\n",
       "    <tr>\n",
       "      <th>0</th>\n",
       "      <td>HGNC:4177</td>\n",
       "      <td>GBA</td>\n",
       "      <td>MONDO:0018150</td>\n",
       "      <td>Gaucher disease</td>\n",
       "      <td>CHEBI:82752</td>\n",
       "      <td>eliglustat</td>\n",
       "      <td>1.160564</td>\n",
       "    </tr>\n",
       "    <tr>\n",
       "      <th>1</th>\n",
       "      <td>HGNC:795</td>\n",
       "      <td>ATM</td>\n",
       "      <td>MONDO:0018881</td>\n",
       "      <td>myelodysplastic syndrome</td>\n",
       "      <td>CHEBI:50131</td>\n",
       "      <td>5-aza-2'-deoxycytidine</td>\n",
       "      <td>1.059473</td>\n",
       "    </tr>\n",
       "    <tr>\n",
       "      <th>2</th>\n",
       "      <td>HGNC:9449</td>\n",
       "      <td>PRNP</td>\n",
       "      <td>MONDO:0010200</td>\n",
       "      <td>Wilson disease</td>\n",
       "      <td>CHEBI:28694</td>\n",
       "      <td>copper atom</td>\n",
       "      <td>1.036584</td>\n",
       "    </tr>\n",
       "    <tr>\n",
       "      <th>3</th>\n",
       "      <td>HGNC:795</td>\n",
       "      <td>ATM</td>\n",
       "      <td>MONDO:0005615</td>\n",
       "      <td>plasmacytoma</td>\n",
       "      <td>CHEBI:52717</td>\n",
       "      <td>bortezomib</td>\n",
       "      <td>1.032659</td>\n",
       "    </tr>\n",
       "    <tr>\n",
       "      <th>4</th>\n",
       "      <td>HGNC:11138</td>\n",
       "      <td>SNCA</td>\n",
       "      <td>MONDO:0021095</td>\n",
       "      <td>parkinsonian disorder</td>\n",
       "      <td>CHEBI:17963</td>\n",
       "      <td>1-methyl-4-phenyl-1,2,3,6-tetrahydropyridine</td>\n",
       "      <td>1.004467</td>\n",
       "    </tr>\n",
       "  </tbody>\n",
       "</table>\n",
       "</div>"
      ],
      "text/plain": [
       "     n1 - id  n1 - name        n2 - id                 n2 - name   \\\n",
       "0   HGNC:4177        GBA  MONDO:0018150           Gaucher disease   \n",
       "1    HGNC:795        ATM  MONDO:0018881  myelodysplastic syndrome   \n",
       "2   HGNC:9449       PRNP  MONDO:0010200            Wilson disease   \n",
       "3    HGNC:795        ATM  MONDO:0005615              plasmacytoma   \n",
       "4  HGNC:11138       SNCA  MONDO:0021095     parkinsonian disorder   \n",
       "\n",
       "      n3 - id                                     n3 - name      score  \n",
       "0  CHEBI:82752                                    eliglustat  1.160564  \n",
       "1  CHEBI:50131                        5-aza-2'-deoxycytidine  1.059473  \n",
       "2  CHEBI:28694                                   copper atom  1.036584  \n",
       "3  CHEBI:52717                                    bortezomib  1.032659  \n",
       "4  CHEBI:17963  1-methyl-4-phenyl-1,2,3,6-tetrahydropyridine  1.004467  "
      ]
     },
     "metadata": {},
     "output_type": "display_data"
    },
    {
     "data": {
      "text/html": [
       "<h3>functional neutrophil defect</h3>"
      ],
      "text/plain": [
       "<IPython.core.display.HTML object>"
      ]
     },
     "metadata": {},
     "output_type": "display_data"
    },
    {
     "data": {
      "text/html": [
       "<a href=http://robokop.renci.org/simple/view/445afe0a-10bd-4fa5-96f3-118d350ab4b8>View Answer in ROBOKOP</a>"
      ],
      "text/plain": [
       "<IPython.core.display.HTML object>"
      ]
     },
     "metadata": {},
     "output_type": "display_data"
    },
    {
     "data": {
      "text/html": [
       "<div>\n",
       "<style>\n",
       "    .dataframe thead tr:only-child th {\n",
       "        text-align: right;\n",
       "    }\n",
       "\n",
       "    .dataframe thead th {\n",
       "        text-align: left;\n",
       "    }\n",
       "\n",
       "    .dataframe tbody tr th {\n",
       "        vertical-align: top;\n",
       "    }\n",
       "</style>\n",
       "<table border=\"1\" class=\"dataframe\">\n",
       "  <thead>\n",
       "    <tr style=\"text-align: right;\">\n",
       "      <th></th>\n",
       "      <th>n1 - id</th>\n",
       "      <th>n1 - name</th>\n",
       "      <th>n2 - id</th>\n",
       "      <th>n2 - name</th>\n",
       "      <th>n3 - id</th>\n",
       "      <th>n3 - name</th>\n",
       "      <th>score</th>\n",
       "    </tr>\n",
       "  </thead>\n",
       "  <tbody>\n",
       "    <tr>\n",
       "      <th>0</th>\n",
       "      <td>HGNC:2578</td>\n",
       "      <td>CYBB</td>\n",
       "      <td>MONDO:0005252</td>\n",
       "      <td>heart failure</td>\n",
       "      <td>CHEBI:28787</td>\n",
       "      <td>nitroglycerin</td>\n",
       "      <td>0.826617</td>\n",
       "    </tr>\n",
       "    <tr>\n",
       "      <th>1</th>\n",
       "      <td>HGNC:7218</td>\n",
       "      <td>MPO</td>\n",
       "      <td>MONDO:0005203</td>\n",
       "      <td>ischemia reperfusion injury</td>\n",
       "      <td>CHEBI:31530</td>\n",
       "      <td>edaravone</td>\n",
       "      <td>0.798995</td>\n",
       "    </tr>\n",
       "    <tr>\n",
       "      <th>2</th>\n",
       "      <td>HGNC:7218</td>\n",
       "      <td>MPO</td>\n",
       "      <td>MONDO:0005203</td>\n",
       "      <td>ischemia reperfusion injury</td>\n",
       "      <td>CHEBI:3374</td>\n",
       "      <td>capsaicin</td>\n",
       "      <td>0.792077</td>\n",
       "    </tr>\n",
       "    <tr>\n",
       "      <th>3</th>\n",
       "      <td>HGNC:7218</td>\n",
       "      <td>MPO</td>\n",
       "      <td>MONDO:0005203</td>\n",
       "      <td>ischemia reperfusion injury</td>\n",
       "      <td>CHEBI:16236</td>\n",
       "      <td>ethanol</td>\n",
       "      <td>0.778049</td>\n",
       "    </tr>\n",
       "    <tr>\n",
       "      <th>4</th>\n",
       "      <td>HGNC:2578</td>\n",
       "      <td>CYBB</td>\n",
       "      <td>MONDO:0005203</td>\n",
       "      <td>ischemia reperfusion injury</td>\n",
       "      <td>CHEBI:29150</td>\n",
       "      <td>orthoperiodic acid</td>\n",
       "      <td>0.773134</td>\n",
       "    </tr>\n",
       "  </tbody>\n",
       "</table>\n",
       "</div>"
      ],
      "text/plain": [
       "    n1 - id  n1 - name        n2 - id                    n2 - name   \\\n",
       "0  HGNC:2578       CYBB  MONDO:0005252                heart failure   \n",
       "1  HGNC:7218        MPO  MONDO:0005203  ischemia reperfusion injury   \n",
       "2  HGNC:7218        MPO  MONDO:0005203  ischemia reperfusion injury   \n",
       "3  HGNC:7218        MPO  MONDO:0005203  ischemia reperfusion injury   \n",
       "4  HGNC:2578       CYBB  MONDO:0005203  ischemia reperfusion injury   \n",
       "\n",
       "      n3 - id           n3 - name      score  \n",
       "0  CHEBI:28787       nitroglycerin  0.826617  \n",
       "1  CHEBI:31530           edaravone  0.798995  \n",
       "2   CHEBI:3374           capsaicin  0.792077  \n",
       "3  CHEBI:16236             ethanol  0.778049  \n",
       "4  CHEBI:29150  orthoperiodic acid  0.773134  "
      ]
     },
     "metadata": {},
     "output_type": "display_data"
    },
    {
     "data": {
      "text/html": [
       "<h3>gastroesophageal reflux disease</h3>"
      ],
      "text/plain": [
       "<IPython.core.display.HTML object>"
      ]
     },
     "metadata": {},
     "output_type": "display_data"
    },
    {
     "data": {
      "text/html": [
       "<a href=http://robokop.renci.org/simple/view/dc075267-0d87-4578-8495-34a3608f89a5>View Answer in ROBOKOP</a>"
      ],
      "text/plain": [
       "<IPython.core.display.HTML object>"
      ]
     },
     "metadata": {},
     "output_type": "display_data"
    },
    {
     "data": {
      "text/html": [
       "<div>\n",
       "<style>\n",
       "    .dataframe thead tr:only-child th {\n",
       "        text-align: right;\n",
       "    }\n",
       "\n",
       "    .dataframe thead th {\n",
       "        text-align: left;\n",
       "    }\n",
       "\n",
       "    .dataframe tbody tr th {\n",
       "        vertical-align: top;\n",
       "    }\n",
       "</style>\n",
       "<table border=\"1\" class=\"dataframe\">\n",
       "  <thead>\n",
       "    <tr style=\"text-align: right;\">\n",
       "      <th></th>\n",
       "      <th>n1 - id</th>\n",
       "      <th>n1 - name</th>\n",
       "      <th>n2 - id</th>\n",
       "      <th>n2 - name</th>\n",
       "      <th>n3 - id</th>\n",
       "      <th>n3 - name</th>\n",
       "      <th>score</th>\n",
       "    </tr>\n",
       "  </thead>\n",
       "  <tbody>\n",
       "    <tr>\n",
       "      <th>0</th>\n",
       "      <td>HGNC:869</td>\n",
       "      <td>ATP7A</td>\n",
       "      <td>MONDO:0010651</td>\n",
       "      <td>Menkes disease</td>\n",
       "      <td>CHEBI:28694</td>\n",
       "      <td>copper atom</td>\n",
       "      <td>1.486346</td>\n",
       "    </tr>\n",
       "    <tr>\n",
       "      <th>1</th>\n",
       "      <td>HGNC:10593</td>\n",
       "      <td>SCN5A</td>\n",
       "      <td>MONDO:0004981</td>\n",
       "      <td>atrial fibrillation (disease)</td>\n",
       "      <td>CHEBI:28593</td>\n",
       "      <td>quinidine</td>\n",
       "      <td>1.356835</td>\n",
       "    </tr>\n",
       "    <tr>\n",
       "      <th>2</th>\n",
       "      <td>HGNC:10593</td>\n",
       "      <td>SCN5A</td>\n",
       "      <td>MONDO:0004981</td>\n",
       "      <td>atrial fibrillation (disease)</td>\n",
       "      <td>CHEBI:75984</td>\n",
       "      <td>flecainide</td>\n",
       "      <td>1.276625</td>\n",
       "    </tr>\n",
       "    <tr>\n",
       "      <th>3</th>\n",
       "      <td>HGNC:1884</td>\n",
       "      <td>CFTR</td>\n",
       "      <td>MONDO:0009061</td>\n",
       "      <td>cystic fibrosis</td>\n",
       "      <td>CHEBI:66901</td>\n",
       "      <td>ivacaftor</td>\n",
       "      <td>1.258840</td>\n",
       "    </tr>\n",
       "    <tr>\n",
       "      <th>4</th>\n",
       "      <td>HGNC:10593</td>\n",
       "      <td>SCN5A</td>\n",
       "      <td>MONDO:0004981</td>\n",
       "      <td>atrial fibrillation (disease)</td>\n",
       "      <td>CHEBI:63619</td>\n",
       "      <td>propafenone</td>\n",
       "      <td>1.249718</td>\n",
       "    </tr>\n",
       "  </tbody>\n",
       "</table>\n",
       "</div>"
      ],
      "text/plain": [
       "     n1 - id  n1 - name        n2 - id                      n2 - name   \\\n",
       "0    HGNC:869      ATP7A  MONDO:0010651                 Menkes disease   \n",
       "1  HGNC:10593      SCN5A  MONDO:0004981  atrial fibrillation (disease)   \n",
       "2  HGNC:10593      SCN5A  MONDO:0004981  atrial fibrillation (disease)   \n",
       "3   HGNC:1884       CFTR  MONDO:0009061                cystic fibrosis   \n",
       "4  HGNC:10593      SCN5A  MONDO:0004981  atrial fibrillation (disease)   \n",
       "\n",
       "      n3 - id    n3 - name      score  \n",
       "0  CHEBI:28694  copper atom  1.486346  \n",
       "1  CHEBI:28593    quinidine  1.356835  \n",
       "2  CHEBI:75984   flecainide  1.276625  \n",
       "3  CHEBI:66901    ivacaftor  1.258840  \n",
       "4  CHEBI:63619  propafenone  1.249718  "
      ]
     },
     "metadata": {},
     "output_type": "display_data"
    },
    {
     "data": {
      "text/html": [
       "<h3>cystic fibrosis</h3>"
      ],
      "text/plain": [
       "<IPython.core.display.HTML object>"
      ]
     },
     "metadata": {},
     "output_type": "display_data"
    },
    {
     "data": {
      "text/html": [
       "<a href=http://robokop.renci.org/simple/view/0b0cd05a-fea4-416c-9b42-dba94ea8edc5>View Answer in ROBOKOP</a>"
      ],
      "text/plain": [
       "<IPython.core.display.HTML object>"
      ]
     },
     "metadata": {},
     "output_type": "display_data"
    },
    {
     "data": {
      "text/html": [
       "<div>\n",
       "<style>\n",
       "    .dataframe thead tr:only-child th {\n",
       "        text-align: right;\n",
       "    }\n",
       "\n",
       "    .dataframe thead th {\n",
       "        text-align: left;\n",
       "    }\n",
       "\n",
       "    .dataframe tbody tr th {\n",
       "        vertical-align: top;\n",
       "    }\n",
       "</style>\n",
       "<table border=\"1\" class=\"dataframe\">\n",
       "  <thead>\n",
       "    <tr style=\"text-align: right;\">\n",
       "      <th></th>\n",
       "      <th>n1 - id</th>\n",
       "      <th>n1 - name</th>\n",
       "      <th>n2 - id</th>\n",
       "      <th>n2 - name</th>\n",
       "      <th>n3 - id</th>\n",
       "      <th>n3 - name</th>\n",
       "      <th>score</th>\n",
       "    </tr>\n",
       "  </thead>\n",
       "  <tbody>\n",
       "    <tr>\n",
       "      <th>0</th>\n",
       "      <td>HGNC:1884</td>\n",
       "      <td>CFTR</td>\n",
       "      <td>MONDO:0009061</td>\n",
       "      <td>cystic fibrosis</td>\n",
       "      <td>CHEBI:66901</td>\n",
       "      <td>ivacaftor</td>\n",
       "      <td>1.690328</td>\n",
       "    </tr>\n",
       "    <tr>\n",
       "      <th>1</th>\n",
       "      <td>HGNC:6081</td>\n",
       "      <td>INS</td>\n",
       "      <td>MONDO:0004946</td>\n",
       "      <td>hypoglycemia</td>\n",
       "      <td>CHEBI:17234</td>\n",
       "      <td>glucose</td>\n",
       "      <td>1.372602</td>\n",
       "    </tr>\n",
       "    <tr>\n",
       "      <th>2</th>\n",
       "      <td>HGNC:1884</td>\n",
       "      <td>CFTR</td>\n",
       "      <td>MONDO:0002909</td>\n",
       "      <td>hyperglycemia</td>\n",
       "      <td>CHEBI:5441</td>\n",
       "      <td>glyburide</td>\n",
       "      <td>1.356395</td>\n",
       "    </tr>\n",
       "    <tr>\n",
       "      <th>3</th>\n",
       "      <td>HGNC:1884</td>\n",
       "      <td>CFTR</td>\n",
       "      <td>MONDO:0009061</td>\n",
       "      <td>cystic fibrosis</td>\n",
       "      <td>CHEBI:50381</td>\n",
       "      <td>miglustat</td>\n",
       "      <td>1.298830</td>\n",
       "    </tr>\n",
       "    <tr>\n",
       "      <th>4</th>\n",
       "      <td>HGNC:1884</td>\n",
       "      <td>CFTR</td>\n",
       "      <td>MONDO:0009061</td>\n",
       "      <td>cystic fibrosis</td>\n",
       "      <td>CHEBI:58987</td>\n",
       "      <td>sildenafil citrate</td>\n",
       "      <td>1.298256</td>\n",
       "    </tr>\n",
       "  </tbody>\n",
       "</table>\n",
       "</div>"
      ],
      "text/plain": [
       "    n1 - id  n1 - name        n2 - id        n2 - name      n3 - id   \\\n",
       "0  HGNC:1884       CFTR  MONDO:0009061  cystic fibrosis  CHEBI:66901   \n",
       "1  HGNC:6081        INS  MONDO:0004946     hypoglycemia  CHEBI:17234   \n",
       "2  HGNC:1884       CFTR  MONDO:0002909    hyperglycemia   CHEBI:5441   \n",
       "3  HGNC:1884       CFTR  MONDO:0009061  cystic fibrosis  CHEBI:50381   \n",
       "4  HGNC:1884       CFTR  MONDO:0009061  cystic fibrosis  CHEBI:58987   \n",
       "\n",
       "           n3 - name      score  \n",
       "0           ivacaftor  1.690328  \n",
       "1             glucose  1.372602  \n",
       "2           glyburide  1.356395  \n",
       "3           miglustat  1.298830  \n",
       "4  sildenafil citrate  1.298256  "
      ]
     },
     "metadata": {},
     "output_type": "display_data"
    },
    {
     "data": {
      "text/html": [
       "<h3>newborn respiratory distress syndrome</h3>"
      ],
      "text/plain": [
       "<IPython.core.display.HTML object>"
      ]
     },
     "metadata": {},
     "output_type": "display_data"
    },
    {
     "data": {
      "text/html": [
       "<a href=http://robokop.renci.org/simple/view/9de5608e-78b5-4c9e-aff9-0f4c75e30a86>View Answer in ROBOKOP</a>"
      ],
      "text/plain": [
       "<IPython.core.display.HTML object>"
      ]
     },
     "metadata": {},
     "output_type": "display_data"
    },
    {
     "data": {
      "text/html": [
       "<div>\n",
       "<style>\n",
       "    .dataframe thead tr:only-child th {\n",
       "        text-align: right;\n",
       "    }\n",
       "\n",
       "    .dataframe thead th {\n",
       "        text-align: left;\n",
       "    }\n",
       "\n",
       "    .dataframe tbody tr th {\n",
       "        vertical-align: top;\n",
       "    }\n",
       "</style>\n",
       "<table border=\"1\" class=\"dataframe\">\n",
       "  <thead>\n",
       "    <tr style=\"text-align: right;\">\n",
       "      <th></th>\n",
       "    </tr>\n",
       "  </thead>\n",
       "  <tbody>\n",
       "  </tbody>\n",
       "</table>\n",
       "</div>"
      ],
      "text/plain": [
       "Empty DataFrame\n",
       "Columns: []\n",
       "Index: []"
      ]
     },
     "metadata": {},
     "output_type": "display_data"
    },
    {
     "data": {
      "text/html": [
       "<h3>metabolic syndrome X</h3>"
      ],
      "text/plain": [
       "<IPython.core.display.HTML object>"
      ]
     },
     "metadata": {},
     "output_type": "display_data"
    },
    {
     "data": {
      "text/html": [
       "<a href=http://robokop.renci.org/simple/view/2e07d68e-9248-4f95-a931-8cf657802d3d>View Answer in ROBOKOP</a>"
      ],
      "text/plain": [
       "<IPython.core.display.HTML object>"
      ]
     },
     "metadata": {},
     "output_type": "display_data"
    },
    {
     "data": {
      "text/html": [
       "<div>\n",
       "<style>\n",
       "    .dataframe thead tr:only-child th {\n",
       "        text-align: right;\n",
       "    }\n",
       "\n",
       "    .dataframe thead th {\n",
       "        text-align: left;\n",
       "    }\n",
       "\n",
       "    .dataframe tbody tr th {\n",
       "        vertical-align: top;\n",
       "    }\n",
       "</style>\n",
       "<table border=\"1\" class=\"dataframe\">\n",
       "  <thead>\n",
       "    <tr style=\"text-align: right;\">\n",
       "      <th></th>\n",
       "      <th>n1 - id</th>\n",
       "      <th>n1 - name</th>\n",
       "      <th>n2 - id</th>\n",
       "      <th>n2 - name</th>\n",
       "      <th>n3 - id</th>\n",
       "      <th>n3 - name</th>\n",
       "      <th>score</th>\n",
       "    </tr>\n",
       "  </thead>\n",
       "  <tbody>\n",
       "    <tr>\n",
       "      <th>0</th>\n",
       "      <td>HGNC:6081</td>\n",
       "      <td>INS</td>\n",
       "      <td>MONDO:0004946</td>\n",
       "      <td>hypoglycemia</td>\n",
       "      <td>CHEBI:17234</td>\n",
       "      <td>glucose</td>\n",
       "      <td>1.747652</td>\n",
       "    </tr>\n",
       "    <tr>\n",
       "      <th>1</th>\n",
       "      <td>HGNC:13633</td>\n",
       "      <td>ADIPOQ</td>\n",
       "      <td>MONDO:0011565</td>\n",
       "      <td>metabolic syndrome X</td>\n",
       "      <td>CHEBI:50122</td>\n",
       "      <td>rosiglitazone</td>\n",
       "      <td>1.344930</td>\n",
       "    </tr>\n",
       "    <tr>\n",
       "      <th>2</th>\n",
       "      <td>HGNC:9204</td>\n",
       "      <td>PON1</td>\n",
       "      <td>MONDO:0005542</td>\n",
       "      <td>acute coronary syndrome</td>\n",
       "      <td>CHEBI:37941</td>\n",
       "      <td>clopidogrel</td>\n",
       "      <td>1.243122</td>\n",
       "    </tr>\n",
       "    <tr>\n",
       "      <th>3</th>\n",
       "      <td>HGNC:6553</td>\n",
       "      <td>LEP</td>\n",
       "      <td>MONDO:0002177</td>\n",
       "      <td>hyperinsulinism (disease)</td>\n",
       "      <td>CHEBI:9753</td>\n",
       "      <td>troglitazone</td>\n",
       "      <td>1.240002</td>\n",
       "    </tr>\n",
       "    <tr>\n",
       "      <th>4</th>\n",
       "      <td>HGNC:7876</td>\n",
       "      <td>NOS3</td>\n",
       "      <td>MONDO:0002909</td>\n",
       "      <td>hyperglycemia</td>\n",
       "      <td>MESH:D010936</td>\n",
       "      <td>Plant Extracts</td>\n",
       "      <td>1.224977</td>\n",
       "    </tr>\n",
       "  </tbody>\n",
       "</table>\n",
       "</div>"
      ],
      "text/plain": [
       "     n1 - id  n1 - name        n2 - id                  n2 - name   \\\n",
       "0   HGNC:6081        INS  MONDO:0004946               hypoglycemia   \n",
       "1  HGNC:13633     ADIPOQ  MONDO:0011565       metabolic syndrome X   \n",
       "2   HGNC:9204       PON1  MONDO:0005542    acute coronary syndrome   \n",
       "3   HGNC:6553        LEP  MONDO:0002177  hyperinsulinism (disease)   \n",
       "4   HGNC:7876       NOS3  MONDO:0002909              hyperglycemia   \n",
       "\n",
       "       n3 - id       n3 - name      score  \n",
       "0   CHEBI:17234         glucose  1.747652  \n",
       "1   CHEBI:50122   rosiglitazone  1.344930  \n",
       "2   CHEBI:37941     clopidogrel  1.243122  \n",
       "3    CHEBI:9753    troglitazone  1.240002  \n",
       "4  MESH:D010936  Plant Extracts  1.224977  "
      ]
     },
     "metadata": {},
     "output_type": "display_data"
    },
    {
     "data": {
      "text/html": [
       "<h3>Alexander disease</h3>"
      ],
      "text/plain": [
       "<IPython.core.display.HTML object>"
      ]
     },
     "metadata": {},
     "output_type": "display_data"
    },
    {
     "data": {
      "text/html": [
       "<a href=http://robokop.renci.org/simple/view/bb9e885c-52d7-46ee-8ac3-5fc8ddddfd94>View Answer in ROBOKOP</a>"
      ],
      "text/plain": [
       "<IPython.core.display.HTML object>"
      ]
     },
     "metadata": {},
     "output_type": "display_data"
    },
    {
     "data": {
      "text/html": [
       "<div>\n",
       "<style>\n",
       "    .dataframe thead tr:only-child th {\n",
       "        text-align: right;\n",
       "    }\n",
       "\n",
       "    .dataframe thead th {\n",
       "        text-align: left;\n",
       "    }\n",
       "\n",
       "    .dataframe tbody tr th {\n",
       "        vertical-align: top;\n",
       "    }\n",
       "</style>\n",
       "<table border=\"1\" class=\"dataframe\">\n",
       "  <thead>\n",
       "    <tr style=\"text-align: right;\">\n",
       "      <th></th>\n",
       "      <th>n1 - id</th>\n",
       "      <th>n1 - name</th>\n",
       "      <th>n2 - id</th>\n",
       "      <th>n2 - name</th>\n",
       "      <th>n3 - id</th>\n",
       "      <th>n3 - name</th>\n",
       "      <th>score</th>\n",
       "    </tr>\n",
       "  </thead>\n",
       "  <tbody>\n",
       "    <tr>\n",
       "      <th>0</th>\n",
       "      <td>HGNC:4235</td>\n",
       "      <td>GFAP</td>\n",
       "      <td>MONDO:0001442</td>\n",
       "      <td>dysthymic disorder</td>\n",
       "      <td>CHEBI:86990</td>\n",
       "      <td>N-methyl-3-phenyl-3-[4-(trifluoromethyl)phenox...</td>\n",
       "      <td>1.044207</td>\n",
       "    </tr>\n",
       "    <tr>\n",
       "      <th>1</th>\n",
       "      <td>HGNC:4235</td>\n",
       "      <td>GFAP</td>\n",
       "      <td>MONDO:0021095</td>\n",
       "      <td>parkinsonian disorder</td>\n",
       "      <td>CHEBI:17963</td>\n",
       "      <td>1-methyl-4-phenyl-1,2,3,6-tetrahydropyridine</td>\n",
       "      <td>0.853957</td>\n",
       "    </tr>\n",
       "    <tr>\n",
       "      <th>2</th>\n",
       "      <td>HGNC:5246</td>\n",
       "      <td>HSPB1</td>\n",
       "      <td>MONDO:0005615</td>\n",
       "      <td>plasmacytoma</td>\n",
       "      <td>CHEBI:52717</td>\n",
       "      <td>bortezomib</td>\n",
       "      <td>0.775736</td>\n",
       "    </tr>\n",
       "    <tr>\n",
       "      <th>3</th>\n",
       "      <td>HGNC:4235</td>\n",
       "      <td>GFAP</td>\n",
       "      <td>MONDO:0002122</td>\n",
       "      <td>neuritis</td>\n",
       "      <td>CHEBI:18291</td>\n",
       "      <td>manganese atom</td>\n",
       "      <td>0.662673</td>\n",
       "    </tr>\n",
       "    <tr>\n",
       "      <th>4</th>\n",
       "      <td>HGNC:4235</td>\n",
       "      <td>GFAP</td>\n",
       "      <td>MONDO:0015917</td>\n",
       "      <td>malignant glioma</td>\n",
       "      <td>CHEBI:9753</td>\n",
       "      <td>troglitazone</td>\n",
       "      <td>0.653453</td>\n",
       "    </tr>\n",
       "  </tbody>\n",
       "</table>\n",
       "</div>"
      ],
      "text/plain": [
       "    n1 - id  n1 - name        n2 - id              n2 - name      n3 - id   \\\n",
       "0  HGNC:4235       GFAP  MONDO:0001442     dysthymic disorder  CHEBI:86990   \n",
       "1  HGNC:4235       GFAP  MONDO:0021095  parkinsonian disorder  CHEBI:17963   \n",
       "2  HGNC:5246      HSPB1  MONDO:0005615           plasmacytoma  CHEBI:52717   \n",
       "3  HGNC:4235       GFAP  MONDO:0002122               neuritis  CHEBI:18291   \n",
       "4  HGNC:4235       GFAP  MONDO:0015917       malignant glioma   CHEBI:9753   \n",
       "\n",
       "                                          n3 - name      score  \n",
       "0  N-methyl-3-phenyl-3-[4-(trifluoromethyl)phenox...  1.044207  \n",
       "1       1-methyl-4-phenyl-1,2,3,6-tetrahydropyridine  0.853957  \n",
       "2                                         bortezomib  0.775736  \n",
       "3                                     manganese atom  0.662673  \n",
       "4                                       troglitazone  0.653453  "
      ]
     },
     "metadata": {},
     "output_type": "display_data"
    },
    {
     "data": {
      "text/html": [
       "<h3>Raynaud disease</h3>"
      ],
      "text/plain": [
       "<IPython.core.display.HTML object>"
      ]
     },
     "metadata": {},
     "output_type": "display_data"
    },
    {
     "data": {
      "text/html": [
       "<a href=http://robokop.renci.org/simple/view/e0237a03-bb18-4c8f-976e-4cace94fed5e>View Answer in ROBOKOP</a>"
      ],
      "text/plain": [
       "<IPython.core.display.HTML object>"
      ]
     },
     "metadata": {},
     "output_type": "display_data"
    },
    {
     "data": {
      "text/html": [
       "<div>\n",
       "<style>\n",
       "    .dataframe thead tr:only-child th {\n",
       "        text-align: right;\n",
       "    }\n",
       "\n",
       "    .dataframe thead th {\n",
       "        text-align: left;\n",
       "    }\n",
       "\n",
       "    .dataframe tbody tr th {\n",
       "        vertical-align: top;\n",
       "    }\n",
       "</style>\n",
       "<table border=\"1\" class=\"dataframe\">\n",
       "  <thead>\n",
       "    <tr style=\"text-align: right;\">\n",
       "      <th></th>\n",
       "      <th>n1 - id</th>\n",
       "      <th>n1 - name</th>\n",
       "      <th>n2 - id</th>\n",
       "      <th>n2 - name</th>\n",
       "      <th>n3 - id</th>\n",
       "      <th>n3 - name</th>\n",
       "      <th>score</th>\n",
       "    </tr>\n",
       "  </thead>\n",
       "  <tbody>\n",
       "    <tr>\n",
       "      <th>0</th>\n",
       "      <td>HGNC:4641</td>\n",
       "      <td>GSTT1</td>\n",
       "      <td>MONDO:0015917</td>\n",
       "      <td>malignant glioma</td>\n",
       "      <td>CHEBI:3423</td>\n",
       "      <td>carmustine</td>\n",
       "      <td>0.989428</td>\n",
       "    </tr>\n",
       "    <tr>\n",
       "      <th>1</th>\n",
       "      <td>HGNC:4641</td>\n",
       "      <td>GSTT1</td>\n",
       "      <td>MONDO:0009693</td>\n",
       "      <td>multiple myeloma</td>\n",
       "      <td>CHEBI:3423</td>\n",
       "      <td>carmustine</td>\n",
       "      <td>0.956772</td>\n",
       "    </tr>\n",
       "    <tr>\n",
       "      <th>2</th>\n",
       "      <td>HGNC:4641</td>\n",
       "      <td>GSTT1</td>\n",
       "      <td>MONDO:0009693</td>\n",
       "      <td>multiple myeloma</td>\n",
       "      <td>CHEBI:24261</td>\n",
       "      <td>glucocorticoid</td>\n",
       "      <td>0.870156</td>\n",
       "    </tr>\n",
       "    <tr>\n",
       "      <th>3</th>\n",
       "      <td>HGNC:4641</td>\n",
       "      <td>GSTT1</td>\n",
       "      <td>MONDO:0005615</td>\n",
       "      <td>plasmacytoma</td>\n",
       "      <td>CHEBI:3423</td>\n",
       "      <td>carmustine</td>\n",
       "      <td>0.867883</td>\n",
       "    </tr>\n",
       "    <tr>\n",
       "      <th>4</th>\n",
       "      <td>HGNC:4641</td>\n",
       "      <td>GSTT1</td>\n",
       "      <td>MONDO:0009693</td>\n",
       "      <td>multiple myeloma</td>\n",
       "      <td>CHEBI:28901</td>\n",
       "      <td>busulfan</td>\n",
       "      <td>0.770532</td>\n",
       "    </tr>\n",
       "  </tbody>\n",
       "</table>\n",
       "</div>"
      ],
      "text/plain": [
       "    n1 - id  n1 - name        n2 - id         n2 - name      n3 - id   \\\n",
       "0  HGNC:4641      GSTT1  MONDO:0015917  malignant glioma   CHEBI:3423   \n",
       "1  HGNC:4641      GSTT1  MONDO:0009693  multiple myeloma   CHEBI:3423   \n",
       "2  HGNC:4641      GSTT1  MONDO:0009693  multiple myeloma  CHEBI:24261   \n",
       "3  HGNC:4641      GSTT1  MONDO:0005615      plasmacytoma   CHEBI:3423   \n",
       "4  HGNC:4641      GSTT1  MONDO:0009693  multiple myeloma  CHEBI:28901   \n",
       "\n",
       "       n3 - name      score  \n",
       "0      carmustine  0.989428  \n",
       "1      carmustine  0.956772  \n",
       "2  glucocorticoid  0.870156  \n",
       "3      carmustine  0.867883  \n",
       "4        busulfan  0.770532  "
      ]
     },
     "metadata": {},
     "output_type": "display_data"
    },
    {
     "data": {
      "text/html": [
       "<h3>Alzheimer disease</h3>"
      ],
      "text/plain": [
       "<IPython.core.display.HTML object>"
      ]
     },
     "metadata": {},
     "output_type": "display_data"
    },
    {
     "data": {
      "text/html": [
       "<a href=http://robokop.renci.org/simple/view/64afe0c8-1966-4a56-9de8-4f481f47e190>View Answer in ROBOKOP</a>"
      ],
      "text/plain": [
       "<IPython.core.display.HTML object>"
      ]
     },
     "metadata": {},
     "output_type": "display_data"
    },
    {
     "data": {
      "text/html": [
       "<div>\n",
       "<style>\n",
       "    .dataframe thead tr:only-child th {\n",
       "        text-align: right;\n",
       "    }\n",
       "\n",
       "    .dataframe thead th {\n",
       "        text-align: left;\n",
       "    }\n",
       "\n",
       "    .dataframe tbody tr th {\n",
       "        vertical-align: top;\n",
       "    }\n",
       "</style>\n",
       "<table border=\"1\" class=\"dataframe\">\n",
       "  <thead>\n",
       "    <tr style=\"text-align: right;\">\n",
       "      <th></th>\n",
       "      <th>n1 - id</th>\n",
       "      <th>n1 - name</th>\n",
       "      <th>n2 - id</th>\n",
       "      <th>n2 - name</th>\n",
       "      <th>n3 - id</th>\n",
       "      <th>n3 - name</th>\n",
       "      <th>score</th>\n",
       "    </tr>\n",
       "  </thead>\n",
       "  <tbody>\n",
       "    <tr>\n",
       "      <th>0</th>\n",
       "      <td>HGNC:6081</td>\n",
       "      <td>INS</td>\n",
       "      <td>MONDO:0004946</td>\n",
       "      <td>hypoglycemia</td>\n",
       "      <td>CHEBI:17234</td>\n",
       "      <td>glucose</td>\n",
       "      <td>1.863937</td>\n",
       "    </tr>\n",
       "    <tr>\n",
       "      <th>1</th>\n",
       "      <td>HGNC:620</td>\n",
       "      <td>APP</td>\n",
       "      <td>MONDO:0006496</td>\n",
       "      <td>palsy</td>\n",
       "      <td>CHEBI:28694</td>\n",
       "      <td>copper atom</td>\n",
       "      <td>1.736747</td>\n",
       "    </tr>\n",
       "    <tr>\n",
       "      <th>2</th>\n",
       "      <td>HGNC:427</td>\n",
       "      <td>ALK</td>\n",
       "      <td>MONDO:0005061</td>\n",
       "      <td>lung adenocarcinoma</td>\n",
       "      <td>CHEBI:64310</td>\n",
       "      <td>crizotinib</td>\n",
       "      <td>1.516565</td>\n",
       "    </tr>\n",
       "    <tr>\n",
       "      <th>3</th>\n",
       "      <td>HGNC:427</td>\n",
       "      <td>ALK</td>\n",
       "      <td>MONDO:0005072</td>\n",
       "      <td>neuroblastoma</td>\n",
       "      <td>CHEBI:64310</td>\n",
       "      <td>crizotinib</td>\n",
       "      <td>1.483567</td>\n",
       "    </tr>\n",
       "    <tr>\n",
       "      <th>4</th>\n",
       "      <td>HGNC:620</td>\n",
       "      <td>APP</td>\n",
       "      <td>MONDO:0019065</td>\n",
       "      <td>amyloidosis (disease)</td>\n",
       "      <td>CHEBI:50122</td>\n",
       "      <td>rosiglitazone</td>\n",
       "      <td>1.460773</td>\n",
       "    </tr>\n",
       "  </tbody>\n",
       "</table>\n",
       "</div>"
      ],
      "text/plain": [
       "    n1 - id  n1 - name        n2 - id              n2 - name      n3 - id   \\\n",
       "0  HGNC:6081        INS  MONDO:0004946           hypoglycemia  CHEBI:17234   \n",
       "1   HGNC:620        APP  MONDO:0006496                  palsy  CHEBI:28694   \n",
       "2   HGNC:427        ALK  MONDO:0005061    lung adenocarcinoma  CHEBI:64310   \n",
       "3   HGNC:427        ALK  MONDO:0005072          neuroblastoma  CHEBI:64310   \n",
       "4   HGNC:620        APP  MONDO:0019065  amyloidosis (disease)  CHEBI:50122   \n",
       "\n",
       "      n3 - name      score  \n",
       "0        glucose  1.863937  \n",
       "1    copper atom  1.736747  \n",
       "2     crizotinib  1.516565  \n",
       "3     crizotinib  1.483567  \n",
       "4  rosiglitazone  1.460773  "
      ]
     },
     "metadata": {},
     "output_type": "display_data"
    },
    {
     "data": {
      "text/html": [
       "<h3>Leigh disease</h3>"
      ],
      "text/plain": [
       "<IPython.core.display.HTML object>"
      ]
     },
     "metadata": {},
     "output_type": "display_data"
    },
    {
     "data": {
      "text/html": [
       "<a href=http://robokop.renci.org/simple/view/51ee54f0-f364-48ed-a44f-ad524d8aa96d>View Answer in ROBOKOP</a>"
      ],
      "text/plain": [
       "<IPython.core.display.HTML object>"
      ]
     },
     "metadata": {},
     "output_type": "display_data"
    },
    {
     "data": {
      "text/html": [
       "<div>\n",
       "<style>\n",
       "    .dataframe thead tr:only-child th {\n",
       "        text-align: right;\n",
       "    }\n",
       "\n",
       "    .dataframe thead th {\n",
       "        text-align: left;\n",
       "    }\n",
       "\n",
       "    .dataframe tbody tr th {\n",
       "        vertical-align: top;\n",
       "    }\n",
       "</style>\n",
       "<table border=\"1\" class=\"dataframe\">\n",
       "  <thead>\n",
       "    <tr style=\"text-align: right;\">\n",
       "      <th></th>\n",
       "      <th>n1 - id</th>\n",
       "      <th>n1 - name</th>\n",
       "      <th>n2 - id</th>\n",
       "      <th>n2 - name</th>\n",
       "      <th>n3 - id</th>\n",
       "      <th>n3 - name</th>\n",
       "      <th>score</th>\n",
       "    </tr>\n",
       "  </thead>\n",
       "  <tbody>\n",
       "    <tr>\n",
       "      <th>0</th>\n",
       "      <td>HGNC:2264</td>\n",
       "      <td>COX17</td>\n",
       "      <td>MONDO:0010651</td>\n",
       "      <td>Menkes disease</td>\n",
       "      <td>CHEBI:28694</td>\n",
       "      <td>copper atom</td>\n",
       "      <td>0.615859</td>\n",
       "    </tr>\n",
       "    <tr>\n",
       "      <th>1</th>\n",
       "      <td>HGNC:7455</td>\n",
       "      <td>MT-ND1</td>\n",
       "      <td>MONDO:0000190</td>\n",
       "      <td>ventricular fibrillation (disease)</td>\n",
       "      <td>CHEBI:16238</td>\n",
       "      <td>FAD</td>\n",
       "      <td>0.611330</td>\n",
       "    </tr>\n",
       "    <tr>\n",
       "      <th>2</th>\n",
       "      <td>HGNC:7461</td>\n",
       "      <td>MT-ND5</td>\n",
       "      <td>MONDO:0004675</td>\n",
       "      <td>mitochondrial encephalomyopathy</td>\n",
       "      <td>CHEBI:46372</td>\n",
       "      <td>ubiquinone-2</td>\n",
       "      <td>0.599202</td>\n",
       "    </tr>\n",
       "    <tr>\n",
       "      <th>3</th>\n",
       "      <td>HGNC:2264</td>\n",
       "      <td>COX17</td>\n",
       "      <td>MONDO:0010200</td>\n",
       "      <td>Wilson disease</td>\n",
       "      <td>CHEBI:28694</td>\n",
       "      <td>copper atom</td>\n",
       "      <td>0.598160</td>\n",
       "    </tr>\n",
       "    <tr>\n",
       "      <th>4</th>\n",
       "      <td>HGNC:7459</td>\n",
       "      <td>MT-ND4</td>\n",
       "      <td>MONDO:0004675</td>\n",
       "      <td>mitochondrial encephalomyopathy</td>\n",
       "      <td>CHEBI:46372</td>\n",
       "      <td>ubiquinone-2</td>\n",
       "      <td>0.589755</td>\n",
       "    </tr>\n",
       "  </tbody>\n",
       "</table>\n",
       "</div>"
      ],
      "text/plain": [
       "    n1 - id  n1 - name        n2 - id                           n2 - name   \\\n",
       "0  HGNC:2264      COX17  MONDO:0010651                      Menkes disease   \n",
       "1  HGNC:7455     MT-ND1  MONDO:0000190  ventricular fibrillation (disease)   \n",
       "2  HGNC:7461     MT-ND5  MONDO:0004675     mitochondrial encephalomyopathy   \n",
       "3  HGNC:2264      COX17  MONDO:0010200                      Wilson disease   \n",
       "4  HGNC:7459     MT-ND4  MONDO:0004675     mitochondrial encephalomyopathy   \n",
       "\n",
       "      n3 - id     n3 - name      score  \n",
       "0  CHEBI:28694   copper atom  0.615859  \n",
       "1  CHEBI:16238           FAD  0.611330  \n",
       "2  CHEBI:46372  ubiquinone-2  0.599202  \n",
       "3  CHEBI:28694   copper atom  0.598160  \n",
       "4  CHEBI:46372  ubiquinone-2  0.589755  "
      ]
     },
     "metadata": {},
     "output_type": "display_data"
    },
    {
     "data": {
      "text/html": [
       "<h3>apert syndrome</h3>"
      ],
      "text/plain": [
       "<IPython.core.display.HTML object>"
      ]
     },
     "metadata": {},
     "output_type": "display_data"
    },
    {
     "data": {
      "text/html": [
       "<a href=http://robokop.renci.org/simple/view/f457bf51-4172-45c4-a85d-f9ae2605138d>View Answer in ROBOKOP</a>"
      ],
      "text/plain": [
       "<IPython.core.display.HTML object>"
      ]
     },
     "metadata": {},
     "output_type": "display_data"
    },
    {
     "data": {
      "text/html": [
       "<div>\n",
       "<style>\n",
       "    .dataframe thead tr:only-child th {\n",
       "        text-align: right;\n",
       "    }\n",
       "\n",
       "    .dataframe thead th {\n",
       "        text-align: left;\n",
       "    }\n",
       "\n",
       "    .dataframe tbody tr th {\n",
       "        vertical-align: top;\n",
       "    }\n",
       "</style>\n",
       "<table border=\"1\" class=\"dataframe\">\n",
       "  <thead>\n",
       "    <tr style=\"text-align: right;\">\n",
       "      <th></th>\n",
       "      <th>n1 - id</th>\n",
       "      <th>n1 - name</th>\n",
       "      <th>n2 - id</th>\n",
       "      <th>n2 - name</th>\n",
       "      <th>n3 - id</th>\n",
       "      <th>n3 - name</th>\n",
       "      <th>score</th>\n",
       "    </tr>\n",
       "  </thead>\n",
       "  <tbody>\n",
       "    <tr>\n",
       "      <th>0</th>\n",
       "      <td>HGNC:3689</td>\n",
       "      <td>FGFR2</td>\n",
       "      <td>MONDO:0001243</td>\n",
       "      <td>disseminated intravascular coagulation</td>\n",
       "      <td>PUBCHEM:772</td>\n",
       "      <td>Heparin</td>\n",
       "      <td>0.873316</td>\n",
       "    </tr>\n",
       "    <tr>\n",
       "      <th>1</th>\n",
       "      <td>HGNC:3689</td>\n",
       "      <td>FGFR2</td>\n",
       "      <td>MONDO:0005192</td>\n",
       "      <td>exocrine pancreatic carcinoma</td>\n",
       "      <td>CHEBI:26523</td>\n",
       "      <td>reactive oxygen species</td>\n",
       "      <td>0.826125</td>\n",
       "    </tr>\n",
       "    <tr>\n",
       "      <th>2</th>\n",
       "      <td>HGNC:3689</td>\n",
       "      <td>FGFR2</td>\n",
       "      <td>MONDO:0004987</td>\n",
       "      <td>urinary bladder neoplasm</td>\n",
       "      <td>CHEBI:45906</td>\n",
       "      <td>suramin</td>\n",
       "      <td>0.807957</td>\n",
       "    </tr>\n",
       "    <tr>\n",
       "      <th>3</th>\n",
       "      <td>HGNC:3689</td>\n",
       "      <td>FGFR2</td>\n",
       "      <td>MONDO:0005615</td>\n",
       "      <td>plasmacytoma</td>\n",
       "      <td>CHEBI:45906</td>\n",
       "      <td>suramin</td>\n",
       "      <td>0.696416</td>\n",
       "    </tr>\n",
       "    <tr>\n",
       "      <th>4</th>\n",
       "      <td>HGNC:3689</td>\n",
       "      <td>FGFR2</td>\n",
       "      <td>MONDO:0001126</td>\n",
       "      <td>gastric ulcer (disease)</td>\n",
       "      <td>CHEBI:29150</td>\n",
       "      <td>orthoperiodic acid</td>\n",
       "      <td>0.678824</td>\n",
       "    </tr>\n",
       "  </tbody>\n",
       "</table>\n",
       "</div>"
      ],
      "text/plain": [
       "    n1 - id  n1 - name        n2 - id   \\\n",
       "0  HGNC:3689      FGFR2  MONDO:0001243   \n",
       "1  HGNC:3689      FGFR2  MONDO:0005192   \n",
       "2  HGNC:3689      FGFR2  MONDO:0004987   \n",
       "3  HGNC:3689      FGFR2  MONDO:0005615   \n",
       "4  HGNC:3689      FGFR2  MONDO:0001126   \n",
       "\n",
       "                               n2 - name      n3 - id   \\\n",
       "0  disseminated intravascular coagulation  PUBCHEM:772   \n",
       "1           exocrine pancreatic carcinoma  CHEBI:26523   \n",
       "2                urinary bladder neoplasm  CHEBI:45906   \n",
       "3                            plasmacytoma  CHEBI:45906   \n",
       "4                 gastric ulcer (disease)  CHEBI:29150   \n",
       "\n",
       "                n3 - name      score  \n",
       "0                  Heparin  0.873316  \n",
       "1  reactive oxygen species  0.826125  \n",
       "2                  suramin  0.807957  \n",
       "3                  suramin  0.696416  \n",
       "4       orthoperiodic acid  0.678824  "
      ]
     },
     "metadata": {},
     "output_type": "display_data"
    },
    {
     "data": {
      "text/html": [
       "<h3>ehlers-danlos syndrome</h3>"
      ],
      "text/plain": [
       "<IPython.core.display.HTML object>"
      ]
     },
     "metadata": {},
     "output_type": "display_data"
    },
    {
     "data": {
      "text/html": [
       "<a href=http://robokop.renci.org/simple/view/5e875178-22b0-4835-9c4d-95638ec726fb>View Answer in ROBOKOP</a>"
      ],
      "text/plain": [
       "<IPython.core.display.HTML object>"
      ]
     },
     "metadata": {},
     "output_type": "display_data"
    },
    {
     "data": {
      "text/html": [
       "<div>\n",
       "<style>\n",
       "    .dataframe thead tr:only-child th {\n",
       "        text-align: right;\n",
       "    }\n",
       "\n",
       "    .dataframe thead th {\n",
       "        text-align: left;\n",
       "    }\n",
       "\n",
       "    .dataframe tbody tr th {\n",
       "        vertical-align: top;\n",
       "    }\n",
       "</style>\n",
       "<table border=\"1\" class=\"dataframe\">\n",
       "  <thead>\n",
       "    <tr style=\"text-align: right;\">\n",
       "      <th></th>\n",
       "      <th>n1 - id</th>\n",
       "      <th>n1 - name</th>\n",
       "      <th>n2 - id</th>\n",
       "      <th>n2 - name</th>\n",
       "      <th>n3 - id</th>\n",
       "      <th>n3 - name</th>\n",
       "      <th>score</th>\n",
       "    </tr>\n",
       "  </thead>\n",
       "  <tbody>\n",
       "    <tr>\n",
       "      <th>0</th>\n",
       "      <td>HGNC:399</td>\n",
       "      <td>ALB</td>\n",
       "      <td>MONDO:0004946</td>\n",
       "      <td>hypoglycemia</td>\n",
       "      <td>CHEBI:17234</td>\n",
       "      <td>glucose</td>\n",
       "      <td>0.901845</td>\n",
       "    </tr>\n",
       "    <tr>\n",
       "      <th>1</th>\n",
       "      <td>HGNC:399</td>\n",
       "      <td>ALB</td>\n",
       "      <td>MONDO:0003634</td>\n",
       "      <td>proteinuria</td>\n",
       "      <td>CHEBI:16236</td>\n",
       "      <td>ethanol</td>\n",
       "      <td>0.885486</td>\n",
       "    </tr>\n",
       "    <tr>\n",
       "      <th>2</th>\n",
       "      <td>HGNC:2197</td>\n",
       "      <td>COL1A1</td>\n",
       "      <td>MONDO:0005348</td>\n",
       "      <td>Keloid</td>\n",
       "      <td>CHEBI:16243</td>\n",
       "      <td>quercetin</td>\n",
       "      <td>0.812214</td>\n",
       "    </tr>\n",
       "    <tr>\n",
       "      <th>3</th>\n",
       "      <td>HGNC:399</td>\n",
       "      <td>ALB</td>\n",
       "      <td>MONDO:0021187</td>\n",
       "      <td>hyperlipidemia (disease)</td>\n",
       "      <td>CHEBI:3750</td>\n",
       "      <td>clofibrate</td>\n",
       "      <td>0.810096</td>\n",
       "    </tr>\n",
       "    <tr>\n",
       "      <th>4</th>\n",
       "      <td>HGNC:2201</td>\n",
       "      <td>COL3A1</td>\n",
       "      <td>MONDO:0003019</td>\n",
       "      <td>hypokalemia (disease)</td>\n",
       "      <td>CHEBI:9241</td>\n",
       "      <td>spironolactone</td>\n",
       "      <td>0.797432</td>\n",
       "    </tr>\n",
       "  </tbody>\n",
       "</table>\n",
       "</div>"
      ],
      "text/plain": [
       "    n1 - id  n1 - name        n2 - id                 n2 - name      n3 - id   \\\n",
       "0   HGNC:399        ALB  MONDO:0004946              hypoglycemia  CHEBI:17234   \n",
       "1   HGNC:399        ALB  MONDO:0003634               proteinuria  CHEBI:16236   \n",
       "2  HGNC:2197     COL1A1  MONDO:0005348                    Keloid  CHEBI:16243   \n",
       "3   HGNC:399        ALB  MONDO:0021187  hyperlipidemia (disease)   CHEBI:3750   \n",
       "4  HGNC:2201     COL3A1  MONDO:0003019     hypokalemia (disease)   CHEBI:9241   \n",
       "\n",
       "       n3 - name      score  \n",
       "0         glucose  0.901845  \n",
       "1         ethanol  0.885486  \n",
       "2       quercetin  0.812214  \n",
       "3      clofibrate  0.810096  \n",
       "4  spironolactone  0.797432  "
      ]
     },
     "metadata": {},
     "output_type": "display_data"
    },
    {
     "data": {
      "text/html": [
       "<h3>diabetic ketoacidosis</h3>"
      ],
      "text/plain": [
       "<IPython.core.display.HTML object>"
      ]
     },
     "metadata": {},
     "output_type": "display_data"
    },
    {
     "data": {
      "text/html": [
       "<a href=http://robokop.renci.org/simple/view/ad2db3ec-501c-42e1-9d33-867c8a6cbc14>View Answer in ROBOKOP</a>"
      ],
      "text/plain": [
       "<IPython.core.display.HTML object>"
      ]
     },
     "metadata": {},
     "output_type": "display_data"
    },
    {
     "data": {
      "text/html": [
       "<div>\n",
       "<style>\n",
       "    .dataframe thead tr:only-child th {\n",
       "        text-align: right;\n",
       "    }\n",
       "\n",
       "    .dataframe thead th {\n",
       "        text-align: left;\n",
       "    }\n",
       "\n",
       "    .dataframe tbody tr th {\n",
       "        vertical-align: top;\n",
       "    }\n",
       "</style>\n",
       "<table border=\"1\" class=\"dataframe\">\n",
       "  <thead>\n",
       "    <tr style=\"text-align: right;\">\n",
       "      <th></th>\n",
       "      <th>n1 - id</th>\n",
       "      <th>n1 - name</th>\n",
       "      <th>n2 - id</th>\n",
       "      <th>n2 - name</th>\n",
       "      <th>n3 - id</th>\n",
       "      <th>n3 - name</th>\n",
       "      <th>score</th>\n",
       "    </tr>\n",
       "  </thead>\n",
       "  <tbody>\n",
       "    <tr>\n",
       "      <th>0</th>\n",
       "      <td>HGNC:6091</td>\n",
       "      <td>INSR</td>\n",
       "      <td>MONDO:0004946</td>\n",
       "      <td>hypoglycemia</td>\n",
       "      <td>CHEBI:17234</td>\n",
       "      <td>glucose</td>\n",
       "      <td>1.214769</td>\n",
       "    </tr>\n",
       "    <tr>\n",
       "      <th>1</th>\n",
       "      <td>HGNC:6091</td>\n",
       "      <td>INSR</td>\n",
       "      <td>MONDO:0002909</td>\n",
       "      <td>hyperglycemia</td>\n",
       "      <td>CHEBI:16243</td>\n",
       "      <td>quercetin</td>\n",
       "      <td>0.910908</td>\n",
       "    </tr>\n",
       "    <tr>\n",
       "      <th>2</th>\n",
       "      <td>HGNC:6091</td>\n",
       "      <td>INSR</td>\n",
       "      <td>MONDO:0002177</td>\n",
       "      <td>hyperinsulinism (disease)</td>\n",
       "      <td>CHEBI:16243</td>\n",
       "      <td>quercetin</td>\n",
       "      <td>0.895295</td>\n",
       "    </tr>\n",
       "    <tr>\n",
       "      <th>3</th>\n",
       "      <td>HGNC:6091</td>\n",
       "      <td>INSR</td>\n",
       "      <td>MONDO:0003634</td>\n",
       "      <td>proteinuria</td>\n",
       "      <td>MESH:D004365</td>\n",
       "      <td>Drugs, Chinese Herbal</td>\n",
       "      <td>0.750651</td>\n",
       "    </tr>\n",
       "    <tr>\n",
       "      <th>4</th>\n",
       "      <td>HGNC:6091</td>\n",
       "      <td>INSR</td>\n",
       "      <td>MONDO:0003634</td>\n",
       "      <td>proteinuria</td>\n",
       "      <td>CHEBI:16243</td>\n",
       "      <td>quercetin</td>\n",
       "      <td>0.657611</td>\n",
       "    </tr>\n",
       "  </tbody>\n",
       "</table>\n",
       "</div>"
      ],
      "text/plain": [
       "    n1 - id  n1 - name        n2 - id                  n2 - name   \\\n",
       "0  HGNC:6091       INSR  MONDO:0004946               hypoglycemia   \n",
       "1  HGNC:6091       INSR  MONDO:0002909              hyperglycemia   \n",
       "2  HGNC:6091       INSR  MONDO:0002177  hyperinsulinism (disease)   \n",
       "3  HGNC:6091       INSR  MONDO:0003634                proteinuria   \n",
       "4  HGNC:6091       INSR  MONDO:0003634                proteinuria   \n",
       "\n",
       "       n3 - id              n3 - name      score  \n",
       "0   CHEBI:17234                glucose  1.214769  \n",
       "1   CHEBI:16243              quercetin  0.910908  \n",
       "2   CHEBI:16243              quercetin  0.895295  \n",
       "3  MESH:D004365  Drugs, Chinese Herbal  0.750651  \n",
       "4   CHEBI:16243              quercetin  0.657611  "
      ]
     },
     "metadata": {},
     "output_type": "display_data"
    },
    {
     "data": {
      "text/html": [
       "<h3>diffuse idiopathic skeletal hyperostosis</h3>"
      ],
      "text/plain": [
       "<IPython.core.display.HTML object>"
      ]
     },
     "metadata": {},
     "output_type": "display_data"
    },
    {
     "data": {
      "text/html": [
       "<a href=http://robokop.renci.org/simple/view/d61cf6ca-174e-4e6d-b5d0-8521e616425d>View Answer in ROBOKOP</a>"
      ],
      "text/plain": [
       "<IPython.core.display.HTML object>"
      ]
     },
     "metadata": {},
     "output_type": "display_data"
    },
    {
     "data": {
      "text/html": [
       "<div>\n",
       "<style>\n",
       "    .dataframe thead tr:only-child th {\n",
       "        text-align: right;\n",
       "    }\n",
       "\n",
       "    .dataframe thead th {\n",
       "        text-align: left;\n",
       "    }\n",
       "\n",
       "    .dataframe tbody tr th {\n",
       "        vertical-align: top;\n",
       "    }\n",
       "</style>\n",
       "<table border=\"1\" class=\"dataframe\">\n",
       "  <thead>\n",
       "    <tr style=\"text-align: right;\">\n",
       "      <th></th>\n",
       "      <th>n1 - id</th>\n",
       "      <th>n1 - name</th>\n",
       "      <th>n2 - id</th>\n",
       "      <th>n2 - name</th>\n",
       "      <th>n3 - id</th>\n",
       "      <th>n3 - name</th>\n",
       "      <th>score</th>\n",
       "    </tr>\n",
       "  </thead>\n",
       "  <tbody>\n",
       "    <tr>\n",
       "      <th>0</th>\n",
       "      <td>HGNC:5464</td>\n",
       "      <td>IGF1</td>\n",
       "      <td>MONDO:0001119</td>\n",
       "      <td>premature menopause</td>\n",
       "      <td>CHEBI:17347</td>\n",
       "      <td>testosterone</td>\n",
       "      <td>1.000505</td>\n",
       "    </tr>\n",
       "    <tr>\n",
       "      <th>1</th>\n",
       "      <td>HGNC:5464</td>\n",
       "      <td>IGF1</td>\n",
       "      <td>MONDO:0005133</td>\n",
       "      <td>endometriosis (disease)</td>\n",
       "      <td>CHEBI:17026</td>\n",
       "      <td>progesterone</td>\n",
       "      <td>0.896459</td>\n",
       "    </tr>\n",
       "    <tr>\n",
       "      <th>2</th>\n",
       "      <td>HGNC:5464</td>\n",
       "      <td>IGF1</td>\n",
       "      <td>MONDO:0005292</td>\n",
       "      <td>colitis (disease)</td>\n",
       "      <td>CHEBI:3962</td>\n",
       "      <td>curcumin</td>\n",
       "      <td>0.804841</td>\n",
       "    </tr>\n",
       "    <tr>\n",
       "      <th>3</th>\n",
       "      <td>HGNC:5464</td>\n",
       "      <td>IGF1</td>\n",
       "      <td>MONDO:0019933</td>\n",
       "      <td>acromegaly</td>\n",
       "      <td>CHEMBL:CHEMBL1680</td>\n",
       "      <td>OCTREOTIDE</td>\n",
       "      <td>0.791839</td>\n",
       "    </tr>\n",
       "    <tr>\n",
       "      <th>4</th>\n",
       "      <td>HGNC:5464</td>\n",
       "      <td>IGF1</td>\n",
       "      <td>MONDO:0005387</td>\n",
       "      <td>primary ovarian insufficiency</td>\n",
       "      <td>CHEBI:17347</td>\n",
       "      <td>testosterone</td>\n",
       "      <td>0.699263</td>\n",
       "    </tr>\n",
       "  </tbody>\n",
       "</table>\n",
       "</div>"
      ],
      "text/plain": [
       "    n1 - id  n1 - name        n2 - id                      n2 - name   \\\n",
       "0  HGNC:5464       IGF1  MONDO:0001119            premature menopause   \n",
       "1  HGNC:5464       IGF1  MONDO:0005133        endometriosis (disease)   \n",
       "2  HGNC:5464       IGF1  MONDO:0005292              colitis (disease)   \n",
       "3  HGNC:5464       IGF1  MONDO:0019933                     acromegaly   \n",
       "4  HGNC:5464       IGF1  MONDO:0005387  primary ovarian insufficiency   \n",
       "\n",
       "            n3 - id     n3 - name      score  \n",
       "0        CHEBI:17347  testosterone  1.000505  \n",
       "1        CHEBI:17026  progesterone  0.896459  \n",
       "2         CHEBI:3962      curcumin  0.804841  \n",
       "3  CHEMBL:CHEMBL1680    OCTREOTIDE  0.791839  \n",
       "4        CHEBI:17347  testosterone  0.699263  "
      ]
     },
     "metadata": {},
     "output_type": "display_data"
    },
    {
     "data": {
      "text/html": [
       "<h3>newborn respiratory distress syndrome</h3>"
      ],
      "text/plain": [
       "<IPython.core.display.HTML object>"
      ]
     },
     "metadata": {},
     "output_type": "display_data"
    },
    {
     "data": {
      "text/html": [
       "<a href=http://robokop.renci.org/simple/view/9430f8ff-6b13-4813-b8e3-a2a6d97f2537>View Answer in ROBOKOP</a>"
      ],
      "text/plain": [
       "<IPython.core.display.HTML object>"
      ]
     },
     "metadata": {},
     "output_type": "display_data"
    },
    {
     "data": {
      "text/html": [
       "<div>\n",
       "<style>\n",
       "    .dataframe thead tr:only-child th {\n",
       "        text-align: right;\n",
       "    }\n",
       "\n",
       "    .dataframe thead th {\n",
       "        text-align: left;\n",
       "    }\n",
       "\n",
       "    .dataframe tbody tr th {\n",
       "        vertical-align: top;\n",
       "    }\n",
       "</style>\n",
       "<table border=\"1\" class=\"dataframe\">\n",
       "  <thead>\n",
       "    <tr style=\"text-align: right;\">\n",
       "      <th></th>\n",
       "    </tr>\n",
       "  </thead>\n",
       "  <tbody>\n",
       "  </tbody>\n",
       "</table>\n",
       "</div>"
      ],
      "text/plain": [
       "Empty DataFrame\n",
       "Columns: []\n",
       "Index: []"
      ]
     },
     "metadata": {},
     "output_type": "display_data"
    },
    {
     "data": {
      "text/html": [
       "<h3>mitochondrial DNA depletion syndrome 4a</h3>"
      ],
      "text/plain": [
       "<IPython.core.display.HTML object>"
      ]
     },
     "metadata": {},
     "output_type": "display_data"
    },
    {
     "data": {
      "text/html": [
       "<a href=http://robokop.renci.org/simple/view/d4f9d254-49e0-4995-8b31-e9c25884daa7>View Answer in ROBOKOP</a>"
      ],
      "text/plain": [
       "<IPython.core.display.HTML object>"
      ]
     },
     "metadata": {},
     "output_type": "display_data"
    },
    {
     "data": {
      "text/html": [
       "<div>\n",
       "<style>\n",
       "    .dataframe thead tr:only-child th {\n",
       "        text-align: right;\n",
       "    }\n",
       "\n",
       "    .dataframe thead th {\n",
       "        text-align: left;\n",
       "    }\n",
       "\n",
       "    .dataframe tbody tr th {\n",
       "        vertical-align: top;\n",
       "    }\n",
       "</style>\n",
       "<table border=\"1\" class=\"dataframe\">\n",
       "  <thead>\n",
       "    <tr style=\"text-align: right;\">\n",
       "      <th></th>\n",
       "      <th>n1 - id</th>\n",
       "      <th>n1 - name</th>\n",
       "      <th>n2 - id</th>\n",
       "      <th>n2 - name</th>\n",
       "      <th>n3 - id</th>\n",
       "      <th>n3 - name</th>\n",
       "      <th>score</th>\n",
       "    </tr>\n",
       "  </thead>\n",
       "  <tbody>\n",
       "    <tr>\n",
       "      <th>0</th>\n",
       "      <td>HGNC:11831</td>\n",
       "      <td>TK2</td>\n",
       "      <td>MONDO:0001835</td>\n",
       "      <td>facial paralysis</td>\n",
       "      <td>CHEBI:28680</td>\n",
       "      <td>cytarabine</td>\n",
       "      <td>0.529364</td>\n",
       "    </tr>\n",
       "  </tbody>\n",
       "</table>\n",
       "</div>"
      ],
      "text/plain": [
       "     n1 - id  n1 - name        n2 - id         n2 - name      n3 - id   \\\n",
       "0  HGNC:11831        TK2  MONDO:0001835  facial paralysis  CHEBI:28680   \n",
       "\n",
       "   n3 - name      score  \n",
       "0  cytarabine  0.529364  "
      ]
     },
     "metadata": {},
     "output_type": "display_data"
    },
    {
     "data": {
      "text/html": [
       "<h3>hypogonadotropic hypogonadism associated with</h3>"
      ],
      "text/plain": [
       "<IPython.core.display.HTML object>"
      ]
     },
     "metadata": {},
     "output_type": "display_data"
    },
    {
     "data": {
      "text/html": [
       "<a href=http://robokop.renci.org/simple/view/eb8a4387-ab9d-4ae3-a05f-71ed7879b2cf>View Answer in ROBOKOP</a>"
      ],
      "text/plain": [
       "<IPython.core.display.HTML object>"
      ]
     },
     "metadata": {},
     "output_type": "display_data"
    },
    {
     "data": {
      "text/html": [
       "<div>\n",
       "<style>\n",
       "    .dataframe thead tr:only-child th {\n",
       "        text-align: right;\n",
       "    }\n",
       "\n",
       "    .dataframe thead th {\n",
       "        text-align: left;\n",
       "    }\n",
       "\n",
       "    .dataframe tbody tr th {\n",
       "        vertical-align: top;\n",
       "    }\n",
       "</style>\n",
       "<table border=\"1\" class=\"dataframe\">\n",
       "  <thead>\n",
       "    <tr style=\"text-align: right;\">\n",
       "      <th></th>\n",
       "      <th>n1 - id</th>\n",
       "      <th>n1 - name</th>\n",
       "      <th>n2 - id</th>\n",
       "      <th>n2 - name</th>\n",
       "      <th>n3 - id</th>\n",
       "      <th>n3 - name</th>\n",
       "      <th>score</th>\n",
       "    </tr>\n",
       "  </thead>\n",
       "  <tbody>\n",
       "    <tr>\n",
       "      <th>0</th>\n",
       "      <td>HGNC:4261</td>\n",
       "      <td>GH1</td>\n",
       "      <td>MONDO:0019933</td>\n",
       "      <td>acromegaly</td>\n",
       "      <td>CHEMBL:CHEMBL1680</td>\n",
       "      <td>OCTREOTIDE</td>\n",
       "      <td>1.524126</td>\n",
       "    </tr>\n",
       "    <tr>\n",
       "      <th>1</th>\n",
       "      <td>HGNC:4261</td>\n",
       "      <td>GH1</td>\n",
       "      <td>MONDO:0019933</td>\n",
       "      <td>acromegaly</td>\n",
       "      <td>CHEBI:3181</td>\n",
       "      <td>bromocriptine</td>\n",
       "      <td>1.363182</td>\n",
       "    </tr>\n",
       "    <tr>\n",
       "      <th>2</th>\n",
       "      <td>HGNC:4261</td>\n",
       "      <td>GH1</td>\n",
       "      <td>MONDO:0006373</td>\n",
       "      <td>pituitary gland adenoma</td>\n",
       "      <td>CHEMBL:CHEMBL1680</td>\n",
       "      <td>OCTREOTIDE</td>\n",
       "      <td>1.242924</td>\n",
       "    </tr>\n",
       "    <tr>\n",
       "      <th>3</th>\n",
       "      <td>HGNC:9445</td>\n",
       "      <td>PRL</td>\n",
       "      <td>MONDO:0010911</td>\n",
       "      <td>prolactin-producing pituitary gland adenoma</td>\n",
       "      <td>CHEBI:3181</td>\n",
       "      <td>bromocriptine</td>\n",
       "      <td>1.179609</td>\n",
       "    </tr>\n",
       "    <tr>\n",
       "      <th>4</th>\n",
       "      <td>HGNC:9445</td>\n",
       "      <td>PRL</td>\n",
       "      <td>MONDO:0005804</td>\n",
       "      <td>hyperprolactinemia (disease)</td>\n",
       "      <td>CHEBI:3181</td>\n",
       "      <td>bromocriptine</td>\n",
       "      <td>1.155644</td>\n",
       "    </tr>\n",
       "  </tbody>\n",
       "</table>\n",
       "</div>"
      ],
      "text/plain": [
       "    n1 - id  n1 - name        n2 - id   \\\n",
       "0  HGNC:4261        GH1  MONDO:0019933   \n",
       "1  HGNC:4261        GH1  MONDO:0019933   \n",
       "2  HGNC:4261        GH1  MONDO:0006373   \n",
       "3  HGNC:9445        PRL  MONDO:0010911   \n",
       "4  HGNC:9445        PRL  MONDO:0005804   \n",
       "\n",
       "                                    n2 - name            n3 - id   \\\n",
       "0                                   acromegaly  CHEMBL:CHEMBL1680   \n",
       "1                                   acromegaly         CHEBI:3181   \n",
       "2                      pituitary gland adenoma  CHEMBL:CHEMBL1680   \n",
       "3  prolactin-producing pituitary gland adenoma         CHEBI:3181   \n",
       "4                 hyperprolactinemia (disease)         CHEBI:3181   \n",
       "\n",
       "      n3 - name      score  \n",
       "0     OCTREOTIDE  1.524126  \n",
       "1  bromocriptine  1.363182  \n",
       "2     OCTREOTIDE  1.242924  \n",
       "3  bromocriptine  1.179609  \n",
       "4  bromocriptine  1.155644  "
      ]
     },
     "metadata": {},
     "output_type": "display_data"
    },
    {
     "data": {
      "text/html": [
       "<h3>metabolic disease with dementia</h3>"
      ],
      "text/plain": [
       "<IPython.core.display.HTML object>"
      ]
     },
     "metadata": {},
     "output_type": "display_data"
    },
    {
     "data": {
      "text/html": [
       "<a href=http://robokop.renci.org/simple/view/c1a8ae5a-c198-46bd-b205-35127b85b9f0>View Answer in ROBOKOP</a>"
      ],
      "text/plain": [
       "<IPython.core.display.HTML object>"
      ]
     },
     "metadata": {},
     "output_type": "display_data"
    },
    {
     "data": {
      "text/html": [
       "<div>\n",
       "<style>\n",
       "    .dataframe thead tr:only-child th {\n",
       "        text-align: right;\n",
       "    }\n",
       "\n",
       "    .dataframe thead th {\n",
       "        text-align: left;\n",
       "    }\n",
       "\n",
       "    .dataframe tbody tr th {\n",
       "        vertical-align: top;\n",
       "    }\n",
       "</style>\n",
       "<table border=\"1\" class=\"dataframe\">\n",
       "  <thead>\n",
       "    <tr style=\"text-align: right;\">\n",
       "      <th></th>\n",
       "      <th>n1 - id</th>\n",
       "      <th>n1 - name</th>\n",
       "      <th>n2 - id</th>\n",
       "      <th>n2 - name</th>\n",
       "      <th>n3 - id</th>\n",
       "      <th>n3 - name</th>\n",
       "      <th>score</th>\n",
       "    </tr>\n",
       "  </thead>\n",
       "  <tbody>\n",
       "    <tr>\n",
       "      <th>0</th>\n",
       "      <td>HGNC:4177</td>\n",
       "      <td>GBA</td>\n",
       "      <td>MONDO:0018150</td>\n",
       "      <td>Gaucher disease</td>\n",
       "      <td>CHEBI:82752</td>\n",
       "      <td>eliglustat</td>\n",
       "      <td>1.083114</td>\n",
       "    </tr>\n",
       "    <tr>\n",
       "      <th>1</th>\n",
       "      <td>HGNC:795</td>\n",
       "      <td>ATM</td>\n",
       "      <td>MONDO:0018881</td>\n",
       "      <td>myelodysplastic syndrome</td>\n",
       "      <td>CHEBI:50131</td>\n",
       "      <td>5-aza-2'-deoxycytidine</td>\n",
       "      <td>1.059473</td>\n",
       "    </tr>\n",
       "    <tr>\n",
       "      <th>2</th>\n",
       "      <td>HGNC:795</td>\n",
       "      <td>ATM</td>\n",
       "      <td>MONDO:0005615</td>\n",
       "      <td>plasmacytoma</td>\n",
       "      <td>CHEBI:52717</td>\n",
       "      <td>bortezomib</td>\n",
       "      <td>1.032659</td>\n",
       "    </tr>\n",
       "    <tr>\n",
       "      <th>3</th>\n",
       "      <td>HGNC:2295</td>\n",
       "      <td>CP</td>\n",
       "      <td>MONDO:0010200</td>\n",
       "      <td>Wilson disease</td>\n",
       "      <td>CHEBI:28694</td>\n",
       "      <td>copper atom</td>\n",
       "      <td>1.002359</td>\n",
       "    </tr>\n",
       "    <tr>\n",
       "      <th>4</th>\n",
       "      <td>HGNC:620</td>\n",
       "      <td>APP</td>\n",
       "      <td>MONDO:0006496</td>\n",
       "      <td>palsy</td>\n",
       "      <td>CHEBI:28694</td>\n",
       "      <td>copper atom</td>\n",
       "      <td>0.977084</td>\n",
       "    </tr>\n",
       "  </tbody>\n",
       "</table>\n",
       "</div>"
      ],
      "text/plain": [
       "    n1 - id  n1 - name        n2 - id                 n2 - name      n3 - id   \\\n",
       "0  HGNC:4177        GBA  MONDO:0018150           Gaucher disease  CHEBI:82752   \n",
       "1   HGNC:795        ATM  MONDO:0018881  myelodysplastic syndrome  CHEBI:50131   \n",
       "2   HGNC:795        ATM  MONDO:0005615              plasmacytoma  CHEBI:52717   \n",
       "3  HGNC:2295         CP  MONDO:0010200            Wilson disease  CHEBI:28694   \n",
       "4   HGNC:620        APP  MONDO:0006496                     palsy  CHEBI:28694   \n",
       "\n",
       "               n3 - name      score  \n",
       "0              eliglustat  1.083114  \n",
       "1  5-aza-2'-deoxycytidine  1.059473  \n",
       "2              bortezomib  1.032659  \n",
       "3             copper atom  1.002359  \n",
       "4             copper atom  0.977084  "
      ]
     },
     "metadata": {},
     "output_type": "display_data"
    },
    {
     "data": {
      "text/html": [
       "<h3>primary immunodeficiency due to a genetic</h3>"
      ],
      "text/plain": [
       "<IPython.core.display.HTML object>"
      ]
     },
     "metadata": {},
     "output_type": "display_data"
    },
    {
     "data": {
      "text/html": [
       "<a href=http://robokop.renci.org/simple/view/0bf43580-e824-4260-a215-b52f08800967>View Answer in ROBOKOP</a>"
      ],
      "text/plain": [
       "<IPython.core.display.HTML object>"
      ]
     },
     "metadata": {},
     "output_type": "display_data"
    },
    {
     "data": {
      "text/html": [
       "<div>\n",
       "<style>\n",
       "    .dataframe thead tr:only-child th {\n",
       "        text-align: right;\n",
       "    }\n",
       "\n",
       "    .dataframe thead th {\n",
       "        text-align: left;\n",
       "    }\n",
       "\n",
       "    .dataframe tbody tr th {\n",
       "        vertical-align: top;\n",
       "    }\n",
       "</style>\n",
       "<table border=\"1\" class=\"dataframe\">\n",
       "  <thead>\n",
       "    <tr style=\"text-align: right;\">\n",
       "      <th></th>\n",
       "      <th>n1 - id</th>\n",
       "      <th>n1 - name</th>\n",
       "      <th>n2 - id</th>\n",
       "      <th>n2 - name</th>\n",
       "      <th>n3 - id</th>\n",
       "      <th>n3 - name</th>\n",
       "      <th>score</th>\n",
       "    </tr>\n",
       "  </thead>\n",
       "  <tbody>\n",
       "    <tr>\n",
       "      <th>0</th>\n",
       "      <td>HGNC:2578</td>\n",
       "      <td>CYBB</td>\n",
       "      <td>MONDO:0005252</td>\n",
       "      <td>heart failure</td>\n",
       "      <td>CHEBI:28787</td>\n",
       "      <td>nitroglycerin</td>\n",
       "      <td>0.899688</td>\n",
       "    </tr>\n",
       "    <tr>\n",
       "      <th>1</th>\n",
       "      <td>HGNC:2578</td>\n",
       "      <td>CYBB</td>\n",
       "      <td>MONDO:0005203</td>\n",
       "      <td>ischemia reperfusion injury</td>\n",
       "      <td>CHEBI:29150</td>\n",
       "      <td>orthoperiodic acid</td>\n",
       "      <td>0.852102</td>\n",
       "    </tr>\n",
       "    <tr>\n",
       "      <th>2</th>\n",
       "      <td>HGNC:7218</td>\n",
       "      <td>MPO</td>\n",
       "      <td>MONDO:0005203</td>\n",
       "      <td>ischemia reperfusion injury</td>\n",
       "      <td>CHEBI:31530</td>\n",
       "      <td>edaravone</td>\n",
       "      <td>0.798995</td>\n",
       "    </tr>\n",
       "    <tr>\n",
       "      <th>3</th>\n",
       "      <td>HGNC:2578</td>\n",
       "      <td>CYBB</td>\n",
       "      <td>MONDO:0003634</td>\n",
       "      <td>proteinuria</td>\n",
       "      <td>CHEBI:29150</td>\n",
       "      <td>orthoperiodic acid</td>\n",
       "      <td>0.794484</td>\n",
       "    </tr>\n",
       "    <tr>\n",
       "      <th>4</th>\n",
       "      <td>HGNC:7218</td>\n",
       "      <td>MPO</td>\n",
       "      <td>MONDO:0005203</td>\n",
       "      <td>ischemia reperfusion injury</td>\n",
       "      <td>CHEBI:3374</td>\n",
       "      <td>capsaicin</td>\n",
       "      <td>0.792077</td>\n",
       "    </tr>\n",
       "  </tbody>\n",
       "</table>\n",
       "</div>"
      ],
      "text/plain": [
       "    n1 - id  n1 - name        n2 - id                    n2 - name   \\\n",
       "0  HGNC:2578       CYBB  MONDO:0005252                heart failure   \n",
       "1  HGNC:2578       CYBB  MONDO:0005203  ischemia reperfusion injury   \n",
       "2  HGNC:7218        MPO  MONDO:0005203  ischemia reperfusion injury   \n",
       "3  HGNC:2578       CYBB  MONDO:0003634                  proteinuria   \n",
       "4  HGNC:7218        MPO  MONDO:0005203  ischemia reperfusion injury   \n",
       "\n",
       "      n3 - id           n3 - name      score  \n",
       "0  CHEBI:28787       nitroglycerin  0.899688  \n",
       "1  CHEBI:29150  orthoperiodic acid  0.852102  \n",
       "2  CHEBI:31530           edaravone  0.798995  \n",
       "3  CHEBI:29150  orthoperiodic acid  0.794484  \n",
       "4   CHEBI:3374           capsaicin  0.792077  "
      ]
     },
     "metadata": {},
     "output_type": "display_data"
    },
    {
     "data": {
      "text/html": [
       "<h3>sickle cell anemia</h3>"
      ],
      "text/plain": [
       "<IPython.core.display.HTML object>"
      ]
     },
     "metadata": {},
     "output_type": "display_data"
    },
    {
     "data": {
      "text/html": [
       "<a href=http://robokop.renci.org/simple/view/3980214e-59d7-4e91-8b88-06c024b20b54>View Answer in ROBOKOP</a>"
      ],
      "text/plain": [
       "<IPython.core.display.HTML object>"
      ]
     },
     "metadata": {},
     "output_type": "display_data"
    },
    {
     "data": {
      "text/html": [
       "<div>\n",
       "<style>\n",
       "    .dataframe thead tr:only-child th {\n",
       "        text-align: right;\n",
       "    }\n",
       "\n",
       "    .dataframe thead th {\n",
       "        text-align: left;\n",
       "    }\n",
       "\n",
       "    .dataframe tbody tr th {\n",
       "        vertical-align: top;\n",
       "    }\n",
       "</style>\n",
       "<table border=\"1\" class=\"dataframe\">\n",
       "  <thead>\n",
       "    <tr style=\"text-align: right;\">\n",
       "      <th></th>\n",
       "      <th>n1 - id</th>\n",
       "      <th>n1 - name</th>\n",
       "      <th>n2 - id</th>\n",
       "      <th>n2 - name</th>\n",
       "      <th>n3 - id</th>\n",
       "      <th>n3 - name</th>\n",
       "      <th>score</th>\n",
       "    </tr>\n",
       "  </thead>\n",
       "  <tbody>\n",
       "    <tr>\n",
       "      <th>0</th>\n",
       "      <td>HGNC:42</td>\n",
       "      <td>ABCB11</td>\n",
       "      <td>MONDO:0019072</td>\n",
       "      <td>intrahepatic cholestasis</td>\n",
       "      <td>CHEBI:9907</td>\n",
       "      <td>ursodeoxycholic acid</td>\n",
       "      <td>1.145753</td>\n",
       "    </tr>\n",
       "    <tr>\n",
       "      <th>1</th>\n",
       "      <td>HGNC:42</td>\n",
       "      <td>ABCB11</td>\n",
       "      <td>MONDO:0002887</td>\n",
       "      <td>bile duct disease</td>\n",
       "      <td>CHEBI:9907</td>\n",
       "      <td>ursodeoxycholic acid</td>\n",
       "      <td>1.076505</td>\n",
       "    </tr>\n",
       "    <tr>\n",
       "      <th>2</th>\n",
       "      <td>HGNC:42</td>\n",
       "      <td>ABCB11</td>\n",
       "      <td>MONDO:0012672</td>\n",
       "      <td>cholelithiasis</td>\n",
       "      <td>CHEBI:9907</td>\n",
       "      <td>ursodeoxycholic acid</td>\n",
       "      <td>1.067375</td>\n",
       "    </tr>\n",
       "    <tr>\n",
       "      <th>3</th>\n",
       "      <td>HGNC:42</td>\n",
       "      <td>ABCB11</td>\n",
       "      <td>MONDO:0004868</td>\n",
       "      <td>biliary tract disease</td>\n",
       "      <td>CHEBI:16359</td>\n",
       "      <td>cholic acid</td>\n",
       "      <td>1.051293</td>\n",
       "    </tr>\n",
       "    <tr>\n",
       "      <th>4</th>\n",
       "      <td>HGNC:42</td>\n",
       "      <td>ABCB11</td>\n",
       "      <td>MONDO:0019072</td>\n",
       "      <td>intrahepatic cholestasis</td>\n",
       "      <td>CHEBI:28077</td>\n",
       "      <td>rifampicin</td>\n",
       "      <td>1.030083</td>\n",
       "    </tr>\n",
       "  </tbody>\n",
       "</table>\n",
       "</div>"
      ],
      "text/plain": [
       "  n1 - id  n1 - name        n2 - id                 n2 - name      n3 - id   \\\n",
       "0  HGNC:42     ABCB11  MONDO:0019072  intrahepatic cholestasis   CHEBI:9907   \n",
       "1  HGNC:42     ABCB11  MONDO:0002887         bile duct disease   CHEBI:9907   \n",
       "2  HGNC:42     ABCB11  MONDO:0012672            cholelithiasis   CHEBI:9907   \n",
       "3  HGNC:42     ABCB11  MONDO:0004868     biliary tract disease  CHEBI:16359   \n",
       "4  HGNC:42     ABCB11  MONDO:0019072  intrahepatic cholestasis  CHEBI:28077   \n",
       "\n",
       "             n3 - name      score  \n",
       "0  ursodeoxycholic acid  1.145753  \n",
       "1  ursodeoxycholic acid  1.076505  \n",
       "2  ursodeoxycholic acid  1.067375  \n",
       "3           cholic acid  1.051293  \n",
       "4            rifampicin  1.030083  "
      ]
     },
     "metadata": {},
     "output_type": "display_data"
    },
    {
     "data": {
      "text/html": [
       "<h3>progressive supranuclear palsy</h3>"
      ],
      "text/plain": [
       "<IPython.core.display.HTML object>"
      ]
     },
     "metadata": {},
     "output_type": "display_data"
    },
    {
     "data": {
      "text/html": [
       "<a href=http://robokop.renci.org/simple/view/3525fdb1-75cb-44a7-8394-ce35a9da7233>View Answer in ROBOKOP</a>"
      ],
      "text/plain": [
       "<IPython.core.display.HTML object>"
      ]
     },
     "metadata": {},
     "output_type": "display_data"
    },
    {
     "data": {
      "text/html": [
       "<div>\n",
       "<style>\n",
       "    .dataframe thead tr:only-child th {\n",
       "        text-align: right;\n",
       "    }\n",
       "\n",
       "    .dataframe thead th {\n",
       "        text-align: left;\n",
       "    }\n",
       "\n",
       "    .dataframe tbody tr th {\n",
       "        vertical-align: top;\n",
       "    }\n",
       "</style>\n",
       "<table border=\"1\" class=\"dataframe\">\n",
       "  <thead>\n",
       "    <tr style=\"text-align: right;\">\n",
       "      <th></th>\n",
       "      <th>n1 - id</th>\n",
       "      <th>n1 - name</th>\n",
       "      <th>n2 - id</th>\n",
       "      <th>n2 - name</th>\n",
       "      <th>n3 - id</th>\n",
       "      <th>n3 - name</th>\n",
       "      <th>score</th>\n",
       "    </tr>\n",
       "  </thead>\n",
       "  <tbody>\n",
       "    <tr>\n",
       "      <th>0</th>\n",
       "      <td>HGNC:8607</td>\n",
       "      <td>PRKN</td>\n",
       "      <td>MONDO:0005005</td>\n",
       "      <td>clear cell renal carcinoma</td>\n",
       "      <td>CHEBI:50924</td>\n",
       "      <td>sorafenib</td>\n",
       "      <td>0.726833</td>\n",
       "    </tr>\n",
       "    <tr>\n",
       "      <th>1</th>\n",
       "      <td>HGNC:3255</td>\n",
       "      <td>EIF2AK3</td>\n",
       "      <td>MONDO:0019542</td>\n",
       "      <td>acute liver failure</td>\n",
       "      <td>CHEBI:28939</td>\n",
       "      <td>N-acetyl-L-cysteine</td>\n",
       "      <td>0.708941</td>\n",
       "    </tr>\n",
       "    <tr>\n",
       "      <th>2</th>\n",
       "      <td>HGNC:3255</td>\n",
       "      <td>EIF2AK3</td>\n",
       "      <td>MONDO:0002125</td>\n",
       "      <td>status epilepticus</td>\n",
       "      <td>CHEBI:29150</td>\n",
       "      <td>orthoperiodic acid</td>\n",
       "      <td>0.663288</td>\n",
       "    </tr>\n",
       "    <tr>\n",
       "      <th>3</th>\n",
       "      <td>HGNC:8607</td>\n",
       "      <td>PRKN</td>\n",
       "      <td>MONDO:0021095</td>\n",
       "      <td>parkinsonian disorder</td>\n",
       "      <td>CHEBI:17963</td>\n",
       "      <td>1-methyl-4-phenyl-1,2,3,6-tetrahydropyridine</td>\n",
       "      <td>0.630411</td>\n",
       "    </tr>\n",
       "    <tr>\n",
       "      <th>4</th>\n",
       "      <td>HGNC:8607</td>\n",
       "      <td>PRKN</td>\n",
       "      <td>MONDO:0005192</td>\n",
       "      <td>exocrine pancreatic carcinoma</td>\n",
       "      <td>CHEBI:28201</td>\n",
       "      <td>rotenone</td>\n",
       "      <td>0.627805</td>\n",
       "    </tr>\n",
       "  </tbody>\n",
       "</table>\n",
       "</div>"
      ],
      "text/plain": [
       "    n1 - id  n1 - name        n2 - id                      n2 - name   \\\n",
       "0  HGNC:8607       PRKN  MONDO:0005005     clear cell renal carcinoma   \n",
       "1  HGNC:3255    EIF2AK3  MONDO:0019542            acute liver failure   \n",
       "2  HGNC:3255    EIF2AK3  MONDO:0002125             status epilepticus   \n",
       "3  HGNC:8607       PRKN  MONDO:0021095          parkinsonian disorder   \n",
       "4  HGNC:8607       PRKN  MONDO:0005192  exocrine pancreatic carcinoma   \n",
       "\n",
       "      n3 - id                                     n3 - name      score  \n",
       "0  CHEBI:50924                                     sorafenib  0.726833  \n",
       "1  CHEBI:28939                           N-acetyl-L-cysteine  0.708941  \n",
       "2  CHEBI:29150                            orthoperiodic acid  0.663288  \n",
       "3  CHEBI:17963  1-methyl-4-phenyl-1,2,3,6-tetrahydropyridine  0.630411  \n",
       "4  CHEBI:28201                                      rotenone  0.627805  "
      ]
     },
     "metadata": {},
     "output_type": "display_data"
    },
    {
     "data": {
      "text/html": [
       "<h3>endogenous depression</h3>"
      ],
      "text/plain": [
       "<IPython.core.display.HTML object>"
      ]
     },
     "metadata": {},
     "output_type": "display_data"
    },
    {
     "data": {
      "text/html": [
       "<a href=http://robokop.renci.org/simple/view/761e64c1-0848-49b5-8fd2-d196cbf0641c>View Answer in ROBOKOP</a>"
      ],
      "text/plain": [
       "<IPython.core.display.HTML object>"
      ]
     },
     "metadata": {},
     "output_type": "display_data"
    },
    {
     "data": {
      "text/html": [
       "<div>\n",
       "<style>\n",
       "    .dataframe thead tr:only-child th {\n",
       "        text-align: right;\n",
       "    }\n",
       "\n",
       "    .dataframe thead th {\n",
       "        text-align: left;\n",
       "    }\n",
       "\n",
       "    .dataframe tbody tr th {\n",
       "        vertical-align: top;\n",
       "    }\n",
       "</style>\n",
       "<table border=\"1\" class=\"dataframe\">\n",
       "  <thead>\n",
       "    <tr style=\"text-align: right;\">\n",
       "      <th></th>\n",
       "      <th>n1 - id</th>\n",
       "      <th>n1 - name</th>\n",
       "      <th>n2 - id</th>\n",
       "      <th>n2 - name</th>\n",
       "      <th>n3 - id</th>\n",
       "      <th>n3 - name</th>\n",
       "      <th>score</th>\n",
       "    </tr>\n",
       "  </thead>\n",
       "  <tbody>\n",
       "    <tr>\n",
       "      <th>0</th>\n",
       "      <td>HGNC:1033</td>\n",
       "      <td>BDNF</td>\n",
       "      <td>MONDO:0008114</td>\n",
       "      <td>obsessive-compulsive disorder</td>\n",
       "      <td>CHEBI:86990</td>\n",
       "      <td>N-methyl-3-phenyl-3-[4-(trifluoromethyl)phenox...</td>\n",
       "      <td>0.914665</td>\n",
       "    </tr>\n",
       "    <tr>\n",
       "      <th>1</th>\n",
       "      <td>HGNC:20692</td>\n",
       "      <td>TPH2</td>\n",
       "      <td>MONDO:0002009</td>\n",
       "      <td>major depressive disorder</td>\n",
       "      <td>CHEBI:86990</td>\n",
       "      <td>N-methyl-3-phenyl-3-[4-(trifluoromethyl)phenox...</td>\n",
       "      <td>0.880248</td>\n",
       "    </tr>\n",
       "    <tr>\n",
       "      <th>2</th>\n",
       "      <td>HGNC:9201</td>\n",
       "      <td>POMC</td>\n",
       "      <td>MONDO:0000004</td>\n",
       "      <td>adrenocortical insufficiency</td>\n",
       "      <td>CHEBI:17650</td>\n",
       "      <td>cortisol</td>\n",
       "      <td>0.850919</td>\n",
       "    </tr>\n",
       "    <tr>\n",
       "      <th>3</th>\n",
       "      <td>HGNC:3721</td>\n",
       "      <td>FKBP5</td>\n",
       "      <td>MONDO:0005133</td>\n",
       "      <td>endometriosis (disease)</td>\n",
       "      <td>CHEBI:17026</td>\n",
       "      <td>progesterone</td>\n",
       "      <td>0.843908</td>\n",
       "    </tr>\n",
       "    <tr>\n",
       "      <th>4</th>\n",
       "      <td>HGNC:2625</td>\n",
       "      <td>CYP2D6</td>\n",
       "      <td>MONDO:0021095</td>\n",
       "      <td>parkinsonian disorder</td>\n",
       "      <td>CHEBI:15765</td>\n",
       "      <td>L-dopa</td>\n",
       "      <td>0.843252</td>\n",
       "    </tr>\n",
       "  </tbody>\n",
       "</table>\n",
       "</div>"
      ],
      "text/plain": [
       "     n1 - id  n1 - name        n2 - id                      n2 - name   \\\n",
       "0   HGNC:1033       BDNF  MONDO:0008114  obsessive-compulsive disorder   \n",
       "1  HGNC:20692       TPH2  MONDO:0002009      major depressive disorder   \n",
       "2   HGNC:9201       POMC  MONDO:0000004   adrenocortical insufficiency   \n",
       "3   HGNC:3721      FKBP5  MONDO:0005133        endometriosis (disease)   \n",
       "4   HGNC:2625     CYP2D6  MONDO:0021095          parkinsonian disorder   \n",
       "\n",
       "      n3 - id                                          n3 - name      score  \n",
       "0  CHEBI:86990  N-methyl-3-phenyl-3-[4-(trifluoromethyl)phenox...  0.914665  \n",
       "1  CHEBI:86990  N-methyl-3-phenyl-3-[4-(trifluoromethyl)phenox...  0.880248  \n",
       "2  CHEBI:17650                                           cortisol  0.850919  \n",
       "3  CHEBI:17026                                       progesterone  0.843908  \n",
       "4  CHEBI:15765                                             L-dopa  0.843252  "
      ]
     },
     "metadata": {},
     "output_type": "display_data"
    },
    {
     "data": {
      "text/html": [
       "<h3>non-acquired combined pituitary hormone defici.</h3>"
      ],
      "text/plain": [
       "<IPython.core.display.HTML object>"
      ]
     },
     "metadata": {},
     "output_type": "display_data"
    },
    {
     "data": {
      "text/html": [
       "<a href=http://robokop.renci.org/simple/view/d53b8d39-ab5d-4bb9-a6e8-1138d449dd8d>View Answer in ROBOKOP</a>"
      ],
      "text/plain": [
       "<IPython.core.display.HTML object>"
      ]
     },
     "metadata": {},
     "output_type": "display_data"
    },
    {
     "data": {
      "text/html": [
       "<div>\n",
       "<style>\n",
       "    .dataframe thead tr:only-child th {\n",
       "        text-align: right;\n",
       "    }\n",
       "\n",
       "    .dataframe thead th {\n",
       "        text-align: left;\n",
       "    }\n",
       "\n",
       "    .dataframe tbody tr th {\n",
       "        vertical-align: top;\n",
       "    }\n",
       "</style>\n",
       "<table border=\"1\" class=\"dataframe\">\n",
       "  <thead>\n",
       "    <tr style=\"text-align: right;\">\n",
       "      <th></th>\n",
       "      <th>n1 - id</th>\n",
       "      <th>n1 - name</th>\n",
       "      <th>n2 - id</th>\n",
       "      <th>n2 - name</th>\n",
       "      <th>n3 - id</th>\n",
       "      <th>n3 - name</th>\n",
       "      <th>score</th>\n",
       "    </tr>\n",
       "  </thead>\n",
       "  <tbody>\n",
       "    <tr>\n",
       "      <th>0</th>\n",
       "      <td>HGNC:4261</td>\n",
       "      <td>GH1</td>\n",
       "      <td>MONDO:0019933</td>\n",
       "      <td>acromegaly</td>\n",
       "      <td>CHEMBL:CHEMBL1680</td>\n",
       "      <td>OCTREOTIDE</td>\n",
       "      <td>1.524126</td>\n",
       "    </tr>\n",
       "    <tr>\n",
       "      <th>1</th>\n",
       "      <td>HGNC:4261</td>\n",
       "      <td>GH1</td>\n",
       "      <td>MONDO:0019933</td>\n",
       "      <td>acromegaly</td>\n",
       "      <td>CHEBI:3181</td>\n",
       "      <td>bromocriptine</td>\n",
       "      <td>1.363182</td>\n",
       "    </tr>\n",
       "    <tr>\n",
       "      <th>2</th>\n",
       "      <td>HGNC:4261</td>\n",
       "      <td>GH1</td>\n",
       "      <td>MONDO:0006373</td>\n",
       "      <td>pituitary gland adenoma</td>\n",
       "      <td>CHEMBL:CHEMBL1680</td>\n",
       "      <td>OCTREOTIDE</td>\n",
       "      <td>1.242924</td>\n",
       "    </tr>\n",
       "    <tr>\n",
       "      <th>3</th>\n",
       "      <td>HGNC:9445</td>\n",
       "      <td>PRL</td>\n",
       "      <td>MONDO:0010911</td>\n",
       "      <td>prolactin-producing pituitary gland adenoma</td>\n",
       "      <td>CHEBI:3181</td>\n",
       "      <td>bromocriptine</td>\n",
       "      <td>1.179609</td>\n",
       "    </tr>\n",
       "    <tr>\n",
       "      <th>4</th>\n",
       "      <td>HGNC:9445</td>\n",
       "      <td>PRL</td>\n",
       "      <td>MONDO:0005804</td>\n",
       "      <td>hyperprolactinemia (disease)</td>\n",
       "      <td>CHEBI:3181</td>\n",
       "      <td>bromocriptine</td>\n",
       "      <td>1.155644</td>\n",
       "    </tr>\n",
       "  </tbody>\n",
       "</table>\n",
       "</div>"
      ],
      "text/plain": [
       "    n1 - id  n1 - name        n2 - id   \\\n",
       "0  HGNC:4261        GH1  MONDO:0019933   \n",
       "1  HGNC:4261        GH1  MONDO:0019933   \n",
       "2  HGNC:4261        GH1  MONDO:0006373   \n",
       "3  HGNC:9445        PRL  MONDO:0010911   \n",
       "4  HGNC:9445        PRL  MONDO:0005804   \n",
       "\n",
       "                                    n2 - name            n3 - id   \\\n",
       "0                                   acromegaly  CHEMBL:CHEMBL1680   \n",
       "1                                   acromegaly         CHEBI:3181   \n",
       "2                      pituitary gland adenoma  CHEMBL:CHEMBL1680   \n",
       "3  prolactin-producing pituitary gland adenoma         CHEBI:3181   \n",
       "4                 hyperprolactinemia (disease)         CHEBI:3181   \n",
       "\n",
       "      n3 - name      score  \n",
       "0     OCTREOTIDE  1.524126  \n",
       "1  bromocriptine  1.363182  \n",
       "2     OCTREOTIDE  1.242924  \n",
       "3  bromocriptine  1.179609  \n",
       "4  bromocriptine  1.155644  "
      ]
     },
     "metadata": {},
     "output_type": "display_data"
    },
    {
     "data": {
      "text/html": [
       "<h3>Meniere disease</h3>"
      ],
      "text/plain": [
       "<IPython.core.display.HTML object>"
      ]
     },
     "metadata": {},
     "output_type": "display_data"
    },
    {
     "data": {
      "text/html": [
       "<a href=http://robokop.renci.org/simple/view/b3f22dee-f8ee-44d2-8455-252f23e96867>View Answer in ROBOKOP</a>"
      ],
      "text/plain": [
       "<IPython.core.display.HTML object>"
      ]
     },
     "metadata": {},
     "output_type": "display_data"
    },
    {
     "data": {
      "text/html": [
       "<div>\n",
       "<style>\n",
       "    .dataframe thead tr:only-child th {\n",
       "        text-align: right;\n",
       "    }\n",
       "\n",
       "    .dataframe thead th {\n",
       "        text-align: left;\n",
       "    }\n",
       "\n",
       "    .dataframe tbody tr th {\n",
       "        vertical-align: top;\n",
       "    }\n",
       "</style>\n",
       "<table border=\"1\" class=\"dataframe\">\n",
       "  <thead>\n",
       "    <tr style=\"text-align: right;\">\n",
       "      <th></th>\n",
       "      <th>n1 - id</th>\n",
       "      <th>n1 - name</th>\n",
       "      <th>n2 - id</th>\n",
       "      <th>n2 - name</th>\n",
       "      <th>n3 - id</th>\n",
       "      <th>n3 - name</th>\n",
       "      <th>score</th>\n",
       "    </tr>\n",
       "  </thead>\n",
       "  <tbody>\n",
       "    <tr>\n",
       "      <th>0</th>\n",
       "      <td>HGNC:634</td>\n",
       "      <td>AQP2</td>\n",
       "      <td>MONDO:0000022</td>\n",
       "      <td>nocturnal enuresis</td>\n",
       "      <td>CHEBI:4450</td>\n",
       "      <td>desmopressin</td>\n",
       "      <td>0.901014</td>\n",
       "    </tr>\n",
       "    <tr>\n",
       "      <th>1</th>\n",
       "      <td>HGNC:634</td>\n",
       "      <td>AQP2</td>\n",
       "      <td>MONDO:0004782</td>\n",
       "      <td>diabetes insipidus</td>\n",
       "      <td>CHEBI:4450</td>\n",
       "      <td>desmopressin</td>\n",
       "      <td>0.870442</td>\n",
       "    </tr>\n",
       "    <tr>\n",
       "      <th>2</th>\n",
       "      <td>HGNC:1388</td>\n",
       "      <td>CACNA1A</td>\n",
       "      <td>MONDO:0005277</td>\n",
       "      <td>migraine disorder</td>\n",
       "      <td>CHEBI:42797</td>\n",
       "      <td>gabapentin</td>\n",
       "      <td>0.851655</td>\n",
       "    </tr>\n",
       "    <tr>\n",
       "      <th>3</th>\n",
       "      <td>HGNC:634</td>\n",
       "      <td>AQP2</td>\n",
       "      <td>MONDO:0016383</td>\n",
       "      <td>nephrogenic diabetes insipidus</td>\n",
       "      <td>CHEBI:4450</td>\n",
       "      <td>desmopressin</td>\n",
       "      <td>0.773106</td>\n",
       "    </tr>\n",
       "    <tr>\n",
       "      <th>4</th>\n",
       "      <td>HGNC:634</td>\n",
       "      <td>AQP2</td>\n",
       "      <td>MONDO:0016383</td>\n",
       "      <td>nephrogenic diabetes insipidus</td>\n",
       "      <td>CHEBI:49662</td>\n",
       "      <td>indometacin</td>\n",
       "      <td>0.693258</td>\n",
       "    </tr>\n",
       "  </tbody>\n",
       "</table>\n",
       "</div>"
      ],
      "text/plain": [
       "    n1 - id  n1 - name        n2 - id                       n2 - name   \\\n",
       "0   HGNC:634       AQP2  MONDO:0000022              nocturnal enuresis   \n",
       "1   HGNC:634       AQP2  MONDO:0004782              diabetes insipidus   \n",
       "2  HGNC:1388    CACNA1A  MONDO:0005277               migraine disorder   \n",
       "3   HGNC:634       AQP2  MONDO:0016383  nephrogenic diabetes insipidus   \n",
       "4   HGNC:634       AQP2  MONDO:0016383  nephrogenic diabetes insipidus   \n",
       "\n",
       "      n3 - id     n3 - name      score  \n",
       "0   CHEBI:4450  desmopressin  0.901014  \n",
       "1   CHEBI:4450  desmopressin  0.870442  \n",
       "2  CHEBI:42797    gabapentin  0.851655  \n",
       "3   CHEBI:4450  desmopressin  0.773106  \n",
       "4  CHEBI:49662   indometacin  0.693258  "
      ]
     },
     "metadata": {},
     "output_type": "display_data"
    },
    {
     "data": {
      "text/html": [
       "<h3>mitochondrial myopathy</h3>"
      ],
      "text/plain": [
       "<IPython.core.display.HTML object>"
      ]
     },
     "metadata": {},
     "output_type": "display_data"
    },
    {
     "data": {
      "text/html": [
       "<a href=http://robokop.renci.org/simple/view/5afd5c18-ea9c-4a67-9eab-3c5b940b8c30>View Answer in ROBOKOP</a>"
      ],
      "text/plain": [
       "<IPython.core.display.HTML object>"
      ]
     },
     "metadata": {},
     "output_type": "display_data"
    },
    {
     "data": {
      "text/html": [
       "<div>\n",
       "<style>\n",
       "    .dataframe thead tr:only-child th {\n",
       "        text-align: right;\n",
       "    }\n",
       "\n",
       "    .dataframe thead th {\n",
       "        text-align: left;\n",
       "    }\n",
       "\n",
       "    .dataframe tbody tr th {\n",
       "        vertical-align: top;\n",
       "    }\n",
       "</style>\n",
       "<table border=\"1\" class=\"dataframe\">\n",
       "  <thead>\n",
       "    <tr style=\"text-align: right;\">\n",
       "      <th></th>\n",
       "      <th>n1 - id</th>\n",
       "      <th>n1 - name</th>\n",
       "      <th>n2 - id</th>\n",
       "      <th>n2 - name</th>\n",
       "      <th>n3 - id</th>\n",
       "      <th>n3 - name</th>\n",
       "      <th>score</th>\n",
       "    </tr>\n",
       "  </thead>\n",
       "  <tbody>\n",
       "    <tr>\n",
       "      <th>0</th>\n",
       "      <td>HGNC:7436</td>\n",
       "      <td>MTHFR</td>\n",
       "      <td>MONDO:0003634</td>\n",
       "      <td>proteinuria</td>\n",
       "      <td>CHEBI:3011</td>\n",
       "      <td>benazepril</td>\n",
       "      <td>0.966726</td>\n",
       "    </tr>\n",
       "    <tr>\n",
       "      <th>1</th>\n",
       "      <td>HGNC:3148</td>\n",
       "      <td>TYMP</td>\n",
       "      <td>MONDO:0021085</td>\n",
       "      <td>gastric neoplasm</td>\n",
       "      <td>CHEBI:31521</td>\n",
       "      <td>doxifluridine</td>\n",
       "      <td>0.900628</td>\n",
       "    </tr>\n",
       "    <tr>\n",
       "      <th>2</th>\n",
       "      <td>HGNC:11179</td>\n",
       "      <td>SOD1</td>\n",
       "      <td>MONDO:0005252</td>\n",
       "      <td>heart failure</td>\n",
       "      <td>CHEBI:28694</td>\n",
       "      <td>copper atom</td>\n",
       "      <td>0.897205</td>\n",
       "    </tr>\n",
       "    <tr>\n",
       "      <th>3</th>\n",
       "      <td>HGNC:3148</td>\n",
       "      <td>TYMP</td>\n",
       "      <td>MONDO:0021085</td>\n",
       "      <td>gastric neoplasm</td>\n",
       "      <td>CHEBI:31941</td>\n",
       "      <td>oxaliplatin</td>\n",
       "      <td>0.877670</td>\n",
       "    </tr>\n",
       "    <tr>\n",
       "      <th>4</th>\n",
       "      <td>HGNC:11179</td>\n",
       "      <td>SOD1</td>\n",
       "      <td>MONDO:0021095</td>\n",
       "      <td>parkinsonian disorder</td>\n",
       "      <td>CHEBI:15765</td>\n",
       "      <td>L-dopa</td>\n",
       "      <td>0.865240</td>\n",
       "    </tr>\n",
       "  </tbody>\n",
       "</table>\n",
       "</div>"
      ],
      "text/plain": [
       "     n1 - id  n1 - name        n2 - id              n2 - name      n3 - id   \\\n",
       "0   HGNC:7436      MTHFR  MONDO:0003634            proteinuria   CHEBI:3011   \n",
       "1   HGNC:3148       TYMP  MONDO:0021085       gastric neoplasm  CHEBI:31521   \n",
       "2  HGNC:11179       SOD1  MONDO:0005252          heart failure  CHEBI:28694   \n",
       "3   HGNC:3148       TYMP  MONDO:0021085       gastric neoplasm  CHEBI:31941   \n",
       "4  HGNC:11179       SOD1  MONDO:0021095  parkinsonian disorder  CHEBI:15765   \n",
       "\n",
       "      n3 - name      score  \n",
       "0     benazepril  0.966726  \n",
       "1  doxifluridine  0.900628  \n",
       "2    copper atom  0.897205  \n",
       "3    oxaliplatin  0.877670  \n",
       "4         L-dopa  0.865240  "
      ]
     },
     "metadata": {},
     "output_type": "display_data"
    },
    {
     "data": {
      "text/html": [
       "<h3>arteriovenous malformations of the brain</h3>"
      ],
      "text/plain": [
       "<IPython.core.display.HTML object>"
      ]
     },
     "metadata": {},
     "output_type": "display_data"
    },
    {
     "data": {
      "text/html": [
       "<a href=http://robokop.renci.org/simple/view/14798f44-1c1e-45e6-9d91-edf694cb25e7>View Answer in ROBOKOP</a>"
      ],
      "text/plain": [
       "<IPython.core.display.HTML object>"
      ]
     },
     "metadata": {},
     "output_type": "display_data"
    },
    {
     "data": {
      "text/html": [
       "<div>\n",
       "<style>\n",
       "    .dataframe thead tr:only-child th {\n",
       "        text-align: right;\n",
       "    }\n",
       "\n",
       "    .dataframe thead th {\n",
       "        text-align: left;\n",
       "    }\n",
       "\n",
       "    .dataframe tbody tr th {\n",
       "        vertical-align: top;\n",
       "    }\n",
       "</style>\n",
       "<table border=\"1\" class=\"dataframe\">\n",
       "  <thead>\n",
       "    <tr style=\"text-align: right;\">\n",
       "      <th></th>\n",
       "      <th>n1 - id</th>\n",
       "      <th>n1 - name</th>\n",
       "      <th>n2 - id</th>\n",
       "      <th>n2 - name</th>\n",
       "      <th>n3 - id</th>\n",
       "      <th>n3 - name</th>\n",
       "      <th>score</th>\n",
       "    </tr>\n",
       "  </thead>\n",
       "  <tbody>\n",
       "    <tr>\n",
       "      <th>0</th>\n",
       "      <td>HGNC:6770</td>\n",
       "      <td>SMAD4</td>\n",
       "      <td>MONDO:0005049</td>\n",
       "      <td>intracranial hemorrhage</td>\n",
       "      <td>CHEBI:16236</td>\n",
       "      <td>ethanol</td>\n",
       "      <td>0.705301</td>\n",
       "    </tr>\n",
       "    <tr>\n",
       "      <th>1</th>\n",
       "      <td>HGNC:6770</td>\n",
       "      <td>SMAD4</td>\n",
       "      <td>MONDO:0005264</td>\n",
       "      <td>transient ischemic attack (disease)</td>\n",
       "      <td>CHEBI:16243</td>\n",
       "      <td>quercetin</td>\n",
       "      <td>0.676423</td>\n",
       "    </tr>\n",
       "    <tr>\n",
       "      <th>2</th>\n",
       "      <td>HGNC:6770</td>\n",
       "      <td>SMAD4</td>\n",
       "      <td>MONDO:0004298</td>\n",
       "      <td>stomach disease</td>\n",
       "      <td>CHEBI:16243</td>\n",
       "      <td>quercetin</td>\n",
       "      <td>0.662632</td>\n",
       "    </tr>\n",
       "    <tr>\n",
       "      <th>3</th>\n",
       "      <td>HGNC:6770</td>\n",
       "      <td>SMAD4</td>\n",
       "      <td>MONDO:0021085</td>\n",
       "      <td>gastric neoplasm</td>\n",
       "      <td>CHEBI:16243</td>\n",
       "      <td>quercetin</td>\n",
       "      <td>0.626403</td>\n",
       "    </tr>\n",
       "    <tr>\n",
       "      <th>4</th>\n",
       "      <td>HGNC:6770</td>\n",
       "      <td>SMAD4</td>\n",
       "      <td>MONDO:0004242</td>\n",
       "      <td>active peptic ulcer disease</td>\n",
       "      <td>CHEBI:16243</td>\n",
       "      <td>quercetin</td>\n",
       "      <td>0.570615</td>\n",
       "    </tr>\n",
       "  </tbody>\n",
       "</table>\n",
       "</div>"
      ],
      "text/plain": [
       "    n1 - id  n1 - name        n2 - id                            n2 - name   \\\n",
       "0  HGNC:6770      SMAD4  MONDO:0005049              intracranial hemorrhage   \n",
       "1  HGNC:6770      SMAD4  MONDO:0005264  transient ischemic attack (disease)   \n",
       "2  HGNC:6770      SMAD4  MONDO:0004298                      stomach disease   \n",
       "3  HGNC:6770      SMAD4  MONDO:0021085                     gastric neoplasm   \n",
       "4  HGNC:6770      SMAD4  MONDO:0004242          active peptic ulcer disease   \n",
       "\n",
       "      n3 - id  n3 - name      score  \n",
       "0  CHEBI:16236    ethanol  0.705301  \n",
       "1  CHEBI:16243  quercetin  0.676423  \n",
       "2  CHEBI:16243  quercetin  0.662632  \n",
       "3  CHEBI:16243  quercetin  0.626403  \n",
       "4  CHEBI:16243  quercetin  0.570615  "
      ]
     },
     "metadata": {},
     "output_type": "display_data"
    },
    {
     "data": {
      "text/html": [
       "<h3>agammaglobulinemia</h3>"
      ],
      "text/plain": [
       "<IPython.core.display.HTML object>"
      ]
     },
     "metadata": {},
     "output_type": "display_data"
    },
    {
     "data": {
      "text/html": [
       "<a href=http://robokop.renci.org/simple/view/499c2d08-1f65-4e61-9209-3c54745f6720>View Answer in ROBOKOP</a>"
      ],
      "text/plain": [
       "<IPython.core.display.HTML object>"
      ]
     },
     "metadata": {},
     "output_type": "display_data"
    },
    {
     "data": {
      "text/html": [
       "<div>\n",
       "<style>\n",
       "    .dataframe thead tr:only-child th {\n",
       "        text-align: right;\n",
       "    }\n",
       "\n",
       "    .dataframe thead th {\n",
       "        text-align: left;\n",
       "    }\n",
       "\n",
       "    .dataframe tbody tr th {\n",
       "        vertical-align: top;\n",
       "    }\n",
       "</style>\n",
       "<table border=\"1\" class=\"dataframe\">\n",
       "  <thead>\n",
       "    <tr style=\"text-align: right;\">\n",
       "      <th></th>\n",
       "      <th>n1 - id</th>\n",
       "      <th>n1 - name</th>\n",
       "      <th>n2 - id</th>\n",
       "      <th>n2 - name</th>\n",
       "      <th>n3 - id</th>\n",
       "      <th>n3 - name</th>\n",
       "      <th>score</th>\n",
       "    </tr>\n",
       "  </thead>\n",
       "  <tbody>\n",
       "    <tr>\n",
       "      <th>0</th>\n",
       "      <td>HGNC:1884</td>\n",
       "      <td>CFTR</td>\n",
       "      <td>MONDO:0009061</td>\n",
       "      <td>cystic fibrosis</td>\n",
       "      <td>CHEBI:66901</td>\n",
       "      <td>ivacaftor</td>\n",
       "      <td>1.226021</td>\n",
       "    </tr>\n",
       "    <tr>\n",
       "      <th>1</th>\n",
       "      <td>HGNC:795</td>\n",
       "      <td>ATM</td>\n",
       "      <td>MONDO:0005615</td>\n",
       "      <td>plasmacytoma</td>\n",
       "      <td>CHEBI:52717</td>\n",
       "      <td>bortezomib</td>\n",
       "      <td>1.184984</td>\n",
       "    </tr>\n",
       "    <tr>\n",
       "      <th>2</th>\n",
       "      <td>HGNC:795</td>\n",
       "      <td>ATM</td>\n",
       "      <td>MONDO:0018881</td>\n",
       "      <td>myelodysplastic syndrome</td>\n",
       "      <td>CHEBI:50131</td>\n",
       "      <td>5-aza-2'-deoxycytidine</td>\n",
       "      <td>1.145690</td>\n",
       "    </tr>\n",
       "    <tr>\n",
       "      <th>3</th>\n",
       "      <td>HGNC:795</td>\n",
       "      <td>ATM</td>\n",
       "      <td>MONDO:0018876</td>\n",
       "      <td>mantle cell lymphoma</td>\n",
       "      <td>CHEBI:52717</td>\n",
       "      <td>bortezomib</td>\n",
       "      <td>1.097265</td>\n",
       "    </tr>\n",
       "    <tr>\n",
       "      <th>4</th>\n",
       "      <td>HGNC:1884</td>\n",
       "      <td>CFTR</td>\n",
       "      <td>MONDO:0002909</td>\n",
       "      <td>hyperglycemia</td>\n",
       "      <td>CHEBI:5441</td>\n",
       "      <td>glyburide</td>\n",
       "      <td>1.024232</td>\n",
       "    </tr>\n",
       "  </tbody>\n",
       "</table>\n",
       "</div>"
      ],
      "text/plain": [
       "    n1 - id  n1 - name        n2 - id                 n2 - name      n3 - id   \\\n",
       "0  HGNC:1884       CFTR  MONDO:0009061           cystic fibrosis  CHEBI:66901   \n",
       "1   HGNC:795        ATM  MONDO:0005615              plasmacytoma  CHEBI:52717   \n",
       "2   HGNC:795        ATM  MONDO:0018881  myelodysplastic syndrome  CHEBI:50131   \n",
       "3   HGNC:795        ATM  MONDO:0018876      mantle cell lymphoma  CHEBI:52717   \n",
       "4  HGNC:1884       CFTR  MONDO:0002909             hyperglycemia   CHEBI:5441   \n",
       "\n",
       "               n3 - name      score  \n",
       "0               ivacaftor  1.226021  \n",
       "1              bortezomib  1.184984  \n",
       "2  5-aza-2'-deoxycytidine  1.145690  \n",
       "3              bortezomib  1.097265  \n",
       "4               glyburide  1.024232  "
      ]
     },
     "metadata": {},
     "output_type": "display_data"
    },
    {
     "data": {
      "text/html": [
       "<h3>rare genetic parkinsonian disorder</h3>"
      ],
      "text/plain": [
       "<IPython.core.display.HTML object>"
      ]
     },
     "metadata": {},
     "output_type": "display_data"
    },
    {
     "data": {
      "text/html": [
       "<a href=http://robokop.renci.org/simple/view/27317cf8-f94b-4e69-bf93-b847a4cdb1ff>View Answer in ROBOKOP</a>"
      ],
      "text/plain": [
       "<IPython.core.display.HTML object>"
      ]
     },
     "metadata": {},
     "output_type": "display_data"
    },
    {
     "data": {
      "text/html": [
       "<div>\n",
       "<style>\n",
       "    .dataframe thead tr:only-child th {\n",
       "        text-align: right;\n",
       "    }\n",
       "\n",
       "    .dataframe thead th {\n",
       "        text-align: left;\n",
       "    }\n",
       "\n",
       "    .dataframe tbody tr th {\n",
       "        vertical-align: top;\n",
       "    }\n",
       "</style>\n",
       "<table border=\"1\" class=\"dataframe\">\n",
       "  <thead>\n",
       "    <tr style=\"text-align: right;\">\n",
       "      <th></th>\n",
       "      <th>n1 - id</th>\n",
       "      <th>n1 - name</th>\n",
       "      <th>n2 - id</th>\n",
       "      <th>n2 - name</th>\n",
       "      <th>n3 - id</th>\n",
       "      <th>n3 - name</th>\n",
       "      <th>score</th>\n",
       "    </tr>\n",
       "  </thead>\n",
       "  <tbody>\n",
       "    <tr>\n",
       "      <th>0</th>\n",
       "      <td>HGNC:14581</td>\n",
       "      <td>PINK1</td>\n",
       "      <td>MONDO:0021095</td>\n",
       "      <td>parkinsonian disorder</td>\n",
       "      <td>CHEBI:15765</td>\n",
       "      <td>L-dopa</td>\n",
       "      <td>1.102942</td>\n",
       "    </tr>\n",
       "    <tr>\n",
       "      <th>1</th>\n",
       "      <td>HGNC:11138</td>\n",
       "      <td>SNCA</td>\n",
       "      <td>MONDO:0021095</td>\n",
       "      <td>parkinsonian disorder</td>\n",
       "      <td>CHEBI:17963</td>\n",
       "      <td>1-methyl-4-phenyl-1,2,3,6-tetrahydropyridine</td>\n",
       "      <td>1.094276</td>\n",
       "    </tr>\n",
       "    <tr>\n",
       "      <th>2</th>\n",
       "      <td>HGNC:8607</td>\n",
       "      <td>PRKN</td>\n",
       "      <td>MONDO:0005005</td>\n",
       "      <td>clear cell renal carcinoma</td>\n",
       "      <td>CHEBI:50924</td>\n",
       "      <td>sorafenib</td>\n",
       "      <td>0.971978</td>\n",
       "    </tr>\n",
       "    <tr>\n",
       "      <th>3</th>\n",
       "      <td>HGNC:8607</td>\n",
       "      <td>PRKN</td>\n",
       "      <td>MONDO:0005192</td>\n",
       "      <td>exocrine pancreatic carcinoma</td>\n",
       "      <td>CHEBI:28201</td>\n",
       "      <td>rotenone</td>\n",
       "      <td>0.913102</td>\n",
       "    </tr>\n",
       "    <tr>\n",
       "      <th>4</th>\n",
       "      <td>HGNC:4177</td>\n",
       "      <td>GBA</td>\n",
       "      <td>MONDO:0018150</td>\n",
       "      <td>Gaucher disease</td>\n",
       "      <td>CHEBI:82752</td>\n",
       "      <td>eliglustat</td>\n",
       "      <td>0.904853</td>\n",
       "    </tr>\n",
       "  </tbody>\n",
       "</table>\n",
       "</div>"
      ],
      "text/plain": [
       "     n1 - id  n1 - name        n2 - id                      n2 - name   \\\n",
       "0  HGNC:14581      PINK1  MONDO:0021095          parkinsonian disorder   \n",
       "1  HGNC:11138       SNCA  MONDO:0021095          parkinsonian disorder   \n",
       "2   HGNC:8607       PRKN  MONDO:0005005     clear cell renal carcinoma   \n",
       "3   HGNC:8607       PRKN  MONDO:0005192  exocrine pancreatic carcinoma   \n",
       "4   HGNC:4177        GBA  MONDO:0018150                Gaucher disease   \n",
       "\n",
       "      n3 - id                                     n3 - name      score  \n",
       "0  CHEBI:15765                                        L-dopa  1.102942  \n",
       "1  CHEBI:17963  1-methyl-4-phenyl-1,2,3,6-tetrahydropyridine  1.094276  \n",
       "2  CHEBI:50924                                     sorafenib  0.971978  \n",
       "3  CHEBI:28201                                      rotenone  0.913102  \n",
       "4  CHEBI:82752                                    eliglustat  0.904853  "
      ]
     },
     "metadata": {},
     "output_type": "display_data"
    },
    {
     "data": {
      "text/html": [
       "<h3>patent ductus arteriosus</h3>"
      ],
      "text/plain": [
       "<IPython.core.display.HTML object>"
      ]
     },
     "metadata": {},
     "output_type": "display_data"
    },
    {
     "data": {
      "text/html": [
       "<a href=http://robokop.renci.org/simple/view/6da1e96c-66d3-4b81-afc4-b97a3320fcaa>View Answer in ROBOKOP</a>"
      ],
      "text/plain": [
       "<IPython.core.display.HTML object>"
      ]
     },
     "metadata": {},
     "output_type": "display_data"
    },
    {
     "data": {
      "text/html": [
       "<div>\n",
       "<style>\n",
       "    .dataframe thead tr:only-child th {\n",
       "        text-align: right;\n",
       "    }\n",
       "\n",
       "    .dataframe thead th {\n",
       "        text-align: left;\n",
       "    }\n",
       "\n",
       "    .dataframe tbody tr th {\n",
       "        vertical-align: top;\n",
       "    }\n",
       "</style>\n",
       "<table border=\"1\" class=\"dataframe\">\n",
       "  <thead>\n",
       "    <tr style=\"text-align: right;\">\n",
       "      <th></th>\n",
       "      <th>n1 - id</th>\n",
       "      <th>n1 - name</th>\n",
       "      <th>n2 - id</th>\n",
       "      <th>n2 - name</th>\n",
       "      <th>n3 - id</th>\n",
       "      <th>n3 - name</th>\n",
       "      <th>score</th>\n",
       "    </tr>\n",
       "  </thead>\n",
       "  <tbody>\n",
       "    <tr>\n",
       "      <th>0</th>\n",
       "      <td>HGNC:4173</td>\n",
       "      <td>GATA4</td>\n",
       "      <td>MONDO:0008542</td>\n",
       "      <td>tetralogy of fallot</td>\n",
       "      <td>CHEBI:8093</td>\n",
       "      <td>phenylephrine</td>\n",
       "      <td>1.190854</td>\n",
       "    </tr>\n",
       "    <tr>\n",
       "      <th>1</th>\n",
       "      <td>HGNC:7559</td>\n",
       "      <td>MYCN</td>\n",
       "      <td>MONDO:0005072</td>\n",
       "      <td>neuroblastoma</td>\n",
       "      <td>CHEBI:137113</td>\n",
       "      <td>JQ1</td>\n",
       "      <td>1.083054</td>\n",
       "    </tr>\n",
       "    <tr>\n",
       "      <th>2</th>\n",
       "      <td>HGNC:336</td>\n",
       "      <td>AGTR1</td>\n",
       "      <td>MONDO:0003634</td>\n",
       "      <td>proteinuria</td>\n",
       "      <td>CHEBI:6541</td>\n",
       "      <td>losartan</td>\n",
       "      <td>1.081985</td>\n",
       "    </tr>\n",
       "    <tr>\n",
       "      <th>3</th>\n",
       "      <td>HGNC:1390</td>\n",
       "      <td>CACNA1C</td>\n",
       "      <td>MONDO:0004981</td>\n",
       "      <td>atrial fibrillation (disease)</td>\n",
       "      <td>CHEBI:101278</td>\n",
       "      <td>diltiazem</td>\n",
       "      <td>1.071616</td>\n",
       "    </tr>\n",
       "    <tr>\n",
       "      <th>4</th>\n",
       "      <td>HGNC:5154</td>\n",
       "      <td>HPGD</td>\n",
       "      <td>MONDO:0011827</td>\n",
       "      <td>patent ductus arteriosus</td>\n",
       "      <td>CHEBI:49662</td>\n",
       "      <td>indometacin</td>\n",
       "      <td>1.069991</td>\n",
       "    </tr>\n",
       "  </tbody>\n",
       "</table>\n",
       "</div>"
      ],
      "text/plain": [
       "    n1 - id  n1 - name        n2 - id                      n2 - name   \\\n",
       "0  HGNC:4173      GATA4  MONDO:0008542            tetralogy of fallot   \n",
       "1  HGNC:7559       MYCN  MONDO:0005072                  neuroblastoma   \n",
       "2   HGNC:336      AGTR1  MONDO:0003634                    proteinuria   \n",
       "3  HGNC:1390    CACNA1C  MONDO:0004981  atrial fibrillation (disease)   \n",
       "4  HGNC:5154       HPGD  MONDO:0011827       patent ductus arteriosus   \n",
       "\n",
       "       n3 - id      n3 - name      score  \n",
       "0    CHEBI:8093  phenylephrine  1.190854  \n",
       "1  CHEBI:137113            JQ1  1.083054  \n",
       "2    CHEBI:6541       losartan  1.081985  \n",
       "3  CHEBI:101278      diltiazem  1.071616  \n",
       "4   CHEBI:49662    indometacin  1.069991  "
      ]
     },
     "metadata": {},
     "output_type": "display_data"
    },
    {
     "data": {
      "text/html": [
       "<h3>nicotine dependence</h3>"
      ],
      "text/plain": [
       "<IPython.core.display.HTML object>"
      ]
     },
     "metadata": {},
     "output_type": "display_data"
    },
    {
     "data": {
      "text/html": [
       "<a href=http://robokop.renci.org/simple/view/0fc75ad2-6d04-4770-a324-2d0267783ad9>View Answer in ROBOKOP</a>"
      ],
      "text/plain": [
       "<IPython.core.display.HTML object>"
      ]
     },
     "metadata": {},
     "output_type": "display_data"
    },
    {
     "data": {
      "text/html": [
       "<div>\n",
       "<style>\n",
       "    .dataframe thead tr:only-child th {\n",
       "        text-align: right;\n",
       "    }\n",
       "\n",
       "    .dataframe thead th {\n",
       "        text-align: left;\n",
       "    }\n",
       "\n",
       "    .dataframe tbody tr th {\n",
       "        vertical-align: top;\n",
       "    }\n",
       "</style>\n",
       "<table border=\"1\" class=\"dataframe\">\n",
       "  <thead>\n",
       "    <tr style=\"text-align: right;\">\n",
       "      <th></th>\n",
       "      <th>n1 - id</th>\n",
       "      <th>n1 - name</th>\n",
       "      <th>n2 - id</th>\n",
       "      <th>n2 - name</th>\n",
       "      <th>n3 - id</th>\n",
       "      <th>n3 - name</th>\n",
       "      <th>score</th>\n",
       "    </tr>\n",
       "  </thead>\n",
       "  <tbody>\n",
       "    <tr>\n",
       "      <th>0</th>\n",
       "      <td>HGNC:1033</td>\n",
       "      <td>BDNF</td>\n",
       "      <td>MONDO:0008114</td>\n",
       "      <td>obsessive-compulsive disorder</td>\n",
       "      <td>CHEBI:86990</td>\n",
       "      <td>N-methyl-3-phenyl-3-[4-(trifluoromethyl)phenox...</td>\n",
       "      <td>1.308933</td>\n",
       "    </tr>\n",
       "    <tr>\n",
       "      <th>1</th>\n",
       "      <td>HGNC:2610</td>\n",
       "      <td>CYP2A6</td>\n",
       "      <td>MONDO:0021085</td>\n",
       "      <td>gastric neoplasm</td>\n",
       "      <td>CHEBI:32188</td>\n",
       "      <td>Tegafur</td>\n",
       "      <td>1.130908</td>\n",
       "    </tr>\n",
       "    <tr>\n",
       "      <th>2</th>\n",
       "      <td>HGNC:348</td>\n",
       "      <td>AHR</td>\n",
       "      <td>MONDO:0005311</td>\n",
       "      <td>atherosclerosis</td>\n",
       "      <td>CHEBI:16243</td>\n",
       "      <td>quercetin</td>\n",
       "      <td>1.113771</td>\n",
       "    </tr>\n",
       "    <tr>\n",
       "      <th>3</th>\n",
       "      <td>HGNC:2615</td>\n",
       "      <td>CYP2B6</td>\n",
       "      <td>MONDO:0008575</td>\n",
       "      <td>nicotine dependence</td>\n",
       "      <td>CHEBI:3219</td>\n",
       "      <td>bupropion</td>\n",
       "      <td>1.095157</td>\n",
       "    </tr>\n",
       "    <tr>\n",
       "      <th>4</th>\n",
       "      <td>HGNC:1033</td>\n",
       "      <td>BDNF</td>\n",
       "      <td>MONDO:0005452</td>\n",
       "      <td>bulimia nervosa</td>\n",
       "      <td>CHEBI:86990</td>\n",
       "      <td>N-methyl-3-phenyl-3-[4-(trifluoromethyl)phenox...</td>\n",
       "      <td>1.087268</td>\n",
       "    </tr>\n",
       "  </tbody>\n",
       "</table>\n",
       "</div>"
      ],
      "text/plain": [
       "    n1 - id  n1 - name        n2 - id                      n2 - name   \\\n",
       "0  HGNC:1033       BDNF  MONDO:0008114  obsessive-compulsive disorder   \n",
       "1  HGNC:2610     CYP2A6  MONDO:0021085               gastric neoplasm   \n",
       "2   HGNC:348        AHR  MONDO:0005311                atherosclerosis   \n",
       "3  HGNC:2615     CYP2B6  MONDO:0008575            nicotine dependence   \n",
       "4  HGNC:1033       BDNF  MONDO:0005452                bulimia nervosa   \n",
       "\n",
       "      n3 - id                                          n3 - name      score  \n",
       "0  CHEBI:86990  N-methyl-3-phenyl-3-[4-(trifluoromethyl)phenox...  1.308933  \n",
       "1  CHEBI:32188                                            Tegafur  1.130908  \n",
       "2  CHEBI:16243                                          quercetin  1.113771  \n",
       "3   CHEBI:3219                                          bupropion  1.095157  \n",
       "4  CHEBI:86990  N-methyl-3-phenyl-3-[4-(trifluoromethyl)phenox...  1.087268  "
      ]
     },
     "metadata": {},
     "output_type": "display_data"
    },
    {
     "data": {
      "text/html": [
       "<h3>cone dystrophy</h3>"
      ],
      "text/plain": [
       "<IPython.core.display.HTML object>"
      ]
     },
     "metadata": {},
     "output_type": "display_data"
    },
    {
     "data": {
      "text/html": [
       "<a href=http://robokop.renci.org/simple/view/fd04ab30-f1ee-4ff5-8f06-f569eabe7c52>View Answer in ROBOKOP</a>"
      ],
      "text/plain": [
       "<IPython.core.display.HTML object>"
      ]
     },
     "metadata": {},
     "output_type": "display_data"
    },
    {
     "data": {
      "text/html": [
       "<div>\n",
       "<style>\n",
       "    .dataframe thead tr:only-child th {\n",
       "        text-align: right;\n",
       "    }\n",
       "\n",
       "    .dataframe thead th {\n",
       "        text-align: left;\n",
       "    }\n",
       "\n",
       "    .dataframe tbody tr th {\n",
       "        vertical-align: top;\n",
       "    }\n",
       "</style>\n",
       "<table border=\"1\" class=\"dataframe\">\n",
       "  <thead>\n",
       "    <tr style=\"text-align: right;\">\n",
       "      <th></th>\n",
       "      <th>n1 - id</th>\n",
       "      <th>n1 - name</th>\n",
       "      <th>n2 - id</th>\n",
       "      <th>n2 - name</th>\n",
       "      <th>n3 - id</th>\n",
       "      <th>n3 - name</th>\n",
       "      <th>score</th>\n",
       "    </tr>\n",
       "  </thead>\n",
       "  <tbody>\n",
       "    <tr>\n",
       "      <th>0</th>\n",
       "      <td>HGNC:24525</td>\n",
       "      <td>MMACHC</td>\n",
       "      <td>MONDO:0001700</td>\n",
       "      <td>megaloblastic anemia (disease)</td>\n",
       "      <td>CHEBI:17439</td>\n",
       "      <td>cyanocob(III)alamin</td>\n",
       "      <td>0.847451</td>\n",
       "    </tr>\n",
       "    <tr>\n",
       "      <th>1</th>\n",
       "      <td>HGNC:1527</td>\n",
       "      <td>CAV1</td>\n",
       "      <td>MONDO:0015924</td>\n",
       "      <td>pulmonary arterial hypertension</td>\n",
       "      <td>CHEBI:84879</td>\n",
       "      <td>nitroxyl</td>\n",
       "      <td>0.762574</td>\n",
       "    </tr>\n",
       "    <tr>\n",
       "      <th>2</th>\n",
       "      <td>HGNC:1527</td>\n",
       "      <td>CAV1</td>\n",
       "      <td>MONDO:0005252</td>\n",
       "      <td>heart failure</td>\n",
       "      <td>CHEBI:7596</td>\n",
       "      <td>nitroprusside</td>\n",
       "      <td>0.757970</td>\n",
       "    </tr>\n",
       "    <tr>\n",
       "      <th>3</th>\n",
       "      <td>HGNC:10294</td>\n",
       "      <td>RPE65</td>\n",
       "      <td>MONDO:0003004</td>\n",
       "      <td>macular degeneration</td>\n",
       "      <td>PUBCHEM:444596</td>\n",
       "      <td>retinylamine</td>\n",
       "      <td>0.755158</td>\n",
       "    </tr>\n",
       "    <tr>\n",
       "      <th>4</th>\n",
       "      <td>HGNC:10294</td>\n",
       "      <td>RPE65</td>\n",
       "      <td>MONDO:0000455</td>\n",
       "      <td>cone dystrophy</td>\n",
       "      <td>PUBCHEM:444596</td>\n",
       "      <td>retinylamine</td>\n",
       "      <td>0.741792</td>\n",
       "    </tr>\n",
       "  </tbody>\n",
       "</table>\n",
       "</div>"
      ],
      "text/plain": [
       "     n1 - id  n1 - name        n2 - id                        n2 - name   \\\n",
       "0  HGNC:24525     MMACHC  MONDO:0001700   megaloblastic anemia (disease)   \n",
       "1   HGNC:1527       CAV1  MONDO:0015924  pulmonary arterial hypertension   \n",
       "2   HGNC:1527       CAV1  MONDO:0005252                    heart failure   \n",
       "3  HGNC:10294      RPE65  MONDO:0003004             macular degeneration   \n",
       "4  HGNC:10294      RPE65  MONDO:0000455                   cone dystrophy   \n",
       "\n",
       "         n3 - id            n3 - name      score  \n",
       "0     CHEBI:17439  cyanocob(III)alamin  0.847451  \n",
       "1     CHEBI:84879             nitroxyl  0.762574  \n",
       "2      CHEBI:7596        nitroprusside  0.757970  \n",
       "3  PUBCHEM:444596         retinylamine  0.755158  \n",
       "4  PUBCHEM:444596         retinylamine  0.741792  "
      ]
     },
     "metadata": {},
     "output_type": "display_data"
    },
    {
     "data": {
      "text/html": [
       "<h3>hypohidrosis-enamel hypoplasia-palmoplantar ke...</h3>"
      ],
      "text/plain": [
       "<IPython.core.display.HTML object>"
      ]
     },
     "metadata": {},
     "output_type": "display_data"
    },
    {
     "data": {
      "text/html": [
       "<a href=http://robokop.renci.org/simple/view/2337891f-be88-4de1-9093-efd0e6039854>View Answer in ROBOKOP</a>"
      ],
      "text/plain": [
       "<IPython.core.display.HTML object>"
      ]
     },
     "metadata": {},
     "output_type": "display_data"
    },
    {
     "data": {
      "text/html": [
       "<div>\n",
       "<style>\n",
       "    .dataframe thead tr:only-child th {\n",
       "        text-align: right;\n",
       "    }\n",
       "\n",
       "    .dataframe thead th {\n",
       "        text-align: left;\n",
       "    }\n",
       "\n",
       "    .dataframe tbody tr th {\n",
       "        vertical-align: top;\n",
       "    }\n",
       "</style>\n",
       "<table border=\"1\" class=\"dataframe\">\n",
       "  <thead>\n",
       "    <tr style=\"text-align: right;\">\n",
       "      <th></th>\n",
       "    </tr>\n",
       "  </thead>\n",
       "  <tbody>\n",
       "  </tbody>\n",
       "</table>\n",
       "</div>"
      ],
      "text/plain": [
       "Empty DataFrame\n",
       "Columns: []\n",
       "Index: []"
      ]
     },
     "metadata": {},
     "output_type": "display_data"
    },
    {
     "data": {
      "text/html": [
       "<h3>genetic dementia</h3>"
      ],
      "text/plain": [
       "<IPython.core.display.HTML object>"
      ]
     },
     "metadata": {},
     "output_type": "display_data"
    },
    {
     "data": {
      "text/html": [
       "<a href=http://robokop.renci.org/simple/view/abd88da9-5664-466f-8906-810bcd842961>View Answer in ROBOKOP</a>"
      ],
      "text/plain": [
       "<IPython.core.display.HTML object>"
      ]
     },
     "metadata": {},
     "output_type": "display_data"
    },
    {
     "data": {
      "text/html": [
       "<div>\n",
       "<style>\n",
       "    .dataframe thead tr:only-child th {\n",
       "        text-align: right;\n",
       "    }\n",
       "\n",
       "    .dataframe thead th {\n",
       "        text-align: left;\n",
       "    }\n",
       "\n",
       "    .dataframe tbody tr th {\n",
       "        vertical-align: top;\n",
       "    }\n",
       "</style>\n",
       "<table border=\"1\" class=\"dataframe\">\n",
       "  <thead>\n",
       "    <tr style=\"text-align: right;\">\n",
       "      <th></th>\n",
       "      <th>n1 - id</th>\n",
       "      <th>n1 - name</th>\n",
       "      <th>n2 - id</th>\n",
       "      <th>n2 - name</th>\n",
       "      <th>n3 - id</th>\n",
       "      <th>n3 - name</th>\n",
       "      <th>score</th>\n",
       "    </tr>\n",
       "  </thead>\n",
       "  <tbody>\n",
       "    <tr>\n",
       "      <th>0</th>\n",
       "      <td>HGNC:4177</td>\n",
       "      <td>GBA</td>\n",
       "      <td>MONDO:0018150</td>\n",
       "      <td>Gaucher disease</td>\n",
       "      <td>CHEBI:82752</td>\n",
       "      <td>eliglustat</td>\n",
       "      <td>1.160564</td>\n",
       "    </tr>\n",
       "    <tr>\n",
       "      <th>1</th>\n",
       "      <td>HGNC:795</td>\n",
       "      <td>ATM</td>\n",
       "      <td>MONDO:0018881</td>\n",
       "      <td>myelodysplastic syndrome</td>\n",
       "      <td>CHEBI:50131</td>\n",
       "      <td>5-aza-2'-deoxycytidine</td>\n",
       "      <td>1.059473</td>\n",
       "    </tr>\n",
       "    <tr>\n",
       "      <th>2</th>\n",
       "      <td>HGNC:9449</td>\n",
       "      <td>PRNP</td>\n",
       "      <td>MONDO:0010200</td>\n",
       "      <td>Wilson disease</td>\n",
       "      <td>CHEBI:28694</td>\n",
       "      <td>copper atom</td>\n",
       "      <td>1.036584</td>\n",
       "    </tr>\n",
       "    <tr>\n",
       "      <th>3</th>\n",
       "      <td>HGNC:795</td>\n",
       "      <td>ATM</td>\n",
       "      <td>MONDO:0005615</td>\n",
       "      <td>plasmacytoma</td>\n",
       "      <td>CHEBI:52717</td>\n",
       "      <td>bortezomib</td>\n",
       "      <td>1.032659</td>\n",
       "    </tr>\n",
       "    <tr>\n",
       "      <th>4</th>\n",
       "      <td>HGNC:11138</td>\n",
       "      <td>SNCA</td>\n",
       "      <td>MONDO:0021095</td>\n",
       "      <td>parkinsonian disorder</td>\n",
       "      <td>CHEBI:17963</td>\n",
       "      <td>1-methyl-4-phenyl-1,2,3,6-tetrahydropyridine</td>\n",
       "      <td>1.004467</td>\n",
       "    </tr>\n",
       "  </tbody>\n",
       "</table>\n",
       "</div>"
      ],
      "text/plain": [
       "     n1 - id  n1 - name        n2 - id                 n2 - name   \\\n",
       "0   HGNC:4177        GBA  MONDO:0018150           Gaucher disease   \n",
       "1    HGNC:795        ATM  MONDO:0018881  myelodysplastic syndrome   \n",
       "2   HGNC:9449       PRNP  MONDO:0010200            Wilson disease   \n",
       "3    HGNC:795        ATM  MONDO:0005615              plasmacytoma   \n",
       "4  HGNC:11138       SNCA  MONDO:0021095     parkinsonian disorder   \n",
       "\n",
       "      n3 - id                                     n3 - name      score  \n",
       "0  CHEBI:82752                                    eliglustat  1.160564  \n",
       "1  CHEBI:50131                        5-aza-2'-deoxycytidine  1.059473  \n",
       "2  CHEBI:28694                                   copper atom  1.036584  \n",
       "3  CHEBI:52717                                    bortezomib  1.032659  \n",
       "4  CHEBI:17963  1-methyl-4-phenyl-1,2,3,6-tetrahydropyridine  1.004467  "
      ]
     },
     "metadata": {},
     "output_type": "display_data"
    },
    {
     "data": {
      "text/html": [
       "<h3>functional neutrophil defect</h3>"
      ],
      "text/plain": [
       "<IPython.core.display.HTML object>"
      ]
     },
     "metadata": {},
     "output_type": "display_data"
    },
    {
     "data": {
      "text/html": [
       "<a href=http://robokop.renci.org/simple/view/485217ea-9463-42cf-b7f2-37af05b4ae26>View Answer in ROBOKOP</a>"
      ],
      "text/plain": [
       "<IPython.core.display.HTML object>"
      ]
     },
     "metadata": {},
     "output_type": "display_data"
    },
    {
     "data": {
      "text/html": [
       "<div>\n",
       "<style>\n",
       "    .dataframe thead tr:only-child th {\n",
       "        text-align: right;\n",
       "    }\n",
       "\n",
       "    .dataframe thead th {\n",
       "        text-align: left;\n",
       "    }\n",
       "\n",
       "    .dataframe tbody tr th {\n",
       "        vertical-align: top;\n",
       "    }\n",
       "</style>\n",
       "<table border=\"1\" class=\"dataframe\">\n",
       "  <thead>\n",
       "    <tr style=\"text-align: right;\">\n",
       "      <th></th>\n",
       "      <th>n1 - id</th>\n",
       "      <th>n1 - name</th>\n",
       "      <th>n2 - id</th>\n",
       "      <th>n2 - name</th>\n",
       "      <th>n3 - id</th>\n",
       "      <th>n3 - name</th>\n",
       "      <th>score</th>\n",
       "    </tr>\n",
       "  </thead>\n",
       "  <tbody>\n",
       "    <tr>\n",
       "      <th>0</th>\n",
       "      <td>HGNC:2578</td>\n",
       "      <td>CYBB</td>\n",
       "      <td>MONDO:0005252</td>\n",
       "      <td>heart failure</td>\n",
       "      <td>CHEBI:28787</td>\n",
       "      <td>nitroglycerin</td>\n",
       "      <td>0.826617</td>\n",
       "    </tr>\n",
       "    <tr>\n",
       "      <th>1</th>\n",
       "      <td>HGNC:7218</td>\n",
       "      <td>MPO</td>\n",
       "      <td>MONDO:0005203</td>\n",
       "      <td>ischemia reperfusion injury</td>\n",
       "      <td>CHEBI:31530</td>\n",
       "      <td>edaravone</td>\n",
       "      <td>0.798995</td>\n",
       "    </tr>\n",
       "    <tr>\n",
       "      <th>2</th>\n",
       "      <td>HGNC:7218</td>\n",
       "      <td>MPO</td>\n",
       "      <td>MONDO:0005203</td>\n",
       "      <td>ischemia reperfusion injury</td>\n",
       "      <td>CHEBI:3374</td>\n",
       "      <td>capsaicin</td>\n",
       "      <td>0.792077</td>\n",
       "    </tr>\n",
       "    <tr>\n",
       "      <th>3</th>\n",
       "      <td>HGNC:7218</td>\n",
       "      <td>MPO</td>\n",
       "      <td>MONDO:0005203</td>\n",
       "      <td>ischemia reperfusion injury</td>\n",
       "      <td>CHEBI:16236</td>\n",
       "      <td>ethanol</td>\n",
       "      <td>0.778049</td>\n",
       "    </tr>\n",
       "    <tr>\n",
       "      <th>4</th>\n",
       "      <td>HGNC:2578</td>\n",
       "      <td>CYBB</td>\n",
       "      <td>MONDO:0005203</td>\n",
       "      <td>ischemia reperfusion injury</td>\n",
       "      <td>CHEBI:29150</td>\n",
       "      <td>orthoperiodic acid</td>\n",
       "      <td>0.773134</td>\n",
       "    </tr>\n",
       "  </tbody>\n",
       "</table>\n",
       "</div>"
      ],
      "text/plain": [
       "    n1 - id  n1 - name        n2 - id                    n2 - name   \\\n",
       "0  HGNC:2578       CYBB  MONDO:0005252                heart failure   \n",
       "1  HGNC:7218        MPO  MONDO:0005203  ischemia reperfusion injury   \n",
       "2  HGNC:7218        MPO  MONDO:0005203  ischemia reperfusion injury   \n",
       "3  HGNC:7218        MPO  MONDO:0005203  ischemia reperfusion injury   \n",
       "4  HGNC:2578       CYBB  MONDO:0005203  ischemia reperfusion injury   \n",
       "\n",
       "      n3 - id           n3 - name      score  \n",
       "0  CHEBI:28787       nitroglycerin  0.826617  \n",
       "1  CHEBI:31530           edaravone  0.798995  \n",
       "2   CHEBI:3374           capsaicin  0.792077  \n",
       "3  CHEBI:16236             ethanol  0.778049  \n",
       "4  CHEBI:29150  orthoperiodic acid  0.773134  "
      ]
     },
     "metadata": {},
     "output_type": "display_data"
    },
    {
     "data": {
      "text/html": [
       "<h3>CADASIL</h3>"
      ],
      "text/plain": [
       "<IPython.core.display.HTML object>"
      ]
     },
     "metadata": {},
     "output_type": "display_data"
    },
    {
     "data": {
      "text/html": [
       "<a href=http://robokop.renci.org/simple/view/378693e5-376d-4912-9597-7ee5ea516880>View Answer in ROBOKOP</a>"
      ],
      "text/plain": [
       "<IPython.core.display.HTML object>"
      ]
     },
     "metadata": {},
     "output_type": "display_data"
    },
    {
     "data": {
      "text/html": [
       "<div>\n",
       "<style>\n",
       "    .dataframe thead tr:only-child th {\n",
       "        text-align: right;\n",
       "    }\n",
       "\n",
       "    .dataframe thead th {\n",
       "        text-align: left;\n",
       "    }\n",
       "\n",
       "    .dataframe tbody tr th {\n",
       "        vertical-align: top;\n",
       "    }\n",
       "</style>\n",
       "<table border=\"1\" class=\"dataframe\">\n",
       "  <thead>\n",
       "    <tr style=\"text-align: right;\">\n",
       "      <th></th>\n",
       "      <th>n1 - id</th>\n",
       "      <th>n1 - name</th>\n",
       "      <th>n2 - id</th>\n",
       "      <th>n2 - name</th>\n",
       "      <th>n3 - id</th>\n",
       "      <th>n3 - name</th>\n",
       "      <th>score</th>\n",
       "    </tr>\n",
       "  </thead>\n",
       "  <tbody>\n",
       "    <tr>\n",
       "      <th>0</th>\n",
       "      <td>HGNC:7883</td>\n",
       "      <td>NOTCH3</td>\n",
       "      <td>MONDO:0002070</td>\n",
       "      <td>ventricular septal defect (disease)</td>\n",
       "      <td>CHEBI:25812</td>\n",
       "      <td>ozone</td>\n",
       "      <td>0.801713</td>\n",
       "    </tr>\n",
       "    <tr>\n",
       "      <th>1</th>\n",
       "      <td>HGNC:7883</td>\n",
       "      <td>NOTCH3</td>\n",
       "      <td>MONDO:0005184</td>\n",
       "      <td>pancreatic ductal adenocarcinoma</td>\n",
       "      <td>CHEMBL:CHEMBL196215</td>\n",
       "      <td>CHEMBL196215</td>\n",
       "      <td>0.711143</td>\n",
       "    </tr>\n",
       "    <tr>\n",
       "      <th>2</th>\n",
       "      <td>HGNC:3229</td>\n",
       "      <td>EGF</td>\n",
       "      <td>MONDO:0005203</td>\n",
       "      <td>ischemia reperfusion injury</td>\n",
       "      <td>CHEBI:3374</td>\n",
       "      <td>capsaicin</td>\n",
       "      <td>0.553939</td>\n",
       "    </tr>\n",
       "    <tr>\n",
       "      <th>3</th>\n",
       "      <td>HGNC:3229</td>\n",
       "      <td>EGF</td>\n",
       "      <td>MONDO:0005203</td>\n",
       "      <td>ischemia reperfusion injury</td>\n",
       "      <td>CHEBI:16243</td>\n",
       "      <td>quercetin</td>\n",
       "      <td>0.515792</td>\n",
       "    </tr>\n",
       "    <tr>\n",
       "      <th>4</th>\n",
       "      <td>HGNC:3229</td>\n",
       "      <td>EGF</td>\n",
       "      <td>MONDO:0002771</td>\n",
       "      <td>pulmonary fibrosis</td>\n",
       "      <td>CHEBI:49668</td>\n",
       "      <td>gefitinib</td>\n",
       "      <td>0.472702</td>\n",
       "    </tr>\n",
       "  </tbody>\n",
       "</table>\n",
       "</div>"
      ],
      "text/plain": [
       "    n1 - id  n1 - name        n2 - id                            n2 - name   \\\n",
       "0  HGNC:7883     NOTCH3  MONDO:0002070  ventricular septal defect (disease)   \n",
       "1  HGNC:7883     NOTCH3  MONDO:0005184     pancreatic ductal adenocarcinoma   \n",
       "2  HGNC:3229        EGF  MONDO:0005203          ischemia reperfusion injury   \n",
       "3  HGNC:3229        EGF  MONDO:0005203          ischemia reperfusion injury   \n",
       "4  HGNC:3229        EGF  MONDO:0002771                   pulmonary fibrosis   \n",
       "\n",
       "              n3 - id     n3 - name      score  \n",
       "0          CHEBI:25812         ozone  0.801713  \n",
       "1  CHEMBL:CHEMBL196215  CHEMBL196215  0.711143  \n",
       "2           CHEBI:3374     capsaicin  0.553939  \n",
       "3          CHEBI:16243     quercetin  0.515792  \n",
       "4          CHEBI:49668     gefitinib  0.472702  "
      ]
     },
     "metadata": {},
     "output_type": "display_data"
    },
    {
     "data": {
      "text/html": [
       "<h3>glomerulopathy with fibronectin deposits 2</h3>"
      ],
      "text/plain": [
       "<IPython.core.display.HTML object>"
      ]
     },
     "metadata": {},
     "output_type": "display_data"
    },
    {
     "data": {
      "text/html": [
       "<a href=http://robokop.renci.org/simple/view/7f1e7ba1-1e56-4b2d-800c-ec691c7572fd>View Answer in ROBOKOP</a>"
      ],
      "text/plain": [
       "<IPython.core.display.HTML object>"
      ]
     },
     "metadata": {},
     "output_type": "display_data"
    },
    {
     "data": {
      "text/html": [
       "<div>\n",
       "<style>\n",
       "    .dataframe thead tr:only-child th {\n",
       "        text-align: right;\n",
       "    }\n",
       "\n",
       "    .dataframe thead th {\n",
       "        text-align: left;\n",
       "    }\n",
       "\n",
       "    .dataframe tbody tr th {\n",
       "        vertical-align: top;\n",
       "    }\n",
       "</style>\n",
       "<table border=\"1\" class=\"dataframe\">\n",
       "  <thead>\n",
       "    <tr style=\"text-align: right;\">\n",
       "      <th></th>\n",
       "      <th>n1 - id</th>\n",
       "      <th>n1 - name</th>\n",
       "      <th>n2 - id</th>\n",
       "      <th>n2 - name</th>\n",
       "      <th>n3 - id</th>\n",
       "      <th>n3 - name</th>\n",
       "      <th>score</th>\n",
       "    </tr>\n",
       "  </thead>\n",
       "  <tbody>\n",
       "    <tr>\n",
       "      <th>0</th>\n",
       "      <td>HGNC:3778</td>\n",
       "      <td>FN1</td>\n",
       "      <td>MONDO:0005133</td>\n",
       "      <td>endometriosis (disease)</td>\n",
       "      <td>CHEBI:17026</td>\n",
       "      <td>progesterone</td>\n",
       "      <td>0.840182</td>\n",
       "    </tr>\n",
       "    <tr>\n",
       "      <th>1</th>\n",
       "      <td>HGNC:3778</td>\n",
       "      <td>FN1</td>\n",
       "      <td>MONDO:0005016</td>\n",
       "      <td>diabetic nephropathy</td>\n",
       "      <td>CHEBI:50122</td>\n",
       "      <td>rosiglitazone</td>\n",
       "      <td>0.781620</td>\n",
       "    </tr>\n",
       "    <tr>\n",
       "      <th>2</th>\n",
       "      <td>HGNC:3778</td>\n",
       "      <td>FN1</td>\n",
       "      <td>MONDO:0005016</td>\n",
       "      <td>diabetic nephropathy</td>\n",
       "      <td>CHEBI:9753</td>\n",
       "      <td>troglitazone</td>\n",
       "      <td>0.674343</td>\n",
       "    </tr>\n",
       "    <tr>\n",
       "      <th>3</th>\n",
       "      <td>HGNC:3778</td>\n",
       "      <td>FN1</td>\n",
       "      <td>MONDO:0005005</td>\n",
       "      <td>clear cell renal carcinoma</td>\n",
       "      <td>CHEBI:27375</td>\n",
       "      <td>vincaleukoblastine</td>\n",
       "      <td>0.605845</td>\n",
       "    </tr>\n",
       "    <tr>\n",
       "      <th>4</th>\n",
       "      <td>HGNC:3778</td>\n",
       "      <td>FN1</td>\n",
       "      <td>MONDO:0003634</td>\n",
       "      <td>proteinuria</td>\n",
       "      <td>CHEBI:9753</td>\n",
       "      <td>troglitazone</td>\n",
       "      <td>0.593300</td>\n",
       "    </tr>\n",
       "  </tbody>\n",
       "</table>\n",
       "</div>"
      ],
      "text/plain": [
       "    n1 - id  n1 - name        n2 - id                   n2 - name   \\\n",
       "0  HGNC:3778        FN1  MONDO:0005133     endometriosis (disease)   \n",
       "1  HGNC:3778        FN1  MONDO:0005016        diabetic nephropathy   \n",
       "2  HGNC:3778        FN1  MONDO:0005016        diabetic nephropathy   \n",
       "3  HGNC:3778        FN1  MONDO:0005005  clear cell renal carcinoma   \n",
       "4  HGNC:3778        FN1  MONDO:0003634                 proteinuria   \n",
       "\n",
       "      n3 - id           n3 - name      score  \n",
       "0  CHEBI:17026        progesterone  0.840182  \n",
       "1  CHEBI:50122       rosiglitazone  0.781620  \n",
       "2   CHEBI:9753        troglitazone  0.674343  \n",
       "3  CHEBI:27375  vincaleukoblastine  0.605845  \n",
       "4   CHEBI:9753        troglitazone  0.593300  "
      ]
     },
     "metadata": {},
     "output_type": "display_data"
    },
    {
     "data": {
      "text/html": [
       "<h3>Alzheimer's disease 2</h3>"
      ],
      "text/plain": [
       "<IPython.core.display.HTML object>"
      ]
     },
     "metadata": {},
     "output_type": "display_data"
    },
    {
     "data": {
      "text/html": [
       "<a href=http://robokop.renci.org/simple/view/92c61d73-f820-48c4-a4ce-98ac5ac307ea>View Answer in ROBOKOP</a>"
      ],
      "text/plain": [
       "<IPython.core.display.HTML object>"
      ]
     },
     "metadata": {},
     "output_type": "display_data"
    },
    {
     "data": {
      "text/html": [
       "<div>\n",
       "<style>\n",
       "    .dataframe thead tr:only-child th {\n",
       "        text-align: right;\n",
       "    }\n",
       "\n",
       "    .dataframe thead th {\n",
       "        text-align: left;\n",
       "    }\n",
       "\n",
       "    .dataframe tbody tr th {\n",
       "        vertical-align: top;\n",
       "    }\n",
       "</style>\n",
       "<table border=\"1\" class=\"dataframe\">\n",
       "  <thead>\n",
       "    <tr style=\"text-align: right;\">\n",
       "      <th></th>\n",
       "      <th>n1 - id</th>\n",
       "      <th>n1 - name</th>\n",
       "      <th>n2 - id</th>\n",
       "      <th>n2 - name</th>\n",
       "      <th>n3 - id</th>\n",
       "      <th>n3 - name</th>\n",
       "      <th>score</th>\n",
       "    </tr>\n",
       "  </thead>\n",
       "  <tbody>\n",
       "    <tr>\n",
       "      <th>0</th>\n",
       "      <td>HGNC:6081</td>\n",
       "      <td>INS</td>\n",
       "      <td>MONDO:0004946</td>\n",
       "      <td>hypoglycemia</td>\n",
       "      <td>CHEBI:17234</td>\n",
       "      <td>glucose</td>\n",
       "      <td>1.236224</td>\n",
       "    </tr>\n",
       "    <tr>\n",
       "      <th>1</th>\n",
       "      <td>HGNC:2707</td>\n",
       "      <td>ACE</td>\n",
       "      <td>MONDO:0005016</td>\n",
       "      <td>diabetic nephropathy</td>\n",
       "      <td>CHEBI:3011</td>\n",
       "      <td>benazepril</td>\n",
       "      <td>1.032061</td>\n",
       "    </tr>\n",
       "    <tr>\n",
       "      <th>2</th>\n",
       "      <td>HGNC:620</td>\n",
       "      <td>APP</td>\n",
       "      <td>MONDO:0006496</td>\n",
       "      <td>palsy</td>\n",
       "      <td>CHEBI:28694</td>\n",
       "      <td>copper atom</td>\n",
       "      <td>1.013211</td>\n",
       "    </tr>\n",
       "    <tr>\n",
       "      <th>3</th>\n",
       "      <td>HGNC:1033</td>\n",
       "      <td>BDNF</td>\n",
       "      <td>MONDO:0008114</td>\n",
       "      <td>obsessive-compulsive disorder</td>\n",
       "      <td>CHEBI:86990</td>\n",
       "      <td>N-methyl-3-phenyl-3-[4-(trifluoromethyl)phenox...</td>\n",
       "      <td>0.961671</td>\n",
       "    </tr>\n",
       "    <tr>\n",
       "      <th>4</th>\n",
       "      <td>HGNC:2707</td>\n",
       "      <td>ACE</td>\n",
       "      <td>MONDO:0005016</td>\n",
       "      <td>diabetic nephropathy</td>\n",
       "      <td>CHEBI:4784</td>\n",
       "      <td>enalapril</td>\n",
       "      <td>0.954259</td>\n",
       "    </tr>\n",
       "  </tbody>\n",
       "</table>\n",
       "</div>"
      ],
      "text/plain": [
       "    n1 - id  n1 - name        n2 - id                      n2 - name   \\\n",
       "0  HGNC:6081        INS  MONDO:0004946                   hypoglycemia   \n",
       "1  HGNC:2707        ACE  MONDO:0005016           diabetic nephropathy   \n",
       "2   HGNC:620        APP  MONDO:0006496                          palsy   \n",
       "3  HGNC:1033       BDNF  MONDO:0008114  obsessive-compulsive disorder   \n",
       "4  HGNC:2707        ACE  MONDO:0005016           diabetic nephropathy   \n",
       "\n",
       "      n3 - id                                          n3 - name      score  \n",
       "0  CHEBI:17234                                            glucose  1.236224  \n",
       "1   CHEBI:3011                                         benazepril  1.032061  \n",
       "2  CHEBI:28694                                        copper atom  1.013211  \n",
       "3  CHEBI:86990  N-methyl-3-phenyl-3-[4-(trifluoromethyl)phenox...  0.961671  \n",
       "4   CHEBI:4784                                          enalapril  0.954259  "
      ]
     },
     "metadata": {},
     "output_type": "display_data"
    },
    {
     "data": {
      "text/html": [
       "<h3>combined pituitary hormone deficiencies, genet...</h3>"
      ],
      "text/plain": [
       "<IPython.core.display.HTML object>"
      ]
     },
     "metadata": {},
     "output_type": "display_data"
    },
    {
     "data": {
      "text/html": [
       "<a href=http://robokop.renci.org/simple/view/586451fd-48ff-4e28-8767-8500f1823b01>View Answer in ROBOKOP</a>"
      ],
      "text/plain": [
       "<IPython.core.display.HTML object>"
      ]
     },
     "metadata": {},
     "output_type": "display_data"
    },
    {
     "data": {
      "text/html": [
       "<div>\n",
       "<style>\n",
       "    .dataframe thead tr:only-child th {\n",
       "        text-align: right;\n",
       "    }\n",
       "\n",
       "    .dataframe thead th {\n",
       "        text-align: left;\n",
       "    }\n",
       "\n",
       "    .dataframe tbody tr th {\n",
       "        vertical-align: top;\n",
       "    }\n",
       "</style>\n",
       "<table border=\"1\" class=\"dataframe\">\n",
       "  <thead>\n",
       "    <tr style=\"text-align: right;\">\n",
       "      <th></th>\n",
       "      <th>n1 - id</th>\n",
       "      <th>n1 - name</th>\n",
       "      <th>n2 - id</th>\n",
       "      <th>n2 - name</th>\n",
       "      <th>n3 - id</th>\n",
       "      <th>n3 - name</th>\n",
       "      <th>score</th>\n",
       "    </tr>\n",
       "  </thead>\n",
       "  <tbody>\n",
       "    <tr>\n",
       "      <th>0</th>\n",
       "      <td>HGNC:4261</td>\n",
       "      <td>GH1</td>\n",
       "      <td>MONDO:0019933</td>\n",
       "      <td>acromegaly</td>\n",
       "      <td>CHEMBL:CHEMBL1680</td>\n",
       "      <td>OCTREOTIDE</td>\n",
       "      <td>1.524126</td>\n",
       "    </tr>\n",
       "    <tr>\n",
       "      <th>1</th>\n",
       "      <td>HGNC:4261</td>\n",
       "      <td>GH1</td>\n",
       "      <td>MONDO:0019933</td>\n",
       "      <td>acromegaly</td>\n",
       "      <td>CHEBI:3181</td>\n",
       "      <td>bromocriptine</td>\n",
       "      <td>1.363182</td>\n",
       "    </tr>\n",
       "    <tr>\n",
       "      <th>2</th>\n",
       "      <td>HGNC:4261</td>\n",
       "      <td>GH1</td>\n",
       "      <td>MONDO:0006373</td>\n",
       "      <td>pituitary gland adenoma</td>\n",
       "      <td>CHEMBL:CHEMBL1680</td>\n",
       "      <td>OCTREOTIDE</td>\n",
       "      <td>1.242924</td>\n",
       "    </tr>\n",
       "    <tr>\n",
       "      <th>3</th>\n",
       "      <td>HGNC:9445</td>\n",
       "      <td>PRL</td>\n",
       "      <td>MONDO:0010911</td>\n",
       "      <td>prolactin-producing pituitary gland adenoma</td>\n",
       "      <td>CHEBI:3181</td>\n",
       "      <td>bromocriptine</td>\n",
       "      <td>1.179609</td>\n",
       "    </tr>\n",
       "    <tr>\n",
       "      <th>4</th>\n",
       "      <td>HGNC:9445</td>\n",
       "      <td>PRL</td>\n",
       "      <td>MONDO:0005804</td>\n",
       "      <td>hyperprolactinemia (disease)</td>\n",
       "      <td>CHEBI:3181</td>\n",
       "      <td>bromocriptine</td>\n",
       "      <td>1.155644</td>\n",
       "    </tr>\n",
       "  </tbody>\n",
       "</table>\n",
       "</div>"
      ],
      "text/plain": [
       "    n1 - id  n1 - name        n2 - id   \\\n",
       "0  HGNC:4261        GH1  MONDO:0019933   \n",
       "1  HGNC:4261        GH1  MONDO:0019933   \n",
       "2  HGNC:4261        GH1  MONDO:0006373   \n",
       "3  HGNC:9445        PRL  MONDO:0010911   \n",
       "4  HGNC:9445        PRL  MONDO:0005804   \n",
       "\n",
       "                                    n2 - name            n3 - id   \\\n",
       "0                                   acromegaly  CHEMBL:CHEMBL1680   \n",
       "1                                   acromegaly         CHEBI:3181   \n",
       "2                      pituitary gland adenoma  CHEMBL:CHEMBL1680   \n",
       "3  prolactin-producing pituitary gland adenoma         CHEBI:3181   \n",
       "4                 hyperprolactinemia (disease)         CHEBI:3181   \n",
       "\n",
       "      n3 - name      score  \n",
       "0     OCTREOTIDE  1.524126  \n",
       "1  bromocriptine  1.363182  \n",
       "2     OCTREOTIDE  1.242924  \n",
       "3  bromocriptine  1.179609  \n",
       "4  bromocriptine  1.155644  "
      ]
     },
     "metadata": {},
     "output_type": "display_data"
    }
   ],
   "source": [
    "#This is the templated query that goes (disease)-(gene)-(disease2), (gene)-(chemical)-[treats]->(disease2)\n",
    "turl=lambda robokop,disease_id,disease_name: f'http://{robokop}/api/simple/quick/template/repurposing_by_gene/{disease_id}/?name1={disease_name}&max_connectivity=1000'\n",
    "\n",
    "for disease_id, disease_name in common_diseases + rare_diseases:\n",
    "    url = turl(robokop,disease_id,disease_name)\n",
    "    display(HTML(f'<h3>{disease_name}</h3>'))\n",
    "    response = requests.get(url)\n",
    "    if response.status_code != 200:\n",
    "        print('Error')\n",
    "        continue\n",
    "    answers=response.json()\n",
    "    view_url = get_view_url(answers)\n",
    "    display(HTML(f'<a href={view_url}>View Answer in ROBOKOP</a>'))\n",
    "    answer_frame = parse_answer(answers,node_list=['n1','n2','n3'],edge_list=[])\n",
    "    display(answer_frame.head())    "
   ]
  },
  {
   "cell_type": "code",
   "execution_count": null,
   "metadata": {
    "collapsed": true,
    "deletable": true,
    "editable": true
   },
   "outputs": [],
   "source": []
  }
 ],
 "metadata": {
  "kernelspec": {
   "display_name": "Python 3",
   "language": "python",
   "name": "python3"
  },
  "language_info": {
   "codemirror_mode": {
    "name": "ipython",
    "version": 3
   },
   "file_extension": ".py",
   "mimetype": "text/x-python",
   "name": "python",
   "nbconvert_exporter": "python",
   "pygments_lexer": "ipython3",
   "version": "3.6.2"
  }
 },
 "nbformat": 4,
 "nbformat_minor": 2
}
