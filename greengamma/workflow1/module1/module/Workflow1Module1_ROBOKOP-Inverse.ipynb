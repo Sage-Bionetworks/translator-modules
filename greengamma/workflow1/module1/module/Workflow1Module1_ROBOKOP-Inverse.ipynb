{
 "cells": [
  {
   "cell_type": "markdown",
   "metadata": {
    "deletable": true,
    "editable": true
   },
   "source": [
    "# Workflow 1, Module 1 (condition similarity)"
   ]
  },
  {
   "cell_type": "markdown",
   "metadata": {
    "deletable": true,
    "editable": true
   },
   "source": [
    "This notebook takes a look at the inverse of WF1 Mod1.  In that notebook, we start with a common disease and look for rare diseases that are similar phenotypically.  Here, we start with a rare disease and look for a common disease."
   ]
  },
  {
   "cell_type": "code",
   "execution_count": 2,
   "metadata": {
    "collapsed": true,
    "deletable": true,
    "editable": true
   },
   "outputs": [],
   "source": [
    "import requests\n",
    "import pandas as pd\n",
    "\n",
    "def quick(question,max_connectivity=None):\n",
    "    url=f'http://robokop.renci.org:80/api/simple/quick'\n",
    "    if max_connectivity is not None:\n",
    "        url += f'?max_connectivity={max_connectivity}'\n",
    "    print(url)\n",
    "    response = requests.post(url,json=question)\n",
    "    print( f\"Return Status: {response.status_code}\" )\n",
    "    if response.status_code == 200:\n",
    "        return response.json()\n",
    "    return response"
   ]
  },
  {
   "cell_type": "markdown",
   "metadata": {
    "deletable": true,
    "editable": true
   },
   "source": [
    "The basic machine question created below goes from a disease to a set of phenotypes to a genetic_condition.  Making the phenotypes a set allows there to be many phenotypes that connect the diseases."
   ]
  },
  {
   "cell_type": "code",
   "execution_count": 3,
   "metadata": {
    "collapsed": false,
    "deletable": true,
    "editable": true
   },
   "outputs": [],
   "source": [
    "def create_basic_question(disease_id):\n",
    "    return {\n",
    "    \"machine_question\": {\n",
    "        \"nodes\": [\n",
    "            {\n",
    "                \"id\": \"n0\",\n",
    "                \"type\": \"disease\",\n",
    "                \"curie\": disease_id\n",
    "            },\n",
    "            {\n",
    "                \"id\": \"n1\",\n",
    "                \"type\": \"phenotypic_feature\",\n",
    "                \"set\": True\n",
    "            },\n",
    "            {\n",
    "                \"id\": \"n2\",\n",
    "                \"type\": \"disease\"\n",
    "            }\n",
    "        ],\n",
    "        \"edges\": [\n",
    "            {\n",
    "                \"id\": \"e0\",\n",
    "                \"source_id\": \"n0\",\n",
    "                \"target_id\": \"n1\"\n",
    "            },\n",
    "            {\n",
    "                \"id\": \"e1\",\n",
    "                \"source_id\": \"n1\",\n",
    "                \"target_id\": \"n2\"\n",
    "            }\n",
    "        ]\n",
    "    }\n",
    "}"
   ]
  },
  {
   "cell_type": "code",
   "execution_count": 20,
   "metadata": {
    "collapsed": false,
    "deletable": true,
    "editable": true
   },
   "outputs": [],
   "source": [
    "def parse_answer(returnanswer):\n",
    "    #First, parse out the parts of the kg that we want, names and types\n",
    "    kg_node_names = { n['id']: n['name'] if 'name' in n else n['id'] for n in returnanswer['knowledge_graph']['nodes'] }\n",
    "    nodes_by_id = {n['id']:n for n in returnanswer['knowledge_graph']['nodes']}\n",
    "    answers = [ {\n",
    "                 \"condition_id\": answer['node_bindings']['n2'], \n",
    "                 \"condition_name\": nodes_by_id[answer['node_bindings']['n2']]['name'], #if 'name' in node else node['id'], \n",
    "                 \"rare\": nodes_by_id[answer['node_bindings']['n2']]['rare disease'] \n",
    "                    if 'rare disease' in nodes_by_id[answer['node_bindings']['n2']] else False,\n",
    "                 \"score\" :      answer['score']\n",
    "                }\n",
    "              for answer in returnanswer['answers']]\n",
    "    return pd.DataFrame(answers)"
   ]
  },
  {
   "cell_type": "code",
   "execution_count": 5,
   "metadata": {
    "collapsed": true,
    "deletable": true,
    "editable": true
   },
   "outputs": [],
   "source": [
    "CS = ('Cockayne syndrome','MONDO:0016006')\n",
    "UV = ('UV_sensitive_syndrome','MONDO:0015797')\n",
    "T  = ('Triciothiodystrophy','MONDO:0011125')\n",
    "XP = ('Xeroderma_pigmentosum','MONDO:0019600')\n",
    "rare_diseases = [CS, UV, T, XP]"
   ]
  },
  {
   "cell_type": "code",
   "execution_count": 10,
   "metadata": {
    "collapsed": false,
    "deletable": true,
    "editable": true
   },
   "outputs": [
    {
     "name": "stdout",
     "output_type": "stream",
     "text": [
      "http://robokop.renci.org:80/api/simple/quick?max_connectivity=1000\n",
      "Return Status: 200\n",
      "http://robokop.renci.org:80/api/simple/quick?max_connectivity=1000\n",
      "Return Status: 200\n",
      "http://robokop.renci.org:80/api/simple/quick?max_connectivity=1000\n",
      "Return Status: 200\n",
      "http://robokop.renci.org:80/api/simple/quick?max_connectivity=1000\n",
      "Return Status: 200\n"
     ]
    }
   ],
   "source": [
    "answers = {}\n",
    "for name,disease in rare_diseases:\n",
    "    q = create_basic_question(disease)\n",
    "    answers[disease] = quick(q,max_connectivity = 1000)"
   ]
  },
  {
   "cell_type": "code",
   "execution_count": 28,
   "metadata": {
    "collapsed": false,
    "deletable": true,
    "editable": true
   },
   "outputs": [
    {
     "name": "stdout",
     "output_type": "stream",
     "text": [
      "Cockayne syndrome\n"
     ]
    },
    {
     "data": {
      "text/html": [
       "<div>\n",
       "<style>\n",
       "    .dataframe thead tr:only-child th {\n",
       "        text-align: right;\n",
       "    }\n",
       "\n",
       "    .dataframe thead th {\n",
       "        text-align: left;\n",
       "    }\n",
       "\n",
       "    .dataframe tbody tr th {\n",
       "        vertical-align: top;\n",
       "    }\n",
       "</style>\n",
       "<table border=\"1\" class=\"dataframe\">\n",
       "  <thead>\n",
       "    <tr style=\"text-align: right;\">\n",
       "      <th></th>\n",
       "      <th>condition_id</th>\n",
       "      <th>condition_name</th>\n",
       "      <th>rare</th>\n",
       "      <th>score</th>\n",
       "    </tr>\n",
       "  </thead>\n",
       "  <tbody>\n",
       "    <tr>\n",
       "      <th>2</th>\n",
       "      <td>MONDO:0021231</td>\n",
       "      <td>retina neoplasm</td>\n",
       "      <td>False</td>\n",
       "      <td>25.114838</td>\n",
       "    </tr>\n",
       "    <tr>\n",
       "      <th>4</th>\n",
       "      <td>MONDO:0015333</td>\n",
       "      <td>progeroid syndrome</td>\n",
       "      <td>False</td>\n",
       "      <td>24.673287</td>\n",
       "    </tr>\n",
       "    <tr>\n",
       "      <th>5</th>\n",
       "      <td>MONDO:0021190</td>\n",
       "      <td>DNA repair disease</td>\n",
       "      <td>False</td>\n",
       "      <td>24.655713</td>\n",
       "    </tr>\n",
       "    <tr>\n",
       "      <th>6</th>\n",
       "      <td>MONDO:0006573</td>\n",
       "      <td>lipodystrophy (disease)</td>\n",
       "      <td>False</td>\n",
       "      <td>14.829836</td>\n",
       "    </tr>\n",
       "    <tr>\n",
       "      <th>10</th>\n",
       "      <td>MONDO:0003608</td>\n",
       "      <td>optic atrophy</td>\n",
       "      <td>False</td>\n",
       "      <td>13.623599</td>\n",
       "    </tr>\n",
       "  </tbody>\n",
       "</table>\n",
       "</div>"
      ],
      "text/plain": [
       "     condition_id           condition_name   rare      score\n",
       "2   MONDO:0021231          retina neoplasm  False  25.114838\n",
       "4   MONDO:0015333       progeroid syndrome  False  24.673287\n",
       "5   MONDO:0021190       DNA repair disease  False  24.655713\n",
       "6   MONDO:0006573  lipodystrophy (disease)  False  14.829836\n",
       "10  MONDO:0003608            optic atrophy  False  13.623599"
      ]
     },
     "metadata": {},
     "output_type": "display_data"
    },
    {
     "name": "stdout",
     "output_type": "stream",
     "text": [
      "UV_sensitive_syndrome\n"
     ]
    },
    {
     "data": {
      "text/html": [
       "<div>\n",
       "<style>\n",
       "    .dataframe thead tr:only-child th {\n",
       "        text-align: right;\n",
       "    }\n",
       "\n",
       "    .dataframe thead th {\n",
       "        text-align: left;\n",
       "    }\n",
       "\n",
       "    .dataframe tbody tr th {\n",
       "        vertical-align: top;\n",
       "    }\n",
       "</style>\n",
       "<table border=\"1\" class=\"dataframe\">\n",
       "  <thead>\n",
       "    <tr style=\"text-align: right;\">\n",
       "      <th></th>\n",
       "      <th>condition_id</th>\n",
       "      <th>condition_name</th>\n",
       "      <th>rare</th>\n",
       "      <th>score</th>\n",
       "    </tr>\n",
       "  </thead>\n",
       "  <tbody>\n",
       "    <tr>\n",
       "      <th>3</th>\n",
       "      <td>MONDO:0021190</td>\n",
       "      <td>DNA repair disease</td>\n",
       "      <td>False</td>\n",
       "      <td>0.389990</td>\n",
       "    </tr>\n",
       "    <tr>\n",
       "      <th>10</th>\n",
       "      <td>MONDO:0022687</td>\n",
       "      <td>cerebellar degeneration</td>\n",
       "      <td>False</td>\n",
       "      <td>0.327187</td>\n",
       "    </tr>\n",
       "    <tr>\n",
       "      <th>11</th>\n",
       "      <td>MONDO:0021231</td>\n",
       "      <td>retina neoplasm</td>\n",
       "      <td>False</td>\n",
       "      <td>0.327187</td>\n",
       "    </tr>\n",
       "    <tr>\n",
       "      <th>19</th>\n",
       "      <td>MONDO:0002913</td>\n",
       "      <td>cerebellar neoplasm</td>\n",
       "      <td>False</td>\n",
       "      <td>0.260326</td>\n",
       "    </tr>\n",
       "    <tr>\n",
       "      <th>23</th>\n",
       "      <td>MONDO:0015333</td>\n",
       "      <td>progeroid syndrome</td>\n",
       "      <td>False</td>\n",
       "      <td>0.260326</td>\n",
       "    </tr>\n",
       "  </tbody>\n",
       "</table>\n",
       "</div>"
      ],
      "text/plain": [
       "     condition_id           condition_name   rare     score\n",
       "3   MONDO:0021190       DNA repair disease  False  0.389990\n",
       "10  MONDO:0022687  cerebellar degeneration  False  0.327187\n",
       "11  MONDO:0021231          retina neoplasm  False  0.327187\n",
       "19  MONDO:0002913      cerebellar neoplasm  False  0.260326\n",
       "23  MONDO:0015333       progeroid syndrome  False  0.260326"
      ]
     },
     "metadata": {},
     "output_type": "display_data"
    },
    {
     "name": "stdout",
     "output_type": "stream",
     "text": [
      "Triciothiodystrophy\n"
     ]
    },
    {
     "data": {
      "text/html": [
       "<div>\n",
       "<style>\n",
       "    .dataframe thead tr:only-child th {\n",
       "        text-align: right;\n",
       "    }\n",
       "\n",
       "    .dataframe thead th {\n",
       "        text-align: left;\n",
       "    }\n",
       "\n",
       "    .dataframe tbody tr th {\n",
       "        vertical-align: top;\n",
       "    }\n",
       "</style>\n",
       "<table border=\"1\" class=\"dataframe\">\n",
       "  <thead>\n",
       "    <tr style=\"text-align: right;\">\n",
       "      <th></th>\n",
       "      <th>condition_id</th>\n",
       "      <th>condition_name</th>\n",
       "      <th>rare</th>\n",
       "      <th>score</th>\n",
       "    </tr>\n",
       "  </thead>\n",
       "  <tbody>\n",
       "    <tr>\n",
       "      <th>1</th>\n",
       "      <td>MONDO:0006590</td>\n",
       "      <td>palmoplantar keratosis</td>\n",
       "      <td>False</td>\n",
       "      <td>4.684300</td>\n",
       "    </tr>\n",
       "    <tr>\n",
       "      <th>2</th>\n",
       "      <td>MONDO:0006572</td>\n",
       "      <td>lichen planus</td>\n",
       "      <td>False</td>\n",
       "      <td>4.153256</td>\n",
       "    </tr>\n",
       "    <tr>\n",
       "      <th>4</th>\n",
       "      <td>MONDO:0006566</td>\n",
       "      <td>keratosis</td>\n",
       "      <td>False</td>\n",
       "      <td>4.007624</td>\n",
       "    </tr>\n",
       "    <tr>\n",
       "      <th>8</th>\n",
       "      <td>MONDO:0006541</td>\n",
       "      <td>epidermolysis bullosa</td>\n",
       "      <td>False</td>\n",
       "      <td>3.707642</td>\n",
       "    </tr>\n",
       "    <tr>\n",
       "      <th>10</th>\n",
       "      <td>MONDO:0003799</td>\n",
       "      <td>conjunctivitis (disease)</td>\n",
       "      <td>False</td>\n",
       "      <td>3.642809</td>\n",
       "    </tr>\n",
       "  </tbody>\n",
       "</table>\n",
       "</div>"
      ],
      "text/plain": [
       "     condition_id            condition_name   rare     score\n",
       "1   MONDO:0006590    palmoplantar keratosis  False  4.684300\n",
       "2   MONDO:0006572             lichen planus  False  4.153256\n",
       "4   MONDO:0006566                 keratosis  False  4.007624\n",
       "8   MONDO:0006541     epidermolysis bullosa  False  3.707642\n",
       "10  MONDO:0003799  conjunctivitis (disease)  False  3.642809"
      ]
     },
     "metadata": {},
     "output_type": "display_data"
    },
    {
     "name": "stdout",
     "output_type": "stream",
     "text": [
      "Xeroderma_pigmentosum\n"
     ]
    },
    {
     "data": {
      "text/html": [
       "<div>\n",
       "<style>\n",
       "    .dataframe thead tr:only-child th {\n",
       "        text-align: right;\n",
       "    }\n",
       "\n",
       "    .dataframe thead th {\n",
       "        text-align: left;\n",
       "    }\n",
       "\n",
       "    .dataframe tbody tr th {\n",
       "        vertical-align: top;\n",
       "    }\n",
       "</style>\n",
       "<table border=\"1\" class=\"dataframe\">\n",
       "  <thead>\n",
       "    <tr style=\"text-align: right;\">\n",
       "      <th></th>\n",
       "      <th>condition_id</th>\n",
       "      <th>condition_name</th>\n",
       "      <th>rare</th>\n",
       "      <th>score</th>\n",
       "    </tr>\n",
       "  </thead>\n",
       "  <tbody>\n",
       "    <tr>\n",
       "      <th>1</th>\n",
       "      <td>MONDO:0002913</td>\n",
       "      <td>cerebellar neoplasm</td>\n",
       "      <td>False</td>\n",
       "      <td>19.357747</td>\n",
       "    </tr>\n",
       "    <tr>\n",
       "      <th>2</th>\n",
       "      <td>MONDO:0022687</td>\n",
       "      <td>cerebellar degeneration</td>\n",
       "      <td>False</td>\n",
       "      <td>14.301886</td>\n",
       "    </tr>\n",
       "    <tr>\n",
       "      <th>9</th>\n",
       "      <td>MONDO:0015333</td>\n",
       "      <td>progeroid syndrome</td>\n",
       "      <td>False</td>\n",
       "      <td>13.562385</td>\n",
       "    </tr>\n",
       "    <tr>\n",
       "      <th>13</th>\n",
       "      <td>MONDO:0021190</td>\n",
       "      <td>DNA repair disease</td>\n",
       "      <td>False</td>\n",
       "      <td>13.006107</td>\n",
       "    </tr>\n",
       "    <tr>\n",
       "      <th>16</th>\n",
       "      <td>MONDO:0002236</td>\n",
       "      <td>ocular cancer</td>\n",
       "      <td>False</td>\n",
       "      <td>12.447572</td>\n",
       "    </tr>\n",
       "  </tbody>\n",
       "</table>\n",
       "</div>"
      ],
      "text/plain": [
       "     condition_id           condition_name   rare      score\n",
       "1   MONDO:0002913      cerebellar neoplasm  False  19.357747\n",
       "2   MONDO:0022687  cerebellar degeneration  False  14.301886\n",
       "9   MONDO:0015333       progeroid syndrome  False  13.562385\n",
       "13  MONDO:0021190       DNA repair disease  False  13.006107\n",
       "16  MONDO:0002236            ocular cancer  False  12.447572"
      ]
     },
     "metadata": {},
     "output_type": "display_data"
    }
   ],
   "source": [
    "frames = {}\n",
    "for d in answers:\n",
    "    f = parse_answer(answers[d])\n",
    "    frames[d] = f[ f['rare'] == False ]\n",
    "\n",
    "from IPython.display import display\n",
    "for dname, did in rare_diseases:\n",
    "    print(dname)\n",
    "    display(frames[did].head())"
   ]
  },
  {
   "cell_type": "markdown",
   "metadata": {
    "deletable": true,
    "editable": true
   },
   "source": [
    "We can potentially sharpen some of these answers if we allow our searches to include conditions that are similar by both phenotype and biological process.  That is, we want to allow two paths connecting the input to the output, saying that they should be similar phenotypically, but also similar in terms of the processes that create the disease:"
   ]
  },
  {
   "cell_type": "code",
   "execution_count": 29,
   "metadata": {
    "collapsed": true,
    "deletable": true,
    "editable": true
   },
   "outputs": [],
   "source": [
    "def create_complex_question(disease_id):\n",
    "    return {\n",
    "    \"machine_question\": {\n",
    "        \"nodes\": [\n",
    "            {\n",
    "                \"id\": \"n0\",\n",
    "                \"type\": \"disease\",\n",
    "                \"curie\": disease_id\n",
    "            },\n",
    "            {\n",
    "                \"id\": \"n1\",\n",
    "                \"type\": \"phenotypic_feature\",\n",
    "                \"set\": True\n",
    "            },\n",
    "            {\n",
    "                \"id\": \"n2\",\n",
    "                \"type\": \"disease\"\n",
    "            },\n",
    "            {\n",
    "                \"id\": \"n3\",\n",
    "                \"type\": \"biological_process_or_activity\",\n",
    "                \"set\": True\n",
    "            }\n",
    "        ],\n",
    "        \"edges\": [\n",
    "            {\n",
    "                \"id\": \"e0\",\n",
    "                \"source_id\": \"n0\",\n",
    "                \"target_id\": \"n1\"\n",
    "            },\n",
    "            {\n",
    "                \"id\": \"e1\",\n",
    "                \"source_id\": \"n1\",\n",
    "                \"target_id\": \"n2\"\n",
    "            },\n",
    "            {\n",
    "                \"id\": \"e2\",\n",
    "                \"source_id\": \"n0\",\n",
    "                \"target_id\": \"n3\"\n",
    "            },\n",
    "            {\n",
    "                \"id\": \"e3\",\n",
    "                \"source_id\": \"n3\",\n",
    "                \"target_id\": \"n2\"\n",
    "            }\n",
    "        ]\n",
    "    }\n",
    "}"
   ]
  },
  {
   "cell_type": "code",
   "execution_count": 30,
   "metadata": {
    "collapsed": false,
    "deletable": true,
    "editable": true
   },
   "outputs": [
    {
     "name": "stdout",
     "output_type": "stream",
     "text": [
      "http://robokop.renci.org:80/api/simple/quick?max_connectivity=1000\n",
      "Return Status: 200\n",
      "http://robokop.renci.org:80/api/simple/quick?max_connectivity=1000\n",
      "Return Status: 200\n",
      "http://robokop.renci.org:80/api/simple/quick?max_connectivity=1000\n",
      "Return Status: 200\n",
      "http://robokop.renci.org:80/api/simple/quick?max_connectivity=1000\n",
      "Return Status: 200\n"
     ]
    }
   ],
   "source": [
    "answers = {}\n",
    "for name,disease in rare_diseases:\n",
    "    q = create_complex_question(disease)\n",
    "    answers[disease] = quick(q,max_connectivity = 1000)"
   ]
  },
  {
   "cell_type": "code",
   "execution_count": 31,
   "metadata": {
    "collapsed": false,
    "deletable": true,
    "editable": true
   },
   "outputs": [
    {
     "name": "stdout",
     "output_type": "stream",
     "text": [
      "Cockayne syndrome\n"
     ]
    },
    {
     "data": {
      "text/html": [
       "<div>\n",
       "<style>\n",
       "    .dataframe thead tr:only-child th {\n",
       "        text-align: right;\n",
       "    }\n",
       "\n",
       "    .dataframe thead th {\n",
       "        text-align: left;\n",
       "    }\n",
       "\n",
       "    .dataframe tbody tr th {\n",
       "        vertical-align: top;\n",
       "    }\n",
       "</style>\n",
       "<table border=\"1\" class=\"dataframe\">\n",
       "  <thead>\n",
       "    <tr style=\"text-align: right;\">\n",
       "      <th></th>\n",
       "      <th>condition_id</th>\n",
       "      <th>condition_name</th>\n",
       "      <th>rare</th>\n",
       "      <th>score</th>\n",
       "    </tr>\n",
       "  </thead>\n",
       "  <tbody>\n",
       "    <tr>\n",
       "      <th>0</th>\n",
       "      <td>MONDO:0021190</td>\n",
       "      <td>DNA repair disease</td>\n",
       "      <td>False</td>\n",
       "      <td>0</td>\n",
       "    </tr>\n",
       "    <tr>\n",
       "      <th>2</th>\n",
       "      <td>MONDO:0015333</td>\n",
       "      <td>progeroid syndrome</td>\n",
       "      <td>False</td>\n",
       "      <td>0</td>\n",
       "    </tr>\n",
       "  </tbody>\n",
       "</table>\n",
       "</div>"
      ],
      "text/plain": [
       "    condition_id      condition_name   rare  score\n",
       "0  MONDO:0021190  DNA repair disease  False      0\n",
       "2  MONDO:0015333  progeroid syndrome  False      0"
      ]
     },
     "metadata": {},
     "output_type": "display_data"
    },
    {
     "name": "stdout",
     "output_type": "stream",
     "text": [
      "UV_sensitive_syndrome\n"
     ]
    },
    {
     "data": {
      "text/html": [
       "<div>\n",
       "<style>\n",
       "    .dataframe thead tr:only-child th {\n",
       "        text-align: right;\n",
       "    }\n",
       "\n",
       "    .dataframe thead th {\n",
       "        text-align: left;\n",
       "    }\n",
       "\n",
       "    .dataframe tbody tr th {\n",
       "        vertical-align: top;\n",
       "    }\n",
       "</style>\n",
       "<table border=\"1\" class=\"dataframe\">\n",
       "  <thead>\n",
       "    <tr style=\"text-align: right;\">\n",
       "      <th></th>\n",
       "      <th>condition_id</th>\n",
       "      <th>condition_name</th>\n",
       "      <th>rare</th>\n",
       "      <th>score</th>\n",
       "    </tr>\n",
       "  </thead>\n",
       "  <tbody>\n",
       "    <tr>\n",
       "      <th>9</th>\n",
       "      <td>MONDO:0021190</td>\n",
       "      <td>DNA repair disease</td>\n",
       "      <td>False</td>\n",
       "      <td>0</td>\n",
       "    </tr>\n",
       "  </tbody>\n",
       "</table>\n",
       "</div>"
      ],
      "text/plain": [
       "    condition_id      condition_name   rare  score\n",
       "9  MONDO:0021190  DNA repair disease  False      0"
      ]
     },
     "metadata": {},
     "output_type": "display_data"
    },
    {
     "name": "stdout",
     "output_type": "stream",
     "text": [
      "Triciothiodystrophy\n"
     ]
    },
    {
     "data": {
      "text/html": [
       "<div>\n",
       "<style>\n",
       "    .dataframe thead tr:only-child th {\n",
       "        text-align: right;\n",
       "    }\n",
       "\n",
       "    .dataframe thead th {\n",
       "        text-align: left;\n",
       "    }\n",
       "\n",
       "    .dataframe tbody tr th {\n",
       "        vertical-align: top;\n",
       "    }\n",
       "</style>\n",
       "<table border=\"1\" class=\"dataframe\">\n",
       "  <thead>\n",
       "    <tr style=\"text-align: right;\">\n",
       "      <th></th>\n",
       "      <th>condition_id</th>\n",
       "      <th>condition_name</th>\n",
       "      <th>rare</th>\n",
       "      <th>score</th>\n",
       "    </tr>\n",
       "  </thead>\n",
       "  <tbody>\n",
       "    <tr>\n",
       "      <th>5</th>\n",
       "      <td>MONDO:0021190</td>\n",
       "      <td>DNA repair disease</td>\n",
       "      <td>False</td>\n",
       "      <td>0</td>\n",
       "    </tr>\n",
       "  </tbody>\n",
       "</table>\n",
       "</div>"
      ],
      "text/plain": [
       "    condition_id      condition_name   rare  score\n",
       "5  MONDO:0021190  DNA repair disease  False      0"
      ]
     },
     "metadata": {},
     "output_type": "display_data"
    },
    {
     "name": "stdout",
     "output_type": "stream",
     "text": [
      "Xeroderma_pigmentosum\n"
     ]
    },
    {
     "data": {
      "text/html": [
       "<div>\n",
       "<style>\n",
       "    .dataframe thead tr:only-child th {\n",
       "        text-align: right;\n",
       "    }\n",
       "\n",
       "    .dataframe thead th {\n",
       "        text-align: left;\n",
       "    }\n",
       "\n",
       "    .dataframe tbody tr th {\n",
       "        vertical-align: top;\n",
       "    }\n",
       "</style>\n",
       "<table border=\"1\" class=\"dataframe\">\n",
       "  <thead>\n",
       "    <tr style=\"text-align: right;\">\n",
       "      <th></th>\n",
       "      <th>condition_id</th>\n",
       "      <th>condition_name</th>\n",
       "      <th>rare</th>\n",
       "      <th>score</th>\n",
       "    </tr>\n",
       "  </thead>\n",
       "  <tbody>\n",
       "    <tr>\n",
       "      <th>9</th>\n",
       "      <td>MONDO:0021190</td>\n",
       "      <td>DNA repair disease</td>\n",
       "      <td>False</td>\n",
       "      <td>0</td>\n",
       "    </tr>\n",
       "    <tr>\n",
       "      <th>13</th>\n",
       "      <td>MONDO:0015333</td>\n",
       "      <td>progeroid syndrome</td>\n",
       "      <td>False</td>\n",
       "      <td>0</td>\n",
       "    </tr>\n",
       "  </tbody>\n",
       "</table>\n",
       "</div>"
      ],
      "text/plain": [
       "     condition_id      condition_name   rare  score\n",
       "9   MONDO:0021190  DNA repair disease  False      0\n",
       "13  MONDO:0015333  progeroid syndrome  False      0"
      ]
     },
     "metadata": {},
     "output_type": "display_data"
    }
   ],
   "source": [
    "frames = {}\n",
    "for d in answers:\n",
    "    f = parse_answer(answers[d])\n",
    "    frames[d] = f[ f['rare'] == False ]\n",
    "\n",
    "from IPython.display import display\n",
    "for dname, did in rare_diseases:\n",
    "    print(dname)\n",
    "    display(frames[did].head())"
   ]
  },
  {
   "cell_type": "code",
   "execution_count": null,
   "metadata": {
    "collapsed": true,
    "deletable": true,
    "editable": true
   },
   "outputs": [],
   "source": []
  }
 ],
 "metadata": {
  "kernelspec": {
   "display_name": "Python 3",
   "language": "python",
   "name": "python3"
  },
  "language_info": {
   "codemirror_mode": {
    "name": "ipython",
    "version": 3
   },
   "file_extension": ".py",
   "mimetype": "text/x-python",
   "name": "python",
   "nbconvert_exporter": "python",
   "pygments_lexer": "ipython3",
   "version": "3.6.2"
  }
 },
 "nbformat": 4,
 "nbformat_minor": 2
}
