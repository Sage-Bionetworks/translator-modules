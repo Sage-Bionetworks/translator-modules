{
 "cells": [
  {
   "cell_type": "markdown",
   "metadata": {
    "deletable": true,
    "editable": true
   },
   "source": [
    "# Workflow 1, Module 1 (condition similarity)"
   ]
  },
  {
   "cell_type": "markdown",
   "metadata": {
    "deletable": true,
    "editable": true
   },
   "source": [
    "One approach to solving this module is to not define quite so tightly what's going on at the subquestion level in terms of enrichements and archetypes and so on, but simply pass the question to ROBOKOP and let its scoring bring the the best answers to the top.  Here we will use the quick service to start with a disease, find relevant phenotypes, and from there find genetic conditions. The answers will come out ranked by path.\n",
    "\n",
    "For more details, see the \"quick\" notebook in greengamma/general.\n",
    "\n",
    "First, we'll have a quick function that calls the quick service, and some functions for properly creating the question.  Then we'll create the question, run it, and pretty print it for two examples: diabetes and asthma."
   ]
  },
  {
   "cell_type": "code",
   "execution_count": 1,
   "metadata": {
    "collapsed": false,
    "deletable": true,
    "editable": true
   },
   "outputs": [],
   "source": [
    "#Load some functions for calling the quick service and parsing its output\n",
    "\n",
    "import os\n",
    "import sys\n",
    "module_path = os.path.abspath(os.path.join('../../..'))\n",
    "if module_path not in sys.path:\n",
    "    sys.path.append(module_path)\n",
    "from gg_functions import parse_answer, quick"
   ]
  },
  {
   "cell_type": "markdown",
   "metadata": {
    "deletable": true,
    "editable": true
   },
   "source": [
    "The basic machine question created below goes from a disease to a set of phenotypes to a genetic_condition.  Making the phenotypes a set allows there to be many phenotypes that connect the disease to the condition."
   ]
  },
  {
   "cell_type": "code",
   "execution_count": 2,
   "metadata": {
    "collapsed": false,
    "deletable": true,
    "editable": true
   },
   "outputs": [],
   "source": [
    "def create_basic_question(disease_id):\n",
    "    return {\n",
    "    \"machine_question\": {\n",
    "        \"nodes\": [\n",
    "            {\n",
    "                \"id\": \"n0\",\n",
    "                \"type\": \"disease\",\n",
    "                \"curie\": disease_id\n",
    "            },\n",
    "            {\n",
    "                \"id\": \"n1\",\n",
    "                \"type\": \"phenotypic_feature\",\n",
    "                \"set\": True\n",
    "            },\n",
    "            {\n",
    "                \"id\": \"n2\",\n",
    "                \"type\": \"genetic_condition\"\n",
    "            }\n",
    "        ],\n",
    "        \"edges\": [\n",
    "            {\n",
    "                \"id\": \"e0\",\n",
    "                \"source_id\": \"n0\",\n",
    "                \"target_id\": \"n1\"\n",
    "            },\n",
    "            {\n",
    "                \"id\": \"e1\",\n",
    "                \"source_id\": \"n1\",\n",
    "                \"target_id\": \"n2\"\n",
    "            }\n",
    "        ]\n",
    "    }\n",
    "}"
   ]
  },
  {
   "cell_type": "code",
   "execution_count": 3,
   "metadata": {
    "collapsed": true,
    "deletable": true,
    "editable": true
   },
   "outputs": [],
   "source": [
    "diabetes = 'MONDO:0005148' #type 2 diabetes\n",
    "asthma = 'MONDO:0004979' #asthma"
   ]
  },
  {
   "cell_type": "markdown",
   "metadata": {
    "deletable": true,
    "editable": true
   },
   "source": [
    "For both diabetes and asthma, let's make a question of the type above, and run it.  The max_connectivity option sets a maximum degree for a node in the path, and is used to control the amount of time it takes to run and the specificity of the result. 1000 is a decent across the board value."
   ]
  },
  {
   "cell_type": "code",
   "execution_count": 4,
   "metadata": {
    "collapsed": false,
    "deletable": true,
    "editable": true
   },
   "outputs": [
    {
     "name": "stdout",
     "output_type": "stream",
     "text": [
      "Return Status: 200\n"
     ]
    }
   ],
   "source": [
    "diabetes_question = create_basic_question(diabetes)\n",
    "diabetes_answer = quick(diabetes_question,max_connectivity=1000)"
   ]
  },
  {
   "cell_type": "code",
   "execution_count": 5,
   "metadata": {
    "collapsed": false,
    "deletable": true,
    "editable": true
   },
   "outputs": [
    {
     "name": "stdout",
     "output_type": "stream",
     "text": [
      "Return Status: 200\n"
     ]
    }
   ],
   "source": [
    "asthma_question = create_basic_question(asthma)\n",
    "asthma_answer = quick(asthma_question,max_connectivity=1000)"
   ]
  },
  {
   "cell_type": "code",
   "execution_count": 6,
   "metadata": {
    "collapsed": false,
    "deletable": true,
    "editable": true
   },
   "outputs": [
    {
     "data": {
      "text/html": [
       "<div>\n",
       "<style>\n",
       "    .dataframe thead tr:only-child th {\n",
       "        text-align: right;\n",
       "    }\n",
       "\n",
       "    .dataframe thead th {\n",
       "        text-align: left;\n",
       "    }\n",
       "\n",
       "    .dataframe tbody tr th {\n",
       "        vertical-align: top;\n",
       "    }\n",
       "</style>\n",
       "<table border=\"1\" class=\"dataframe\">\n",
       "  <thead>\n",
       "    <tr style=\"text-align: right;\">\n",
       "      <th></th>\n",
       "      <th>n2 - id</th>\n",
       "      <th>n2 - name</th>\n",
       "      <th>score</th>\n",
       "    </tr>\n",
       "  </thead>\n",
       "  <tbody>\n",
       "    <tr>\n",
       "      <th>0</th>\n",
       "      <td>MONDO:0011565</td>\n",
       "      <td>metabolic syndrome X</td>\n",
       "      <td>57.508989</td>\n",
       "    </tr>\n",
       "    <tr>\n",
       "      <th>1</th>\n",
       "      <td>MONDO:0011382</td>\n",
       "      <td>sickle cell anemia</td>\n",
       "      <td>36.194567</td>\n",
       "    </tr>\n",
       "    <tr>\n",
       "      <th>2</th>\n",
       "      <td>MONDO:0009693</td>\n",
       "      <td>multiple myeloma</td>\n",
       "      <td>34.576429</td>\n",
       "    </tr>\n",
       "    <tr>\n",
       "      <th>3</th>\n",
       "      <td>MONDO:0009061</td>\n",
       "      <td>cystic fibrosis</td>\n",
       "      <td>32.139963</td>\n",
       "    </tr>\n",
       "    <tr>\n",
       "      <th>4</th>\n",
       "      <td>MONDO:0002413</td>\n",
       "      <td>glycogen storage disease I</td>\n",
       "      <td>28.325185</td>\n",
       "    </tr>\n",
       "  </tbody>\n",
       "</table>\n",
       "</div>"
      ],
      "text/plain": [
       "        n2 - id                   n2 - name       score\n",
       "0  MONDO:0011565        metabolic syndrome X  57.508989\n",
       "1  MONDO:0011382          sickle cell anemia  36.194567\n",
       "2  MONDO:0009693            multiple myeloma  34.576429\n",
       "3  MONDO:0009061             cystic fibrosis  32.139963\n",
       "4  MONDO:0002413  glycogen storage disease I  28.325185"
      ]
     },
     "execution_count": 6,
     "metadata": {},
     "output_type": "execute_result"
    }
   ],
   "source": [
    "diabetes_frame = parse_answer(diabetes_answer,node_list=['n2'],edge_list=[])\n",
    "diabetes_frame.head()"
   ]
  },
  {
   "cell_type": "markdown",
   "metadata": {
    "deletable": true,
    "editable": true
   },
   "source": [
    "The results that come back make reasonable sense, especially metabolic syndrome X and glucose intolerance.  "
   ]
  },
  {
   "cell_type": "code",
   "execution_count": 7,
   "metadata": {
    "collapsed": false,
    "deletable": true,
    "editable": true,
    "scrolled": true
   },
   "outputs": [
    {
     "data": {
      "text/html": [
       "<div>\n",
       "<style>\n",
       "    .dataframe thead tr:only-child th {\n",
       "        text-align: right;\n",
       "    }\n",
       "\n",
       "    .dataframe thead th {\n",
       "        text-align: left;\n",
       "    }\n",
       "\n",
       "    .dataframe tbody tr th {\n",
       "        vertical-align: top;\n",
       "    }\n",
       "</style>\n",
       "<table border=\"1\" class=\"dataframe\">\n",
       "  <thead>\n",
       "    <tr style=\"text-align: right;\">\n",
       "      <th></th>\n",
       "      <th>n2 - id</th>\n",
       "      <th>n2 - name</th>\n",
       "      <th>score</th>\n",
       "    </tr>\n",
       "  </thead>\n",
       "  <tbody>\n",
       "    <tr>\n",
       "      <th>0</th>\n",
       "      <td>MONDO:0009061</td>\n",
       "      <td>cystic fibrosis</td>\n",
       "      <td>29.826465</td>\n",
       "    </tr>\n",
       "    <tr>\n",
       "      <th>1</th>\n",
       "      <td>MONDO:0015977</td>\n",
       "      <td>agammaglobulinemia</td>\n",
       "      <td>19.849952</td>\n",
       "    </tr>\n",
       "    <tr>\n",
       "      <th>2</th>\n",
       "      <td>MONDO:0011382</td>\n",
       "      <td>sickle cell anemia</td>\n",
       "      <td>19.316353</td>\n",
       "    </tr>\n",
       "    <tr>\n",
       "      <th>3</th>\n",
       "      <td>MONDO:0010086</td>\n",
       "      <td>sudden infant death syndrome</td>\n",
       "      <td>18.861209</td>\n",
       "    </tr>\n",
       "    <tr>\n",
       "      <th>4</th>\n",
       "      <td>MONDO:0007186</td>\n",
       "      <td>gastroesophageal reflux disease</td>\n",
       "      <td>18.840881</td>\n",
       "    </tr>\n",
       "  </tbody>\n",
       "</table>\n",
       "</div>"
      ],
      "text/plain": [
       "        n2 - id                        n2 - name       score\n",
       "0  MONDO:0009061                  cystic fibrosis  29.826465\n",
       "1  MONDO:0015977               agammaglobulinemia  19.849952\n",
       "2  MONDO:0011382               sickle cell anemia  19.316353\n",
       "3  MONDO:0010086     sudden infant death syndrome  18.861209\n",
       "4  MONDO:0007186  gastroesophageal reflux disease  18.840881"
      ]
     },
     "execution_count": 7,
     "metadata": {},
     "output_type": "execute_result"
    }
   ],
   "source": [
    "asthma_frame = parse_answer(asthma_answer,node_list=['n2'],edge_list=[])\n",
    "asthma_frame.head()"
   ]
  },
  {
   "cell_type": "markdown",
   "metadata": {
    "deletable": true,
    "editable": true
   },
   "source": [
    "We can potentially sharpen some of these answers if we allow our searches to include conditions that are similar by both phenotype and biological process.  That is, we want to allow two paths connecting the input to the output, saying that they should be similar phenotypically, but also similar in terms of the processes that create the disease:"
   ]
  },
  {
   "cell_type": "code",
   "execution_count": 8,
   "metadata": {
    "collapsed": true,
    "deletable": true,
    "editable": true
   },
   "outputs": [],
   "source": [
    "def create_complex_question(disease_id,other_type):\n",
    "    return {\n",
    "    \"machine_question\": {\n",
    "        \"nodes\": [\n",
    "            {\n",
    "                \"id\": \"n0\",\n",
    "                \"type\": \"disease\",\n",
    "                \"curie\": disease_id\n",
    "            },\n",
    "            {\n",
    "                \"id\": \"n1\",\n",
    "                \"type\": \"phenotypic_feature\",\n",
    "                \"set\": True\n",
    "            },\n",
    "            {\n",
    "                \"id\": \"n2\",\n",
    "                \"type\": \"genetic_condition\"\n",
    "            },\n",
    "            {\n",
    "                \"id\": \"n3\",\n",
    "                \"type\": other_type,\n",
    "                \"set\": True\n",
    "            }\n",
    "        ],\n",
    "        \"edges\": [\n",
    "            {\n",
    "                \"id\": \"e0\",\n",
    "                \"source_id\": \"n0\",\n",
    "                \"target_id\": \"n1\"\n",
    "            },\n",
    "            {\n",
    "                \"id\": \"e1\",\n",
    "                \"source_id\": \"n1\",\n",
    "                \"target_id\": \"n2\"\n",
    "            },\n",
    "            {\n",
    "                \"id\": \"e2\",\n",
    "                \"source_id\": \"n0\",\n",
    "                \"target_id\": \"n3\"\n",
    "            },\n",
    "            {\n",
    "                \"id\": \"e3\",\n",
    "                \"source_id\": \"n3\",\n",
    "                \"target_id\": \"n2\"\n",
    "            }\n",
    "        ]\n",
    "    }\n",
    "}"
   ]
  },
  {
   "cell_type": "code",
   "execution_count": 15,
   "metadata": {
    "collapsed": false,
    "deletable": true,
    "editable": true
   },
   "outputs": [
    {
     "name": "stdout",
     "output_type": "stream",
     "text": [
      "Return Status: 200\n",
      "Return Status: 200\n"
     ]
    }
   ],
   "source": [
    "two_part_diabetes_question = create_complex_question(diabetes,'biological_process_or_activity')\n",
    "two_part_asthma_question = create_complex_question(asthma,'biological_process_or_activity')\n",
    "two_part_diabetes_answer = quick(two_part_diabetes_question,max_connectivity=1000)\n",
    "two_part_asthma_answer = quick(two_part_asthma_question,max_connectivity=1000)"
   ]
  },
  {
   "cell_type": "code",
   "execution_count": 16,
   "metadata": {
    "collapsed": false,
    "deletable": true,
    "editable": true
   },
   "outputs": [
    {
     "data": {
      "text/html": [
       "<div>\n",
       "<style>\n",
       "    .dataframe thead tr:only-child th {\n",
       "        text-align: right;\n",
       "    }\n",
       "\n",
       "    .dataframe thead th {\n",
       "        text-align: left;\n",
       "    }\n",
       "\n",
       "    .dataframe tbody tr th {\n",
       "        vertical-align: top;\n",
       "    }\n",
       "</style>\n",
       "<table border=\"1\" class=\"dataframe\">\n",
       "  <thead>\n",
       "    <tr style=\"text-align: right;\">\n",
       "      <th></th>\n",
       "      <th>n2 - id</th>\n",
       "      <th>n2 - name</th>\n",
       "      <th>score</th>\n",
       "    </tr>\n",
       "  </thead>\n",
       "  <tbody>\n",
       "    <tr>\n",
       "      <th>0</th>\n",
       "      <td>MONDO:0012819</td>\n",
       "      <td>diabetic ketoacidosis</td>\n",
       "      <td>44.560460</td>\n",
       "    </tr>\n",
       "    <tr>\n",
       "      <th>1</th>\n",
       "      <td>MONDO:0001076</td>\n",
       "      <td>glucose intolerance</td>\n",
       "      <td>30.152026</td>\n",
       "    </tr>\n",
       "    <tr>\n",
       "      <th>2</th>\n",
       "      <td>MONDO:0018150</td>\n",
       "      <td>Gaucher disease</td>\n",
       "      <td>26.379361</td>\n",
       "    </tr>\n",
       "    <tr>\n",
       "      <th>3</th>\n",
       "      <td>MONDO:0002615</td>\n",
       "      <td>xanthomatosis (disease)</td>\n",
       "      <td>23.304314</td>\n",
       "    </tr>\n",
       "    <tr>\n",
       "      <th>4</th>\n",
       "      <td>MONDO:0018105</td>\n",
       "      <td>Wolfram syndrome</td>\n",
       "      <td>22.383431</td>\n",
       "    </tr>\n",
       "  </tbody>\n",
       "</table>\n",
       "</div>"
      ],
      "text/plain": [
       "        n2 - id                n2 - name       score\n",
       "0  MONDO:0012819    diabetic ketoacidosis  44.560460\n",
       "1  MONDO:0001076      glucose intolerance  30.152026\n",
       "2  MONDO:0018150          Gaucher disease  26.379361\n",
       "3  MONDO:0002615  xanthomatosis (disease)  23.304314\n",
       "4  MONDO:0018105         Wolfram syndrome  22.383431"
      ]
     },
     "execution_count": 16,
     "metadata": {},
     "output_type": "execute_result"
    }
   ],
   "source": [
    "diabetes_frame = parse_answer(two_part_diabetes_answer,node_list=['n2'],edge_list=[])\n",
    "diabetes_frame.head()"
   ]
  },
  {
   "cell_type": "code",
   "execution_count": 17,
   "metadata": {
    "collapsed": false,
    "deletable": true,
    "editable": true
   },
   "outputs": [
    {
     "data": {
      "text/html": [
       "<div>\n",
       "<style>\n",
       "    .dataframe thead tr:only-child th {\n",
       "        text-align: right;\n",
       "    }\n",
       "\n",
       "    .dataframe thead th {\n",
       "        text-align: left;\n",
       "    }\n",
       "\n",
       "    .dataframe tbody tr th {\n",
       "        vertical-align: top;\n",
       "    }\n",
       "</style>\n",
       "<table border=\"1\" class=\"dataframe\">\n",
       "  <thead>\n",
       "    <tr style=\"text-align: right;\">\n",
       "      <th></th>\n",
       "    </tr>\n",
       "  </thead>\n",
       "  <tbody>\n",
       "  </tbody>\n",
       "</table>\n",
       "</div>"
      ],
      "text/plain": [
       "Empty DataFrame\n",
       "Columns: []\n",
       "Index: []"
      ]
     },
     "execution_count": 17,
     "metadata": {},
     "output_type": "execute_result"
    }
   ],
   "source": [
    "asthma_frame = parse_answer(two_part_asthma_answer,node_list=['n2'],edge_list=[])\n",
    "asthma_frame.head()"
   ]
  },
  {
   "cell_type": "markdown",
   "metadata": {
    "deletable": true,
    "editable": true
   },
   "source": [
    "For diabetes, we get an improved set of outputs because the conditions are both phenotypically similar to diabetes, but also share some of the biological mechanisms of the diesease.  However, for asthma, we find no results - there are no biological activites associated with asthma in our database, so no connections can be made. \n",
    "\n",
    "Instead of going through biological process, let's go through gene:"
   ]
  },
  {
   "cell_type": "code",
   "execution_count": 18,
   "metadata": {
    "collapsed": false,
    "deletable": true,
    "editable": true
   },
   "outputs": [
    {
     "name": "stdout",
     "output_type": "stream",
     "text": [
      "Return Status: 200\n",
      "Return Status: 200\n"
     ]
    }
   ],
   "source": [
    "two_part_diabetes_question = create_complex_question(diabetes,'gene')\n",
    "two_part_asthma_question = create_complex_question(asthma,'gene')\n",
    "two_part_diabetes_answer = quick(two_part_diabetes_question,max_connectivity=1000)\n",
    "two_part_asthma_answer = quick(two_part_asthma_question,max_connectivity=1000)"
   ]
  },
  {
   "cell_type": "code",
   "execution_count": 19,
   "metadata": {
    "collapsed": false,
    "deletable": true,
    "editable": true
   },
   "outputs": [
    {
     "data": {
      "text/html": [
       "<div>\n",
       "<style>\n",
       "    .dataframe thead tr:only-child th {\n",
       "        text-align: right;\n",
       "    }\n",
       "\n",
       "    .dataframe thead th {\n",
       "        text-align: left;\n",
       "    }\n",
       "\n",
       "    .dataframe tbody tr th {\n",
       "        vertical-align: top;\n",
       "    }\n",
       "</style>\n",
       "<table border=\"1\" class=\"dataframe\">\n",
       "  <thead>\n",
       "    <tr style=\"text-align: right;\">\n",
       "      <th></th>\n",
       "      <th>n2 - id</th>\n",
       "      <th>n2 - name</th>\n",
       "      <th>score</th>\n",
       "    </tr>\n",
       "  </thead>\n",
       "  <tbody>\n",
       "    <tr>\n",
       "      <th>0</th>\n",
       "      <td>MONDO:0011565</td>\n",
       "      <td>metabolic syndrome X</td>\n",
       "      <td>71.561315</td>\n",
       "    </tr>\n",
       "    <tr>\n",
       "      <th>1</th>\n",
       "      <td>MONDO:0011382</td>\n",
       "      <td>sickle cell anemia</td>\n",
       "      <td>41.544386</td>\n",
       "    </tr>\n",
       "    <tr>\n",
       "      <th>2</th>\n",
       "      <td>MONDO:0015967</td>\n",
       "      <td>rare genetic diabetes mellitus</td>\n",
       "      <td>40.386608</td>\n",
       "    </tr>\n",
       "    <tr>\n",
       "      <th>3</th>\n",
       "      <td>MONDO:0009693</td>\n",
       "      <td>multiple myeloma</td>\n",
       "      <td>40.198767</td>\n",
       "    </tr>\n",
       "    <tr>\n",
       "      <th>4</th>\n",
       "      <td>MONDO:0001076</td>\n",
       "      <td>glucose intolerance</td>\n",
       "      <td>36.984862</td>\n",
       "    </tr>\n",
       "  </tbody>\n",
       "</table>\n",
       "</div>"
      ],
      "text/plain": [
       "        n2 - id                       n2 - name       score\n",
       "0  MONDO:0011565            metabolic syndrome X  71.561315\n",
       "1  MONDO:0011382              sickle cell anemia  41.544386\n",
       "2  MONDO:0015967  rare genetic diabetes mellitus  40.386608\n",
       "3  MONDO:0009693                multiple myeloma  40.198767\n",
       "4  MONDO:0001076             glucose intolerance  36.984862"
      ]
     },
     "execution_count": 19,
     "metadata": {},
     "output_type": "execute_result"
    }
   ],
   "source": [
    "diabetes_frame = parse_answer(two_part_diabetes_answer,node_list=['n2'],edge_list=[])\n",
    "diabetes_frame.head()"
   ]
  },
  {
   "cell_type": "code",
   "execution_count": 20,
   "metadata": {
    "collapsed": false,
    "deletable": true,
    "editable": true
   },
   "outputs": [
    {
     "data": {
      "text/html": [
       "<div>\n",
       "<style>\n",
       "    .dataframe thead tr:only-child th {\n",
       "        text-align: right;\n",
       "    }\n",
       "\n",
       "    .dataframe thead th {\n",
       "        text-align: left;\n",
       "    }\n",
       "\n",
       "    .dataframe tbody tr th {\n",
       "        vertical-align: top;\n",
       "    }\n",
       "</style>\n",
       "<table border=\"1\" class=\"dataframe\">\n",
       "  <thead>\n",
       "    <tr style=\"text-align: right;\">\n",
       "      <th></th>\n",
       "      <th>n2 - id</th>\n",
       "      <th>n2 - name</th>\n",
       "      <th>score</th>\n",
       "    </tr>\n",
       "  </thead>\n",
       "  <tbody>\n",
       "    <tr>\n",
       "      <th>0</th>\n",
       "      <td>MONDO:0015977</td>\n",
       "      <td>agammaglobulinemia</td>\n",
       "      <td>34.696751</td>\n",
       "    </tr>\n",
       "    <tr>\n",
       "      <th>1</th>\n",
       "      <td>MONDO:0009061</td>\n",
       "      <td>cystic fibrosis</td>\n",
       "      <td>34.262193</td>\n",
       "    </tr>\n",
       "    <tr>\n",
       "      <th>2</th>\n",
       "      <td>MONDO:0015974</td>\n",
       "      <td>severe combined immunodeficiency (disease)</td>\n",
       "      <td>28.798527</td>\n",
       "    </tr>\n",
       "    <tr>\n",
       "      <th>3</th>\n",
       "      <td>MONDO:0007186</td>\n",
       "      <td>gastroesophageal reflux disease</td>\n",
       "      <td>26.939721</td>\n",
       "    </tr>\n",
       "    <tr>\n",
       "      <th>4</th>\n",
       "      <td>MONDO:0015517</td>\n",
       "      <td>common variable immunodeficiency</td>\n",
       "      <td>24.132471</td>\n",
       "    </tr>\n",
       "  </tbody>\n",
       "</table>\n",
       "</div>"
      ],
      "text/plain": [
       "        n2 - id                                   n2 - name       score\n",
       "0  MONDO:0015977                          agammaglobulinemia  34.696751\n",
       "1  MONDO:0009061                             cystic fibrosis  34.262193\n",
       "2  MONDO:0015974  severe combined immunodeficiency (disease)  28.798527\n",
       "3  MONDO:0007186             gastroesophageal reflux disease  26.939721\n",
       "4  MONDO:0015517            common variable immunodeficiency  24.132471"
      ]
     },
     "execution_count": 20,
     "metadata": {},
     "output_type": "execute_result"
    }
   ],
   "source": [
    "asthma_frame = parse_answer(two_part_asthma_answer,node_list=['n2'],edge_list=[])\n",
    "asthma_frame.head()"
   ]
  }
 ],
 "metadata": {
  "kernelspec": {
   "display_name": "Python 3",
   "language": "python",
   "name": "python3"
  },
  "language_info": {
   "codemirror_mode": {
    "name": "ipython",
    "version": 3
   },
   "file_extension": ".py",
   "mimetype": "text/x-python",
   "name": "python",
   "nbconvert_exporter": "python",
   "pygments_lexer": "ipython3",
   "version": "3.6.2"
  }
 },
 "nbformat": 4,
 "nbformat_minor": 2
}
