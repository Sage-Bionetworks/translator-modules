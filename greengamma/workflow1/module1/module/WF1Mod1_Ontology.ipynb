{
 "cells": [
  {
   "cell_type": "markdown",
   "metadata": {
    "deletable": true,
    "editable": true
   },
   "source": [
    "# Workflow 1, Module 1 (Ontological Approach)"
   ]
  },
  {
   "cell_type": "markdown",
   "metadata": {
    "deletable": true,
    "editable": true
   },
   "source": [
    "One way to look for rare versions of a disease is to go to MONDO and look for descendants of the input disease, and then check those descendants to see if they are rare genetic diseases.  Here, we show how this (and getting the labels) can be accomplished via Green's onto service."
   ]
  },
  {
   "cell_type": "code",
   "execution_count": 1,
   "metadata": {
    "collapsed": true,
    "deletable": true,
    "editable": true
   },
   "outputs": [],
   "source": [
    "diabetes = 'MONDO:0005015'"
   ]
  },
  {
   "cell_type": "code",
   "execution_count": 2,
   "metadata": {
    "collapsed": false,
    "deletable": true,
    "editable": true
   },
   "outputs": [],
   "source": [
    "import requests\n",
    "import pandas as pd\n",
    "\n",
    "robokop_server = 'robokop.renci.org'\n",
    "\n",
    "#These are identifiers signifying that the disease is genetic\n",
    "GENETIC_DISEASE=['MONDO:0021198','DOID:630','EFO:0000508','MONDO:0003847']\n",
    "\n",
    "def get_genetic_versions(disease):\n",
    "    durl=f'https://onto.renci.org/descendants/{disease}'\n",
    "    response = requests.get(durl).json()\n",
    "    genetic_set = set()\n",
    "    for newmondo in response['descendants']:\n",
    "        for gd in GENETIC_DISEASE:\n",
    "            gurl = f'https://onto.renci.org/is_a/{newmondo}/{gd}/'\n",
    "            gresponse = requests.get(gurl).json()\n",
    "            if gresponse['is_a']:\n",
    "                lurl = f'http://onto.renci.org/label/{newmondo}/'\n",
    "                lresponse = requests.get(lurl).json()\n",
    "                label = lresponse['label']\n",
    "                genetic_set.add( (newmondo,label) )\n",
    "    return genetic_set"
   ]
  },
  {
   "cell_type": "code",
   "execution_count": 3,
   "metadata": {
    "collapsed": false,
    "deletable": true,
    "editable": true,
    "scrolled": true
   },
   "outputs": [
    {
     "name": "stdout",
     "output_type": "stream",
     "text": [
      "('MONDO:0012819', 'diabetic ketoacidosis')\n",
      "('MONDO:0009192', 'Wolcott-Rallison syndrome')\n",
      "('MONDO:0010020', 'congenital generalized lipodystrophy type 2')\n",
      "('MONDO:0009419', 'Woodhouse-Sakati syndrome')\n",
      "('MONDO:0011072', 'NIDDM2')\n",
      "('MONDO:0014785', 'microcephaly, short stature, and impaired glucose metabolism 2; MSSGM2')\n",
      "('MONDO:0010773', 'myopathy and diabetes mellitus')\n",
      "('MONDO:0011643', 'permanent neonatal diabetes mellitus')\n",
      "('MONDO:0011273', 'H syndrome')\n",
      "('MONDO:0012480', 'diabetes mellitus, transient neonatal, 2')\n",
      "('MONDO:0011986', 'tropical pancreatitis')\n",
      "('MONDO:0000208', 'microcephaly, short stature, and impaired glucose metabolism')\n",
      "('MONDO:0012818', 'maturity-onset diabetes of the young type 9')\n",
      "('MONDO:0010026', 'short syndrome')\n",
      "('MONDO:0011073', 'diabetes mellitus, transient neonatal, 1')\n",
      "('MONDO:0013240', 'maturity-onset diabetes of the young type 10')\n",
      "('MONDO:0012522', 'diabetes mellitus, transient neonatal, 3')\n",
      "('MONDO:0015308', 'laminopathy type Decaudain-Vigouroux')\n",
      "('MONDO:0016422', 'autoimmune polyendocrinopathy type 3')\n",
      "('MONDO:0014488', 'diabetes mellitus, noninsulin-dependent, 5')\n",
      "('MONDO:0012348', 'maturity-onset diabetes of the young type 8')\n",
      "('MONDO:0009517', 'Donohue syndrome')\n",
      "('MONDO:0010800', 'Wolfram syndrome, mitochondrial form')\n",
      "('MONDO:0010894', 'maturity-onset diabetes of the young type 3')\n",
      "('MONDO:0007455', 'diabetes mellitus, noninsulin-dependent')\n",
      "('MONDO:0013647', 'primary microcephaly-epilepsy-permanent neonatal diabetes syndrome')\n",
      "('MONDO:0012192', 'permanent neonatal diabetes mellitus-pancreatic and cerebellar agenesis syndrome')\n",
      "('MONDO:0018575', 'microcephalic primordial dwarfism-insulin resistance syndrome')\n",
      "('MONDO:0011955', 'diabetes mellitus, noninsulin-dependent, 4')\n",
      "('MONDO:0012923', 'congenital generalized lipodystrophy type 3')\n",
      "('MONDO:0013478', 'PLIN1-related familial partial lipodystrophy')\n",
      "('MONDO:0012513', 'maturity-onset diabetes of the young type 7')\n",
      "('MONDO:0014497', 'polyendocrine-polyneuropathy syndrome')\n",
      "('MONDO:0018581', 'progressive encephalomyelitis with rigidity and myoclonus')\n",
      "('MONDO:0013225', 'congenital generalized lipodystrophy type 4')\n",
      "('MONDO:0008763', 'Alstrom syndrome')\n",
      "('MONDO:0014589', 'maturity-onset diabetes of the young type 13')\n",
      "('MONDO:0015967', 'rare genetic diabetes mellitus')\n",
      "('MONDO:0011502', 'Wolfram syndrome 2')\n",
      "('MONDO:0011668', 'maturity-onset diabetes of the young type 6')\n",
      "('MONDO:0014458', 'Fanconi renotubular syndrome 4 with maturity-onset diabetes of the young')\n",
      "('MONDO:0013242', 'maturity-onset diabetes of the young type 11')\n",
      "('MONDO:0019207', 'DEND syndrome')\n",
      "('MONDO:0020525', 'transient neonatal diabetes mellitus (disease)')\n",
      "('MONDO:0014686', 'short stature, microcephaly, and endocrine dysfunction')\n",
      "('MONDO:0009575', 'thiamine-responsive megaloblastic anemia syndrome')\n",
      "('MONDO:0008812', 'AREDYLD syndrome')\n",
      "('MONDO:0016391', 'neonatal diabetes mellitus')\n",
      "('MONDO:0018883', 'Berardinelli-Seip congenital lipodystrophy')\n",
      "('MONDO:0020569', 'intermediate DEND syndrome')\n",
      "('MONDO:0017230', 'autosomal semi-dominant severe lipodystrophic laminopathy')\n",
      "('MONDO:0007453', 'maturity-onset diabetes of the young type 2')\n",
      "('MONDO:0014674', 'maturity-onset diabetes of the young type 14')\n",
      "('MONDO:0018629', 'focal stiff limb syndrome')\n",
      "('MONDO:0009874', 'Rabson-Mendenhall syndrome')\n",
      "('MONDO:0018320', 'primary microcephaly-mild intellectual disability-young-onset diabetes syndrome')\n",
      "('MONDO:0012520', 'insulin-resistance syndrome type A')\n",
      "('MONDO:0018625', 'classic stiff person syndrome')\n",
      "('MONDO:0014523', 'juvenile-onset diabetes mellitus-central and peripheral neurodegeneration syndrome')\n",
      "('MONDO:0011363', 'diabetes mellitus, noninsulin-dependent, 3')\n",
      "('MONDO:0009101', 'Wolfram syndrome 1')\n",
      "('MONDO:0014991', 'Seckel syndrome 10')\n",
      "('MONDO:0007669', 'renal cysts and diabetes syndrome')\n",
      "('MONDO:0013673', 'Wolfram-like syndrome')\n",
      "('MONDO:0008491', 'stiff-person syndrome')\n",
      "('MONDO:0010785', 'maternally-inherited diabetes and deafness')\n",
      "('MONDO:0010802', 'pancreatic hypoplasia-diabetes-congenital heart disease syndrome')\n",
      "('MONDO:0007452', 'maturity-onset diabetes of the young type 1')\n",
      "('MONDO:0008185', 'hereditary chronic pancreatitis')\n",
      "('MONDO:0018105', 'Wolfram syndrome')\n",
      "('MONDO:0011667', 'maturity-onset diabetes of the young type 4')\n",
      "('MONDO:0011027', 'diabetes mellitus, noninsulin-dependent, 1')\n",
      "('MONDO:0012436', 'neonatal diabetes mellitus with congenital hypothyroidism')\n",
      "('MONDO:0018911', 'maturity-onset diabetes of the young (disease)')\n",
      "('MONDO:0012071', 'congenital generalized lipodystrophy type 1')\n",
      "('MONDO:0008696', 'acanthosis nigricans-insulin resistance-muscle cramps-acral enlargement syndrome')\n"
     ]
    }
   ],
   "source": [
    "genetics = get_genetic_versions(diabetes)\n",
    "for g in genetics:\n",
    "    print(g)"
   ]
  },
  {
   "cell_type": "markdown",
   "metadata": {
    "deletable": true,
    "editable": true
   },
   "source": [
    "If that's too many, you could limit to say, genetic type-2 instead of all diabetes:"
   ]
  },
  {
   "cell_type": "code",
   "execution_count": 4,
   "metadata": {
    "collapsed": false,
    "deletable": true,
    "editable": true
   },
   "outputs": [
    {
     "name": "stdout",
     "output_type": "stream",
     "text": [
      "('MONDO:0012819', 'diabetic ketoacidosis')\n",
      "('MONDO:0011363', 'diabetes mellitus, noninsulin-dependent, 3')\n",
      "('MONDO:0007455', 'diabetes mellitus, noninsulin-dependent')\n",
      "('MONDO:0011072', 'NIDDM2')\n",
      "('MONDO:0014488', 'diabetes mellitus, noninsulin-dependent, 5')\n",
      "('MONDO:0011955', 'diabetes mellitus, noninsulin-dependent, 4')\n",
      "('MONDO:0011027', 'diabetes mellitus, noninsulin-dependent, 1')\n"
     ]
    }
   ],
   "source": [
    "type_2_diabetes='MONDO:0005148'\n",
    "genetic_type2 = get_genetic_versions(type_2_diabetes)\n",
    "for g in genetic_type2:\n",
    "    print(g)"
   ]
  },
  {
   "cell_type": "code",
   "execution_count": 5,
   "metadata": {
    "collapsed": false,
    "deletable": true,
    "editable": true
   },
   "outputs": [
    {
     "name": "stdout",
     "output_type": "stream",
     "text": [
      "('MONDO:0012577', 'asthma-related traits, susceptibility to, 4')\n",
      "('MONDO:0011805', 'asthma-related traits, susceptibility to, 1')\n",
      "('MONDO:0012607', 'asthma-related traits, susceptibility to, 5')\n",
      "('MONDO:0012067', 'asthma-related traits, susceptibility to, 2')\n",
      "('MONDO:0012666', 'asthma-related traits, susceptibility to, 6')\n",
      "('MONDO:0010940', 'inherited susceptibility to asthma')\n",
      "('MONDO:0012771', 'asthma-related traits, susceptibility to, 7')\n",
      "('MONDO:0013180', 'asthma-related traits, susceptibility to, 8')\n",
      "('MONDO:0012379', 'asthma-related traits, susceptibility to, 3')\n"
     ]
    }
   ],
   "source": [
    "asthma = 'MONDO:0004979' #asthma\n",
    "genetic_asthma = get_genetic_versions(asthma)\n",
    "for g in genetic_asthma:\n",
    "    print(g)"
   ]
  },
  {
   "cell_type": "code",
   "execution_count": null,
   "metadata": {
    "collapsed": true,
    "deletable": true,
    "editable": true
   },
   "outputs": [],
   "source": []
  }
 ],
 "metadata": {
  "kernelspec": {
   "display_name": "Python 3",
   "language": "python",
   "name": "python3"
  },
  "language_info": {
   "codemirror_mode": {
    "name": "ipython",
    "version": 3
   },
   "file_extension": ".py",
   "mimetype": "text/x-python",
   "name": "python",
   "nbconvert_exporter": "python",
   "pygments_lexer": "ipython3",
   "version": "3.6.2"
  }
 },
 "nbformat": 4,
 "nbformat_minor": 2
}
