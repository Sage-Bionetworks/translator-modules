{
 "cells": [
  {
   "cell_type": "markdown",
   "metadata": {
    "deletable": true,
    "editable": true
   },
   "source": [
    "# Workflow 1, Module 1 (Ontological Approach)"
   ]
  },
  {
   "cell_type": "markdown",
   "metadata": {
    "deletable": true,
    "editable": true
   },
   "source": [
    "## Common disease Examples"
   ]
  },
  {
   "cell_type": "code",
   "execution_count": 1,
   "metadata": {
    "collapsed": false,
    "deletable": true,
    "editable": true
   },
   "outputs": [],
   "source": [
    "common_diseases = [\n",
    "(\"MONDO:0004979\",\"asthma\"),\n",
    "(\"MONDO:0005578\",\"arthritis\"),\n",
    "(\"MONDO:0002406\",\"dermatitis\"),\n",
    "(\"MONDO:0008383\",\"rheumatoid arthritis\"),\n",
    "(\"MONDO:0005359\",\"drug-induced liver injury\"),\n",
    "(\"MONDO:0006573\",\"lipodystrophy (disease)\"),\n",
    "(\"MONDO:0008226\",\"aggressive periodontitis\"),\n",
    "(\"MONDO:0001627\",\"dementia\"),\n",
    "(\"MONDO:0005265\",\"inflammatory bowel disease\"),\n",
    "(\"MONDO:0005298\",\"osteoporosis\"),\n",
    "(\"MONDO:0006932\",\"pulmonary edema\"),\n",
    "(\"MONDO:0005148\",\"type 2 diabetes mellitus\"),\n",
    "(\"MONDO:0005180\",\"Parkinson disease\"),\n",
    "(\"MONDO:0006658\",\"arteriolosclerosis\"),\n",
    "(\"MONDO:0005090\",\"schizophrenia\"),\n",
    "(\"MONDO:0005152\",\"hypopituitarism\"),\n",
    "(\"MONDO:0001835\",\"facial paralysis\"),\n",
    "(\"MONDO:0001824\",\"polyneuropathy\"),\n",
    "(\"MONDO:0005301\",\"multiple sclerosis\"),\n",
    "(\"MONDO:0006644\",\"alcoholic liver cirrhosis\")\n",
    "]\n"
   ]
  },
  {
   "cell_type": "code",
   "execution_count": 4,
   "metadata": {
    "collapsed": false,
    "deletable": true,
    "editable": true
   },
   "outputs": [],
   "source": [
    "import requests\n",
    "import pandas as pd\n",
    "\n",
    "robokop_server = 'robokop.renci.org'\n",
    "\n",
    "#These are identifiers signifying that the disease is genetic\n",
    "GENETIC_DISEASE=['MONDO:0021198','DOID:630','EFO:0000508','MONDO:0003847']\n",
    "\n",
    "def get_genetic_versions(disease):\n",
    "    durl=f'https://onto.renci.org/descendants/{disease}'\n",
    "    response = requests.get(durl).json()\n",
    "    genetic_set = set()\n",
    "    for newmondo in response['descendants']:\n",
    "        for gd in GENETIC_DISEASE:\n",
    "            gurl = f'https://onto.renci.org/is_a/{newmondo}/{gd}/'\n",
    "            gresponse = requests.get(gurl).json()\n",
    "            if gresponse['is_a']:\n",
    "                lurl = f'http://onto.renci.org/label/{newmondo}/'\n",
    "                lresponse = requests.get(lurl).json()\n",
    "                label = lresponse['label']\n",
    "                genetic_set.add( (newmondo,label) )\n",
    "    return genetic_set"
   ]
  },
  {
   "cell_type": "code",
   "execution_count": 6,
   "metadata": {
    "collapsed": false,
    "deletable": true,
    "editable": true
   },
   "outputs": [
    {
     "data": {
      "text/html": [
       "<h3>asthma</h3>"
      ],
      "text/plain": [
       "<IPython.core.display.HTML object>"
      ]
     },
     "metadata": {},
     "output_type": "display_data"
    },
    {
     "name": "stdout",
     "output_type": "stream",
     "text": [
      "('MONDO:0012771', 'asthma-related traits, susceptibility to, 7')\n",
      "('MONDO:0012067', 'asthma-related traits, susceptibility to, 2')\n",
      "('MONDO:0013180', 'asthma-related traits, susceptibility to, 8')\n",
      "('MONDO:0010940', 'inherited susceptibility to asthma')\n",
      "('MONDO:0012577', 'asthma-related traits, susceptibility to, 4')\n",
      "('MONDO:0012607', 'asthma-related traits, susceptibility to, 5')\n",
      "('MONDO:0011805', 'asthma-related traits, susceptibility to, 1')\n",
      "('MONDO:0012379', 'asthma-related traits, susceptibility to, 3')\n",
      "('MONDO:0012666', 'asthma-related traits, susceptibility to, 6')\n"
     ]
    },
    {
     "data": {
      "text/html": [
       "<h3>arthritis</h3>"
      ],
      "text/plain": [
       "<IPython.core.display.HTML object>"
      ]
     },
     "metadata": {},
     "output_type": "display_data"
    },
    {
     "name": "stdout",
     "output_type": "stream",
     "text": [
      "('MONDO:0010917', 'CCAL1')\n",
      "('MONDO:0007319', 'familial calcium pyrophosphate deposition')\n"
     ]
    },
    {
     "data": {
      "text/html": [
       "<h3>dermatitis</h3>"
      ],
      "text/plain": [
       "<IPython.core.display.HTML object>"
      ]
     },
     "metadata": {},
     "output_type": "display_data"
    },
    {
     "name": "stdout",
     "output_type": "stream",
     "text": [
      "('MONDO:0011597', 'atopic dermatitis 3')\n",
      "('MONDO:0007447', 'autosomal dominant vibratory urticaria')\n",
      "('MONDO:0006491', 'vulvar lichen sclerosus')\n",
      "('MONDO:0012526', 'hereditary angioedema type 3')\n",
      "('MONDO:0007969', 'Melkersson-Rosenthal syndrome')\n",
      "('MONDO:0011598', 'atopic dermatitis 4')\n",
      "('MONDO:0013294', 'atopic dermatitis 8')\n",
      "('MONDO:0007817', 'IgE responsiveness, atopic')\n",
      "('MONDO:0015053', 'hereditary angioedema type 1')\n",
      "('MONDO:0013107', 'atopic dermatitis 7')\n",
      "('MONDO:0007899', 'lichen sclerosus et atrophicus')\n",
      "('MONDO:0013295', 'atopic dermatitis 9')\n",
      "('MONDO:0011608', 'atopic dermatitis 5')\n",
      "('MONDO:0011609', 'atopic dermatitis 6')\n",
      "('MONDO:0008634', 'urticaria, familial localized heat')\n",
      "('MONDO:0008218', 'Hailey-Hailey disease')\n",
      "('MONDO:0008296', 'familial porphyria cutanea tarda')\n",
      "('MONDO:0007446', 'dermatosis papulosa nigra')\n",
      "('MONDO:0000136', 'keratosis follicularis spinulosa decalvans')\n",
      "('MONDO:0019623', 'hereditary angioedema')\n",
      "('MONDO:0007117', 'angioedema, hereditary, type 1/2')\n",
      "('MONDO:0008632', 'urticaria, aquagenic')\n",
      "('MONDO:0011024', 'dermatitis herpetiformis, familial')\n",
      "('MONDO:0017384', 'acute generalized exanthematous pustulosis')\n",
      "('MONDO:0013766', 'familial cold autoinflammatory syndrome 3')\n",
      "('MONDO:0007902', 'lichen planus, familial')\n",
      "('MONDO:0011371', 'hydroa vacciniforme, familial')\n",
      "('MONDO:0011292', 'dermatitis, atopic')\n",
      "('MONDO:0043003', 'familial acanthosis nigricans')\n",
      "('MONDO:0008657', 'vibratory angioedema')\n",
      "('MONDO:0011596', 'atopic dermatitis 2')\n",
      "('MONDO:0008696', 'acanthosis nigricans-insulin resistance-muscle cramps-acral enlargement syndrome')\n",
      "('MONDO:0011438', 'acne (disease)')\n",
      "('MONDO:0015340', 'drug rash with eosinophilia and systemic symptoms')\n",
      "('MONDO:0013018', 'keratosis follicularis spinulosa decalvans, autosomal dominant')\n",
      "('MONDO:0010637', 'keratosis follicularis spinulosa decalvans, X-linked')\n",
      "('MONDO:0015054', 'hereditary angioedema type 2')\n"
     ]
    },
    {
     "data": {
      "text/html": [
       "<h3>rheumatoid arthritis</h3>"
      ],
      "text/plain": [
       "<IPython.core.display.HTML object>"
      ]
     },
     "metadata": {},
     "output_type": "display_data"
    },
    {
     "data": {
      "text/html": [
       "<h3>drug-induced liver injury</h3>"
      ],
      "text/plain": [
       "<IPython.core.display.HTML object>"
      ]
     },
     "metadata": {},
     "output_type": "display_data"
    },
    {
     "data": {
      "text/html": [
       "<h3>lipodystrophy (disease)</h3>"
      ],
      "text/plain": [
       "<IPython.core.display.HTML object>"
      ]
     },
     "metadata": {},
     "output_type": "display_data"
    },
    {
     "name": "stdout",
     "output_type": "stream",
     "text": [
      "('MONDO:0013478', 'PLIN1-related familial partial lipodystrophy')\n",
      "('MONDO:0007906', 'familial partial lipodystrophy, Dunnigan type')\n",
      "('MONDO:0019192', 'AKT2-related familial partial lipodystrophy')\n",
      "('MONDO:0011976', 'lipodystrophy-intellectual disability-deafness syndrome')\n",
      "('MONDO:0012071', 'congenital generalized lipodystrophy type 1')\n",
      "('MONDO:0009312', 'lipodystrophy due to peptidic growth factors deficiency')\n",
      "('MONDO:0014098', 'CIDEC-related familial partial lipodystrophy')\n",
      "('MONDO:0015493', 'lipoatrophy with diabetes, leukomelanodermic papules, liver steatosis, and hypertrophic cardiomyopathy')\n",
      "('MONDO:0014431', 'LIPE-related familial partial lipodystrophy')\n",
      "('MONDO:0012923', 'congenital generalized lipodystrophy type 3')\n",
      "('MONDO:0013225', 'congenital generalized lipodystrophy type 4')\n",
      "('MONDO:0017230', 'autosomal semi-dominant severe lipodystrophic laminopathy')\n",
      "('MONDO:0013572', 'Keppen-Lubinsky syndrome')\n",
      "('MONDO:0016584', 'mandibuloacral dysplasia')\n",
      "('MONDO:0014402', 'severe neurodegenerative syndrome with lipodystrophy')\n",
      "('MONDO:0018883', 'Berardinelli-Seip congenital lipodystrophy')\n",
      "('MONDO:0009910', 'Wiedemann-Rautenstrauch syndrome')\n",
      "('MONDO:0020088', 'familial partial lipodystrophy')\n",
      "('MONDO:0006536', 'congenital generalized lipodystrophy (disease)')\n",
      "('MONDO:0020087', 'genetic lipodystrophy')\n",
      "('MONDO:0012074', 'mandibuloacral dysplasia with type B lipodystrophy')\n",
      "('MONDO:0011448', 'PPARG-related familial partial lipodystrophy')\n",
      "('MONDO:0009557', 'mandibuloacral dysplasia with type A lipodystrophy')\n",
      "('MONDO:0019555', 'panniculitis and localized lipodystrophy')\n",
      "('MONDO:0010020', 'congenital generalized lipodystrophy type 2')\n",
      "('MONDO:0010026', 'short syndrome')\n",
      "('MONDO:0012072', 'familial partial lipodystrophy, Kobberling type')\n"
     ]
    },
    {
     "data": {
      "text/html": [
       "<h3>aggressive periodontitis</h3>"
      ],
      "text/plain": [
       "<IPython.core.display.HTML object>"
      ]
     },
     "metadata": {},
     "output_type": "display_data"
    },
    {
     "name": "stdout",
     "output_type": "stream",
     "text": [
      "('MONDO:0012051', 'periodontitis, aggressive, 2')\n"
     ]
    },
    {
     "data": {
      "text/html": [
       "<h3>dementia</h3>"
      ],
      "text/plain": [
       "<IPython.core.display.HTML object>"
      ]
     },
     "metadata": {},
     "output_type": "display_data"
    },
    {
     "name": "stdout",
     "output_type": "stream",
     "text": [
      "('MONDO:0019037', 'progressive supranuclear palsy')\n",
      "('MONDO:0012694', 'Joubert syndrome 7')\n",
      "('MONDO:0008979', 'chorea, benign familial')\n",
      "('MONDO:0009267', 'Gaucher disease type III')\n",
      "('MONDO:0014503', 'autosomal recessive spinocerebellar ataxia 17')\n",
      "('MONDO:0010213', 'xeroderma pigmentosum group E')\n",
      "('MONDO:0011819', 'spinocerebellar ataxia type 19/22')\n",
      "('MONDO:0010210', 'xeroderma pigmentosum group A')\n",
      "('MONDO:0000914', 'CADASIL 1')\n",
      "('MONDO:0014290', 'neurodegeneration with brain iron accumulation 6')\n",
      "('MONDO:0014311', 'autosomal recessive spinocerebellar ataxia 15')\n",
      "('MONDO:0013188', 'cerebellar ataxia, mental retardation, and dysequilibrium syndrome 3')\n",
      "('MONDO:0007098', 'ACys amyloidosis')\n",
      "('MONDO:0007297', 'ADan amyloidosis')\n",
      "('MONDO:0014004', 'basal ganglia calcification, idiopathic, 4')\n",
      "('MONDO:0011540', 'spinocerebellar ataxia type 14')\n",
      "('MONDO:0033479', 'spinocerebellar ataxia 44')\n",
      "('MONDO:0021037', 'genetic neurodegenerative disease with dementia')\n",
      "('MONDO:0014628', 'basal ganglia calcification, idiopathic, 6')\n",
      "('MONDO:0007105', 'frontotemporal dementia with motor neuron disease 1')\n",
      "('MONDO:0013945', 'peroxisome biogenesis disorder 9B')\n",
      "('MONDO:0021011', 'hereditary progressive chorea without dementia')\n",
      "('MONDO:0011873', 'Niemann-Pick disease, type C2')\n",
      "('MONDO:0010857', 'semantic dementia')\n",
      "('MONDO:0010176', 'Joubert syndrome with orofaciodigital defect')\n",
      "('MONDO:0008695', 'chorea-acanthocytosis')\n",
      "('MONDO:0011811', 'autosomal recessive cerebellar ataxia-saccadic intrusion syndrome')\n",
      "('MONDO:0033310', 'Joubert syndrome 31')\n",
      "('MONDO:0012631', 'Alzheimer disease 14')\n",
      "('MONDO:0017723', 'Sandhoff disease, adult form')\n",
      "('MONDO:0011583', 'cerebral amyloid angiopathy, APP-related')\n",
      "('MONDO:0014104', 'cerebellar ataxia, mental retardation, and dysequilibrium syndrome 4')\n",
      "('MONDO:0012246', 'spinocerebellar ataxia type 26')\n",
      "('MONDO:0015369', 'Joubert syndrome and related disorders')\n",
      "('MONDO:0019174', 'infantile Refsum disease')\n",
      "('MONDO:0019262', 'juvenile neuronal ceroid lipofuscinosis')\n",
      "('MONDO:0016614', 'autosomal recessive ataxia due to PEX10 deficiency')\n",
      "('MONDO:0012764', 'RIDDLE syndrome')\n",
      "('MONDO:0017809', 'parkinsonism due to ATP13A2 deficiency')\n",
      "('MONDO:0018696', 'corticobasal syndrome')\n",
      "('MONDO:0016354', 'xeroderma pigmentosum-Cockayne syndrome complex')\n",
      "('MONDO:0012855', 'Joubert syndrome 8')\n",
      "('MONDO:0012321', 'Alzheimer disease 10')\n",
      "('MONDO:0013931', 'peroxisome biogenesis disorder 4B')\n",
      "('MONDO:0012849', 'Joubert syndrome 9')\n",
      "('MONDO:0008120', 'spinocerebellar ataxia type 7')\n",
      "('MONDO:0017399', 'frontotemporal dementia, right temporal atrophy variant')\n",
      "('MONDO:0014417', 'spinocerebellar ataxia type 38')\n",
      "('MONDO:0011623', 'spinocerebellar ataxia, autosomal recessive 1')\n",
      "('MONDO:0014724', 'Joubert syndrome 24')\n",
      "('MONDO:0008938', 'early-onset cerebellar ataxia with retained tendon reflexes')\n",
      "('MONDO:0024563', 'herpes simplex encephalitis, susceptibility to, 1')\n",
      "('MONDO:0014557', 'ataxia-oculomotor apraxia type 4')\n",
      "('MONDO:0019793', 'autosomal dominant cerebellar ataxia type III')\n",
      "('MONDO:0013354', 'spastic ataxia 4')\n",
      "('MONDO:0009266', 'Gaucher disease type II')\n",
      "('MONDO:0000712', 'FTDALS')\n",
      "('MONDO:0033481', 'spinocerebellar ataxia 46')\n",
      "('MONDO:0007403', 'inherited Creutzfeldt-Jakob disease')\n",
      "('MONDO:0015140', 'early-onset autosomal dominant Alzheimer disease')\n",
      "('MONDO:0014626', 'spinocerebellar ataxia type 41')\n",
      "('MONDO:0012177', 'posterior column ataxia-retinitis pigmentosa syndrome')\n",
      "('MONDO:0019374', 'CAMOS syndrome')\n",
      "('MONDO:0011175', 'FRDA2')\n",
      "('MONDO:0014572', 'Lichtenstein-Knorr syndrome')\n",
      "('MONDO:0008841', 'ataxia-telangiectasia with generalized skin pigmentation and early death')\n",
      "('MONDO:0018425', 'Huntington disease-like syndrome due to C9ORF72 expansions')\n",
      "('MONDO:0013764', 'Joubert syndrome 16')\n",
      "('MONDO:0011327', 'neuronal intranuclear inclusion disease')\n",
      "('MONDO:0007435', 'dentatorubral-pallidoluysian atrophy')\n",
      "('MONDO:0009757', 'Niemann-Pick disease, type C1')\n",
      "('MONDO:0008996', 'Joubert syndrome with hepatic defect')\n",
      "('MONDO:0017949', 'ABeta amyloidosis, Arctic type')\n",
      "('MONDO:0009744', 'neuronal ceroid lipofuscinosis 1')\n",
      "('MONDO:0009567', 'Marinesco-Sjogren syndrome')\n",
      "('MONDO:0007324', 'chorea')\n",
      "('MONDO:0010848', 'spinocerebellar ataxia type 5')\n",
      "('MONDO:0017174', 'Machado-Joseph disease type 1')\n",
      "('MONDO:0020140', 'late-onset ataxia with dementia')\n",
      "('MONDO:0012444', 'neurodegeneration with brain iron accumulation 2B')\n",
      "('MONDO:0014680', 'herpes simplex encephalitis, susceptibility to, 7')\n",
      "('MONDO:0015547', 'genetic dementia')\n",
      "('MONDO:0013886', 'nonprogressive cerebellar atxia with mental retardation')\n",
      "('MONDO:0010065', 'spinocerebellar degeneration with slow eye movements')\n",
      "('MONDO:0009419', 'Woodhouse-Sakati syndrome')\n",
      "('MONDO:0017948', 'ABetaA21G amyloidosis')\n",
      "('MONDO:0012344', 'Alzheimer disease 11')\n",
      "('MONDO:0017276', 'frontotemporal dementia')\n",
      "('MONDO:0018996', 'spinocerebellar ataxia with axonal neuropathy type 2')\n",
      "('MONDO:0033116', 'spinocerebellar ataxia, autosomal recessive 26')\n",
      "('MONDO:0013674', 'neurodegeneration with brain iron accumulation 4')\n",
      "('MONDO:0011706', 'Kufor-Rakeb syndrome')\n",
      "('MONDO:0008948', 'cerebrotendinous xanthomatosis')\n",
      "('MONDO:0008457', 'spinocerebellar ataxia type 6')\n",
      "('MONDO:0013937', 'peroxisome biogenesis disorder 6B')\n",
      "('MONDO:0007296', 'spinocerebellar ataxia type 31')\n",
      "('MONDO:0020143', 'cerebral lipidosis with dementia')\n",
      "('MONDO:0014297', 'Joubert syndrome 22')\n",
      "('MONDO:0017721', 'Sandhoff disease, infantile form')\n",
      "('MONDO:0013763', 'Joubert syndrome 15')\n",
      "('MONDO:0013824', 'Joubert syndrome 17')\n",
      "('MONDO:0009480', 'Joubert syndrome with oculorenal defect')\n",
      "('MONDO:0024557', 'ataxia-telangiectasia-like disorder 1')\n",
      "('MONDO:0007165', 'spastic ataxia 7')\n",
      "('MONDO:0007088', 'Alzheimer disease type 1')\n",
      "('MONDO:0020043', 'autosomal recessive congenital cerebellar ataxia')\n",
      "('MONDO:0011963', 'Joubert syndrome 2')\n",
      "('MONDO:0012430', 'cerebellar ataxia, mental retardation, and dysequilibrium syndrome 2')\n",
      "('MONDO:0010041', 'Charlevoix-Saguenay spastic ataxia')\n",
      "('MONDO:0013584', 'hereditary sensory neuropathy-deafness-dementia syndrome')\n",
      "('MONDO:0008178', 'inclusion body myopathy with Paget disease of bone and frontotemporal dementia type 1')\n",
      "('MONDO:0011464', 'spinocerebellar ataxia type 11')\n",
      "('MONDO:0008956', 'congenital neuronal ceroid lipofuscinosis')\n",
      "('MONDO:0010431', 'Joubert syndrome 10')\n",
      "('MONDO:0008842', 'ataxia with oculomotor apraxia type 1')\n",
      "('MONDO:0019794', 'autosomal dominant cerebellar ataxia type IV')\n",
      "('MONDO:0018945', 'McLeod neuroacanthocytosis syndrome')\n",
      "('MONDO:0024542', 'cerebellar ataxia, mental retardation, and dysequilibrium syndrome 1')\n",
      "('MONDO:0011913', 'Alzheimer disease 3')\n",
      "('MONDO:0018899', 'posterior cortical atrophy')\n",
      "('MONDO:0012651', 'spastic ataxia 2')\n",
      "('MONDO:0017175', 'Machado-Joseph disease type 2')\n",
      "('MONDO:0014641', 'FTDALS4')\n",
      "('MONDO:0018129', 'autosomal recessive cerebellar ataxia with late-onset spasticity')\n",
      "('MONDO:0011950', 'infantile-onset autosomal recessive nonprogressive cerebellar ataxia')\n",
      "('MONDO:0054763', 'neurodegeneration with brain iron accumulation 7')\n",
      "('MONDO:0044332', 'childhood-onset benign chorea with striatal involvement')\n",
      "('MONDO:0015244', 'autosomal recessive cerebellar ataxia')\n",
      "('MONDO:0016091', 'adult Krabbe disease')\n",
      "('MONDO:0014771', 'Joubert syndrome 26')\n",
      "('MONDO:0016564', 'progressive supranuclear palsy-progressive non-fluent aphasia syndrome')\n",
      "('MONDO:0011671', 'Huntington disease-like 2')\n",
      "('MONDO:0014399', 'PCNA-related progressive neurodegenerative photosensitivy syndrome')\n",
      "('MONDO:0008306', 'ABri amyloidosis')\n",
      "('MONDO:0010211', 'xeroderma pigmentosum group C')\n",
      "('MONDO:0014768', 'cerebral arteriopathy, autosomal dominant, with subcortical infarcts and leukoencephalopathy, type 2')\n",
      "('MONDO:0012450', 'spinocerebellar ataxia type 28')\n",
      "('MONDO:0008768', 'neuronal ceroid lipofuscinosis 4A')\n",
      "('MONDO:0033308', 'Joubert syndrome 30')\n",
      "('MONDO:0019261', 'infantile neuronal ceroid lipofuscinosis')\n",
      "('MONDO:0014475', 'spinocerebellar ataxia type 40')\n",
      "('MONDO:0010830', 'neuronal ceroid lipofuscinosis 8')\n",
      "('MONDO:0011529', 'spinocerebellar ataxia type 13')\n",
      "('MONDO:0013866', 'neuronal ceroid lipofuscinosis 11')\n",
      "('MONDO:0007089', 'Alzheimer disease 2')\n",
      "('MONDO:0018982', 'Niemann-Pick disease type C')\n",
      "('MONDO:0016163', 'autosomal dominant cerebellar ataxia type II')\n",
      "('MONDO:0010006', 'Sandhoff disease')\n",
      "('MONDO:0000563', 'GRID2-related autosomal dominant spinocerebellar ataxia')\n",
      "('MONDO:0010847', 'spinocerebellar ataxia type 4')\n",
      "('MONDO:0042965', 'Machado-Joseph disease type 5')\n",
      "('MONDO:0007298', 'spinocerebellar ataxia type 29')\n",
      "('MONDO:0008840', 'ataxia telangiectasia')\n",
      "('MONDO:0054764', 'neurodegeneration with brain iron accumulation 8')\n",
      "('MONDO:0017161', 'frontotemporal dementia with motor neuron disease')\n",
      "('MONDO:0013645', 'autosomal recessive spinocerebellar ataxia 11')\n",
      "('MONDO:0011038', 'cerebellar ataxia-areflexia-pes cavus-optic atrophy-sensorineural hearing loss syndrome')\n",
      "('MONDO:0042964', 'Machado-Joseph disease type 4')\n",
      "('MONDO:0018544', 'X-linked adrenoleukodystrophy')\n",
      "('MONDO:0012449', 'spinocerebellar ataxia type 23')\n",
      "('MONDO:0013896', 'Joubert syndrome 18')\n",
      "('MONDO:0012630', 'Alzheimer disease 13')\n",
      "('MONDO:0017945', 'ABetaL34V amyloidosis')\n",
      "('MONDO:0044651', 'early-onset progressive encephalopathy-spastic ataxia-distal spinal muscular atrophy syndrome')\n",
      "('MONDO:0013486', 'spinocerebellar ataxia type 32')\n",
      "('MONDO:0016159', 'Gemignani syndrome')\n",
      "('MONDO:0015059', 'progressive non-fluent aphasia')\n",
      "('MONDO:0013392', 'autosomal recessive spinocerebellar ataxia 10')\n",
      "('MONDO:0013950', 'peroxisome biogenesis disorder 11B')\n",
      "('MONDO:0011781', 'spinocerebellar ataxia type 17')\n",
      "('MONDO:0017729', 'metachromatic leukodystrophy, late infantile form')\n",
      "('MONDO:0017946', 'ABeta amyloidosis, Iowa type')\n",
      "('MONDO:0013241', 'spinocerebellar ataxia type 30')\n",
      "('MONDO:0012632', 'Alzheimer disease 15')\n",
      "('MONDO:0013745', 'Joubert syndrome 14')\n",
      "('MONDO:0016305', 'atypical pantothenate kinase-associated neurodegeneration')\n",
      "('MONDO:0009366', 'normal pressure hydrocephalus')\n",
      "('MONDO:0009958', 'adult Refsum disease')\n",
      "('MONDO:0011513', 'Alzheimer disease, familial early-onset, with Coexisting amyloid and prion pathology')\n",
      "('MONDO:0020380', 'autosomal dominant cerebellar ataxia')\n",
      "('MONDO:0010247', 'X-linked cerebral adrenoleukodystrophy')\n",
      "('MONDO:0016304', 'classic pantothenate kinase-associated neurodegeneration')\n",
      "('MONDO:0009959', 'peroxisome biogenesis disorder type 3B')\n",
      "('MONDO:0033115', 'spinocerebellar ataxia, autosomal recessive 25')\n",
      "('MONDO:0011439', 'spinocerebellar ataxia type 12')\n",
      "('MONDO:0043181', 'refsum disease with increased pipecolic acidemia')\n",
      "('MONDO:0014927', 'Joubert syndrome 27')\n",
      "('MONDO:0008943', 'autosomal recessive spinocerebellar ataxia 2')\n",
      "('MONDO:0018446', 'autosomal recessive cerebellar ataxia-epilepsy-intellectual disability syndrome')\n",
      "('MONDO:0015548', 'Huntington disease-like syndrome')\n",
      "('MONDO:0013687', 'autosomal recessive spinocerebellar ataxia 12')\n",
      "('MONDO:0009590', 'metachromatic leukodystrophy due to saposin b deficiency')\n",
      "('MONDO:0015033', 'ABeta amyloidosis, dutch type')\n",
      "('MONDO:0007656', 'Gerstmann-Straussler-Scheinker syndrome')\n",
      "('MONDO:0013776', 'spastic ataxia 5')\n",
      "('MONDO:0008769', 'neuronal ceroid lipofuscinosis 2')\n",
      "('MONDO:0017998', 'PLA2G6-associated neurodegeneration')\n",
      "('MONDO:0013485', 'spinocerebellar ataxia type 35')\n",
      "('MONDO:0017234', 'inherited prion disease')\n",
      "('MONDO:0012531', 'xeroderma pigmentosum group B')\n",
      "('MONDO:0013594', 'spinocerebellar ataxia type 36')\n",
      "('MONDO:0016309', 'Niemann-Pick disease type C, juvenile neurologic onset')\n",
      "('MONDO:0019792', 'autosomal dominant cerebellar ataxia type I')\n",
      "('MONDO:0012247', 'spinocerebellar ataxia type 27')\n",
      "('MONDO:0018307', 'neurodegeneration with brain iron accumulation')\n",
      "('MONDO:0017160', 'behavioral variant of frontotemporal dementia')\n",
      "('MONDO:0020488', 'atypical progressive supranuclear palsy syndrome')\n",
      "('MONDO:0009319', 'pantothenate kinase-associated neurodegeneration')\n",
      "('MONDO:0014776', 'spinocerebellar ataxia type 42')\n",
      "('MONDO:0017947', 'ABeta amyloidosis, Italian type')\n",
      "('MONDO:0012078', 'Joubert syndrome 3')\n",
      "('MONDO:0014932', 'orofaciodigital syndrome XV')\n",
      "('MONDO:0016306', 'Niemann-Pick disease type C, severe perinatal form')\n",
      "('MONDO:0012153', 'AD9')\n",
      "('MONDO:0018772', 'Joubert syndrome')\n",
      "('MONDO:0024538', 'basal ganglia calcification, idiopathic, 1')\n",
      "('MONDO:0008119', 'spinocerebellar ataxia type 1')\n",
      "('MONDO:0011402', 'congenital cataracts-facial dysmorphism-neuropathy syndrome')\n",
      "('MONDO:0014179', 'inclusion body myopathy with early-onset Paget disease with or without frontotemporal dementia 3')\n",
      "('MONDO:0010215', 'xeroderma pigmentosum group F')\n",
      "('MONDO:0012609', 'Alzheimer disease 12')\n",
      "('MONDO:0012664', 'spastic ataxia 3')\n",
      "('MONDO:0014601', 'autosomal recessive spinocerebellar ataxia 20')\n",
      "('MONDO:0014867', 'spinocerebellar ataxia 43; SCA43')\n",
      "('MONDO:0008944', 'Joubert syndrome 1')\n",
      "('MONDO:0010061', 'autosomal recessive cerebellar ataxia-blindness-deafness syndrome')\n",
      "('MONDO:0014770', 'Joubert syndrome 25')\n",
      "('MONDO:0044720', 'cerebellar ataxia with neuropathy and bilateral vestibular areflexia syndrome')\n",
      "('MONDO:0016364', 'Joubert syndrome with ocular defect')\n",
      "('MONDO:0011330', 'spinocerebellar ataxia type 10')\n",
      "('MONDO:0010100', 'Tay-Sachs disease')\n",
      "('MONDO:0016987', 'neuroacanthocytosis')\n",
      "('MONDO:0020046', 'autosomal recessive degenerative and progressive cerebellar ataxia')\n",
      "('MONDO:0010997', 'classic progressive supranuclear palsy syndrome')\n",
      "('MONDO:0010808', 'fatal familial insomnia')\n",
      "('MONDO:0014288', 'Joubert syndrome 21')\n",
      "('MONDO:0014204', 'basal ganglia calcification, idiopathic, 5')\n",
      "('MONDO:0013933', 'peroxisome biogenesis disorder 5B')\n",
      "('MONDO:0018591', 'ITM2B amyloidosis')\n",
      "('MONDO:0011487', 'Huntington disease-like 3')\n",
      "('MONDO:0012188', 'neuronal ceroid lipofuscinosis 9')\n",
      "('MONDO:0018868', 'metachromatic leukodystrophy')\n",
      "('MONDO:0011833', 'spinocerebellar ataxia type 21')\n",
      "('MONDO:0007574', 'spinocerebellar ataxia type 34')\n",
      "('MONDO:0018475', 'PRKAR1B-related neurodegenerative dementia with intermediate filaments')\n",
      "('MONDO:0007182', 'Machado-Joseph disease')\n",
      "('MONDO:0011561', 'Alzheimer disease 6')\n",
      "('MONDO:0013060', 'autosomal recessive Parkinson disease 14')\n",
      "('MONDO:0008692', 'abetalipoproteinemia')\n",
      "('MONDO:0011426', 'aceruloplasminemia')\n",
      "('MONDO:0017728', 'Tay-Sachs disease, B1 variant')\n",
      "('MONDO:0011801', 'spinocerebellar ataxia type 1 with axonal neuropathy')\n",
      "('MONDO:0017722', 'Sandhoff disease, juvenile form')\n",
      "('MONDO:0009739', 'infantile neuroaxonal dystrophy')\n",
      "('MONDO:0008767', 'neuronal ceroid lipofuscinosis 3')\n",
      "('MONDO:0008458', 'spinocerebellar ataxia type 2')\n",
      "('MONDO:0012549', 'autosomal recessive ataxia, Beauce type')\n",
      "('MONDO:0011638', 'neuroferritinopathy')\n",
      "('MONDO:0009591', 'metachromatic leukodystrophy, juvenile form')\n",
      "('MONDO:0012278', 'PSNP2')\n",
      "('MONDO:0018189', 'autosomal recessive cerebellar ataxia-pyramidal signs-nystagmus-oculomotor apraxia syndrome')\n",
      "('MONDO:0010216', 'xeroderma pigmentosum group G')\n",
      "('MONDO:0016562', 'progressive supranuclear palsy-pure akinesia with gait freezing syndrome')\n",
      "('MONDO:0013939', 'peroxisome biogenesis disorder 7B')\n",
      "('MONDO:0060758', 'spinocerebellar ataxia 42, early-onset, severe, with neurodevelopmental deficits')\n",
      "('MONDO:0014178', 'inclusion body myopathy with early-onset Paget disease with or without frontotemporal dementia 2')\n",
      "('MONDO:0014845', 'spinocerebellar ataxia, autosomal recessive 22; SCAR22')\n",
      "('MONDO:0014339', 'autosomal recessive spinocerebellar ataxia 16')\n",
      "('MONDO:0011842', 'Grn-related frontotemporal lobar degeneration with Tdp43 inclusions')\n",
      "('MONDO:0017846', 'autosomal dominant spastic ataxia')\n",
      "('MONDO:0033311', 'Joubert syndrome 33')\n",
      "('MONDO:0010060', 'infantile onset spinocerebellar ataxia')\n",
      "('MONDO:0014928', 'Joubert syndrome 28')\n",
      "('MONDO:0020138', 'ataxia with dementia')\n",
      "('MONDO:0011703', 'spongiform encephalopathy with neuropsychiatric features')\n",
      "('MONDO:0013029', 'cerebellar ataxia type 9')\n",
      "('MONDO:0018339', 'PrP systemic amyloidosis')\n",
      "('MONDO:0012790', 'amyotrophic lateral sclerosis type 10')\n",
      "('MONDO:0014934', 'spinocerebellar ataxia, autosomal recessive 24; SCAR24')\n",
      "('MONDO:0011692', 'IBGC2')\n",
      "('MONDO:0008947', 'bilateral striopallidodentate calcinosis')\n",
      "('MONDO:0014664', 'Joubert syndrome 23')\n",
      "('MONDO:0013075', 'herpes simplex encephalitis, susceptibility to, 2')\n",
      "('MONDO:0011834', 'spinocerebellar ataxia type 18')\n",
      "('MONDO:0013921', 'herpes simplex encephalitis, susceptibility to, 4')\n",
      "('MONDO:0017999', 'fatty acid hydroxylase-associated neurodegeneration')\n",
      "('MONDO:0009133', 'dysequilibrium syndrome')\n",
      "('MONDO:0020142', 'metabolic disease with dementia')\n",
      "('MONDO:0014640', 'FTDALS3')\n",
      "('MONDO:0019600', 'xeroderma pigmentosum')\n",
      "('MONDO:0012391', 'neuronal ceroid lipofuscinosis 8 northern epilepsy variant')\n",
      "('MONDO:0020044', 'autosomal recessive metabolic cerebellar ataxia')\n",
      "('MONDO:0009265', 'Gaucher disease type I')\n",
      "('MONDO:0017730', 'metachromatic leukodystrophy, adult form')\n",
      "('MONDO:0017233', 'familial Alzheimer-like prion disease')\n",
      "('MONDO:0016307', 'Niemann-Pick disease type C, severe early infantile neurologic onset')\n",
      "('MONDO:0014084', 'ataxia with oculomotor apraxia type 3')\n",
      "('MONDO:0015339', 'adrenomyeloneuropathy')\n",
      "('MONDO:0020139', 'early-onset ataxia with dementia')\n",
      "('MONDO:0013501', 'amyotrophic lateral sclerosis type 14')\n",
      "('MONDO:0000507', 'inclusion body myopathy with Paget disease of bone and frontotemporal dementia')\n",
      "('MONDO:0016079', 'sporadic Creutzfeldt-Jakob disease')\n",
      "('MONDO:0013920', 'herpes simplex encephalitis, susceptibility to, 3')\n",
      "('MONDO:0009245', 'Friedreich ataxia')\n",
      "('MONDO:0011647', 'Alzheimer disease 7')\n",
      "('MONDO:0012116', 'spinocerebellar ataxia type 8')\n",
      "('MONDO:0013967', 'peroxisome biogenesis disorder 14B')\n",
      "('MONDO:0011743', 'Alzheimer disease 4')\n",
      "('MONDO:0020045', 'autosomal recessive cerebellar ataxia due to a DNA repair defect')\n",
      "('MONDO:0019260', 'adult neuronal ceroid lipofuscinosis')\n",
      "('MONDO:0005620', 'cerebral amyloid angiopathy')\n",
      "('MONDO:0010064', 'spastic ataxia-corneal dystrophy syndrome')\n",
      "('MONDO:0012103', 'spinocerebellar ataxia type 25')\n",
      "('MONDO:0012235', 'autosomal recessive spinocerebellar ataxia 7')\n",
      "('MONDO:0013943', 'peroxisome biogenesis disorder 8B')\n",
      "('MONDO:0000561', 'spinocerebellar ataxia type 16')\n",
      "('MONDO:0008736', 'peroxisome biogenesis disorder 2B')\n",
      "('MONDO:0011457', 'ataxia-telangiectasia-like disorder')\n",
      "('MONDO:0007164', 'spastic ataxia 1')\n",
      "('MONDO:0008083', 'neuronal ceroid lipofuscinosis 4B')\n",
      "('MONDO:0007432', 'CADASIL')\n",
      "('MONDO:0016308', 'Niemann-Pick disease type C, late infantile neurologic onset')\n",
      "('MONDO:0013994', 'Joubert syndrome 20')\n",
      "('MONDO:0014530', 'autosomal recessive spinocerebellar ataxia 18')\n",
      "('MONDO:0012576', 'PSNP3')\n",
      "('MONDO:0010212', 'xeroderma pigmentosum group D')\n",
      "('MONDO:0011694', 'spinocerebellar ataxia type 15/16')\n",
      "('MONDO:0011397', 'autosomal dominant cerebellar ataxia, deafness and narcolepsy')\n",
      "('MONDO:0011951', 'amyotrophic lateral sclerosis type 6')\n",
      "('MONDO:0014688', 'short-rib thoracic dysplasia 14 with polydactyly')\n",
      "('MONDO:0008690', 'xeroderma pigmentosum, autosomal dominant, mild')\n",
      "('MONDO:0012521', 'herpes simplex encephalitis')\n",
      "('MONDO:0019791', 'recessive mitochondrial ataxia syndrome')\n",
      "('MONDO:0008243', 'Pick disease')\n",
      "('MONDO:0024457', 'neurodegeneration with brain iron accumulation 2A')\n",
      "('MONDO:0014147', 'neuronal ceroid lipofuscinosis 13')\n",
      "('MONDO:0033309', 'Joubert syndrome 32')\n",
      "('MONDO:0011025', 'Cayman type cerebellar ataxia')\n",
      "('MONDO:0012308', 'Joubert syndrome with renal defect')\n",
      "('MONDO:0011299', 'Huntington disease-like 1')\n",
      "('MONDO:0007247', 'basal ganglia calcification, idiopathic, childhood-onset')\n",
      "('MONDO:0012539', 'Joubert syndrome 6')\n",
      "('MONDO:0017726', 'Tay-Sachs disease, b variant, adult form')\n",
      "('MONDO:0016563', 'progressive supranuclear palsy-corticobasal syndrome')\n",
      "('MONDO:0017724', 'Tay-Sachs disease, b variant, infantile form')\n",
      "('MONDO:0011194', 'Alzheimer disease 5')\n",
      "('MONDO:0011777', 'Alzheimer disease 8')\n",
      "('MONDO:0012784', 'autosomal recessive ataxia due to ubiquinone deficiency')\n",
      "('MONDO:0016310', 'Niemann-Pick disease type C, adult neurologic onset')\n",
      "('MONDO:0010188', 'familial isolated deficiency of vitamin E')\n",
      "('MONDO:0014744', 'acute infantile liver failure-cerebellar ataxia-peripheral sensory motor neuropathy syndrome')\n",
      "('MONDO:0013905', 'autosomal recessive spinocerebellar ataxia 13')\n",
      "('MONDO:0011144', 'neuronal ceroid lipofuscinosis 6')\n",
      "('MONDO:0017725', 'Tay-Sachs disease, b variant, juvenile form')\n",
      "('MONDO:0014159', 'autosomal recessive spinocerebellar ataxia 14')\n",
      "('MONDO:0009839', 'progressive supranuclear palsy-parkinsonism syndrome')\n",
      "('MONDO:0033480', 'spinocerebellar ataxia 45')\n",
      "('MONDO:0010476', 'neurodegeneration with brain iron accumulation 5')\n",
      "('MONDO:0014395', 'FTDALS2')\n",
      "('MONDO:0007739', 'Huntington disease')\n",
      "('MONDO:0020047', 'autosomal recessive syndromic cerebellar ataxia')\n",
      "('MONDO:0012414', 'neuronal ceroid lipofuscinosis 10')\n",
      "('MONDO:0017176', 'Machado-Joseph disease type 3')\n",
      "('MONDO:0007981', 'metachromatic leukodystrophy, adult-onset, with normal arylsulfatase a')\n",
      "('MONDO:0013608', 'Joubert syndrome 13')\n",
      "('MONDO:0012098', 'spinocerebellar ataxia type 20')\n",
      "('MONDO:0010936', 'frontotemporal dementia, chromosome 3-linked')\n",
      "('MONDO:0014410', 'spinocerebellar ataxia type 37')\n",
      "('MONDO:0018342', 'Joubert syndrome with Jeune asphyxiating thoracic dystrophy')\n",
      "('MONDO:0014846', 'autosomal recessive cerebellar ataxia-epilepsy-intellectual disability syndrome due to TUD deficiency')\n",
      "('MONDO:0010214', 'xeroderma pigmentosum variant type')\n",
      "('MONDO:0017847', 'autosomal recessive spastic ataxia')\n",
      "('MONDO:0012432', 'Joubert syndrome 5')\n",
      "('MONDO:0016621', 'juvenile Huntington disease')\n"
     ]
    },
    {
     "data": {
      "text/html": [
       "<h3>inflammatory bowel disease</h3>"
      ],
      "text/plain": [
       "<IPython.core.display.HTML object>"
      ]
     },
     "metadata": {},
     "output_type": "display_data"
    },
    {
     "name": "stdout",
     "output_type": "stream",
     "text": [
      "('MONDO:0012941', 'inflammatory bowel disease 25')\n",
      "('MONDO:0009309', 'granulomatous disease, chronic, autosomal recessive, cytochrome b-positive, type 1')\n",
      "('MONDO:0010600', 'granulomatous disease, chronic, X-linked')\n",
      "('MONDO:0018305', 'chronic granulomatous disease')\n",
      "('MONDO:0009307', 'granulomatous disease with defect 1N neutrophil chemotaxis')\n",
      "('MONDO:0007684', 'granulomatous disease, chronic, autosomal dominant type')\n",
      "('MONDO:0009308', 'granulomatous disease, chronic, autosomal recessive, cytochrome b-negative')\n",
      "('MONDO:0016542', 'immune dysregulation-inflammatory bowel disease-arthritis-recurrent infections syndrome')\n",
      "('MONDO:0017411', 'neonatal inflammatory skin and bowel disease')\n",
      "('MONDO:0009310', 'granulomatous disease, chronic, autosomal recessive, cytochrome b-positive, type 2')\n",
      "('MONDO:0013153', 'inflammatory bowel disease 28')\n",
      "('MONDO:0014338', 'IL21-related infantile inflammatory bowel disease')\n",
      "('MONDO:0014481', 'inflammatory skin and bowel disease, neonatal, 2')\n",
      "('MONDO:0013507', 'granulomatous disease, chronic, autosomal recessive, cytochrome b-positive, type 3')\n",
      "('MONDO:0013693', 'inflammatory skin and bowel disease, neonatal, 1')\n"
     ]
    },
    {
     "data": {
      "text/html": [
       "<h3>osteoporosis</h3>"
      ],
      "text/plain": [
       "<IPython.core.display.HTML object>"
      ]
     },
     "metadata": {},
     "output_type": "display_data"
    },
    {
     "name": "stdout",
     "output_type": "stream",
     "text": [
      "('MONDO:0012850', 'hypophosphatemic nephrolithiasis/osteoporosis 1')\n",
      "('MONDO:0012851', 'hypophosphatemic nephrolithiasis/osteoporosis 2')\n"
     ]
    },
    {
     "data": {
      "text/html": [
       "<h3>pulmonary edema</h3>"
      ],
      "text/plain": [
       "<IPython.core.display.HTML object>"
      ]
     },
     "metadata": {},
     "output_type": "display_data"
    },
    {
     "data": {
      "text/html": [
       "<h3>type 2 diabetes mellitus</h3>"
      ],
      "text/plain": [
       "<IPython.core.display.HTML object>"
      ]
     },
     "metadata": {},
     "output_type": "display_data"
    },
    {
     "name": "stdout",
     "output_type": "stream",
     "text": [
      "('MONDO:0011955', 'diabetes mellitus, noninsulin-dependent, 4')\n",
      "('MONDO:0011363', 'diabetes mellitus, noninsulin-dependent, 3')\n",
      "('MONDO:0011072', 'NIDDM2')\n",
      "('MONDO:0014488', 'diabetes mellitus, noninsulin-dependent, 5')\n",
      "('MONDO:0012819', 'diabetic ketoacidosis')\n",
      "('MONDO:0007455', 'diabetes mellitus, noninsulin-dependent')\n",
      "('MONDO:0011027', 'diabetes mellitus, noninsulin-dependent, 1')\n"
     ]
    },
    {
     "data": {
      "text/html": [
       "<h3>Parkinson disease</h3>"
      ],
      "text/plain": [
       "<IPython.core.display.HTML object>"
      ]
     },
     "metadata": {},
     "output_type": "display_data"
    },
    {
     "name": "stdout",
     "output_type": "stream",
     "text": [
      "('MONDO:0012466', 'Parkinson disease 13, autosomal dominant, susceptibility to')\n",
      "('MONDO:0008200', 'autosomal dominant Parkinson disease 1')\n",
      "('MONDO:0017279', 'young-onset Parkinson disease')\n",
      "('MONDO:0013340', 'Parkinson disease 5, autosomal dominant, susceptibility to')\n",
      "('MONDO:0011562', 'autosomal dominant Parkinson disease 4')\n",
      "('MONDO:0011896', 'Parkinson disease 11, autosomal dominant, susceptibility to')\n",
      "('MONDO:0008193', 'paralysis agitans, juvenile, of Hunt')\n",
      "('MONDO:0014796', 'autosomal recessive early-onset Parksinson disease 23')\n",
      "('MONDO:0014233', 'early-onset Parkinson disease 20')\n",
      "('MONDO:0010820', 'autosomal recessive juvenile Parkinson disease 2')\n",
      "('MONDO:0011613', 'autosomal recessive early-onset Parkinson disease 6')\n",
      "('MONDO:0014604', 'Parkinson disease 21')\n",
      "('MONDO:0017809', 'parkinsonism due to ATP13A2 deficiency')\n",
      "('MONDO:0013060', 'autosomal recessive Parkinson disease 14')\n",
      "('MONDO:0013625', 'Parkinson disease 17')\n",
      "('MONDO:0011220', 'PARK3')\n",
      "('MONDO:0011658', 'autosomal recessive early-onset Parkinson disease 7')\n",
      "('MONDO:0011706', 'Kufor-Rakeb syndrome')\n",
      "('MONDO:0009830', 'parkinsonian-pyramidal syndrome')\n",
      "('MONDO:0013653', 'Parkinson disease 18, autosomal dominant, susceptibility to')\n",
      "('MONDO:0014231', 'juvenile onset Parkinson disease 19A')\n",
      "('MONDO:0018466', 'hereditary late onset Parkinson disease')\n",
      "('MONDO:0011737', 'PARK10')\n",
      "('MONDO:0010360', 'PARK12')\n",
      "('MONDO:0011764', 'autosomal dominant Parkinson disease 8')\n"
     ]
    },
    {
     "data": {
      "text/html": [
       "<h3>arteriolosclerosis</h3>"
      ],
      "text/plain": [
       "<IPython.core.display.HTML object>"
      ]
     },
     "metadata": {},
     "output_type": "display_data"
    },
    {
     "data": {
      "text/html": [
       "<h3>schizophrenia</h3>"
      ],
      "text/plain": [
       "<IPython.core.display.HTML object>"
      ]
     },
     "metadata": {},
     "output_type": "display_data"
    },
    {
     "name": "stdout",
     "output_type": "stream",
     "text": [
      "('MONDO:0013696', 'chromosome 2P16.3 deletion syndrome')\n"
     ]
    },
    {
     "data": {
      "text/html": [
       "<h3>hypopituitarism</h3>"
      ],
      "text/plain": [
       "<IPython.core.display.HTML object>"
      ]
     },
     "metadata": {},
     "output_type": "display_data"
    },
    {
     "name": "stdout",
     "output_type": "stream",
     "text": [
      "('MONDO:0009879', 'short stature due to growth hormone qualitative anomaly')\n",
      "('MONDO:0008250', 'isolated growth hormone deficiency type II')\n",
      "('MONDO:0010252', 'intellectual disability, X-linked, with panhypopituitarism')\n",
      "('MONDO:0013518', 'pituitary hormone deficiency, combined, 6')\n",
      "('MONDO:0000050', 'isolated congenital growth hormone deficiency')\n",
      "('MONDO:0019591', 'panhypopituitarism')\n",
      "('MONDO:0043162', 'pagon stephan syndrome')\n",
      "('MONDO:0008428', 'septooptic dysplasia')\n",
      "('MONDO:0024464', 'pituitary hormone deficiency, combined, 1')\n",
      "('MONDO:0010712', 'panhypopituitarism, X-linked')\n",
      "('MONDO:0010615', 'isolated growth hormone deficiency type III')\n",
      "('MONDO:0018967', 'short stature due to isolated growth hormone deficiency with X-linked hypogammaglobulinemia')\n",
      "('MONDO:0013006', 'isolated growth hormone deficiency type IB')\n",
      "('MONDO:0009880', 'short stature-pituitary and cerebellar defects-small sella turcica syndrome')\n",
      "('MONDO:0008720', 'congenital isolated adrenocorticotropic hormone deficiency (disease)')\n",
      "('MONDO:0013099', 'combined pituitary hormone deficiencies, genetic form')\n",
      "('MONDO:0022349', 'congenital absence of septum pellucidum')\n",
      "('MONDO:0009878', 'pituitary hormone deficiency, combined, 2')\n",
      "('MONDO:0009091', 'non-acquired combined pituitary hormone deficiency with spine abnormalities')\n",
      "('MONDO:0009876', 'isolated growth hormone deficiency type IA')\n"
     ]
    },
    {
     "data": {
      "text/html": [
       "<h3>facial paralysis</h3>"
      ],
      "text/plain": [
       "<IPython.core.display.HTML object>"
      ]
     },
     "metadata": {},
     "output_type": "display_data"
    },
    {
     "name": "stdout",
     "output_type": "stream",
     "text": [
      "('MONDO:0014295', 'hereditary spastic paraplegia 57')\n",
      "('MONDO:0017999', 'fatty acid hydroxylase-associated neurodegeneration')\n",
      "('MONDO:0012297', 'SPOAN syndrome')\n",
      "('MONDO:0018550', 'spastic paraplegia-optic atrophy-neuropathy and spastic paraplegia-optic atrophy-neuropathy-related disorder')\n",
      "('MONDO:0011803', 'hereditary spastic paraplegia 7')\n",
      "('MONDO:0011006', 'hereditary spastic paraplegia 9A')\n",
      "('MONDO:0014644', 'hereditary spastic paraplegia 74')\n",
      "('MONDO:0010733', 'hereditary spastic paraplegia 2')\n",
      "('MONDO:0014209', 'early-onset progressive neurodegeneration-blindness-ataxia-spasticity syndrome')\n",
      "('MONDO:0012651', 'spastic ataxia 2')\n"
     ]
    },
    {
     "data": {
      "text/html": [
       "<h3>polyneuropathy</h3>"
      ],
      "text/plain": [
       "<IPython.core.display.HTML object>"
      ]
     },
     "metadata": {},
     "output_type": "display_data"
    },
    {
     "data": {
      "text/html": [
       "<h3>multiple sclerosis</h3>"
      ],
      "text/plain": [
       "<IPython.core.display.HTML object>"
      ]
     },
     "metadata": {},
     "output_type": "display_data"
    },
    {
     "data": {
      "text/html": [
       "<h3>alcoholic liver cirrhosis</h3>"
      ],
      "text/plain": [
       "<IPython.core.display.HTML object>"
      ]
     },
     "metadata": {},
     "output_type": "display_data"
    }
   ],
   "source": [
    "from IPython.core.display import display, HTML\n",
    "for disease_id, disease_name in common_diseases:\n",
    "    genetics = get_genetic_versions(disease_id)\n",
    "    display(HTML(f'<h3>{disease_name}</h3>'))\n",
    "    for g in genetics:\n",
    "        print(g)"
   ]
  },
  {
   "cell_type": "code",
   "execution_count": 1,
   "metadata": {
    "collapsed": true,
    "deletable": true,
    "editable": true
   },
   "outputs": [],
   "source": [
    "common_diseases_2 = [\n",
    "(\"MONDO:0004979\",\"asthma\"),\n",
    "(\"MONDO:0005148\",\"type 2 diabetes mellitus\"),\n",
    "(\"MONDO:0005180\",\"Parkinson disease\"),\n",
    "(\"MONDO:0005311\",\"atherosclerosis\"),\n",
    "(\"MONDO:0004975\",\"alzheimers disease\")\n",
    "]\n"
   ]
  },
  {
   "cell_type": "code",
   "execution_count": 5,
   "metadata": {
    "collapsed": false
   },
   "outputs": [
    {
     "data": {
      "text/html": [
       "<h3>asthma</h3>"
      ],
      "text/plain": [
       "<IPython.core.display.HTML object>"
      ]
     },
     "metadata": {},
     "output_type": "display_data"
    },
    {
     "name": "stdout",
     "output_type": "stream",
     "text": [
      "('MONDO:0012067', 'asthma-related traits, susceptibility to, 2')\n",
      "('MONDO:0010940', 'inherited susceptibility to asthma')\n",
      "('MONDO:0012771', 'asthma-related traits, susceptibility to, 7')\n",
      "('MONDO:0012577', 'asthma-related traits, susceptibility to, 4')\n",
      "('MONDO:0012379', 'asthma-related traits, susceptibility to, 3')\n",
      "('MONDO:0013180', 'asthma-related traits, susceptibility to, 8')\n",
      "('MONDO:0011805', 'asthma-related traits, susceptibility to, 1')\n",
      "('MONDO:0012607', 'asthma-related traits, susceptibility to, 5')\n",
      "('MONDO:0012666', 'asthma-related traits, susceptibility to, 6')\n"
     ]
    },
    {
     "data": {
      "text/html": [
       "<h3>type 2 diabetes mellitus</h3>"
      ],
      "text/plain": [
       "<IPython.core.display.HTML object>"
      ]
     },
     "metadata": {},
     "output_type": "display_data"
    },
    {
     "name": "stdout",
     "output_type": "stream",
     "text": [
      "('MONDO:0011955', 'diabetes mellitus, noninsulin-dependent, 4')\n",
      "('MONDO:0011363', 'diabetes mellitus, noninsulin-dependent, 3')\n",
      "('MONDO:0014488', 'diabetes mellitus, noninsulin-dependent, 5')\n",
      "('MONDO:0011027', 'diabetes mellitus, noninsulin-dependent, 1')\n",
      "('MONDO:0011072', 'NIDDM2')\n",
      "('MONDO:0007455', 'diabetes mellitus, noninsulin-dependent')\n",
      "('MONDO:0012819', 'diabetic ketoacidosis')\n"
     ]
    },
    {
     "data": {
      "text/html": [
       "<h3>Parkinson disease</h3>"
      ],
      "text/plain": [
       "<IPython.core.display.HTML object>"
      ]
     },
     "metadata": {},
     "output_type": "display_data"
    },
    {
     "name": "stdout",
     "output_type": "stream",
     "text": [
      "('MONDO:0014604', 'Parkinson disease 21')\n",
      "('MONDO:0008193', 'paralysis agitans, juvenile, of Hunt')\n",
      "('MONDO:0011706', 'Kufor-Rakeb syndrome')\n",
      "('MONDO:0008200', 'autosomal dominant Parkinson disease 1')\n",
      "('MONDO:0011562', 'autosomal dominant Parkinson disease 4')\n",
      "('MONDO:0017279', 'young-onset Parkinson disease')\n",
      "('MONDO:0014231', 'juvenile onset Parkinson disease 19A')\n",
      "('MONDO:0013340', 'Parkinson disease 5, autosomal dominant, susceptibility to')\n",
      "('MONDO:0013060', 'autosomal recessive Parkinson disease 14')\n",
      "('MONDO:0011220', 'PARK3')\n",
      "('MONDO:0014233', 'early-onset Parkinson disease 20')\n",
      "('MONDO:0011737', 'PARK10')\n",
      "('MONDO:0017809', 'parkinsonism due to ATP13A2 deficiency')\n",
      "('MONDO:0009830', 'parkinsonian-pyramidal syndrome')\n",
      "('MONDO:0011613', 'autosomal recessive early-onset Parkinson disease 6')\n",
      "('MONDO:0010820', 'autosomal recessive juvenile Parkinson disease 2')\n",
      "('MONDO:0018466', 'hereditary late onset Parkinson disease')\n",
      "('MONDO:0012466', 'Parkinson disease 13, autosomal dominant, susceptibility to')\n",
      "('MONDO:0011764', 'autosomal dominant Parkinson disease 8')\n",
      "('MONDO:0011896', 'Parkinson disease 11, autosomal dominant, susceptibility to')\n",
      "('MONDO:0013625', 'Parkinson disease 17')\n",
      "('MONDO:0014796', 'autosomal recessive early-onset Parksinson disease 23')\n",
      "('MONDO:0013653', 'Parkinson disease 18, autosomal dominant, susceptibility to')\n",
      "('MONDO:0011658', 'autosomal recessive early-onset Parkinson disease 7')\n",
      "('MONDO:0010360', 'PARK12')\n"
     ]
    },
    {
     "data": {
      "text/html": [
       "<h3>atherosclerosis</h3>"
      ],
      "text/plain": [
       "<IPython.core.display.HTML object>"
      ]
     },
     "metadata": {},
     "output_type": "display_data"
    },
    {
     "data": {
      "text/html": [
       "<h3>alzheimers disease</h3>"
      ],
      "text/plain": [
       "<IPython.core.display.HTML object>"
      ]
     },
     "metadata": {},
     "output_type": "display_data"
    },
    {
     "name": "stdout",
     "output_type": "stream",
     "text": [
      "('MONDO:0011647', 'Alzheimer disease 7')\n",
      "('MONDO:0011777', 'Alzheimer disease 8')\n",
      "('MONDO:0011913', 'Alzheimer disease 3')\n",
      "('MONDO:0012344', 'Alzheimer disease 11')\n",
      "('MONDO:0012632', 'Alzheimer disease 15')\n",
      "('MONDO:0012609', 'Alzheimer disease 12')\n",
      "('MONDO:0007088', 'Alzheimer disease type 1')\n",
      "('MONDO:0015140', 'early-onset autosomal dominant Alzheimer disease')\n",
      "('MONDO:0012321', 'Alzheimer disease 10')\n",
      "('MONDO:0011561', 'Alzheimer disease 6')\n",
      "('MONDO:0012631', 'Alzheimer disease 14')\n",
      "('MONDO:0011513', 'Alzheimer disease, familial early-onset, with Coexisting amyloid and prion pathology')\n",
      "('MONDO:0011194', 'Alzheimer disease 5')\n",
      "('MONDO:0007089', 'Alzheimer disease 2')\n",
      "('MONDO:0012630', 'Alzheimer disease 13')\n",
      "('MONDO:0012153', 'AD9')\n",
      "('MONDO:0011743', 'Alzheimer disease 4')\n"
     ]
    }
   ],
   "source": [
    "from IPython.core.display import display, HTML\n",
    "for disease_id, disease_name in common_diseases_2:\n",
    "    genetics = get_genetic_versions(disease_id)\n",
    "    display(HTML(f'<h3>{disease_name}</h3>'))\n",
    "    for g in genetics:\n",
    "        print(g)"
   ]
  },
  {
   "cell_type": "code",
   "execution_count": null,
   "metadata": {
    "collapsed": true
   },
   "outputs": [],
   "source": []
  }
 ],
 "metadata": {
  "kernelspec": {
   "display_name": "Python 3",
   "language": "python",
   "name": "python3"
  },
  "language_info": {
   "codemirror_mode": {
    "name": "ipython",
    "version": 3
   },
   "file_extension": ".py",
   "mimetype": "text/x-python",
   "name": "python",
   "nbconvert_exporter": "python",
   "pygments_lexer": "ipython3",
   "version": "3.6.2"
  }
 },
 "nbformat": 4,
 "nbformat_minor": 2
}
