{
 "cells": [
  {
   "cell_type": "markdown",
   "metadata": {
    "deletable": true,
    "editable": true
   },
   "source": [
    "# Workflow1 Module1 Question4"
   ]
  },
  {
   "cell_type": "markdown",
   "metadata": {
    "deletable": true,
    "editable": true
   },
   "source": [
    "## What subset of conditions are most representative of [conditions]? (find archetypes)"
   ]
  },
  {
   "cell_type": "markdown",
   "metadata": {
    "deletable": true,
    "editable": true
   },
   "source": [
    "Here's one solution to question 4 based on using similarity values.   Note that some versions of the module implementation may not directly need this question (such as the similarity or robokop modules).  We'll start with the results from the enrichment answer to Question 3 for diabetes (reproduced here so we can easily get the identifiers).  That's kicked off with a set of diabetes symptoms that are for demo purposes, but a more complete implementation would use a longer set."
   ]
  },
  {
   "cell_type": "markdown",
   "metadata": {
    "deletable": true,
    "editable": true
   },
   "source": [
    "### Question 3: use enrichment to get genetic conditions"
   ]
  },
  {
   "cell_type": "code",
   "execution_count": 1,
   "metadata": {
    "collapsed": true,
    "deletable": true,
    "editable": true
   },
   "outputs": [],
   "source": [
    "import requests\n",
    "import pandas as pd\n",
    "\n",
    "def enrichment(type1,identlist,type2,threshhold=None,maxresults=None,numtype1=None,include_descendants=None,rebuild=None):\n",
    "    url=f'http://robokop.renci.org/api/simple/enriched/{type1}/{type2}'\n",
    "    params = { 'threshhold': threshhold, 'max_results': maxresults, \n",
    "              'num_type1':numtype1, 'identifiers': identlist, \n",
    "              'include_descendants':include_descendants, 'rebuild': rebuild }\n",
    "    params = { k:v for k,v in params.items() if v is not None }\n",
    "    response=requests.post(url, json = params)\n",
    "    print( f'Return Status: {response.status_code}' )\n",
    "    if response.status_code == 200:\n",
    "        return response.json()\n",
    "    return []"
   ]
  },
  {
   "cell_type": "code",
   "execution_count": 2,
   "metadata": {
    "collapsed": false,
    "deletable": true,
    "editable": true
   },
   "outputs": [
    {
     "name": "stdout",
     "output_type": "stream",
     "text": [
      "Return Status: 200\n"
     ]
    }
   ],
   "source": [
    "diabetes_symptoms=['HP:0004904', 'HP:0001988', 'HP:0000833', 'HP:0006279','HP:0000842'] \n",
    "diabetes_enriched = enrichment('phenotypic_feature',diabetes_symptoms,'genetic_condition',threshhold=0.01,include_descendants=True)\n",
    "diabetes_enriched_frame = pd.DataFrame(diabetes_enriched)"
   ]
  },
  {
   "cell_type": "markdown",
   "metadata": {
    "deletable": true,
    "editable": true
   },
   "source": [
    "For the demo, let's just get the first 10 rows:"
   ]
  },
  {
   "cell_type": "code",
   "execution_count": 3,
   "metadata": {
    "collapsed": false,
    "deletable": true,
    "editable": true
   },
   "outputs": [
    {
     "data": {
      "text/html": [
       "<div>\n",
       "<style>\n",
       "    .dataframe thead tr:only-child th {\n",
       "        text-align: right;\n",
       "    }\n",
       "\n",
       "    .dataframe thead th {\n",
       "        text-align: left;\n",
       "    }\n",
       "\n",
       "    .dataframe tbody tr th {\n",
       "        vertical-align: top;\n",
       "    }\n",
       "</style>\n",
       "<table border=\"1\" class=\"dataframe\">\n",
       "  <thead>\n",
       "    <tr style=\"text-align: right;\">\n",
       "      <th></th>\n",
       "      <th>id</th>\n",
       "      <th>name</th>\n",
       "      <th>p</th>\n",
       "    </tr>\n",
       "  </thead>\n",
       "  <tbody>\n",
       "    <tr>\n",
       "      <th>0</th>\n",
       "      <td>MONDO:0012381</td>\n",
       "      <td>hyperinsulinism due to INSR deficiency</td>\n",
       "      <td>3.741608e-09</td>\n",
       "    </tr>\n",
       "    <tr>\n",
       "      <th>1</th>\n",
       "      <td>MONDO:0011236</td>\n",
       "      <td>hyperinsulinism due to glucokinase deficiency</td>\n",
       "      <td>2.303490e-08</td>\n",
       "    </tr>\n",
       "    <tr>\n",
       "      <th>2</th>\n",
       "      <td>MONDO:0015967</td>\n",
       "      <td>rare genetic diabetes mellitus</td>\n",
       "      <td>3.871420e-08</td>\n",
       "    </tr>\n",
       "    <tr>\n",
       "      <th>3</th>\n",
       "      <td>MONDO:0005803</td>\n",
       "      <td>hyperinsulinemic hypoglycemia (disease)</td>\n",
       "      <td>1.952519e-07</td>\n",
       "    </tr>\n",
       "    <tr>\n",
       "      <th>4</th>\n",
       "      <td>MONDO:0015618</td>\n",
       "      <td>genetic pancreatic disease</td>\n",
       "      <td>2.970920e-07</td>\n",
       "    </tr>\n",
       "    <tr>\n",
       "      <th>5</th>\n",
       "      <td>MONDO:0004993</td>\n",
       "      <td>carcinoma</td>\n",
       "      <td>3.382536e-07</td>\n",
       "    </tr>\n",
       "    <tr>\n",
       "      <th>6</th>\n",
       "      <td>MONDO:0019010</td>\n",
       "      <td>congenital isolated hyperinsulinism</td>\n",
       "      <td>5.363540e-07</td>\n",
       "    </tr>\n",
       "    <tr>\n",
       "      <th>7</th>\n",
       "      <td>MONDO:0001076</td>\n",
       "      <td>glucose intolerance</td>\n",
       "      <td>2.038438e-06</td>\n",
       "    </tr>\n",
       "    <tr>\n",
       "      <th>8</th>\n",
       "      <td>MONDO:0017688</td>\n",
       "      <td>disorder of glycolysis</td>\n",
       "      <td>5.615776e-06</td>\n",
       "    </tr>\n",
       "    <tr>\n",
       "      <th>9</th>\n",
       "      <td>MONDO:0007540</td>\n",
       "      <td>multiple endocrine neoplasia type 1</td>\n",
       "      <td>1.035890e-05</td>\n",
       "    </tr>\n",
       "  </tbody>\n",
       "</table>\n",
       "</div>"
      ],
      "text/plain": [
       "              id                                           name             p\n",
       "0  MONDO:0012381         hyperinsulinism due to INSR deficiency  3.741608e-09\n",
       "1  MONDO:0011236  hyperinsulinism due to glucokinase deficiency  2.303490e-08\n",
       "2  MONDO:0015967                 rare genetic diabetes mellitus  3.871420e-08\n",
       "3  MONDO:0005803        hyperinsulinemic hypoglycemia (disease)  1.952519e-07\n",
       "4  MONDO:0015618                     genetic pancreatic disease  2.970920e-07\n",
       "5  MONDO:0004993                                      carcinoma  3.382536e-07\n",
       "6  MONDO:0019010            congenital isolated hyperinsulinism  5.363540e-07\n",
       "7  MONDO:0001076                            glucose intolerance  2.038438e-06\n",
       "8  MONDO:0017688                         disorder of glycolysis  5.615776e-06\n",
       "9  MONDO:0007540            multiple endocrine neoplasia type 1  1.035890e-05"
      ]
     },
     "execution_count": 3,
     "metadata": {},
     "output_type": "execute_result"
    }
   ],
   "source": [
    "conditions = diabetes_enriched_frame.iloc[0:10]\n",
    "conditions"
   ]
  },
  {
   "cell_type": "markdown",
   "metadata": {
    "deletable": true,
    "editable": true
   },
   "source": [
    "## Get pairwise similarities for all of these by phenotype"
   ]
  },
  {
   "cell_type": "markdown",
   "metadata": {
    "deletable": true,
    "editable": true
   },
   "source": [
    "There's not a service for pairwise similiarty in ROBOKOP.  We could go to biolink, but here we'll try to use ROBOKOP as an illustration."
   ]
  },
  {
   "cell_type": "code",
   "execution_count": 4,
   "metadata": {
    "collapsed": true,
    "deletable": true,
    "editable": true
   },
   "outputs": [],
   "source": [
    "def similarity(type1,ident,type2,by_type,threshhold=None,maxresults=None,rebuild=None):\n",
    "    url=f'http://robokop.renci.org/api/simple/similarity/{type1}/{ident}/{type2}/{by_type}'\n",
    "    params = { 'threshhold': threshhold, 'max_results': maxresults, 'rebuild': rebuild }\n",
    "    params = { k:v for k,v in params.items() if v is not None }\n",
    "    response=requests.get(url, params = params)\n",
    "    print( 'Return code:',response.status_code )\n",
    "    return response.json()"
   ]
  },
  {
   "cell_type": "code",
   "execution_count": 5,
   "metadata": {
    "collapsed": false,
    "deletable": true,
    "editable": true
   },
   "outputs": [
    {
     "name": "stdout",
     "output_type": "stream",
     "text": [
      "Return code: 200\n",
      "Return code: 200\n",
      "Return code: 200\n",
      "Return code: 200\n",
      "Return code: 200\n",
      "Return code: 200\n",
      "Return code: 200\n",
      "Return code: 200\n",
      "Return code: 200\n",
      "Return code: 200\n"
     ]
    }
   ],
   "source": [
    "sims = {}\n",
    "for identifier in conditions['id']:\n",
    "    sims[identifier] = similarity('genetic_condition',identifier,'genetic_condition','phenotypic_feature',threshhold=0.1)"
   ]
  },
  {
   "cell_type": "code",
   "execution_count": 6,
   "metadata": {
    "collapsed": false,
    "deletable": true,
    "editable": true
   },
   "outputs": [],
   "source": [
    "sims_dict = { s : {s2['id']: s2['similarity'] for s2 in sims[s] } for s in conditions['id'] }"
   ]
  },
  {
   "cell_type": "markdown",
   "metadata": {
    "deletable": true,
    "editable": true
   },
   "source": [
    "Now we have the similarity between each of our top 10 conditions and all other conditions (by phenotype).   One way of seeing what is the most representative is to ask, which of these conditions is similar to the most other conditions.  We could do clustering here, but we'll show a simpler approach.  Let's just count the number of conditions in our set of 10 that are within some threshold of each item, and find the most connected item."
   ]
  },
  {
   "cell_type": "code",
   "execution_count": 7,
   "metadata": {
    "collapsed": false,
    "deletable": true,
    "editable": true
   },
   "outputs": [
    {
     "data": {
      "text/plain": [
       "[(6, 'MONDO:0005803'),\n",
       " (5, 'MONDO:0019010'),\n",
       " (5, 'MONDO:0012381'),\n",
       " (4, 'MONDO:0017688'),\n",
       " (4, 'MONDO:0011236'),\n",
       " (2, 'MONDO:0015967'),\n",
       " (2, 'MONDO:0015618'),\n",
       " (2, 'MONDO:0007540'),\n",
       " (2, 'MONDO:0004993'),\n",
       " (2, 'MONDO:0001076')]"
      ]
     },
     "execution_count": 7,
     "metadata": {},
     "output_type": "execute_result"
    }
   ],
   "source": [
    "from collections import defaultdict\n",
    "\n",
    "count = defaultdict(int)\n",
    "thresh = 0.1\n",
    "\n",
    "for d,v in sims_dict.items():\n",
    "    for od,s in v.items():\n",
    "        if od in list(conditions['id']) and s > thresh:\n",
    "            count[d] += 1\n",
    "            \n",
    "clist = [ (v,k) for k,v in count.items() ]\n",
    "clist.sort()\n",
    "clist.reverse()\n",
    "clist          "
   ]
  },
  {
   "cell_type": "markdown",
   "metadata": {
    "deletable": true,
    "editable": true
   },
   "source": [
    "So the member of our list that has the most neighbors is `MONDO:0005803`, or \"hyperinsulinemic hypoglycemia (disease)\""
   ]
  }
 ],
 "metadata": {
  "kernelspec": {
   "display_name": "Python 3",
   "language": "python",
   "name": "python3"
  },
  "language_info": {
   "codemirror_mode": {
    "name": "ipython",
    "version": 3
   },
   "file_extension": ".py",
   "mimetype": "text/x-python",
   "name": "python",
   "nbconvert_exporter": "python",
   "pygments_lexer": "ipython3",
   "version": "3.6.2"
  }
 },
 "nbformat": 4,
 "nbformat_minor": 2
}
