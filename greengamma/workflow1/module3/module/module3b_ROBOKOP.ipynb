{
 "cells": [
  {
   "cell_type": "markdown",
   "metadata": {},
   "source": [
    "# Workflow , Module "
   ]
  },
  {
   "cell_type": "markdown",
   "metadata": {},
   "source": [
    "##"
   ]
  },
  {
   "cell_type": "code",
   "execution_count": 4,
   "metadata": {},
   "outputs": [],
   "source": [
    "import requests\n",
    "import pandas as pd\n",
    "\n",
    "robokop_server = 'robokop.renci.org'\n",
    "\n",
    "def quick(question):\n",
    "    url=f'http://{robokop_server}:80/api/simple/quick/'\n",
    "    response = requests.post(url,json=question)\n",
    "    print( f\"Return Status: {response.status_code}\" )\n",
    "    if response.status_code == 200:\n",
    "        return response.json()\n",
    "    return response"
   ]
  },
  {
   "cell_type": "code",
   "execution_count": 5,
   "metadata": {},
   "outputs": [],
   "source": [
    "def make_N_step_question(types,curies):\n",
    "    question = {\n",
    "                'machine_question': {\n",
    "                    'nodes': [],\n",
    "                    'edges': []\n",
    "                }\n",
    "            }\n",
    "    for i,t in enumerate(types):\n",
    "        newnode = {'id': i, 'type': t}\n",
    "        if curies[i] is not None:\n",
    "            newnode['curie'] = curies[i]\n",
    "        question['machine_question']['nodes'].append(newnode)\n",
    "        if i > 0:\n",
    "            question['machine_question']['edges'].append( {'source_id': i-1, 'target_id': i})\n",
    "    return question"
   ]
  },
  {
   "cell_type": "code",
   "execution_count": 6,
   "metadata": {},
   "outputs": [],
   "source": [
    "def extract_final_nodes(returnanswer):\n",
    "    nodes = [{'node_name': answer['nodes'][2]['name'], 'node_id': answer['nodes'][2]['id']} for answer in returnanswer['answers']]\n",
    "    return pd.DataFrame(nodes)"
   ]
  },
  {
   "cell_type": "markdown",
   "metadata": {},
   "source": [
    "### Set up question"
   ]
  },
  {
   "cell_type": "code",
   "execution_count": 8,
   "metadata": {},
   "outputs": [],
   "source": [
    "path=['disease','phenotype','genetic_condition']\n",
    "starting_curie = 'MONDO:0004979' #asthma\n",
    "curies = [starting_curie]\n",
    "while len(curies) < len(path):\n",
    "    curies.append(None)\n",
    "question = make_N_step_question(path,curies)"
   ]
  },
  {
   "cell_type": "code",
   "execution_count": 15,
   "metadata": {},
   "outputs": [
    {
     "name": "stdout",
     "output_type": "stream",
     "text": [
      "Return Status: 500\n"
     ]
    }
   ],
   "source": [
    "answer = quick(question)"
   ]
  },
  {
   "cell_type": "code",
   "execution_count": null,
   "metadata": {
    "collapsed": true
   },
   "outputs": [],
   "source": [
    "frame = extract_final_nodes(answer)\n",
    "frame"
   ]
  },
  {
   "cell_type": "code",
   "execution_count": null,
   "metadata": {},
   "outputs": [],
   "source": []
  }
 ],
 "metadata": {
  "kernelspec": {
   "display_name": "Python 3",
   "language": "python",
   "name": "python3"
  },
  "language_info": {
   "codemirror_mode": {
    "name": "ipython",
    "version": 3
   },
   "file_extension": ".py",
   "mimetype": "text/x-python",
   "name": "python",
   "nbconvert_exporter": "python",
   "pygments_lexer": "ipython3",
   "version": "3.6.5"
  }
 },
 "nbformat": 4,
 "nbformat_minor": 2
}
