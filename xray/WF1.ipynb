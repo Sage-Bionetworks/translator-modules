{
 "cells": [
  {
   "cell_type": "code",
   "execution_count": 1,
   "metadata": {},
   "outputs": [],
   "source": [
    "# This is a solution script for workflow #1 using results from 3(+) reasoning teams\n",
    "#### Set the input disease, change this value to test a new disease\n",
    "input_disease = \"DOID:9352\"\n"
   ]
  },
  {
   "cell_type": "code",
   "execution_count": 2,
   "metadata": {},
   "outputs": [],
   "source": [
    "#### Import some needed modules\n",
    "import requests\n",
    "import json\n",
    "#### Workflow 1\n",
    "\n",
    "num_robocop_results = 25\n",
    "output_format=\"DENSE\"\n",
    "\n",
    "#### Set the base URL for the reasoner and its endpoint\n",
    "XRAY_API_BASE_URL = 'https://rtx.ncats.io/api/rtx/v1'\n",
    "xray_url_str = XRAY_API_BASE_URL + \"/query\"\n",
    "\n",
    "ROBOCOP_API_BASE_URL = 'http://robokop.renci.org/api/'\n",
    "robocop_mod3_url_str = ROBOCOP_API_BASE_URL + \"simple/quick/template/wf1mod3/%s/?max_results=%d&output_format=%s\" % (input_disease, num_robocop_results,output_format)\n",
    "robocop_mod3a_url_str = ROBOCOP_API_BASE_URL + \"simple/quick/template/wf1mod3_v2/%s/?max_results=%d&output_format=%s\" % (input_disease, num_robocop_results,output_format)\n",
    "\n",
    "annot_url_str = \"https://rtx.ncats.io/api/rtx/v1/response/process\""
   ]
  },
  {
   "cell_type": "code",
   "execution_count": 3,
   "metadata": {},
   "outputs": [
    {
     "name": "stdout",
     "output_type": "stream",
     "text": [
      "Module 1 completed successfully. 16 conditions with similar phenotypes found\n",
      "\n",
      "HEART DEFECTS, CONGENITAL, AND OTHER CONGENITAL ANOMALIES; HDCA\n",
      "DIABETES MELLITUS, PERMANENT NEONATAL; PNDM\n",
      "PANCREATIC AND CEREBELLAR AGENESIS; PACA\n",
      "MATURITY-ONSET DIABETES OF THE YOUNG; MODY\n",
      "RENAL CYSTS AND DIABETES SYNDROME; RCAD\n",
      "LIPODYSTROPHY, FAMILIAL PARTIAL, TYPE 6; FPLD6\n",
      "LIPODYSTROPHY, CONGENITAL GENERALIZED, TYPE 1; CGL1\n",
      "LIPODYSTROPHY, CONGENITAL GENERALIZED, TYPE 2; CGL2\n",
      "LIPODYSTROPHY, FAMILIAL PARTIAL, TYPE 2; FPLD2\n",
      "MANDIBULOACRAL DYSPLASIA WITH TYPE A LIPODYSTROPHY; MADA\n",
      "LIPODYSTROPHY, FAMILIAL PARTIAL, TYPE 5; FPLD5\n",
      "HYPOTHYROIDISM, CENTRAL, AND TESTICULAR ENLARGEMENT; CHTE\n",
      "HYPOBETALIPOPROTEINEMIA, FAMILIAL, 2; FHBL2\n",
      "MATURITY-ONSET DIABETES OF THE YOUNG, TYPE 8, WITH EXOCRINE DYSFUNCTION; MODY8\n",
      "MATURITY-ONSET DIABETES OF THE YOUNG, TYPE 11; MODY11\n",
      "APOLIPOPROTEIN C-III DEFICIENCY\n",
      "OSTEOPETROSIS, AUTOSOMAL RECESSIVE 6; OPTB6\n",
      "DIABETES MELLITUS, TRANSIENT NEONATAL, 3\n",
      "GLOMERULOCYSTIC KIDNEY DISEASE WITH HYPERURICEMIA AND ISOSTHENURIA\n",
      "COMPLEMENT COMPONENT C1s DEFICIENCY; C1SD\n",
      "HYPERALPHALIPOPROTEINEMIA 1; HALP1\n",
      "PANCREATIC AGENESIS 1; PAGEN1\n",
      "EPIPHYSEAL DYSPLASIA, MULTIPLE, WITH EARLY-ONSET DIABETES MELLITUS\n",
      "ISLET CELL ADENOMATOSIS\n",
      "THIAMINE METABOLISM DYSFUNCTION SYNDROME 4 (BILATERAL STRIATAL DEGENERATION AND PROGRESSIVE POLYNEUROPATHY TYPE); THMD4\n"
     ]
    }
   ],
   "source": [
    "################################################################\n",
    "# X-ray module 1: given a disease, find genetic conditions that share \"representative phenotypes\" in common\n",
    "\n",
    "#### Create a dict of the request, specifying the query type and its parameters\n",
    "request = {\"query_type_id\": \"Q10001\", \"terms\": {\"disease\": input_disease}}\n",
    "\n",
    "#### Send the request to RTX and check the status\n",
    "response_content = requests.post(xray_url_str, json=request, headers={'accept': 'application/json'})\n",
    "status_code = response_content.status_code\n",
    "assert status_code == 200 !=0, \"Module 1 failed\"\n",
    "module1_xray_results_json = response_content.json()\n",
    "print('Module 1 completed successfully. ' + str(len(module1_xray_results_json)) + ' conditions with similar phenotypes found\\n')\n",
    "for result in module1_xray_results_json['result_list']:\n",
    "        print(result['essence'])"
   ]
  },
  {
   "cell_type": "code",
   "execution_count": 4,
   "metadata": {},
   "outputs": [
    {
     "name": "stdout",
     "output_type": "stream",
     "text": [
      "Module 2 completed successfully\n",
      "25 drugs found:\n",
      "('insulin lispro', 'CHEMBL.COMPOUND:CHEMBL1201538')\n",
      "('medrysone', 'CHEMBL.COMPOUND:CHEMBL1201173')\n",
      "('methyltestosterone', 'CHEMBL.COMPOUND:CHEMBL1395')\n",
      "('insulin aspart', 'CHEMBL.COMPOUND:CHEMBL1201496')\n",
      "('insulin glulisine', 'CHEMBL.COMPOUND:CHEMBL1201613')\n",
      "('calusterone', 'CHEMBL.COMPOUND:CHEMBL455706')\n",
      "('methandrostenolone', 'CHEMBL.COMPOUND:CHEMBL1418176')\n",
      "('norgestimate', 'CHEMBL.COMPOUND:CHEMBL1200934')\n",
      "('insulin glargine', 'CHEMBL.COMPOUND:CHEMBL1201497')\n",
      "('norethandrolone', 'CHEMBL.COMPOUND:CHEMBL1697845')\n",
      "('insulin human', 'CHEMBL.COMPOUND:CHEMBL1201631')\n",
      "('repaglinide', 'CHEMBL.COMPOUND:CHEMBL1272')\n",
      "('sitagliptin', 'CHEMBL.COMPOUND:CHEMBL1422')\n",
      "('etonogestrel', 'CHEMBL.COMPOUND:CHEMBL1531')\n",
      "('canrenone', 'CHEMBL.COMPOUND:CHEMBL1463345')\n",
      "('norelgestromin', 'CHEMBL.COMPOUND:CHEMBL1200807')\n",
      "('mifepristone', 'CHEMBL.COMPOUND:CHEMBL1276308')\n",
      "('insulin degludec', 'CHEMBL.COMPOUND:CHEMBL2107869')\n",
      "('insulin pork', 'CHEMBL.COMPOUND:CHEMBL1201539')\n",
      "('ulipristal', 'CHEMBL.COMPOUND:CHEMBL2103846')\n",
      "('fluconazole', 'CHEMBL.COMPOUND:CHEMBL106')\n",
      "('insulin detemir', 'CHEMBL.COMPOUND:CHEMBL2104391')\n",
      "('olodaterol', 'CHEMBL.COMPOUND:CHEMBL605846')\n",
      "('megestrol', 'CHEMBL.COMPOUND:CHEMBL1201139')\n",
      "('gestrinone', 'CHEMBL.COMPOUND:CHEMBL1868702')\n"
     ]
    }
   ],
   "source": [
    "request = {\"query_type_id\": \"Q55\", \"terms\": {\"disease\": input_disease}}\n",
    "\n",
    "#### Send the request to RTX and check the status\n",
    "response_content = requests.post(xray_url_str, json=request, headers={'accept': 'application/json'})\n",
    "status_code = response_content.status_code\n",
    "assert status_code == 200 !=0, \"Module 2 failed\"\n",
    "module2_xray_results_json = response_content.json()\n",
    "\n",
    "myResultSet = set()\n",
    "for result in module2_xray_results_json['result_list']:\n",
    "    if 'row_data' in result:\n",
    "        myResultSet.add((result['row_data'][2],result['row_data'][3]))\n",
    "        \n",
    "#this is to resolve potential caching issues that cause results without row_data to be returned\n",
    "#Could use some cleanup to resolve the repetition\n",
    "if(len(myResultSet)==0):\n",
    "    request = {\"query_type_id\": \"Q55\", \"terms\": {\"disease\": input_disease}, \"bypass_cache\": \"true\"}\n",
    "    response_content = requests.post(xray_url_str, json=request, headers={'accept': 'application/json'})\n",
    "    status_code = response_content.status_code\n",
    "    assert status_code == 200 !=0, \"Module 2 failed\"\n",
    "    module2_xray_results_json = response_content.json()\n",
    "    \n",
    "    for result in module2_xray_results_json['result_list']:\n",
    "        if 'row_data' in result:\n",
    "            myResultSet.add((result['row_data'][2],result['row_data'][3]))\n",
    "\n",
    "print(\"Module 2 completed successfully\")\n",
    "print(str(len(myResultSet))+' drugs found:')\n",
    "for drug in myResultSet:\n",
    "   print(drug)"
   ]
  },
  {
   "cell_type": "code",
   "execution_count": 5,
   "metadata": {},
   "outputs": [
    {
     "name": "stdout",
     "output_type": "stream",
     "text": [
      "Module 3 completed successfully\n",
      "25 related chemical substances found\n",
      "Module 3a completed successfully\n",
      "25 related chemical substances found\n"
     ]
    }
   ],
   "source": [
    "################################################################\n",
    "# Gamma team module 3: agent-centric\n",
    "# Mod 3 un-lettered approach\n",
    "response_content = requests.get(robocop_mod3_url_str, json={}, headers={'accept': 'application/json'})\n",
    "status_code = response_content.status_code\n",
    "assert status_code == 200 !=0, \"Module 3 failed\"\n",
    "module3_robocop_results_json = response_content.json()\n",
    "print(\"Module 3 completed successfully\")\n",
    "try:\n",
    "    print(str(len(module3_robocop_results_json['result_list']))+' related chemical substances found')\n",
    "except:\n",
    "    print (\"Module 3 found no related chemical substances\")\n",
    "\n",
    "# Mod3a approach\n",
    "response_content = requests.get(robocop_mod3a_url_str, json={}, headers={'accept': 'application/json'})\n",
    "status_code = response_content.status_code\n",
    "assert status_code == 200 !=0 ,\"Module 3a failed\"\n",
    "module3a_robocop_results_json = response_content.json()\n",
    "print(\"Module 3a completed successfully\")\n",
    "try:\n",
    "    print(str(len(module3a_robocop_results_json['result_list']))+' related chemical substances found')\n",
    "except: \n",
    "    print(\"Module 3a found no related chemical substances\")\n"
   ]
  },
  {
   "cell_type": "code",
   "execution_count": 22,
   "metadata": {},
   "outputs": [
    {
     "name": "stdout",
     "output_type": "stream",
     "text": [
      "Annotation completed\n"
     ]
    }
   ],
   "source": [
    "################################################################\n",
    "# Orange team module 4+5: annotation and scoring\n",
    "\n",
    "# annotate the x-ray results\n",
    "to_post = {\"options\": [\"AnnotateDrugs\", \"Store\", \"ReturnResponseId\"], \"responses\": [module2_xray_results_json]}\n",
    "module2_xray_results_annot_json = requests.post(annot_url_str, json=to_post)\n",
    "# annotate gamma 3\n",
    "to_post = {\"options\": [\"AnnotateDrugs\", \"Store\", \"ReturnResponseId\"], \"responses\": [module3_robocop_results_json]}\n",
    "module3_robocop_results_annot_json = requests.post(annot_url_str, json=to_post)\n",
    "#annotate gamma 3a\n",
    "to_post = {\"options\": [\"AnnotateDrugs\", \"Store\", \"ReturnResponseId\"], \"responses\": [module3a_robocop_results_json]}\n",
    "module3a_robocop_results_annot_json = requests.post(annot_url_str, json=to_post)\n",
    "\n",
    "all = module2_xray_results_annot_json\n",
    "# merge results\n",
    "if module3_robocop_results_annot_json.json()['status']==200:\n",
    "    to_post = {\"options\": [\"AnnotateDrugs\", \"Store\", \"ReturnResponseId\"], \"responseURIs\":[module2_xray_results_json['id']],\"responses\": [module3_robocop_results_json]}\n",
    "    all = requests.post(annot_url_str, json=to_post)\n",
    "    \n",
    "if module3a_robocop_results_annot_json.json()['status']==200:\n",
    "    to_post = {\"options\": [\"AnnotateDrugs\", \"Store\", \"ReturnResponseId\"], \"responseURIs\":[module2_xray_results_json['id']],\"responses\": [module3a_robocop_results_json]}\n",
    "    all = requests.post(annot_url_str, json=to_post)\n",
    "\n",
    "print(\"Annotation completed\")\n"
   ]
  },
  {
   "cell_type": "code",
   "execution_count": 23,
   "metadata": {},
   "outputs": [
    {
     "name": "stdout",
     "output_type": "stream",
     "text": [
      "Please visit the following website: https://rtx.ncats.io/devLM/list.html?r=1416\n"
     ]
    }
   ],
   "source": [
    "################################################################\n",
    "# Visualization\n",
    "# The above API call creates a website (dynamically) where the results can be viewed\n",
    "print(\"Please visit the following website: https://rtx.ncats.io/devLM/list.html?r=%s\" % all.json()['response_id'])\n",
    "\n",
    "# will return something like the following:\n",
    "# https://rtx.ncats.io/devLM/list.html?r=473"
   ]
  },
  {
   "cell_type": "code",
   "execution_count": null,
   "metadata": {},
   "outputs": [],
   "source": []
  }
 ],
 "metadata": {
  "kernelspec": {
   "display_name": "py36-test",
   "language": "python",
   "name": "py36-test"
  },
  "language_info": {
   "codemirror_mode": {
    "name": "ipython",
    "version": 3
   },
   "file_extension": ".py",
   "mimetype": "text/x-python",
   "name": "python",
   "nbconvert_exporter": "python",
   "pygments_lexer": "ipython3",
   "version": "3.7.0"
  }
 },
 "nbformat": 4,
 "nbformat_minor": 2
}
