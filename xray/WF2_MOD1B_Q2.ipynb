{
 "cells": [
  {
   "cell_type": "code",
   "execution_count": 1,
   "metadata": {},
   "outputs": [],
   "source": [
    "#### Import some needed modules\n",
    "import requests\n",
    "import json\n",
    "import sys"
   ]
  },
  {
   "cell_type": "code",
   "execution_count": 2,
   "metadata": {},
   "outputs": [],
   "source": [
    "#### Set the base URL for the reasoner and its endpoint\n",
    "API_BASE_URL = 'https://rtx.ncats.io/api/rtx/v1'\n",
    "url_str = API_BASE_URL + \"/query\""
   ]
  },
  {
   "cell_type": "code",
   "execution_count": 3,
   "metadata": {},
   "outputs": [],
   "source": [
    "#### Create a dict of the request, specifying the the query type to Q52 - \"What are the phenotypes associated with $protein\"\n",
    "#### Set protein to the curie id of the desired protein and run.\n",
    "request = { \"query_type_id\": \"Q52\", \"terms\": { \"protein\": \"UniProtKB:Q9NVI1\" } }"
   ]
  },
  {
   "cell_type": "code",
   "execution_count": 4,
   "metadata": {},
   "outputs": [],
   "source": [
    "#### Send the request to RTX and check the status\n",
    "response_content = requests.post(url_str, json=request, headers={'accept': 'application/json'})\n",
    "status_code = response_content.status_code\n",
    "assert status_code == 200"
   ]
  },
  {
   "cell_type": "code",
   "execution_count": 5,
   "metadata": {},
   "outputs": [],
   "source": [
    "#### Unpack the response content into a dict\n",
    "response_dict = response_content.json()"
   ]
  },
  {
   "cell_type": "code",
   "execution_count": 6,
   "metadata": {},
   "outputs": [
    {
     "name": "stdout",
     "output_type": "stream",
     "text": [
      "source name\tsource ID\ttarget name\ttarget ID\n",
      "FA complementation group I\tUniProtKB:Q9NVI1\tChromosomal breakage induced by crosslinking agents\tHP:0003221\n",
      "FA complementation group I\tUniProtKB:Q9NVI1\tAbnormal renal morphology\tHP:0012210\n",
      "FA complementation group I\tUniProtKB:Q9NVI1\tAbnormality of cardiovascular system morphology\tHP:0030680\n"
     ]
    }
   ],
   "source": [
    "#### Display the summary table of the results\n",
    "if \"table_column_names\" in response_dict:\n",
    "  print(\"\\t\".join(response_dict[\"table_column_names\"]))\n",
    "  for result in response_dict[\"result_list\"]:\n",
    "    print(\"\\t\".join(result[\"row_data\"]))\n",
    "    \n",
    "#### NOTE: Some rows below appear as duplicates in this summary table but they correspond to different paths in the KG."
   ]
  },
  {
   "cell_type": "code",
   "execution_count": 7,
   "metadata": {},
   "outputs": [
    {
     "name": "stdout",
     "output_type": "stream",
     "text": [
      "{\n",
      "    \"context\": \"https://raw.githubusercontent.com/biolink/biolink-model/master/context.jsonld\",\n",
      "    \"datetime\": \"2018-09-11 23:32:05\",\n",
      "    \"id\": \"http://rtx.ncats.io/api/rtx/v1/response/379\",\n",
      "    \"message\": \"3 results found\",\n",
      "    \"original_question_text\": \"\",\n",
      "    \"query_type_id\": \"Q52\",\n",
      "    \"reasoner_id\": \"RTX\",\n",
      "    \"response_code\": \"OK\",\n",
      "    \"restated_question_text\": \"\",\n",
      "    \"result_list\": [\n",
      "        {\n",
      "            \"confidence\": 1.0,\n",
      "            \"essence\": \"Chromosomal breakage induced by crosslinking agents\",\n",
      "            \"id\": \"http://rtx.ncats.io/api/rtx/v1/result/7117\",\n",
      "            \"reasoner_id\": \"RTX\",\n",
      "            \"result_graph\": {\n",
      "                \"edge_list\": [\n",
      "                    {\n",
      "                        \"is_defined_by\": \"RTX\",\n",
      "                        \"provided_by\": \"http://identifiers.org/uniprot/Q9NVI1\",\n",
      "                        \"source_id\": \"UniProtKB:Q9NVI1\",\n",
      "                        \"target_id\": \"HP:0003221\",\n",
      "                        \"type\": \"has_phenotype\"\n",
      "                    }\n",
      "                ],\n",
      "                \"node_list\": [\n",
      "                    {\n",
      "                        \"description\": \"Increased amount of chromosomal breaks in cultured blood lymphocytes or other cells induced by treatment with DNA cross-linking agents such as diepoxybutane and mitomycin C.\",\n",
      "                        \"id\": \"HP:0003221\",\n",
      "                        \"name\": \"Chromosomal breakage induced by crosslinking agents\",\n",
      "                        \"type\": \"phenotypic_feature\",\n",
      "                        \"uri\": \"http://purl.obolibrary.org/obo/HP_0003221\"\n",
      "                    },\n",
      "                    {\n",
      "                        \"description\": \"The Fanconi anemia complementation group (FANC) currently includes FANCA, FANCB, FANCC, FANCD1 (also called BRCA2), FANCD2, FANCE, FANCF, FANCG, FANCI, FANCJ (also called BRIP1), FANCL, FANCM and FANCN (also called PALB2). The previously defined group FANCH is the same as FANCA. Fanconi anemia is a genetically heterogeneous recessive disorder characterized by cytogenetic instability, hypersensitivity to DNA crosslinking agents, increased chromosomal breakage, and defective DNA repair. The members of the Fanconi anemia complementation group do not share sequence similarity; they are related by their assembly into a common nuclear protein complex. This gene encodes the protein for complementation group I. Alternative splicing results in two transcript variants encoding different isoforms. [provided by RefSeq, Jul 2008].\",\n",
      "                        \"id\": \"UniProtKB:Q9NVI1\",\n",
      "                        \"name\": \"FA complementation group I\",\n",
      "                        \"type\": \"protein\",\n",
      "                        \"uri\": \"http://identifiers.org/uniprot/Q9NVI1\"\n",
      "                    }\n",
      "                ]\n",
      "            },\n",
      "            \"result_type\": \"individual query answer\",\n",
      "            \"row_data\": [\n",
      "                \"FA complementation group I\",\n",
      "                \"UniProtKB:Q9NVI1\",\n",
      "                \"Chromosomal breakage induced by crosslinking agents\",\n",
      "                \"HP:0003221\"\n",
      "            ],\n",
      "            \"text\": \"FA complementation group I and Chromosomal breakage induced by crosslinking agents are connected by the relationship has_phenotype\"\n",
      "        },\n",
      "        {\n",
      "            \"confidence\": 1.0,\n",
      "            \"essence\": \"Abnormal renal morphology\",\n",
      "            \"id\": \"http://rtx.ncats.io/api/rtx/v1/result/7118\",\n",
      "            \"reasoner_id\": \"RTX\",\n",
      "            \"result_graph\": {\n",
      "                \"edge_list\": [\n",
      "                    {\n",
      "                        \"is_defined_by\": \"RTX\",\n",
      "                        \"provided_by\": \"http://identifiers.org/uniprot/Q9NVI1\",\n",
      "                        \"source_id\": \"UniProtKB:Q9NVI1\",\n",
      "                        \"target_id\": \"HP:0012210\",\n",
      "                        \"type\": \"has_phenotype\"\n",
      "                    }\n",
      "                ],\n",
      "                \"node_list\": [\n",
      "                    {\n",
      "                        \"description\": \"Any structural anomaly of the kidney.\",\n",
      "                        \"id\": \"HP:0012210\",\n",
      "                        \"name\": \"Abnormal renal morphology\",\n",
      "                        \"type\": \"phenotypic_feature\",\n",
      "                        \"uri\": \"http://purl.obolibrary.org/obo/HP_0012210\"\n",
      "                    },\n",
      "                    {\n",
      "                        \"description\": \"The Fanconi anemia complementation group (FANC) currently includes FANCA, FANCB, FANCC, FANCD1 (also called BRCA2), FANCD2, FANCE, FANCF, FANCG, FANCI, FANCJ (also called BRIP1), FANCL, FANCM and FANCN (also called PALB2). The previously defined group FANCH is the same as FANCA. Fanconi anemia is a genetically heterogeneous recessive disorder characterized by cytogenetic instability, hypersensitivity to DNA crosslinking agents, increased chromosomal breakage, and defective DNA repair. The members of the Fanconi anemia complementation group do not share sequence similarity; they are related by their assembly into a common nuclear protein complex. This gene encodes the protein for complementation group I. Alternative splicing results in two transcript variants encoding different isoforms. [provided by RefSeq, Jul 2008].\",\n",
      "                        \"id\": \"UniProtKB:Q9NVI1\",\n",
      "                        \"name\": \"FA complementation group I\",\n",
      "                        \"type\": \"protein\",\n",
      "                        \"uri\": \"http://identifiers.org/uniprot/Q9NVI1\"\n",
      "                    }\n",
      "                ]\n",
      "            },\n",
      "            \"result_type\": \"individual query answer\",\n",
      "            \"row_data\": [\n",
      "                \"FA complementation group I\",\n",
      "                \"UniProtKB:Q9NVI1\",\n",
      "                \"Abnormal renal morphology\",\n",
      "                \"HP:0012210\"\n",
      "            ],\n",
      "            \"text\": \"FA complementation group I and Abnormal renal morphology are connected by the relationship has_phenotype\"\n",
      "        },\n",
      "        {\n",
      "            \"confidence\": 1.0,\n",
      "            \"essence\": \"Abnormality of cardiovascular system morphology\",\n",
      "            \"id\": \"http://rtx.ncats.io/api/rtx/v1/result/7119\",\n",
      "            \"reasoner_id\": \"RTX\",\n",
      "            \"result_graph\": {\n",
      "                \"edge_list\": [\n",
      "                    {\n",
      "                        \"is_defined_by\": \"RTX\",\n",
      "                        \"provided_by\": \"http://identifiers.org/uniprot/Q9NVI1\",\n",
      "                        \"source_id\": \"UniProtKB:Q9NVI1\",\n",
      "                        \"target_id\": \"HP:0030680\",\n",
      "                        \"type\": \"has_phenotype\"\n",
      "                    }\n",
      "                ],\n",
      "                \"node_list\": [\n",
      "                    {\n",
      "                        \"description\": \"Any structural anomaly of the heart and great vessels.\",\n",
      "                        \"id\": \"HP:0030680\",\n",
      "                        \"name\": \"Abnormality of cardiovascular system morphology\",\n",
      "                        \"type\": \"phenotypic_feature\",\n",
      "                        \"uri\": \"http://purl.obolibrary.org/obo/HP_0030680\"\n",
      "                    },\n",
      "                    {\n",
      "                        \"description\": \"The Fanconi anemia complementation group (FANC) currently includes FANCA, FANCB, FANCC, FANCD1 (also called BRCA2), FANCD2, FANCE, FANCF, FANCG, FANCI, FANCJ (also called BRIP1), FANCL, FANCM and FANCN (also called PALB2). The previously defined group FANCH is the same as FANCA. Fanconi anemia is a genetically heterogeneous recessive disorder characterized by cytogenetic instability, hypersensitivity to DNA crosslinking agents, increased chromosomal breakage, and defective DNA repair. The members of the Fanconi anemia complementation group do not share sequence similarity; they are related by their assembly into a common nuclear protein complex. This gene encodes the protein for complementation group I. Alternative splicing results in two transcript variants encoding different isoforms. [provided by RefSeq, Jul 2008].\",\n",
      "                        \"id\": \"UniProtKB:Q9NVI1\",\n",
      "                        \"name\": \"FA complementation group I\",\n",
      "                        \"type\": \"protein\",\n",
      "                        \"uri\": \"http://identifiers.org/uniprot/Q9NVI1\"\n",
      "                    }\n",
      "                ]\n",
      "            },\n",
      "            \"result_type\": \"individual query answer\",\n",
      "            \"row_data\": [\n",
      "                \"FA complementation group I\",\n",
      "                \"UniProtKB:Q9NVI1\",\n",
      "                \"Abnormality of cardiovascular system morphology\",\n",
      "                \"HP:0030680\"\n",
      "            ],\n",
      "            \"text\": \"FA complementation group I and Abnormality of cardiovascular system morphology are connected by the relationship has_phenotype\"\n",
      "        }\n",
      "    ],\n",
      "    \"schema_version\": \"0.8.0\",\n",
      "    \"table_column_names\": [\n",
      "        \"source name\",\n",
      "        \"source ID\",\n",
      "        \"target name\",\n",
      "        \"target ID\"\n",
      "    ],\n",
      "    \"terms\": {\n",
      "        \"protein\": \"UniProtKB:Q9NVI1\"\n",
      "    },\n",
      "    \"tool_version\": \"RTX 0.5.4\",\n",
      "    \"type\": \"medical_translator_query_response\"\n",
      "}\n"
     ]
    }
   ],
   "source": [
    "#### Or dump the whole detailed JSON response_content data structure\n",
    "print(json.dumps(response_dict, indent=4, sort_keys=True))"
   ]
  },
  {
   "cell_type": "code",
   "execution_count": null,
   "metadata": {},
   "outputs": [],
   "source": []
  }
 ],
 "metadata": {
  "kernelspec": {
   "display_name": "Python 3",
   "language": "python",
   "name": "python3"
  },
  "language_info": {
   "codemirror_mode": {
    "name": "ipython",
    "version": 3
   },
   "file_extension": ".py",
   "mimetype": "text/x-python",
   "name": "python",
   "nbconvert_exporter": "python",
   "pygments_lexer": "ipython3",
   "version": "3.6.5"
  }
 },
 "nbformat": 4,
 "nbformat_minor": 2
}
