{
 "cells": [
  {
   "cell_type": "code",
   "execution_count": 1,
   "metadata": {},
   "outputs": [],
   "source": [
    "#### Import some needed modules\n",
    "import requests\n",
    "import json\n",
    "import sys"
   ]
  },
  {
   "cell_type": "code",
   "execution_count": 2,
   "metadata": {},
   "outputs": [],
   "source": [
    "#### Set the base URL for the reasoner and its endpoint\n",
    "API_BASE_URL = 'https://rtx.ncats.io/api/rtx/v1'\n",
    "url_str = API_BASE_URL + \"/query\""
   ]
  },
  {
   "cell_type": "code",
   "execution_count": 3,
   "metadata": {},
   "outputs": [],
   "source": [
    "#### Create a dict of the request, specifying the the query type to Q10 - \"What proteins are associated with $phenotypic_feature\"\n",
    "#### Set protein to the curie id of the desired protein and run.\n",
    "request = { \"query_type_id\": \"Q10\", \"terms\": { \"phenotypic_feature\": \"HP:0003221\" } }"
   ]
  },
  {
   "cell_type": "code",
   "execution_count": 4,
   "metadata": {},
   "outputs": [],
   "source": [
    "#### Send the request to RTX and check the status\n",
    "response_content = requests.post(url_str, json=request, headers={'accept': 'application/json'})\n",
    "status_code = response_content.status_code\n",
    "assert status_code == 200"
   ]
  },
  {
   "cell_type": "code",
   "execution_count": 5,
   "metadata": {},
   "outputs": [],
   "source": [
    "#### Unpack the response content into a dict\n",
    "response_dict = response_content.json()"
   ]
  },
  {
   "cell_type": "code",
   "execution_count": 6,
   "metadata": {},
   "outputs": [
    {
     "name": "stdout",
     "output_type": "stream",
     "text": [
      "source name\tsource ID\ttarget name\ttarget ID\n",
      "Chromosomal breakage induced by crosslinking agents\tHP:0003221\tBRCA1 interacting protein C-terminal helicase 1\tUniProtKB:Q9BX63\n",
      "Chromosomal breakage induced by crosslinking agents\tHP:0003221\tpartner and localizer of BRCA2\tUniProtKB:Q86YC2\n",
      "Chromosomal breakage induced by crosslinking agents\tHP:0003221\tFA complementation group I\tUniProtKB:Q9NVI1\n"
     ]
    }
   ],
   "source": [
    "#### Display the summary table of the results\n",
    "if \"table_column_names\" in response_dict:\n",
    "  print(\"\\t\".join(response_dict[\"table_column_names\"]))\n",
    "  for result in response_dict[\"result_list\"]:\n",
    "    print(\"\\t\".join(result[\"row_data\"]))\n",
    "    \n",
    "#### NOTE: Some rows below appear as duplicates in this summary table but they correspond to different paths in the KG."
   ]
  },
  {
   "cell_type": "code",
   "execution_count": 7,
   "metadata": {},
   "outputs": [
    {
     "name": "stdout",
     "output_type": "stream",
     "text": [
      "{\n",
      "    \"context\": \"https://raw.githubusercontent.com/biolink/biolink-model/master/context.jsonld\",\n",
      "    \"datetime\": \"2018-09-11 23:35:30\",\n",
      "    \"id\": \"http://rtx.ncats.io/api/rtx/v1/response/380\",\n",
      "    \"message\": \"3 results found\",\n",
      "    \"original_question_text\": \"\",\n",
      "    \"query_type_id\": \"Q10\",\n",
      "    \"reasoner_id\": \"RTX\",\n",
      "    \"response_code\": \"OK\",\n",
      "    \"restated_question_text\": \"\",\n",
      "    \"result_list\": [\n",
      "        {\n",
      "            \"confidence\": 1.0,\n",
      "            \"essence\": \"BRCA1 interacting protein C-terminal helicase 1\",\n",
      "            \"id\": \"http://rtx.ncats.io/api/rtx/v1/result/7120\",\n",
      "            \"reasoner_id\": \"RTX\",\n",
      "            \"result_graph\": {\n",
      "                \"edge_list\": [\n",
      "                    {\n",
      "                        \"is_defined_by\": \"RTX\",\n",
      "                        \"provided_by\": \"http://identifiers.org/uniprot/Q9BX63\",\n",
      "                        \"source_id\": \"UniProtKB:Q9BX63\",\n",
      "                        \"target_id\": \"HP:0003221\",\n",
      "                        \"type\": \"has_phenotype\"\n",
      "                    }\n",
      "                ],\n",
      "                \"node_list\": [\n",
      "                    {\n",
      "                        \"description\": \"The protein encoded by this gene is a member of the RecQ DEAH helicase family and interacts with the BRCT repeats of breast cancer, type 1 (BRCA1). The bound complex is important in the normal double-strand break repair function of breast cancer, type 1 (BRCA1). This gene may be a target of germline cancer-inducing mutations. [provided by RefSeq, Jul 2008].\",\n",
      "                        \"id\": \"UniProtKB:Q9BX63\",\n",
      "                        \"name\": \"BRCA1 interacting protein C-terminal helicase 1\",\n",
      "                        \"type\": \"protein\",\n",
      "                        \"uri\": \"http://identifiers.org/uniprot/Q9BX63\"\n",
      "                    },\n",
      "                    {\n",
      "                        \"description\": \"Increased amount of chromosomal breaks in cultured blood lymphocytes or other cells induced by treatment with DNA cross-linking agents such as diepoxybutane and mitomycin C.\",\n",
      "                        \"id\": \"HP:0003221\",\n",
      "                        \"name\": \"Chromosomal breakage induced by crosslinking agents\",\n",
      "                        \"type\": \"phenotypic_feature\",\n",
      "                        \"uri\": \"http://purl.obolibrary.org/obo/HP_0003221\"\n",
      "                    }\n",
      "                ]\n",
      "            },\n",
      "            \"result_type\": \"individual query answer\",\n",
      "            \"row_data\": [\n",
      "                \"Chromosomal breakage induced by crosslinking agents\",\n",
      "                \"HP:0003221\",\n",
      "                \"BRCA1 interacting protein C-terminal helicase 1\",\n",
      "                \"UniProtKB:Q9BX63\"\n",
      "            ],\n",
      "            \"text\": \"Chromosomal breakage induced by crosslinking agents and BRCA1 interacting protein C-terminal helicase 1 are connected by the relationship has_phenotype\"\n",
      "        },\n",
      "        {\n",
      "            \"confidence\": 1.0,\n",
      "            \"essence\": \"partner and localizer of BRCA2\",\n",
      "            \"id\": \"http://rtx.ncats.io/api/rtx/v1/result/7121\",\n",
      "            \"reasoner_id\": \"RTX\",\n",
      "            \"result_graph\": {\n",
      "                \"edge_list\": [\n",
      "                    {\n",
      "                        \"is_defined_by\": \"RTX\",\n",
      "                        \"provided_by\": \"http://identifiers.org/uniprot/Q86YC2\",\n",
      "                        \"source_id\": \"UniProtKB:Q86YC2\",\n",
      "                        \"target_id\": \"HP:0003221\",\n",
      "                        \"type\": \"has_phenotype\"\n",
      "                    }\n",
      "                ],\n",
      "                \"node_list\": [\n",
      "                    {\n",
      "                        \"description\": \"This gene encodes a protein that may function in tumor suppression. This protein binds to and colocalizes with the breast cancer 2 early onset protein (BRCA2) in nuclear foci and likely permits the stable intranuclear localization and accumulation of BRCA2. [provided by RefSeq, Jul 2008].\",\n",
      "                        \"id\": \"UniProtKB:Q86YC2\",\n",
      "                        \"name\": \"partner and localizer of BRCA2\",\n",
      "                        \"type\": \"protein\",\n",
      "                        \"uri\": \"http://identifiers.org/uniprot/Q86YC2\"\n",
      "                    },\n",
      "                    {\n",
      "                        \"description\": \"Increased amount of chromosomal breaks in cultured blood lymphocytes or other cells induced by treatment with DNA cross-linking agents such as diepoxybutane and mitomycin C.\",\n",
      "                        \"id\": \"HP:0003221\",\n",
      "                        \"name\": \"Chromosomal breakage induced by crosslinking agents\",\n",
      "                        \"type\": \"phenotypic_feature\",\n",
      "                        \"uri\": \"http://purl.obolibrary.org/obo/HP_0003221\"\n",
      "                    }\n",
      "                ]\n",
      "            },\n",
      "            \"result_type\": \"individual query answer\",\n",
      "            \"row_data\": [\n",
      "                \"Chromosomal breakage induced by crosslinking agents\",\n",
      "                \"HP:0003221\",\n",
      "                \"partner and localizer of BRCA2\",\n",
      "                \"UniProtKB:Q86YC2\"\n",
      "            ],\n",
      "            \"text\": \"Chromosomal breakage induced by crosslinking agents and partner and localizer of BRCA2 are connected by the relationship has_phenotype\"\n",
      "        },\n",
      "        {\n",
      "            \"confidence\": 1.0,\n",
      "            \"essence\": \"FA complementation group I\",\n",
      "            \"id\": \"http://rtx.ncats.io/api/rtx/v1/result/7117\",\n",
      "            \"reasoner_id\": \"RTX\",\n",
      "            \"result_graph\": {\n",
      "                \"edge_list\": [\n",
      "                    {\n",
      "                        \"is_defined_by\": \"RTX\",\n",
      "                        \"provided_by\": \"http://identifiers.org/uniprot/Q9NVI1\",\n",
      "                        \"source_id\": \"UniProtKB:Q9NVI1\",\n",
      "                        \"target_id\": \"HP:0003221\",\n",
      "                        \"type\": \"has_phenotype\"\n",
      "                    }\n",
      "                ],\n",
      "                \"node_list\": [\n",
      "                    {\n",
      "                        \"description\": \"Increased amount of chromosomal breaks in cultured blood lymphocytes or other cells induced by treatment with DNA cross-linking agents such as diepoxybutane and mitomycin C.\",\n",
      "                        \"id\": \"HP:0003221\",\n",
      "                        \"name\": \"Chromosomal breakage induced by crosslinking agents\",\n",
      "                        \"type\": \"phenotypic_feature\",\n",
      "                        \"uri\": \"http://purl.obolibrary.org/obo/HP_0003221\"\n",
      "                    },\n",
      "                    {\n",
      "                        \"description\": \"The Fanconi anemia complementation group (FANC) currently includes FANCA, FANCB, FANCC, FANCD1 (also called BRCA2), FANCD2, FANCE, FANCF, FANCG, FANCI, FANCJ (also called BRIP1), FANCL, FANCM and FANCN (also called PALB2). The previously defined group FANCH is the same as FANCA. Fanconi anemia is a genetically heterogeneous recessive disorder characterized by cytogenetic instability, hypersensitivity to DNA crosslinking agents, increased chromosomal breakage, and defective DNA repair. The members of the Fanconi anemia complementation group do not share sequence similarity; they are related by their assembly into a common nuclear protein complex. This gene encodes the protein for complementation group I. Alternative splicing results in two transcript variants encoding different isoforms. [provided by RefSeq, Jul 2008].\",\n",
      "                        \"id\": \"UniProtKB:Q9NVI1\",\n",
      "                        \"name\": \"FA complementation group I\",\n",
      "                        \"type\": \"protein\",\n",
      "                        \"uri\": \"http://identifiers.org/uniprot/Q9NVI1\"\n",
      "                    }\n",
      "                ]\n",
      "            },\n",
      "            \"result_type\": \"individual query answer\",\n",
      "            \"row_data\": [\n",
      "                \"Chromosomal breakage induced by crosslinking agents\",\n",
      "                \"HP:0003221\",\n",
      "                \"FA complementation group I\",\n",
      "                \"UniProtKB:Q9NVI1\"\n",
      "            ],\n",
      "            \"text\": \"Chromosomal breakage induced by crosslinking agents and FA complementation group I are connected by the relationship has_phenotype\"\n",
      "        }\n",
      "    ],\n",
      "    \"schema_version\": \"0.8.0\",\n",
      "    \"table_column_names\": [\n",
      "        \"source name\",\n",
      "        \"source ID\",\n",
      "        \"target name\",\n",
      "        \"target ID\"\n",
      "    ],\n",
      "    \"terms\": {\n",
      "        \"phenotypic_feature\": \"HP:0003221\"\n",
      "    },\n",
      "    \"tool_version\": \"RTX 0.5.4\",\n",
      "    \"type\": \"medical_translator_query_response\"\n",
      "}\n"
     ]
    }
   ],
   "source": [
    "#### Or dump the whole detailed JSON response_content data structure\n",
    "print(json.dumps(response_dict, indent=4, sort_keys=True))"
   ]
  },
  {
   "cell_type": "code",
   "execution_count": null,
   "metadata": {},
   "outputs": [],
   "source": []
  }
 ],
 "metadata": {
  "kernelspec": {
   "display_name": "Python 3",
   "language": "python",
   "name": "python3"
  },
  "language_info": {
   "codemirror_mode": {
    "name": "ipython",
    "version": 3
   },
   "file_extension": ".py",
   "mimetype": "text/x-python",
   "name": "python",
   "nbconvert_exporter": "python",
   "pygments_lexer": "ipython3",
   "version": "3.6.5"
  }
 },
 "nbformat": 4,
 "nbformat_minor": 2
}
