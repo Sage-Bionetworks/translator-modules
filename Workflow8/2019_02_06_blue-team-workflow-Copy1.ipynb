{
 "cells": [
  {
   "cell_type": "markdown",
   "metadata": {},
   "source": [
    "This notebook demonstrates the Blue Team's solution to **workflows 1 and 2**, which takes a **disease** as input and return relevant **genes and pathways**. Note, some of the boilerplate code (API calls for instance) is wrapped in `biggim.py`, which contains API calls written by John Earls and Theo Knijnenburg. You can learn more about BigGIM in in their <a href=\"https://github.com/NCATS-Tangerine/cq-notebooks/tree/master/BigGIM\">github</a>. \n",
    "\n",
    "Notebook written by: Samson Fong, John Earls, Theo Knijnenburg, Aaron Gary, Chris Churas. \n",
    "\n",
    "# Workflow\n",
    "\n",
    "<img src=\"images/workflow.png\">\n",
    "\n",
    "Here, we will utitlize BioThings from the orange team to help identity a small relevant disease gene set and tissue. From there, we will query BigGIM for the similarity data between genes and finally utilize DDOT to construct hierarchical pathways from this data. \n",
    "\n",
    "In the implementations below, the tissue is currently hardcoded. This will be revised in another version of the workflow.\n",
    "\n",
    "We have recently updated our DDOT API. You can learn more here: \n",
    "\n",
    "http://ddot.ucsd.edu/ddot/rest/v1/"
   ]
  },
  {
   "cell_type": "code",
   "execution_count": 2,
   "metadata": {},
   "outputs": [
    {
     "name": "stdout",
     "output_type": "stream",
     "text": [
      "The autoreload extension is already loaded. To reload it, use:\n",
      "  %reload_ext autoreload\n"
     ]
    }
   ],
   "source": [
    "%load_ext autoreload \n",
    "%autoreload 2\n",
    "\n",
    "import json\n",
    "import requests\n",
    "import pandas as pd\n",
    "from biggim import doid_to_genes, call_biggim"
   ]
  },
  {
   "cell_type": "markdown",
   "metadata": {},
   "source": [
    "## Implementation"
   ]
  },
  {
   "cell_type": "code",
   "execution_count": 4,
   "metadata": {
    "scrolled": true
   },
   "outputs": [
    {
     "name": "stderr",
     "output_type": "stream",
     "text": [
      "INFO:root:Geting HP ids from DOID\n"
     ]
    },
    {
     "name": "stdout",
     "output_type": "stream",
     "text": [
      "http://biothings.io/explorer/api/v2/directinput2output?input_prefix=doid&output_prefix=hp&input_value=678&format=translator\n"
     ]
    },
    {
     "name": "stderr",
     "output_type": "stream",
     "text": [
      "INFO:root:Geting OMIM from HP ids\n"
     ]
    },
    {
     "name": "stdout",
     "output_type": "stream",
     "text": [
      "Returned 68 phenotypes\n",
      "http://biothings.io/explorer/api/v2/directinput2output?input_prefix=hp&output_prefix=omim.disease&input_value=0000643&format=translator\n",
      "http://biothings.io/explorer/api/v2/directinput2output?input_prefix=hp&output_prefix=omim.disease&input_value=0000743&format=translator\n",
      "http://biothings.io/explorer/api/v2/directinput2output?input_prefix=hp&output_prefix=omim.disease&input_value=0002530&format=translator\n",
      "http://biothings.io/explorer/api/v2/directinput2output?input_prefix=hp&output_prefix=omim.disease&input_value=0012535&format=translator\n"
     ]
    },
    {
     "name": "stderr",
     "output_type": "stream",
     "text": [
      "WARNING:root:{'status': 400, 'error message': \"Endpoints could be located connecting hp to omim.disease. The endpoints are ['http://mydisease.info/v1/queryphenotypetodisease']. However, no output could be found using the endpoint!\"}\n"
     ]
    },
    {
     "name": "stdout",
     "output_type": "stream",
     "text": [
      "http://biothings.io/explorer/api/v2/directinput2output?input_prefix=hp&output_prefix=omim.disease&input_value=0002451&format=translator\n",
      "http://biothings.io/explorer/api/v2/directinput2output?input_prefix=hp&output_prefix=omim.disease&input_value=0000716&format=translator\n",
      "http://biothings.io/explorer/api/v2/directinput2output?input_prefix=hp&output_prefix=omim.disease&input_value=0000750&format=translator\n",
      "http://biothings.io/explorer/api/v2/directinput2output?input_prefix=hp&output_prefix=omim.disease&input_value=0002359&format=translator\n",
      "http://biothings.io/explorer/api/v2/directinput2output?input_prefix=hp&output_prefix=omim.disease&input_value=0001278&format=translator\n"
     ]
    },
    {
     "name": "stderr",
     "output_type": "stream",
     "text": [
      "INFO:root:Geting genes from OMIM\n"
     ]
    },
    {
     "name": "stdout",
     "output_type": "stream",
     "text": [
      "Returned 68 mendelian diseases\n",
      "http://biothings.io/explorer/api/v2/directinput2output?input_prefix=omim.disease&output_prefix=ncbigene&input_value=607876&format=translator\n",
      "http://biothings.io/explorer/api/v2/directinput2output?input_prefix=omim.disease&output_prefix=ncbigene&input_value=616398&format=translator\n",
      "http://biothings.io/explorer/api/v2/directinput2output?input_prefix=omim.disease&output_prefix=ncbigene&input_value=606798&format=translator\n",
      "http://biothings.io/explorer/api/v2/directinput2output?input_prefix=omim.disease&output_prefix=ncbigene&input_value=602124&format=translator\n",
      "http://biothings.io/explorer/api/v2/directinput2output?input_prefix=omim.disease&output_prefix=ncbigene&input_value=614588&format=translator\n",
      "http://biothings.io/explorer/api/v2/directinput2output?input_prefix=omim.disease&output_prefix=ncbigene&input_value=224500&format=translator\n",
      "http://biothings.io/explorer/api/v2/directinput2output?input_prefix=omim.disease&output_prefix=ncbigene&input_value=604290&format=translator\n",
      "http://biothings.io/explorer/api/v2/directinput2output?input_prefix=omim.disease&output_prefix=ncbigene&input_value=606324&format=translator\n",
      "http://biothings.io/explorer/api/v2/directinput2output?input_prefix=omim.disease&output_prefix=ncbigene&input_value=615034&format=translator\n",
      "http://biothings.io/explorer/api/v2/directinput2output?input_prefix=omim.disease&output_prefix=ncbigene&input_value=600795&format=translator\n",
      "http://biothings.io/explorer/api/v2/directinput2output?input_prefix=omim.disease&output_prefix=ncbigene&input_value=607136&format=translator\n",
      "http://biothings.io/explorer/api/v2/directinput2output?input_prefix=omim.disease&output_prefix=ncbigene&input_value=609454&format=translator\n",
      "http://biothings.io/explorer/api/v2/directinput2output?input_prefix=omim.disease&output_prefix=ncbigene&input_value=300894&format=translator\n",
      "http://biothings.io/explorer/api/v2/directinput2output?input_prefix=omim.disease&output_prefix=ncbigene&input_value=601104&format=translator\n",
      "http://biothings.io/explorer/api/v2/directinput2output?input_prefix=omim.disease&output_prefix=ncbigene&input_value=609454&format=translator\n",
      "http://biothings.io/explorer/api/v2/directinput2output?input_prefix=omim.disease&output_prefix=ncbigene&input_value=614588&format=translator\n",
      "http://biothings.io/explorer/api/v2/directinput2output?input_prefix=omim.disease&output_prefix=ncbigene&input_value=614860&format=translator\n",
      "http://biothings.io/explorer/api/v2/directinput2output?input_prefix=omim.disease&output_prefix=ncbigene&input_value=615073&format=translator\n",
      "http://biothings.io/explorer/api/v2/directinput2output?input_prefix=omim.disease&output_prefix=ncbigene&input_value=601104&format=translator\n",
      "http://biothings.io/explorer/api/v2/directinput2output?input_prefix=omim.disease&output_prefix=ncbigene&input_value=604326&format=translator\n",
      "http://biothings.io/explorer/api/v2/directinput2output?input_prefix=omim.disease&output_prefix=ncbigene&input_value=616840&format=translator\n",
      "http://biothings.io/explorer/api/v2/directinput2output?input_prefix=omim.disease&output_prefix=ncbigene&input_value=175780&format=translator\n",
      "http://biothings.io/explorer/api/v2/directinput2output?input_prefix=omim.disease&output_prefix=ncbigene&input_value=607671&format=translator\n",
      "http://biothings.io/explorer/api/v2/directinput2output?input_prefix=omim.disease&output_prefix=ncbigene&input_value=613135&format=translator\n",
      "http://biothings.io/explorer/api/v2/directinput2output?input_prefix=omim.disease&output_prefix=ncbigene&input_value=602629&format=translator\n",
      "http://biothings.io/explorer/api/v2/directinput2output?input_prefix=omim.disease&output_prefix=ncbigene&input_value=614588&format=translator\n",
      "http://biothings.io/explorer/api/v2/directinput2output?input_prefix=omim.disease&output_prefix=ncbigene&input_value=309510&format=translator\n",
      "http://biothings.io/explorer/api/v2/directinput2output?input_prefix=omim.disease&output_prefix=ncbigene&input_value=614860&format=translator\n",
      "http://biothings.io/explorer/api/v2/directinput2output?input_prefix=omim.disease&output_prefix=ncbigene&input_value=615073&format=translator\n",
      "http://biothings.io/explorer/api/v2/directinput2output?input_prefix=omim.disease&output_prefix=ncbigene&input_value=603204&format=translator\n",
      "http://biothings.io/explorer/api/v2/directinput2output?input_prefix=omim.disease&output_prefix=ncbigene&input_value=608907&format=translator\n",
      "http://biothings.io/explorer/api/v2/directinput2output?input_prefix=omim.disease&output_prefix=ncbigene&input_value=615005&format=translator\n",
      "http://biothings.io/explorer/api/v2/directinput2output?input_prefix=omim.disease&output_prefix=ncbigene&input_value=125480&format=translator\n",
      "http://biothings.io/explorer/api/v2/directinput2output?input_prefix=omim.disease&output_prefix=ncbigene&input_value=604928&format=translator\n",
      "http://biothings.io/explorer/api/v2/directinput2output?input_prefix=omim.disease&output_prefix=ncbigene&input_value=616398&format=translator\n",
      "http://biothings.io/explorer/api/v2/directinput2output?input_prefix=omim.disease&output_prefix=ncbigene&input_value=602079&format=translator\n",
      "http://biothings.io/explorer/api/v2/directinput2output?input_prefix=omim.disease&output_prefix=ncbigene&input_value=615007&format=translator\n",
      "http://biothings.io/explorer/api/v2/directinput2output?input_prefix=omim.disease&output_prefix=ncbigene&input_value=616882&format=translator\n"
     ]
    },
    {
     "name": "stderr",
     "output_type": "stream",
     "text": [
      "WARNING:root:{'status': 400, 'error message': \"Endpoints could be located connecting omim.disease to ncbigene. The endpoints are ['http://mydisease.info/v1/querydiseasetogene']. However, no output could be found using the endpoint!\"}\n"
     ]
    },
    {
     "name": "stdout",
     "output_type": "stream",
     "text": [
      "http://biothings.io/explorer/api/v2/directinput2output?input_prefix=omim.disease&output_prefix=ncbigene&input_value=604348&format=translator\n",
      "http://biothings.io/explorer/api/v2/directinput2output?input_prefix=omim.disease&output_prefix=ncbigene&input_value=617028&format=translator\n"
     ]
    },
    {
     "name": "stderr",
     "output_type": "stream",
     "text": [
      "WARNING:root:{'status': 400, 'error message': \"Endpoints could be located connecting omim.disease to ncbigene. The endpoints are ['http://mydisease.info/v1/querydiseasetogene']. However, no output could be found using the endpoint!\"}\n"
     ]
    },
    {
     "name": "stdout",
     "output_type": "stream",
     "text": [
      "http://biothings.io/explorer/api/v2/directinput2output?input_prefix=omim.disease&output_prefix=ncbigene&input_value=300716&format=translator\n",
      "http://biothings.io/explorer/api/v2/directinput2output?input_prefix=omim.disease&output_prefix=ncbigene&input_value=613307&format=translator\n",
      "http://biothings.io/explorer/api/v2/directinput2output?input_prefix=omim.disease&output_prefix=ncbigene&input_value=614020&format=translator\n",
      "http://biothings.io/explorer/api/v2/directinput2output?input_prefix=omim.disease&output_prefix=ncbigene&input_value=300705&format=translator\n",
      "http://biothings.io/explorer/api/v2/directinput2output?input_prefix=omim.disease&output_prefix=ncbigene&input_value=615217&format=translator\n",
      "http://biothings.io/explorer/api/v2/directinput2output?input_prefix=omim.disease&output_prefix=ncbigene&input_value=604391&format=translator\n",
      "http://biothings.io/explorer/api/v2/directinput2output?input_prefix=omim.disease&output_prefix=ncbigene&input_value=149400&format=translator\n",
      "http://biothings.io/explorer/api/v2/directinput2output?input_prefix=omim.disease&output_prefix=ncbigene&input_value=616227&format=translator\n",
      "http://biothings.io/explorer/api/v2/directinput2output?input_prefix=omim.disease&output_prefix=ncbigene&input_value=616921&format=translator\n"
     ]
    },
    {
     "name": "stderr",
     "output_type": "stream",
     "text": [
      "WARNING:root:{'status': 400, 'error message': \"Endpoints could be located connecting omim.disease to ncbigene. The endpoints are ['http://mydisease.info/v1/querydiseasetogene']. However, no output could be found using the endpoint!\"}\n"
     ]
    },
    {
     "name": "stdout",
     "output_type": "stream",
     "text": [
      "http://biothings.io/explorer/api/v2/directinput2output?input_prefix=omim.disease&output_prefix=ncbigene&input_value=611228&format=translator\n",
      "http://biothings.io/explorer/api/v2/directinput2output?input_prefix=omim.disease&output_prefix=ncbigene&input_value=500003&format=translator\n",
      "http://biothings.io/explorer/api/v2/directinput2output?input_prefix=omim.disease&output_prefix=ncbigene&input_value=606552&format=translator\n"
     ]
    },
    {
     "name": "stderr",
     "output_type": "stream",
     "text": [
      "WARNING:root:{'status': 400, 'error message': \"Endpoints could be located connecting omim.disease to ncbigene. The endpoints are ['http://mydisease.info/v1/querydiseasetogene']. However, no output could be found using the endpoint!\"}\n"
     ]
    },
    {
     "name": "stdout",
     "output_type": "stream",
     "text": [
      "http://biothings.io/explorer/api/v2/directinput2output?input_prefix=omim.disease&output_prefix=ncbigene&input_value=614228&format=translator\n",
      "http://biothings.io/explorer/api/v2/directinput2output?input_prefix=omim.disease&output_prefix=ncbigene&input_value=300718&format=translator\n",
      "http://biothings.io/explorer/api/v2/directinput2output?input_prefix=omim.disease&output_prefix=ncbigene&input_value=605543&format=translator\n",
      "http://biothings.io/explorer/api/v2/directinput2output?input_prefix=omim.disease&output_prefix=ncbigene&input_value=252320&format=translator\n"
     ]
    },
    {
     "name": "stderr",
     "output_type": "stream",
     "text": [
      "WARNING:root:{'status': 400, 'error message': \"Endpoints could be located connecting omim.disease to ncbigene. The endpoints are ['http://mydisease.info/v1/querydiseasetogene']. However, no output could be found using the endpoint!\"}\n"
     ]
    },
    {
     "name": "stdout",
     "output_type": "stream",
     "text": [
      "http://biothings.io/explorer/api/v2/directinput2output?input_prefix=omim.disease&output_prefix=ncbigene&input_value=610600&format=translator\n",
      "http://biothings.io/explorer/api/v2/directinput2output?input_prefix=omim.disease&output_prefix=ncbigene&input_value=606721&format=translator\n"
     ]
    },
    {
     "name": "stderr",
     "output_type": "stream",
     "text": [
      "WARNING:root:{'status': 400, 'error message': \"Endpoints could be located connecting omim.disease to ncbigene. The endpoints are ['http://mydisease.info/v1/querydiseasetogene']. However, no output could be found using the endpoint!\"}\n"
     ]
    },
    {
     "name": "stdout",
     "output_type": "stream",
     "text": [
      "http://biothings.io/explorer/api/v2/directinput2output?input_prefix=omim.disease&output_prefix=ncbigene&input_value=143850&format=translator\n",
      "http://biothings.io/explorer/api/v2/directinput2output?input_prefix=omim.disease&output_prefix=ncbigene&input_value=223360&format=translator\n",
      "http://biothings.io/explorer/api/v2/directinput2output?input_prefix=omim.disease&output_prefix=ncbigene&input_value=608720&format=translator\n"
     ]
    },
    {
     "name": "stderr",
     "output_type": "stream",
     "text": [
      "WARNING:root:{'status': 400, 'error message': \"Endpoints could be located connecting omim.disease to ncbigene. The endpoints are ['http://mydisease.info/v1/querydiseasetogene']. However, no output could be found using the endpoint!\"}\n"
     ]
    },
    {
     "name": "stdout",
     "output_type": "stream",
     "text": [
      "Returned 61 genes\n"
     ]
    }
   ],
   "source": [
    "# Getting seed genes\n",
    "genes = doid_to_genes([\"678\"])"
   ]
  },
  {
   "cell_type": "markdown",
   "metadata": {},
   "source": [
    "### Calling BigGIM"
   ]
  },
  {
   "cell_type": "code",
   "execution_count": 5,
   "metadata": {
    "scrolled": true
   },
   "outputs": [
    {
     "name": "stdout",
     "output_type": "stream",
     "text": [
      "Sent: GET http://biggim.ncats.io/api/biggim/query?restriction_gt=GTEx_Brain_Correlation%2C0.5&table=BigGIM_70_v1&columns=GTEx_Brain_Correlation&ids1=554188%2C79734%2C2261%2C2263%2C1861%2C11315%2C7291%2C151%2C1816%2C1356%2C2512%2C16%2C3208%2C1866%2C25792%2C100885773%2C1862%2C3208%2C1356%2C11315%2C63982%2C25978%2C6908%2C1728%2C2923%2C506%2C5034%2C10525%2C3312%2C3309%2C3162%2C619408%2C11152%2C4336%2C9451%2C4137%2C10228%2C619408%2C100885773%2C774%2C2774%2C4336%2C9451%2C4137%2C10228%2C5521%2C54832%2C1282%2C1284%2C93983%2C6531%2C55145%2C100885773%2C170302%2C774%2C2774%2C50971%2C450086%2C57582%2C4095%2C7494%2C6531%2C493856%2C79734%2C2328%2C5159%2C1453%2C8864%2C8863%2C84061%2C286262%2C9524%2C3028%2C23533%2C4361%2C2743%2C2741%2C9152%2C10243%2C199857%2C9896%2C4508%2C1778%2C2273%2C6622%2C1585%2C50948%2C1621&limit=100000\n",
      "{\n",
      "  \"status\": \"submitted\",\n",
      "  \"request_id\": \"cd132efe-dd3f-4285-a435-3959d0266bcf\"\n",
      "}\n",
      "Sent: GET http://biggim.ncats.io/api/biggim/status/cd132efe-dd3f-4285-a435-3959d0266bcf?None\n",
      "{\n",
      "  \"status\": \"running\",\n",
      "  \"message\": \"Query job is running.\",\n",
      "  \"request_id\": \"cd132efe-dd3f-4285-a435-3959d0266bcf\"\n",
      "}\n",
      "Checking again\n",
      "Sent: GET http://biggim.ncats.io/api/biggim/status/cd132efe-dd3f-4285-a435-3959d0266bcf?None\n",
      "{\n",
      "  \"status\": \"running\",\n",
      "  \"message\": \"Query job is running.\",\n",
      "  \"request_id\": \"cd132efe-dd3f-4285-a435-3959d0266bcf\"\n",
      "}\n",
      "Checking again\n",
      "Sent: GET http://biggim.ncats.io/api/biggim/status/cd132efe-dd3f-4285-a435-3959d0266bcf?None\n",
      "{\n",
      "  \"status\": \"running\",\n",
      "  \"message\": \"Query job is running.\",\n",
      "  \"request_id\": \"cd132efe-dd3f-4285-a435-3959d0266bcf\"\n",
      "}\n",
      "Checking again\n",
      "Sent: GET http://biggim.ncats.io/api/biggim/status/cd132efe-dd3f-4285-a435-3959d0266bcf?None\n",
      "{\n",
      "  \"status\": \"running\",\n",
      "  \"message\": \"Extraction job is running.\",\n",
      "  \"request_id\": \"cd132efe-dd3f-4285-a435-3959d0266bcf\"\n",
      "}\n",
      "Checking again\n",
      "Sent: GET http://biggim.ncats.io/api/biggim/status/cd132efe-dd3f-4285-a435-3959d0266bcf?None\n",
      "{\n",
      "  \"status\": \"complete\",\n",
      "  \"rows\": 100000,\n",
      "  \"processed_data\": \"1.52 GB\",\n",
      "  \"request_id\": \"cd132efe-dd3f-4285-a435-3959d0266bcf\",\n",
      "  \"request_uri\": [\n",
      "    \"https://storage.googleapis.com/ncats_bigquery_results/cd132efe-dd3f-4285-a435-3959d0266bcf000000000000.csv\"\n",
      "  ],\n",
      "  \"size\": \"3.15 MB\"\n",
      "}\n"
     ]
    }
   ],
   "source": [
    "expanded_genes = call_biggim(\n",
    "    genes, \n",
    "    [\"GTEx_Brain_Correlation\"], \n",
    "    100000, \n",
    "    query_id2=False, \n",
    "    return_genes=True, \n",
    "    limit_genes=250,\n",
    ")"
   ]
  },
  {
   "cell_type": "code",
   "execution_count": 6,
   "metadata": {
    "scrolled": true
   },
   "outputs": [
    {
     "name": "stdout",
     "output_type": "stream",
     "text": [
      "Sent: GET http://biggim.ncats.io/api/biggim/query?restriction_gt=GTEx_Brain_Correlation%2C0.5&table=BigGIM_70_v1&columns=GTEx_Brain_Correlation&ids1=21%2C104%2C119%2C161%2C164%2C291%2C491%2C498%2C506%2C535%2C537%2C673%2C719%2C773%2C774%2C776%2C951%2C1213%2C1431%2C1453%2C1759%2C1778%2C1794%2C1801%2C1812%2C1861%2C1902%2C1951%2C1967%2C2026%2C2071%2C2583%2C2664%2C2686%2C2743%2C2821%2C2907%2C2941%2C2962%2C3098%2C3631%2C3748%2C3897%2C4137%2C4141%2C4155%2C4190%2C4209%2C4248%2C4293%2C4336%2C4354%2C4799%2C4905%2C4943%2C5213%2C5431%2C5463%2C5528%2C5536%2C5586%2C5708%2C5802%2C6252%2C6326%2C6334%2C6598%2C6709%2C6721%2C6749%2C6812%2C6856%2C6908%2C6916%2C7305%2C7342%2C7385%2C7417%2C7786%2C7805%2C8120%2C8208%2C8526%2C8533%2C8537%2C8567%2C8604%2C8729%2C8924%2C8925%2C8943%2C9063%2C9145%2C9295%2C9382%2C9516%2C9677%2C9681%2C9733%2C9737%2C9762%2C9777%2C9807%2C9810%2C9820%2C9826%2C9847%2C9853%2C9862%2C9877%2C9900%2C9913%2C9980%2C9988%2C10038%2C10147%2C10193%2C10228%2C10243%2C10367%2C10523%2C10540%2C10645%2C10681%2C10858%2C10868%2C10915%2C10921%2C10989%2C11006%2C11022%2C11052%2C11128%2C11143%2C11188%2C22848%2C22883%2C22907%2C22911%2C22950%2C23028%2C23035%2C23041%2C23057%2C23163%2C23168%2C23272%2C23276%2C23277%2C23281%2C23347%2C23368%2C23451%2C23533%2C23543%2C23633%2C23640%2C23761%2C25792%2C25799%2C25836%2C25989%2C25999%2C26024%2C26130%2C26190%2C26960%2C27165%2C50628%2C51253%2C51412%2C51585%2C54112%2C54438%2C54832%2C54870%2C54997%2C55023%2C55054%2C55193%2C55236%2C55275%2C55362%2C55665%2C55718%2C56850%2C57019%2C57148%2C57337%2C57446%2C57468%2C57471%2C57473%2C57578%2C57582%2C57698%2C57731%2C57799%2C57805%2C57863%2C58476%2C58513%2C60561%2C63891%2C63893%2C63982%2C64328%2C64432%2C64837%2C64840%2C64919%2C65012%2C65268%2C79089%2C79133%2C79137%2C79608%2C79734%2C80003%2C83543%2C84061%2C84276%2C84451%2C84458%2C84461%2C84866%2C90990%2C93611%2C112476%2C112936%2C118813%2C126298%2C126731%2C130026%2C146713%2C155061%2C157922%2C205147%2C222166%2C254531%2C283373%2C283450%2C283455%2C284339%2C285172%2C285175%2C374383%2C387978%2C390205%2C643837&limit=1000000000&ids2=21%2C104%2C119%2C161%2C164%2C291%2C491%2C498%2C506%2C535%2C537%2C673%2C719%2C773%2C774%2C776%2C951%2C1213%2C1431%2C1453%2C1759%2C1778%2C1794%2C1801%2C1812%2C1861%2C1902%2C1951%2C1967%2C2026%2C2071%2C2583%2C2664%2C2686%2C2743%2C2821%2C2907%2C2941%2C2962%2C3098%2C3631%2C3748%2C3897%2C4137%2C4141%2C4155%2C4190%2C4209%2C4248%2C4293%2C4336%2C4354%2C4799%2C4905%2C4943%2C5213%2C5431%2C5463%2C5528%2C5536%2C5586%2C5708%2C5802%2C6252%2C6326%2C6334%2C6598%2C6709%2C6721%2C6749%2C6812%2C6856%2C6908%2C6916%2C7305%2C7342%2C7385%2C7417%2C7786%2C7805%2C8120%2C8208%2C8526%2C8533%2C8537%2C8567%2C8604%2C8729%2C8924%2C8925%2C8943%2C9063%2C9145%2C9295%2C9382%2C9516%2C9677%2C9681%2C9733%2C9737%2C9762%2C9777%2C9807%2C9810%2C9820%2C9826%2C9847%2C9853%2C9862%2C9877%2C9900%2C9913%2C9980%2C9988%2C10038%2C10147%2C10193%2C10228%2C10243%2C10367%2C10523%2C10540%2C10645%2C10681%2C10858%2C10868%2C10915%2C10921%2C10989%2C11006%2C11022%2C11052%2C11128%2C11143%2C11188%2C22848%2C22883%2C22907%2C22911%2C22950%2C23028%2C23035%2C23041%2C23057%2C23163%2C23168%2C23272%2C23276%2C23277%2C23281%2C23347%2C23368%2C23451%2C23533%2C23543%2C23633%2C23640%2C23761%2C25792%2C25799%2C25836%2C25989%2C25999%2C26024%2C26130%2C26190%2C26960%2C27165%2C50628%2C51253%2C51412%2C51585%2C54112%2C54438%2C54832%2C54870%2C54997%2C55023%2C55054%2C55193%2C55236%2C55275%2C55362%2C55665%2C55718%2C56850%2C57019%2C57148%2C57337%2C57446%2C57468%2C57471%2C57473%2C57578%2C57582%2C57698%2C57731%2C57799%2C57805%2C57863%2C58476%2C58513%2C60561%2C63891%2C63893%2C63982%2C64328%2C64432%2C64837%2C64840%2C64919%2C65012%2C65268%2C79089%2C79133%2C79137%2C79608%2C79734%2C80003%2C83543%2C84061%2C84276%2C84451%2C84458%2C84461%2C84866%2C90990%2C93611%2C112476%2C112936%2C118813%2C126298%2C126731%2C130026%2C146713%2C155061%2C157922%2C205147%2C222166%2C254531%2C283373%2C283450%2C283455%2C284339%2C285172%2C285175%2C374383%2C387978%2C390205%2C643837\n",
      "{\n",
      "  \"status\": \"submitted\",\n",
      "  \"request_id\": \"ba9e7485-a1ba-4dad-ba11-ed6b558a584e\"\n",
      "}\n",
      "Sent: GET http://biggim.ncats.io/api/biggim/status/ba9e7485-a1ba-4dad-ba11-ed6b558a584e?None\n",
      "{\n",
      "  \"status\": \"running\",\n",
      "  \"message\": \"Query job is running.\",\n",
      "  \"request_id\": \"ba9e7485-a1ba-4dad-ba11-ed6b558a584e\"\n",
      "}\n",
      "Checking again\n",
      "Sent: GET http://biggim.ncats.io/api/biggim/status/ba9e7485-a1ba-4dad-ba11-ed6b558a584e?None\n",
      "{\n",
      "  \"status\": \"running\",\n",
      "  \"message\": \"Query job is running.\",\n",
      "  \"request_id\": \"ba9e7485-a1ba-4dad-ba11-ed6b558a584e\"\n",
      "}\n",
      "Checking again\n",
      "Sent: GET http://biggim.ncats.io/api/biggim/status/ba9e7485-a1ba-4dad-ba11-ed6b558a584e?None\n",
      "{\n",
      "  \"status\": \"running\",\n",
      "  \"message\": \"Query job is running.\",\n",
      "  \"request_id\": \"ba9e7485-a1ba-4dad-ba11-ed6b558a584e\"\n",
      "}\n",
      "Checking again\n",
      "Sent: GET http://biggim.ncats.io/api/biggim/status/ba9e7485-a1ba-4dad-ba11-ed6b558a584e?None\n",
      "{\n",
      "  \"status\": \"running\",\n",
      "  \"message\": \"Extraction job is running.\",\n",
      "  \"request_id\": \"ba9e7485-a1ba-4dad-ba11-ed6b558a584e\"\n",
      "}\n",
      "Checking again\n",
      "Sent: GET http://biggim.ncats.io/api/biggim/status/ba9e7485-a1ba-4dad-ba11-ed6b558a584e?None\n",
      "{\n",
      "  \"status\": \"complete\",\n",
      "  \"rows\": 21900,\n",
      "  \"processed_data\": \"1.52 GB\",\n",
      "  \"request_id\": \"ba9e7485-a1ba-4dad-ba11-ed6b558a584e\",\n",
      "  \"request_uri\": [\n",
      "    \"https://storage.googleapis.com/ncats_bigquery_results/ba9e7485-a1ba-4dad-ba11-ed6b558a584e000000000000.csv\"\n",
      "  ],\n",
      "  \"size\": \"708.75 KB\"\n",
      "}\n"
     ]
    }
   ],
   "source": [
    "network = call_biggim(\n",
    "    expanded_genes, \n",
    "    [\"GTEx_Brain_Correlation\"], \n",
    "    1000000000, \n",
    "    query_id2=True, \n",
    "    return_genes=False, \n",
    ")"
   ]
  },
  {
   "cell_type": "markdown",
   "metadata": {},
   "source": [
    "### Calling DDOT"
   ]
  },
  {
   "cell_type": "code",
   "execution_count": 8,
   "metadata": {
    "scrolled": true
   },
   "outputs": [],
   "source": [
    "network.iloc[:, 1:].to_csv('tmp.csv', sep='\\t', header=None, index=None)\n",
    "\n",
    "files = {'file': open('tmp.csv', 'rb')}"
   ]
  },
  {
   "cell_type": "code",
   "execution_count": 41,
   "metadata": {},
   "outputs": [],
   "source": [
    "# Post request to DDOT \n",
    "\n",
    "ddot_url = 'http://ddot.ucsd.edu/ddot/rest/v1/ontology/'\n",
    "r = requests.post(\n",
    "    ddot_url, \n",
    "    data={\n",
    "        'alpha': 0.05, \n",
    "        'beta': 0.5, \n",
    "        'ndexname': 'DDOTontology', \n",
    "    }, \n",
    "    files={'interactionfile': open('tmp.csv', 'rb')}\n",
    "\n",
    ")"
   ]
  },
  {
   "cell_type": "code",
   "execution_count": 42,
   "metadata": {},
   "outputs": [
    {
     "data": {
      "text/plain": [
       "202"
      ]
     },
     "execution_count": 42,
     "metadata": {},
     "output_type": "execute_result"
    }
   ],
   "source": [
    "r.status_code # if the code is not 202, the post call failed"
   ]
  },
  {
   "cell_type": "code",
   "execution_count": 43,
   "metadata": {},
   "outputs": [
    {
     "ename": "KeyError",
     "evalue": "'status'",
     "output_type": "error",
     "traceback": [
      "\u001b[0;31m---------------------------------------------------------------------------\u001b[0m",
      "\u001b[0;31mKeyError\u001b[0m                                  Traceback (most recent call last)",
      "\u001b[0;32m<ipython-input-43-cf7f2685f9fc>\u001b[0m in \u001b[0;36m<module>\u001b[0;34m()\u001b[0m\n\u001b[1;32m      3\u001b[0m     \u001b[0mr2\u001b[0m \u001b[0;34m=\u001b[0m \u001b[0mrequests\u001b[0m\u001b[0;34m.\u001b[0m\u001b[0mget\u001b[0m\u001b[0;34m(\u001b[0m\u001b[0mr\u001b[0m\u001b[0;34m.\u001b[0m\u001b[0mheaders\u001b[0m\u001b[0;34m[\u001b[0m\u001b[0;34m'Location'\u001b[0m\u001b[0;34m]\u001b[0m\u001b[0;34m)\u001b[0m\u001b[0;34m\u001b[0m\u001b[0m\n\u001b[1;32m      4\u001b[0m \u001b[0;34m\u001b[0m\u001b[0m\n\u001b[0;32m----> 5\u001b[0;31m     \u001b[0;32mif\u001b[0m \u001b[0mr2\u001b[0m\u001b[0;34m.\u001b[0m\u001b[0mjson\u001b[0m\u001b[0;34m(\u001b[0m\u001b[0;34m)\u001b[0m\u001b[0;34m[\u001b[0m\u001b[0;34m'status'\u001b[0m\u001b[0;34m]\u001b[0m \u001b[0;34m!=\u001b[0m \u001b[0;34m'done'\u001b[0m\u001b[0;34m:\u001b[0m\u001b[0;34m\u001b[0m\u001b[0m\n\u001b[0m\u001b[1;32m      6\u001b[0m         \u001b[0msleep\u001b[0m\u001b[0;34m(\u001b[0m\u001b[0mcount\u001b[0m\u001b[0;34m)\u001b[0m\u001b[0;34m\u001b[0m\u001b[0m\n\u001b[1;32m      7\u001b[0m         \u001b[0mcount\u001b[0m \u001b[0;34m+=\u001b[0m \u001b[0;36m1\u001b[0m\u001b[0;34m\u001b[0m\u001b[0m\n",
      "\u001b[0;31mKeyError\u001b[0m: 'status'"
     ]
    }
   ],
   "source": [
    "count = 1\n",
    "while True: \n",
    "    r2 = requests.get(r.headers['Location'])\n",
    "    \n",
    "    if r2.json()['status'] != 'done': \n",
    "        sleep(count) \n",
    "        count += 1\n",
    "        \n",
    "    else: \n",
    "        print(r2.json()['result']['hiviewurl']) # HiView URL\n",
    "        \n",
    "        break"
   ]
  }
 ],
 "metadata": {
  "kernelspec": {
   "display_name": "Python 3",
   "language": "python",
   "name": "python3"
  },
  "language_info": {
   "codemirror_mode": {
    "name": "ipython",
    "version": 3
   },
   "file_extension": ".py",
   "mimetype": "text/x-python",
   "name": "python",
   "nbconvert_exporter": "python",
   "pygments_lexer": "ipython3",
   "version": "3.6.5"
  }
 },
 "nbformat": 4,
 "nbformat_minor": 2
}
