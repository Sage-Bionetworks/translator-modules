{
 "cells": [
  {
   "cell_type": "markdown",
   "metadata": {},
   "source": [
    "# Workflow 9: Gene to Tissue Cooccurence for Monogenic Diabetes"
   ]
  },
  {
   "cell_type": "code",
   "execution_count": 1,
   "metadata": {},
   "outputs": [],
   "source": [
    "import bicluster_gene_to_tissue, importlib, asyncio"
   ]
  },
  {
   "cell_type": "code",
   "execution_count": 2,
   "metadata": {},
   "outputs": [],
   "source": [
    "gene_to_tissue = bicluster_gene_to_tissue.gene_to_tissue()"
   ]
  },
  {
   "cell_type": "code",
   "execution_count": 3,
   "metadata": {},
   "outputs": [],
   "source": [
    "monogenic_diabetes_sensu_strictiore_geneset = gene_to_tissue.run_getinput('https://raw.githubusercontent.com/ncats/translator-workflows/master/WorkFlow9/monogenic_diabetes_sensu_strictiore_genes_ensg_id_list.txt')"
   ]
  },
  {
   "cell_type": "code",
   "execution_count": 4,
   "metadata": {},
   "outputs": [
    {
     "data": {
      "text/plain": [
       "['ensg00000006071',\n",
       " 'ensg00000187486',\n",
       " 'ensg00000136573',\n",
       " 'ensg00000254647',\n",
       " 'ensg00000106331',\n",
       " 'ensg00000172059',\n",
       " 'ensg00000275410',\n",
       " 'ensg00000139515',\n",
       " 'ensg00000135100',\n",
       " 'ensg00000106633',\n",
       " 'ensg00000101076']"
      ]
     },
     "execution_count": 4,
     "metadata": {},
     "output_type": "execute_result"
    }
   ],
   "source": [
    "monogenic_diabetes_sensu_strictiore_geneset"
   ]
  },
  {
   "cell_type": "code",
   "execution_count": 5,
   "metadata": {},
   "outputs": [],
   "source": [
    "loop = asyncio.get_event_loop()"
   ]
  },
  {
   "cell_type": "code",
   "execution_count": 6,
   "metadata": {},
   "outputs": [],
   "source": [
    "#importlib.reload(bicluster_gene_to_tissue) #this is a nice thing or locale module development"
   ]
  },
  {
   "cell_type": "code",
   "execution_count": 7,
   "metadata": {},
   "outputs": [
    {
     "name": "stdout",
     "output_type": "stream",
     "text": [
      "all_tissues: ['UBERON:0001159', 'UBERON:0001157', 'MONDO:0010150', 'UBERON:0002107', 'DOID:3910', 'DOID:4006', 'MONDO:0007256', 'DOID:3910', 'UBERON:0002048', 'DOID:0050939', 'MONDO:0006256', 'DOID:4947', 'MONDO:0007256', 'UBERON:0002107', 'DOID:3910', 'DOID:234', 'MONDO:0010150', 'DOID:3910', 'MONDO:0005036', 'DOID:6171', 'DOID:3910', 'UBERON:0002048', 'DOID:3963', 'UBERON:0002046', 'UBERON:0002107', 'DOID:3910', 'DOID:3963', 'DOID:4006', 'MONDO:0007256', 'DOID:3910', 'UBERON:0002048', 'DOID:0050939', 'MONDO:0006256', 'UBERON:0012249', 'DOID:1107', 'MONDO:0010150', 'DOID:3910', 'UBERON:0001830', 'MONDO:0006256', 'UBERON:0000310', 'DOID:3910', 'UBERON:0001830', 'DOID:0050939', 'MONDO:0010150', 'DOID:3910', 'UBERON:0002048', 'DOID:3907', 'MONDO:0007256', 'UBERON:0002107', 'DOID:3910', 'DOID:3963', 'UBERON:0002046', 'DOID:234', 'MONDO:0010150', 'DOID:3910', 'MONDO:0005036', 'DOID:6171', 'DOID:4006', 'UBERON:0001157', 'NCIT:C32668', 'UBERON:0004648', 'MONDO:0010150', 'DOID:3910', 'MONDO:0005036', 'MONDO:0006256', 'DOID:4467', 'DOID:3910', 'UBERON:0002048', 'DOID:4006', 'MONDO:0006256', 'UBERON:0000310', 'DOID:234', 'DOID:1107', 'MONDO:0010150', 'DOID:3910', 'DOID:3907', 'UBERON:0002046', 'DOID:0050939', 'DOID:4006', 'DOID:3910', 'UBERON:0002048', 'DOID:3963', 'MONDO:0010150', 'DOID:3910', 'DOID:3907', 'UBERON:0001830', 'DOID:3963', 'DOID:4006', 'MONDO:0007256', 'UBERON:0002107', 'DOID:3910', 'DOID:3907', 'MONDO:0006256', 'UBERON:0000310', 'DOID:4467', 'DOID:2526', 'UBERON:0002046', 'DOID:3910', 'UBERON:0002048', 'DOID:3963', 'UBERON:0002046', 'UBERON:0018707', 'DOID:4006', 'DOID:234', 'UBERON:0001157', 'UBERON:0001159', 'DOID:1107', 'UBERON:0004648', 'MONDO:0007256', 'UBERON:0002107', 'DOID:1996', 'MONDO:0005036', 'UBERON:0000945', 'DOID:2526', 'UBERON:0002367', 'DOID:4006', 'MONDO:0006256', 'MONDO:0006143', 'DOID:3910', 'UBERON:0002048', 'MONDO:0005036', 'DOID:4006', 'MONDO:0006256', 'UBERON:0000458', 'DOID:3910', 'UBERON:0000995', 'MONDO:0006256', 'MONDO:0017884', 'MONDO:0007256', 'UBERON:0002107', 'DOID:3910', 'UBERON:0002048', 'DOID:3907', 'DOID:4006', 'UBERON:0012249', 'MONDO:0006143', 'DOID:1107', 'MONDO:0010150', 'MONDO:0007256', 'DOID:3907', 'DOID:234', 'UBERON:0001159', 'DOID:1107', 'UBERON:0004648', 'MONDO:0007256', 'DOID:2526', 'UBERON:0002367', 'DOID:1996', 'UBERON:0012249', 'UBERON:0001157', 'UBERON:0001159', 'DOID:1107', 'UBERON:0004648', 'DOID:1996', 'UBERON:0000458', 'UBERON:0002469', 'MONDO:0010150', 'DOID:3910', 'UBERON:0002048', 'UBERON:0001157', 'UBERON:0002048', 'UBERON:0000945', 'DOID:234', 'DOID:3910', 'UBERON:0002048', 'DOID:0050939', 'MONDO:0006256', 'UBERON:0000458', 'DOID:4467', 'MONDO:0017884', 'DOID:3963', 'UBERON:0002046', 'UBERON:0000995', 'DOID:234', 'DOID:1107', 'DOID:3910', 'DOID:1996', 'MONDO:0005036', 'UBERON:0000945', 'UBERON:0001157', 'DOID:3910', 'UBERON:0000945', 'DOID:234', 'MONDO:0007256', 'UBERON:0002107', 'DOID:3910', 'DOID:1996', 'MONDO:0005036', 'DOID:234', 'UBERON:0001159', 'UBERON:0001157', 'DOID:1107', 'NCIT:C32668', 'UBERON:0004648', 'MONDO:0010150', 'DOID:3910', 'DOID:1996', 'UBERON:0018707', 'DOID:234', 'NCIT:C32668', 'UBERON:0004648', 'DOID:3910', 'UBERON:0001830', 'UBERON:0000945', 'UBERON:0000995', 'DOID:4947', 'MONDO:0010150', 'MONDO:0007256', 'UBERON:0002107', 'DOID:3910', 'DOID:3907', 'UBERON:0001830', 'UBERON:0000945', 'MONDO:0006256', 'MONDO:0006143', 'DOID:4947', 'DOID:1107', 'NCIT:C32668', 'UBERON:0004648', 'MONDO:0007256', 'UBERON:0002107', 'DOID:3910', 'DOID:3907', 'MONDO:0005036', 'UBERON:0001157', 'NONE', 'UBERON:0001225', 'DOID:4467', 'MONDO:0017884', 'MONDO:0007256', 'MONDO:0005036', 'UBERON:0000945', 'DOID:3963', 'UBERON:0001157', 'UBERON:0001159', 'NCIT:C32668', 'UBERON:0004648', 'NONE', 'UBERON:0001225', 'DOID:2526', 'MONDO:0005036', 'UBERON:0000945', 'DOID:3963', 'UBERON:0002046', 'UBERON:0000995']\n",
      "\n",
      "tissues_counted: Counter({'DOID:3910': 31, 'MONDO:0007256': 13, 'MONDO:0010150': 12, 'UBERON:0002048': 12, 'MONDO:0006256': 11, 'UBERON:0002107': 10, 'DOID:4006': 10, 'DOID:234': 10, 'MONDO:0005036': 10, 'UBERON:0001157': 9, 'DOID:3963': 9, 'DOID:1107': 9, 'DOID:3907': 8, 'UBERON:0004648': 8, 'UBERON:0000945': 8, 'UBERON:0002046': 7, 'UBERON:0001159': 6, 'DOID:1996': 6, 'DOID:0050939': 5, 'UBERON:0001830': 5, 'NCIT:C32668': 5, 'DOID:4467': 4, 'DOID:2526': 4, 'UBERON:0000995': 4, 'DOID:4947': 3, 'UBERON:0012249': 3, 'UBERON:0000310': 3, 'MONDO:0006143': 3, 'UBERON:0000458': 3, 'MONDO:0017884': 3, 'DOID:6171': 2, 'UBERON:0018707': 2, 'UBERON:0002367': 2, 'NONE': 2, 'UBERON:0001225': 2, 'UBERON:0002469': 1})\n"
     ]
    }
   ],
   "source": [
    "all_the_biclusters = loop.run_until_complete(gene_to_tissue.gene_to_tissue_biclusters_async(monogenic_diabetes_sensu_strictiore_geneset))"
   ]
  },
  {
   "cell_type": "code",
   "execution_count": null,
   "metadata": {},
   "outputs": [],
   "source": []
  }
 ],
 "metadata": {
  "kernelspec": {
   "display_name": "Python 3",
   "language": "python",
   "name": "python3"
  },
  "language_info": {
   "codemirror_mode": {
    "name": "ipython",
    "version": 3
   },
   "file_extension": ".py",
   "mimetype": "text/x-python",
   "name": "python",
   "nbconvert_exporter": "python",
   "pygments_lexer": "ipython3",
   "version": "3.7.0"
  }
 },
 "nbformat": 4,
 "nbformat_minor": 2
}
