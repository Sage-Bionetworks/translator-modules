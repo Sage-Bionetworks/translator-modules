{
 "cells": [
  {
   "cell_type": "markdown",
   "metadata": {},
   "source": [
    "# Workflow 9: Disease to Phenotype with BiCluster"
   ]
  },
  {
   "cell_type": "code",
   "execution_count": 1,
   "metadata": {},
   "outputs": [],
   "source": [
    "import bicluster_disease_to_phenotype, importlib, asyncio"
   ]
  },
  {
   "cell_type": "code",
   "execution_count": 2,
   "metadata": {},
   "outputs": [],
   "source": [
    "#importlib.reload(bicluster_disease_to_phenotype) #this is a nice thing or locale module development"
   ]
  },
  {
   "cell_type": "code",
   "execution_count": 3,
   "metadata": {},
   "outputs": [],
   "source": [
    "disease_to_phenotype_object = bicluster_disease_to_phenotype.disease_to_phenotype()"
   ]
  },
  {
   "cell_type": "markdown",
   "metadata": {},
   "source": [
    "### Disease:ID pairs present in https://smartbag-hpotomondo.ncats.io/apidocs :"
   ]
  },
  {
   "cell_type": "markdown",
   "metadata": {},
   "source": [
    "    \"id\": \"MONDO:0007450\",\n",
    "    \"label\": \"neurohypophyseal diabetes insipidus\",\n",
    "    \"type\": \"disease\";\n",
    "      \n",
    "    \"id\": \"MONDO:0007451\",\n",
    "    \"label\": \"diabetes insipidus, nephrogenic, autosomal\",\n",
    "    \"type\": \"disease\";\n",
    "    \n",
    "    \"id\": \"MONDO:0007452\",\n",
    "    \"label\": \"maturity-onset diabetes of the young type 1\",\n",
    "    \"type\": \"disease\";\n",
    "    \n",
    "    ...\n",
    "    MANY MONDO/FA DISEASE IDENTIFIERS TRIED... NO HITS\n",
    "    \n",
    "    ...\n",
    "    MANY MONDO/XP DISEASE IDENTIFIERS TRIED... NO HITS\n",
    "    \n",
    "    ...\n",
    "    MANY MONDO/CAD DISEASE IDENTIFIERS TRIED... NO HITS\n",
    "    \n",
    "    ...\n",
    "    \n",
    "    \n",
    "    \n",
    "    \n",
    " \n",
    "    \n",
    "    \n",
    "    \n",
    "    \n",
    "    \n",
    "    "
   ]
  },
  {
   "cell_type": "code",
   "execution_count": 128,
   "metadata": {},
   "outputs": [],
   "source": [
    "disease_IDs = ['MONDO.0007450']"
   ]
  },
  {
   "cell_type": "code",
   "execution_count": 129,
   "metadata": {},
   "outputs": [
    {
     "data": {
      "text/plain": [
       "['MONDO.0007450']"
      ]
     },
     "execution_count": 129,
     "metadata": {},
     "output_type": "execute_result"
    }
   ],
   "source": [
    "disease_IDs"
   ]
  },
  {
   "cell_type": "code",
   "execution_count": 130,
   "metadata": {},
   "outputs": [],
   "source": [
    "loop = asyncio.get_event_loop()"
   ]
  },
  {
   "cell_type": "code",
   "execution_count": 131,
   "metadata": {},
   "outputs": [],
   "source": [
    "counted_disease_ids = loop.run_until_complete(disease_to_phenotype_object.disease_to_phenotype_biclusters_async(disease_IDs))"
   ]
  },
  {
   "cell_type": "code",
   "execution_count": 132,
   "metadata": {},
   "outputs": [
    {
     "data": {
      "text/plain": [
       "[('HP:0001249', 1),\n",
       " ('HP:0001263', 1),\n",
       " ('HP:0003416', 1),\n",
       " ('HP:0000926', 1),\n",
       " ('HP:0000717', 1),\n",
       " ('HP:0011344', 1),\n",
       " ('HP:0012385', 1),\n",
       " ('HP:0008897', 1),\n",
       " ('HP:0003183', 1),\n",
       " ('HP:0002167', 1),\n",
       " ('HP:0007018', 1),\n",
       " ('HP:0003834', 1),\n",
       " ('HP:0000340', 1),\n",
       " ('HP:0000911', 1),\n",
       " ('HP:0004997', 1),\n",
       " ('HP:0006450', 1),\n",
       " ('HP:0008786', 1),\n",
       " ('HP:0002867', 1)]"
      ]
     },
     "execution_count": 132,
     "metadata": {},
     "output_type": "execute_result"
    }
   ],
   "source": [
    "counted_disease_ids"
   ]
  },
  {
   "cell_type": "code",
   "execution_count": null,
   "metadata": {},
   "outputs": [],
   "source": []
  },
  {
   "cell_type": "code",
   "execution_count": null,
   "metadata": {},
   "outputs": [],
   "source": []
  }
 ],
 "metadata": {
  "kernelspec": {
   "display_name": "Python 3",
   "language": "python",
   "name": "python3"
  },
  "language_info": {
   "codemirror_mode": {
    "name": "ipython",
    "version": 3
   },
   "file_extension": ".py",
   "mimetype": "text/x-python",
   "name": "python",
   "nbconvert_exporter": "python",
   "pygments_lexer": "ipython3",
   "version": "3.7.0"
  }
 },
 "nbformat": 4,
 "nbformat_minor": 2
}
