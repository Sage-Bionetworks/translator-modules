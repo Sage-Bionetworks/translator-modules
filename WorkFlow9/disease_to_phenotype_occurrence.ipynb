{
 "cells": [
  {
   "cell_type": "markdown",
   "metadata": {},
   "source": [
    "# Workflow 9: Disease to Phenotype with BiCluster"
   ]
  },
  {
   "cell_type": "code",
   "execution_count": 1,
   "metadata": {},
   "outputs": [],
   "source": [
    "import bicluster_disease_to_phenotype, importlib, asyncio"
   ]
  },
  {
   "cell_type": "code",
   "execution_count": 2,
   "metadata": {},
   "outputs": [],
   "source": [
    "#importlib.reload(bicluster_disease_to_phenotype) #this is a nice thing or locale module development"
   ]
  },
  {
   "cell_type": "code",
   "execution_count": 3,
   "metadata": {},
   "outputs": [],
   "source": [
    "disease_to_phenotype_object = bicluster_disease_to_phenotype.disease_to_phenotype()"
   ]
  },
  {
   "cell_type": "markdown",
   "metadata": {},
   "source": [
    "### Disease:ID pairs present in https://smartbag-hpotomondo.ncats.io/apidocs :"
   ]
  },
  {
   "cell_type": "markdown",
   "metadata": {},
   "source": [
    "    \"id\": \"MONDO:0007450\",\n",
    "    \"label\": \"neurohypophyseal diabetes insipidus\",\n",
    "    \"type\": \"disease\";\n",
    "      \n",
    "    \"id\": \"MONDO:0007451\",\n",
    "    \"label\": \"diabetes insipidus, nephrogenic, autosomal\",\n",
    "    \"type\": \"disease\";\n",
    "    \n",
    "    \"id\": \"MONDO:0007452\",\n",
    "    \"label\": \"maturity-onset diabetes of the young type 1\",\n",
    "    \"type\": \"disease\";\n",
    "    \n",
    "    ...\n",
    "    MANY MONDO/FA DISEASE IDENTIFIERS TRIED... NO HITS\n",
    "    \n",
    "    ...\n",
    "    MANY MONDO/XP DISEASE IDENTIFIERS TRIED... NO HITS\n",
    "    \n",
    "    ...\n",
    "    MANY MONDO/CAD DISEASE IDENTIFIERS TRIED... NO HITS\n",
    "    \n",
    "    ...\n",
    "    \n",
    "    \n",
    "    \n",
    "    \n",
    " \n",
    "    \n",
    "    \n",
    "    \n",
    "    \n",
    "    \n",
    "    "
   ]
  },
  {
   "cell_type": "code",
   "execution_count": 118,
   "metadata": {},
   "outputs": [],
   "source": [
    "disease_IDs = ['MONDO.000000']"
   ]
  },
  {
   "cell_type": "code",
   "execution_count": 119,
   "metadata": {},
   "outputs": [
    {
     "data": {
      "text/plain": [
       "['MONDO.0004979']"
      ]
     },
     "execution_count": 119,
     "metadata": {},
     "output_type": "execute_result"
    }
   ],
   "source": [
    "disease_IDs"
   ]
  },
  {
   "cell_type": "code",
   "execution_count": 120,
   "metadata": {},
   "outputs": [],
   "source": [
    "loop = asyncio.get_event_loop()"
   ]
  },
  {
   "cell_type": "code",
   "execution_count": 121,
   "metadata": {},
   "outputs": [],
   "source": [
    "counted_disease_ids = loop.run_until_complete(disease_to_phenotype_object.disease_to_phenotype_biclusters_async(disease_IDs))"
   ]
  },
  {
   "cell_type": "code",
   "execution_count": 122,
   "metadata": {},
   "outputs": [
    {
     "data": {
      "text/plain": [
       "[]"
      ]
     },
     "execution_count": 122,
     "metadata": {},
     "output_type": "execute_result"
    }
   ],
   "source": [
    "counted_disease_ids"
   ]
  },
  {
   "cell_type": "code",
   "execution_count": null,
   "metadata": {},
   "outputs": [],
   "source": []
  },
  {
   "cell_type": "code",
   "execution_count": null,
   "metadata": {},
   "outputs": [],
   "source": []
  }
 ],
 "metadata": {
  "kernelspec": {
   "display_name": "Python 3",
   "language": "python",
   "name": "python3"
  },
  "language_info": {
   "codemirror_mode": {
    "name": "ipython",
    "version": 3
   },
   "file_extension": ".py",
   "mimetype": "text/x-python",
   "name": "python",
   "nbconvert_exporter": "python",
   "pygments_lexer": "ipython3",
   "version": "3.7.0"
  }
 },
 "nbformat": 4,
 "nbformat_minor": 2
}
