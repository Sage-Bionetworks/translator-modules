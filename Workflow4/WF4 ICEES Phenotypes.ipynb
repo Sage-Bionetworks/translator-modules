{
 "cells": [
  {
   "cell_type": "markdown",
   "metadata": {},
   "source": [
    "# Workflow 4 Notebook: ICEES phenotypes/diseases output for Cohort:22"
   ]
  },
  {
   "cell_type": "code",
   "execution_count": 14,
   "metadata": {},
   "outputs": [],
   "source": [
    "import iceesclient\n",
    "import pandas\n",
    "from importlib import reload\n",
    "from collections import defaultdict"
   ]
  },
  {
   "cell_type": "code",
   "execution_count": 2,
   "metadata": {},
   "outputs": [
    {
     "data": {
      "text/plain": [
       "<module 'iceesclient' from '/Users/colincurtis/Documents/renci/translator-workflows/Workflow4/iceesclient.py'>"
      ]
     },
     "execution_count": 2,
     "metadata": {},
     "output_type": "execute_result"
    }
   ],
   "source": [
    "reload(iceesclient) #if changes are made to iceesclient, this must be run and all objects re-run"
   ]
  },
  {
   "cell_type": "code",
   "execution_count": 3,
   "metadata": {},
   "outputs": [],
   "source": [
    "DefineCohortObject = iceesclient.DefineCohort()"
   ]
  },
  {
   "cell_type": "code",
   "execution_count": 4,
   "metadata": {},
   "outputs": [],
   "source": [
    "AssociationToAllFeaturesObject = iceesclient.AssociationToAllFeatures()"
   ]
  },
  {
   "cell_type": "markdown",
   "metadata": {},
   "source": [
    "## If p < 0.1"
   ]
  },
  {
   "cell_type": "code",
   "execution_count": 5,
   "metadata": {},
   "outputs": [],
   "source": [
    "assoc_to_all_features_low_p = AssociationToAllFeaturesObject.run_association_to_all_features('TotalEDInpatientVisits','<', '2','0.1','COHORT:1')"
   ]
  },
  {
   "cell_type": "code",
   "execution_count": 6,
   "metadata": {},
   "outputs": [],
   "source": [
    "possible_diagnoses = ['AsthmaDx',\n",
    "'CroupDx',\n",
    "'ReactiveAirwayDx',\n",
    "'CoughDx',\n",
    "'PneumoniaDx',\n",
    "'UterineCancerDx',\n",
    "'CervicalCancerDx',\n",
    "'OvarianCancerDx',\n",
    "'ProstateCancerDx',\n",
    "'TesticularCancerDx',\n",
    "'KidneyCancerDx',\n",
    "'PregnancyDx',\n",
    "'MenopauseDX',\n",
    "'EndometriosisDx',\n",
    "'OvarianDysfunctionDx',\n",
    "'TesticularDysfunction',\n",
    "'DiabetesDx',\n",
    "'AlopeciaDx',\n",
    "'FibromyalgiaDx',\n",
    "'AlcoholDependenceDx',\n",
    "'DrugDependenceDx',\n",
    "'DepressionDx',\n",
    "'AnxietyDx',\n",
    "'AutismDx']"
   ]
  },
  {
   "cell_type": "code",
   "execution_count": 7,
   "metadata": {},
   "outputs": [],
   "source": [
    "#possible_diagnoses"
   ]
  },
  {
   "cell_type": "markdown",
   "metadata": {},
   "source": [
    "## if p < 1.0"
   ]
  },
  {
   "cell_type": "code",
   "execution_count": 8,
   "metadata": {},
   "outputs": [],
   "source": [
    "assoc_to_all_features_higher_p = AssociationToAllFeaturesObject.run_association_to_all_features('TotalEDInpatientVisits','<', '2','1.0','COHORT:1')"
   ]
  },
  {
   "cell_type": "code",
   "execution_count": 13,
   "metadata": {},
   "outputs": [
    {
     "name": "stdout",
     "output_type": "stream",
     "text": [
      "cohort_patient_total: 22810\n",
      "\n",
      "patients_with_ED_under_2_total_cohort: 21288\n",
      "patients_with_ED_over_2_total_cohort: 1522\n",
      "\n",
      "\n",
      "defaultdict(<class 'dict'>, {'AsthmaDx': {'tx_event': 765, 'tx_no_event': 7130, 'no_tx_event': 757, 'no_tx_no_event': 14158, 'risk ratio': 1.9091351732573247, 'odds ratio': 2.006679129434303}, 'CroupDx': {'tx_event': 25, 'tx_no_event': 337, 'no_tx_event': 1497, 'no_tx_no_event': 20951, 'risk ratio': 1.0355886727414312, 'odds ratio': 1.0382287819952467}, 'CoughDx': {'tx_event': 1244, 'tx_no_event': 15472, 'no_tx_event': 278, 'no_tx_no_event': 5816, 'risk ratio': 1.6313444578149396, 'odds ratio': 1.682106641470691}, 'PneumoniaDx': {'tx_event': 133, 'tx_no_event': 325, 'no_tx_event': 1389, 'no_tx_no_event': 20963, 'risk ratio': 4.6730486888559835, 'odds ratio': 6.176173229218586}, 'ObesityDx': {'tx_event': 324, 'tx_no_event': 2134, 'no_tx_event': 1198, 'no_tx_no_event': 19154, 'risk ratio': 2.2393058134591013, 'odds ratio': 2.4274665836375213}, 'UterineCancerDx': {'tx_event': 4, 'tx_no_event': 45, 'no_tx_event': 1518, 'no_tx_no_event': 21243, 'risk ratio': 1.2240058078567395, 'odds ratio': 1.243917435221783}, 'CervicalCancerDx': {'tx_event': 1, 'tx_no_event': 15, 'no_tx_event': 1521, 'no_tx_no_event': 21273, 'risk ratio': 0.9366370808678501, 'odds ratio': 0.9324128862590401}, 'OvarianCancerDx': {'tx_event': 6, 'tx_no_event': 33, 'no_tx_event': 1516, 'no_tx_no_event': 21255, 'risk ratio': 2.3108382382788717, 'odds ratio': 2.5491724634204846}, 'TesticularCancerDx': {'tx_event': 1, 'tx_no_event': 9, 'no_tx_event': 1521, 'no_tx_no_event': 21279, 'risk ratio': 1.4990138067061145, 'odds ratio': 1.554459785229016}, 'KidneyCancerDx': {'tx_event': 4, 'tx_no_event': 62, 'no_tx_event': 1518, 'no_tx_no_event': 21226, 'risk ratio': 0.9080528606220306, 'odds ratio': 0.9021207871137745}, 'EndometriosisDx': {'tx_event': 10, 'tx_no_event': 75, 'no_tx_event': 1512, 'no_tx_no_event': 21213, 'risk ratio': 1.7682072829131652, 'odds ratio': 1.8706349206349207}, 'OvarianDysfunctionDx': {'tx_event': 18, 'tx_no_event': 68, 'no_tx_event': 1504, 'no_tx_no_event': 21220, 'risk ratio': 3.162357743691242, 'odds ratio': 3.734746558197747}, 'TesticularDysfunctionDx': {'tx_event': 7, 'tx_no_event': 90, 'no_tx_event': 1515, 'no_tx_no_event': 21198, 'risk ratio': 1.0819026232520157, 'odds ratio': 1.0882728272827282}, 'PregnancyDx': {'tx_event': 21, 'tx_no_event': 217, 'no_tx_event': 1501, 'no_tx_no_event': 21071, 'risk ratio': 1.326880119136262, 'odds ratio': 1.3585136790526746}, 'MenopauseDx': {'tx_event': 9, 'tx_no_event': 194, 'no_tx_event': 1513, 'no_tx_no_event': 21094, 'risk ratio': 0.6624459935078255, 'odds ratio': 0.6467862715571575}, 'DiabetesDx': {'tx_event': 448, 'tx_no_event': 3001, 'no_tx_event': 1074, 'no_tx_no_event': 18287, 'risk ratio': 2.3415763509029954, 'odds ratio': 2.5418516608678545}, 'AlopeciaDx': {'tx_event': 15, 'tx_no_event': 170, 'no_tx_event': 1507, 'no_tx_no_event': 21118, 'risk ratio': 1.2172922756864364, 'odds ratio': 1.236465123541122}, 'FibromyalgiaDx': {'tx_event': 464, 'tx_no_event': 2795, 'no_tx_event': 1058, 'no_tx_no_event': 18493, 'risk ratio': 2.630976252471707, 'odds ratio': 2.9017358163882983}, 'AlcoholDependenceDx': {'tx_event': 95, 'tx_no_event': 248, 'no_tx_event': 1427, 'no_tx_no_event': 21040, 'risk ratio': 4.360643646786976, 'odds ratio': 5.647986979225535}, 'DrugDependenceDx': {'tx_event': 75, 'tx_no_event': 170, 'no_tx_event': 1447, 'no_tx_no_event': 21118, 'risk ratio': 4.7737754396852035, 'odds ratio': 6.438676368958088}, 'AnxietyDx': {'tx_event': 417, 'tx_no_event': 1947, 'no_tx_event': 1105, 'no_tx_no_event': 19341, 'risk ratio': 3.2638835932654984, 'odds ratio': 3.748752344365505}, 'AutismDx': {'tx_event': 3, 'tx_no_event': 75, 'no_tx_event': 1519, 'no_tx_no_event': 21213, 'risk ratio': 0.5755811009267231, 'odds ratio': 0.558604344963792}})\n",
      "\n"
     ]
    }
   ],
   "source": [
    "all_phenotype_dict = defaultdict(dict)\n",
    "\n",
    "cohort_patient_total = assoc_to_all_features_higher_p['return value'][0]['total']\n",
    "patients_with_ED_under_2_total_cohort = assoc_to_all_features_higher_p['return value'][0]['columns'][0]['frequency']\n",
    "patients_with_ED_over_2_total_cohort = assoc_to_all_features_higher_p['return value'][0]['columns'][1]['frequency']\n",
    "print('cohort_patient_total:', cohort_patient_total)\n",
    "print()     \n",
    "print('patients_with_ED_under_2_total_cohort:', patients_with_ED_under_2_total_cohort)\n",
    "print('patients_with_ED_over_2_total_cohort:', patients_with_ED_over_2_total_cohort)\n",
    "print()\n",
    "print()\n",
    "\n",
    "for a_feature in assoc_to_all_features_higher_p['return value']:\n",
    "    phenotype_label = a_feature['feature_b']['feature_name'] \n",
    "    if phenotype_label.endswith('Dx'):\n",
    "        single_phenotype_dict = defaultdict(dict)\n",
    "        single_phenotype_dict['name'] = phenotype_label\n",
    "        \n",
    "        num_patients_this_phenotype_ED_over_2 = a_feature['feature_matrix'][1][1]['frequency']\n",
    "        tx_event = num_patients_this_phenotype_ED_over_2\n",
    "        all_phenotype_dict[phenotype_label]['tx_event'] = tx_event\n",
    "        #\n",
    "        num_patients_this_phenotype_ED_under_2 = a_feature['feature_matrix'][1][0]['frequency']\n",
    "        tx_no_event = num_patients_this_phenotype_ED_under_2\n",
    "        all_phenotype_dict[phenotype_label]['tx_no_event'] = tx_no_event\n",
    "        #\n",
    "        num_patients_other_phenotypes_ED_over_2 = a_feature['feature_matrix'][0][1]['frequency']\n",
    "        no_tx_event = num_patients_other_phenotypes_ED_over_2\n",
    "        all_phenotype_dict[phenotype_label]['no_tx_event'] = no_tx_event\n",
    "        #\n",
    "        num_patients_other_phenotypes_ED_under_2 = a_feature['feature_matrix'][0][0]['frequency']\n",
    "        no_tx_no_event = num_patients_other_phenotypes_ED_under_2\n",
    "        all_phenotype_dict[phenotype_label]['no_tx_no_event'] = no_tx_no_event\n",
    "        #\n",
    "        risk_ratio = (tx_event/(tx_event+tx_no_event))/(no_tx_event/(no_tx_event+no_tx_no_event))\n",
    "        all_phenotype_dict[phenotype_label]['risk ratio'] = risk_ratio\n",
    "        #\n",
    "        odds_ratio = (tx_event*no_tx_no_event)/(tx_no_event*no_tx_event)\n",
    "        all_phenotype_dict[phenotype_label]['odds ratio'] = odds_ratio\n",
    "        #\n",
    "print(all_phenotype_dict)\n",
    "print()"
   ]
  },
  {
   "cell_type": "code",
   "execution_count": null,
   "metadata": {},
   "outputs": [],
   "source": []
  }
 ],
 "metadata": {
  "kernelspec": {
   "display_name": "Python 3",
   "language": "python",
   "name": "python3"
  },
  "language_info": {
   "codemirror_mode": {
    "name": "ipython",
    "version": 3
   },
   "file_extension": ".py",
   "mimetype": "text/x-python",
   "name": "python",
   "nbconvert_exporter": "python",
   "pygments_lexer": "ipython3",
   "version": "3.7.0"
  }
 },
 "nbformat": 4,
 "nbformat_minor": 2
}
